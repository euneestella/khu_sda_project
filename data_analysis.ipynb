{
 "cells": [
  {
   "cell_type": "markdown",
   "metadata": {},
   "source": [
    "### 작업공간 불러오기, 자료 ```attach```하기"
   ]
  },
  {
   "cell_type": "code",
   "execution_count": 1,
   "metadata": {},
   "outputs": [],
   "source": [
    "load(\"C:/Users/eunee/khu_sda_project/data_cleaning.RData\")"
   ]
  },
  {
   "cell_type": "code",
   "execution_count": 2,
   "metadata": {},
   "outputs": [
    {
     "data": {
      "text/plain": [
       "      pid               wstart       wstart_c   wspacesat         wtime        \n",
       " Min.   :     102   Min.   :   0.0   A: 276   Min.   :1.000   Min.   : 0.3333  \n",
       " 1st Qu.:  193204   1st Qu.: 800.0   B: 366   1st Qu.:3.000   1st Qu.: 9.0000  \n",
       " Median :  353154   Median : 900.0   C:1764   Median :3.000   Median : 9.0000  \n",
       " Mean   : 1869049   Mean   : 898.1   D:1771   Mean   :3.309   Mean   : 9.5734  \n",
       " 3rd Qu.:  596177   3rd Qu.: 900.0   E: 715   3rd Qu.:4.000   3rd Qu.:10.0000  \n",
       " Max.   :11014502   Max.   :2300.0            Max.   :5.000   Max.   :24.0000  \n",
       " gend          age       comp_type educ     jobty        lnwage      \n",
       " 0:2893   Min.   :18.0   0:4230    0: 665   0:3662   Min.   :-4.605  \n",
       " 1:1999   1st Qu.:35.0   1: 662    1:1640   1: 813   1st Qu.: 4.942  \n",
       "          Median :42.0             2: 931   2: 417   Median : 5.298  \n",
       "          Mean   :43.6             3:1373            Mean   : 5.292  \n",
       "          3rd Qu.:52.0             4: 283            3rd Qu.: 5.704  \n",
       "          Max.   :80.0                               Max.   : 8.294  "
      ]
     },
     "metadata": {},
     "output_type": "display_data"
    }
   ],
   "source": [
    "summary(nrdt_attach)"
   ]
  },
  {
   "cell_type": "code",
   "execution_count": 3,
   "metadata": {},
   "outputs": [],
   "source": [
    "attach(nrdt_attach)"
   ]
  },
  {
   "cell_type": "markdown",
   "metadata": {},
   "source": [
    "### ```glots```, ```ggplot2``` 패키지 설치하기"
   ]
  },
  {
   "cell_type": "code",
   "execution_count": 37,
   "metadata": {
    "scrolled": true
   },
   "outputs": [
    {
     "name": "stderr",
     "output_type": "stream",
     "text": [
      "Warning message:\n",
      "\"unable to access index for repository http://www.stats.ox.ac.uk/pub/RWin/bin/windows/contrib/3.5:\n",
      "  URL 'http://www.stats.ox.ac.uk/pub/RWin/bin/windows/contrib/3.5/PACKAGES'를 열 수 없습니다\"Warning message:\n",
      "\"package 'ggplot2' is in use and will not be installed\"Warning message:\n",
      "\"unable to access index for repository http://www.stats.ox.ac.uk/pub/RWin/bin/windows/contrib/3.5:\n",
      "  URL 'http://www.stats.ox.ac.uk/pub/RWin/bin/windows/contrib/3.5/PACKAGES'를 열 수 없습니다\"Warning message:\n",
      "\"package 'gplots' is in use and will not be installed\""
     ]
    }
   ],
   "source": [
    "install.packages(\"ggplot2\")\n",
    "install.packages(\"gplots\")\n",
    "library(ggplot2)\n",
    "library(gplots)"
   ]
  },
  {
   "cell_type": "markdown",
   "metadata": {},
   "source": [
    "### 출근시간에 따른 일자리만족도"
   ]
  },
  {
   "cell_type": "markdown",
   "metadata": {},
   "source": [
    "* 설명변수 범주형인 경우"
   ]
  },
  {
   "cell_type": "code",
   "execution_count": 27,
   "metadata": {},
   "outputs": [
    {
     "data": {
      "text/plain": [
       "\n",
       "Call:\n",
       "lm(formula = wspacesat ~ wstart_c)\n",
       "\n",
       "Residuals:\n",
       "    Min      1Q  Median      3Q     Max \n",
       "-2.3373 -0.3512 -0.2364  0.6488  1.8152 \n",
       "\n",
       "Coefficients:\n",
       "            Estimate Std. Error t value Pr(>|t|)    \n",
       "(Intercept)  3.18478    0.03516  90.577  < 2e-16 ***\n",
       "wstart_cB    0.01740    0.04657   0.374    0.709    \n",
       "wstart_cC    0.15252    0.03781   4.034 5.58e-05 ***\n",
       "wstart_cD    0.16643    0.03780   4.403 1.09e-05 ***\n",
       "wstart_cE    0.05158    0.04139   1.246    0.213    \n",
       "---\n",
       "Signif. codes:  0 '***' 0.001 '**' 0.01 '*' 0.05 '.' 0.1 ' ' 1\n",
       "\n",
       "Residual standard error: 0.5841 on 4887 degrees of freedom\n",
       "Multiple R-squared:  0.00996,\tAdjusted R-squared:  0.00915 \n",
       "F-statistic: 12.29 on 4 and 4887 DF,  p-value: 6.042e-10\n"
      ]
     },
     "metadata": {},
     "output_type": "display_data"
    }
   ],
   "source": [
    "fit1 <- lm(wspacesat ~ wstart_c)\n",
    "summary(fit1)"
   ]
  },
  {
   "cell_type": "markdown",
   "metadata": {},
   "source": [
    "* 설명변수 연속형인 경우"
   ]
  },
  {
   "cell_type": "code",
   "execution_count": 34,
   "metadata": {},
   "outputs": [
    {
     "data": {
      "text/plain": [
       "\n",
       "Call:\n",
       "lm(formula = wspacesat ~ wstart)\n",
       "\n",
       "Residuals:\n",
       "    Min      1Q  Median      3Q     Max \n",
       "-2.3101 -0.3098 -0.3089  0.6902  1.7015 \n",
       "\n",
       "Coefficients:\n",
       "              Estimate Std. Error t value Pr(>|t|)    \n",
       "(Intercept)  3.321e+00  3.244e-02 102.372   <2e-16 ***\n",
       "wstart      -1.297e-05  3.488e-05  -0.372     0.71    \n",
       "---\n",
       "Signif. codes:  0 '***' 0.001 '**' 0.01 '*' 0.05 '.' 0.1 ' ' 1\n",
       "\n",
       "Residual standard error: 0.5869 on 4890 degrees of freedom\n",
       "Multiple R-squared:  2.827e-05,\tAdjusted R-squared:  -0.0001762 \n",
       "F-statistic: 0.1382 on 1 and 4890 DF,  p-value: 0.7101\n"
      ]
     },
     "metadata": {},
     "output_type": "display_data"
    }
   ],
   "source": [
    "fit2 <- lm(wspacesat ~ wstart)\n",
    "summary(fit2)"
   ]
  },
  {
   "cell_type": "code",
   "execution_count": 68,
   "metadata": {},
   "outputs": [],
   "source": [
    "detach(nrdt_attach)"
   ]
  },
  {
   "cell_type": "code",
   "execution_count": 72,
   "metadata": {},
   "outputs": [
    {
     "name": "stderr",
     "output_type": "stream",
     "text": [
      "The following objects are masked from nrdt_attach (pos = 3):\n",
      "\n",
      "    age, comp_type, educ, gend, jobty, lnwage, pid, wspacesat,\n",
      "    wspacesat_jit, wstart, wstart_c, wtime\n",
      "\n"
     ]
    },
    {
     "data": {
      "text/plain": [
       "\n",
       "Call:\n",
       "lm(formula = wspacesat_jit ~ wstart)\n",
       "\n",
       "Residuals:\n",
       "    Min      1Q  Median      3Q     Max \n",
       "-4.3361 -0.7691  0.0146  0.7911  4.4734 \n",
       "\n",
       "Coefficients:\n",
       "             Estimate Std. Error t value Pr(>|t|)    \n",
       "(Intercept) 3.209e+00  6.407e-02  50.081   <2e-16 ***\n",
       "wstart      1.163e-04  6.891e-05   1.687   0.0916 .  \n",
       "---\n",
       "Signif. codes:  0 '***' 0.001 '**' 0.01 '*' 0.05 '.' 0.1 ' ' 1\n",
       "\n",
       "Residual standard error: 1.159 on 4890 degrees of freedom\n",
       "Multiple R-squared:  0.0005818,\tAdjusted R-squared:  0.0003774 \n",
       "F-statistic: 2.847 on 1 and 4890 DF,  p-value: 0.09163\n"
      ]
     },
     "metadata": {},
     "output_type": "display_data"
    },
    {
     "name": "stderr",
     "output_type": "stream",
     "text": [
      "Warning message in simpleLoess(y, x, w, span, degree = degree, parametric = FALSE, :\n",
      "\"pseudoinverse used at 3\"Warning message in simpleLoess(y, x, w, span, degree = degree, parametric = FALSE, :\n",
      "\"neighborhood radius 1\"Warning message in simpleLoess(y, x, w, span, degree = degree, parametric = FALSE, :\n",
      "\"reciprocal condition number  0\"Warning message in simpleLoess(y, x, w, span, degree = degree, parametric = FALSE, :\n",
      "\"There are other near singularities as well. 1\"Warning message in simpleLoess(y, x, w, span, degree = degree, parametric = FALSE, :\n",
      "\"pseudoinverse used at 3\"Warning message in simpleLoess(y, x, w, span, degree = degree, parametric = FALSE, :\n",
      "\"neighborhood radius 1\"Warning message in simpleLoess(y, x, w, span, degree = degree, parametric = FALSE, :\n",
      "\"reciprocal condition number  0\"Warning message in simpleLoess(y, x, w, span, degree = degree, parametric = FALSE, :\n",
      "\"There are other near singularities as well. 1\"Warning message in simpleLoess(y, x, w, span, degree = degree, parametric = FALSE, :\n",
      "\"pseudoinverse used at 3\"Warning message in simpleLoess(y, x, w, span, degree = degree, parametric = FALSE, :\n",
      "\"neighborhood radius 1\"Warning message in simpleLoess(y, x, w, span, degree = degree, parametric = FALSE, :\n",
      "\"reciprocal condition number  0\"Warning message in simpleLoess(y, x, w, span, degree = degree, parametric = FALSE, :\n",
      "\"There are other near singularities as well. 1\"Warning message in simpleLoess(y, x, w, span, degree = degree, parametric = FALSE, :\n",
      "\"pseudoinverse used at 3\"Warning message in simpleLoess(y, x, w, span, degree = degree, parametric = FALSE, :\n",
      "\"neighborhood radius 1\"Warning message in simpleLoess(y, x, w, span, degree = degree, parametric = FALSE, :\n",
      "\"reciprocal condition number  0\"Warning message in simpleLoess(y, x, w, span, degree = degree, parametric = FALSE, :\n",
      "\"There are other near singularities as well. 1\"Warning message in simpleLoess(y, x, w, span, degree = degree, parametric = FALSE, :\n",
      "\"pseudoinverse used at 3\"Warning message in simpleLoess(y, x, w, span, degree = degree, parametric = FALSE, :\n",
      "\"neighborhood radius 1\"Warning message in simpleLoess(y, x, w, span, degree = degree, parametric = FALSE, :\n",
      "\"reciprocal condition number  0\"Warning message in simpleLoess(y, x, w, span, degree = degree, parametric = FALSE, :\n",
      "\"There are other near singularities as well. 1\""
     ]
    },
    {
     "data": {
      "image/png": "[encoded data removed]",
      "text/plain": [
       "plot without title"
      ]
     },
     "metadata": {},
     "output_type": "display_data"
    },
    {
     "data": {
      "image/png": "[encoded data removed]",
      "text/plain": [
       "plot without title"
      ]
     },
     "metadata": {},
     "output_type": "display_data"
    }
   ],
   "source": [
    "set.seed(38365)\n",
    "nrdt_attach$wspacesat_jit <- nrdt_attach$wspacesat +rnorm(length(nrdt_attach$wspacesat))\n",
    "attach(nrdt_attach)\n",
    "newfit <- lm(wspacesat_jit ~ wstart)\n",
    "summary(newfit)\n",
    "plot(wstart_c, wspacesat_jit)\n",
    "scatter.smooth(wstart_c, wspacesat_jit, lpars = list(lty = 2), col = 1)\n",
    "abline(newfit)"
   ]
  },
  {
   "cell_type": "code",
   "execution_count": 32,
   "metadata": {},
   "outputs": [
    {
     "data": {
      "image/png": "[encoded data removed]",
      "text/plain": [
       "plot without title"
      ]
     },
     "metadata": {},
     "output_type": "display_data"
    }
   ],
   "source": [
    "plotmeans(wspacesat ~ wstart_c,\n",
    "          barcol = 1, barwidth = 2, n.label = FALSE, connect = T)"
   ]
  },
  {
   "cell_type": "markdown",
   "metadata": {},
   "source": [
    "### 출근시간에 따른 일자리만족도 : 로그임금 통제 시"
   ]
  },
  {
   "cell_type": "code",
   "execution_count": 35,
   "metadata": {
    "scrolled": true
   },
   "outputs": [
    {
     "data": {
      "text/plain": [
       "\n",
       "Call:\n",
       "lm(formula = wspacesat ~ wstart + lnwage)\n",
       "\n",
       "Residuals:\n",
       "    Min      1Q  Median      3Q     Max \n",
       "-2.2346 -0.3535 -0.2040  0.5655  2.0120 \n",
       "\n",
       "Coefficients:\n",
       "             Estimate Std. Error t value Pr(>|t|)    \n",
       "(Intercept) 1.996e+00  7.690e-02  25.954  < 2e-16 ***\n",
       "wstart      9.073e-05  3.413e-05   2.658  0.00788 ** \n",
       "lnwage      2.328e-01  1.234e-02  18.864  < 2e-16 ***\n",
       "---\n",
       "Signif. codes:  0 '***' 0.001 '**' 0.01 '*' 0.05 '.' 0.1 ' ' 1\n",
       "\n",
       "Residual standard error: 0.5667 on 4889 degrees of freedom\n",
       "Multiple R-squared:  0.06787,\tAdjusted R-squared:  0.06749 \n",
       "F-statistic:   178 on 2 and 4889 DF,  p-value: < 2.2e-16\n"
      ]
     },
     "metadata": {},
     "output_type": "display_data"
    }
   ],
   "source": [
    "fit3 <- lm(wspacesat ~ wstart + lnwage)\n",
    "summary(fit3)"
   ]
  },
  {
   "cell_type": "markdown",
   "metadata": {},
   "source": [
    "### 출근시간에 따른 로그임금 "
   ]
  },
  {
   "cell_type": "markdown",
   "metadata": {},
   "source": [
    "* 선형회귀"
   ]
  },
  {
   "cell_type": "code",
   "execution_count": 39,
   "metadata": {},
   "outputs": [
    {
     "data": {
      "text/plain": [
       "\n",
       "Call:\n",
       "lm(formula = lnwage ~ wstart)\n",
       "\n",
       "Residuals:\n",
       "    Min      1Q  Median      3Q     Max \n",
       "-9.9405 -0.3332  0.0076  0.4131  3.0033 \n",
       "\n",
       "Coefficients:\n",
       "              Estimate Std. Error t value Pr(>|t|)    \n",
       "(Intercept)  5.692e+00  3.630e-02  156.80   <2e-16 ***\n",
       "wstart      -4.455e-04  3.904e-05  -11.41   <2e-16 ***\n",
       "---\n",
       "Signif. codes:  0 '***' 0.001 '**' 0.01 '*' 0.05 '.' 0.1 ' ' 1\n",
       "\n",
       "Residual standard error: 0.6568 on 4890 degrees of freedom\n",
       "Multiple R-squared:  0.02594,\tAdjusted R-squared:  0.02574 \n",
       "F-statistic: 130.2 on 1 and 4890 DF,  p-value: < 2.2e-16\n"
      ]
     },
     "metadata": {},
     "output_type": "display_data"
    },
    {
     "data": {},
     "metadata": {},
     "output_type": "display_data"
    },
    {
     "data": {
      "image/png": "[encoded data removed]",
      "text/plain": [
       "plot without title"
      ]
     },
     "metadata": {},
     "output_type": "display_data"
    }
   ],
   "source": [
    "fit4 <- lm(lnwage ~ wstart)\n",
    "summary(fit4)\n",
    "\n",
    "ggplot(data = nrdt_attach, aes(wstart, lnwage))+geom_point()+geom_smooth(method = \"lm\")"
   ]
  },
  {
   "cell_type": "markdown",
   "metadata": {},
   "source": [
    "* 이차항을 넣은 회귀"
   ]
  },
  {
   "cell_type": "code",
   "execution_count": 43,
   "metadata": {},
   "outputs": [
    {
     "data": {
      "text/plain": [
       "\n",
       "Call:\n",
       "lm(formula = lnwage ~ wstart + I(wstart^2))\n",
       "\n",
       "Residuals:\n",
       "    Min      1Q  Median      3Q     Max \n",
       "-9.9439 -0.3357  0.0210  0.4264  3.0166 \n",
       "\n",
       "Coefficients:\n",
       "              Estimate Std. Error t value Pr(>|t|)    \n",
       "(Intercept)  5.992e+00  1.007e-01  59.513  < 2e-16 ***\n",
       "wstart      -9.968e-04  1.770e-04  -5.631  1.9e-08 ***\n",
       "I(wstart^2)  2.259e-07  7.077e-08   3.192  0.00142 ** \n",
       "---\n",
       "Signif. codes:  0 '***' 0.001 '**' 0.01 '*' 0.05 '.' 0.1 ' ' 1\n",
       "\n",
       "Residual standard error: 0.6562 on 4889 degrees of freedom\n",
       "Multiple R-squared:  0.02797,\tAdjusted R-squared:  0.02757 \n",
       "F-statistic: 70.34 on 2 and 4889 DF,  p-value: < 2.2e-16\n"
      ]
     },
     "metadata": {},
     "output_type": "display_data"
    }
   ],
   "source": [
    "fit5 <- lm(lnwage ~ wstart + I(wstart^2))\n",
    "summary(fit5)"
   ]
  },
  {
   "cell_type": "code",
   "execution_count": 45,
   "metadata": {},
   "outputs": [
    {
     "data": {},
     "metadata": {},
     "output_type": "display_data"
    },
    {
     "data": {
      "image/png": "[encoded data removed]",
      "text/plain": [
       "plot without title"
      ]
     },
     "metadata": {},
     "output_type": "display_data"
    }
   ],
   "source": [
    "ggplot(nrdt_attach, aes(wstart, lnwage))+geom_point()+geom_smooth(method = \"lm\", formula = y ~ poly(x,2))"
   ]
  },
  {
   "cell_type": "markdown",
   "metadata": {},
   "source": [
    "* 삼차항을 넣은 회귀"
   ]
  },
  {
   "cell_type": "code",
   "execution_count": 49,
   "metadata": {
    "scrolled": true
   },
   "outputs": [
    {
     "data": {
      "text/plain": [
       "\n",
       "Call:\n",
       "lm(formula = lnwage ~ wstart + I(wstart^2) + I(wstart^3))\n",
       "\n",
       "Residuals:\n",
       "    Min      1Q  Median      3Q     Max \n",
       "-9.9770 -0.3447  0.0053  0.4107  3.0009 \n",
       "\n",
       "Coefficients:\n",
       "              Estimate Std. Error t value Pr(>|t|)    \n",
       "(Intercept)  4.407e+00  1.712e-01  25.746   <2e-16 ***\n",
       "wstart       3.926e-03  4.671e-04   8.406   <2e-16 ***\n",
       "I(wstart^2) -4.455e-06  4.177e-07 -10.665   <2e-16 ***\n",
       "I(wstart^3)  1.318e-09  1.160e-10  11.366   <2e-16 ***\n",
       "---\n",
       "Signif. codes:  0 '***' 0.001 '**' 0.01 '*' 0.05 '.' 0.1 ' ' 1\n",
       "\n",
       "Residual standard error: 0.6477 on 4888 degrees of freedom\n",
       "Multiple R-squared:  0.053,\tAdjusted R-squared:  0.05242 \n",
       "F-statistic: 91.18 on 3 and 4888 DF,  p-value: < 2.2e-16\n"
      ]
     },
     "metadata": {},
     "output_type": "display_data"
    }
   ],
   "source": [
    "fit6 <- lm(lnwage ~ wstart + I(wstart^2) + I(wstart^3))\n",
    "summary(fit6)"
   ]
  },
  {
   "cell_type": "code",
   "execution_count": 56,
   "metadata": {},
   "outputs": [
    {
     "data": {},
     "metadata": {},
     "output_type": "display_data"
    },
    {
     "data": {
      "image/png": "[encoded data removed]",
      "text/plain": [
       "plot without title"
      ]
     },
     "metadata": {},
     "output_type": "display_data"
    }
   ],
   "source": [
    "ggplot(nrdt_attach, aes(wstart, lnwage))+ geom_point() +geom_smooth(method = \"lm\", formula = y ~ poly(x,3))"
   ]
  },
  {
   "cell_type": "markdown",
   "metadata": {},
   "source": [
    "* LOESS 곡선"
   ]
  },
  {
   "cell_type": "code",
   "execution_count": 57,
   "metadata": {},
   "outputs": [
    {
     "data": {},
     "metadata": {},
     "output_type": "display_data"
    },
    {
     "data": {
      "image/png": "[encoded data removed]",
      "text/plain": [
       "plot without title"
      ]
     },
     "metadata": {},
     "output_type": "display_data"
    }
   ],
   "source": [
    "ggplot(nrdt_attach, aes(wstart, lnwage))+ geom_point() + geom_smooth(method = \"loess\")"
   ]
  },
  {
   "cell_type": "markdown",
   "metadata": {},
   "source": [
    "* 삼차항, LOESS 합쳐 그리기"
   ]
  },
  {
   "cell_type": "code",
   "execution_count": 61,
   "metadata": {},
   "outputs": [
    {
     "data": {},
     "metadata": {},
     "output_type": "display_data"
    },
    {
     "data": {
      "image/png": "[encoded data removed]",
      "text/plain": [
       "plot without title"
      ]
     },
     "metadata": {},
     "output_type": "display_data"
    }
   ],
   "source": [
    "ggplot(nrdt_attach, aes(wstart, lnwage))+ geom_point() +geom_smooth(method = \"lm\", formula = y ~ poly(x,3), color = \"red\")+ geom_smooth(method = \"loess\")"
   ]
  },
  {
   "cell_type": "markdown",
   "metadata": {},
   "source": [
    "### 출근시간에 따른 로그임금 : 근로시간 통제 시"
   ]
  },
  {
   "cell_type": "code",
   "execution_count": 62,
   "metadata": {},
   "outputs": [
    {
     "data": {
      "text/plain": [
       "\n",
       "Call:\n",
       "lm(formula = lnwage ~ wstart + wtime)\n",
       "\n",
       "Residuals:\n",
       "    Min      1Q  Median      3Q     Max \n",
       "-9.8722 -0.3638  0.0217  0.4206  3.0318 \n",
       "\n",
       "Coefficients:\n",
       "              Estimate Std. Error t value Pr(>|t|)    \n",
       "(Intercept)  5.0795353  0.0556987  91.197  < 2e-16 ***\n",
       "wstart      -0.0002994  0.0000396  -7.561 4.73e-14 ***\n",
       "wtime        0.0502391  0.0035175  14.282  < 2e-16 ***\n",
       "---\n",
       "Signif. codes:  0 '***' 0.001 '**' 0.01 '*' 0.05 '.' 0.1 ' ' 1\n",
       "\n",
       "Residual standard error: 0.6436 on 4889 degrees of freedom\n",
       "Multiple R-squared:  0.06496,\tAdjusted R-squared:  0.06457 \n",
       "F-statistic: 169.8 on 2 and 4889 DF,  p-value: < 2.2e-16\n"
      ]
     },
     "metadata": {},
     "output_type": "display_data"
    }
   ],
   "source": [
    "fit7 <- lm(lnwage ~ wstart + wtime)\n",
    "summary(fit7)"
   ]
  }
 ],
 "metadata": {
  "kernelspec": {
   "display_name": "R",
   "language": "R",
   "name": "ir"
  },
  "language_info": {
   "codemirror_mode": "r",
   "file_extension": ".r",
   "mimetype": "text/x-r-source",
   "name": "R",
   "pygments_lexer": "r",
   "version": "3.5.1"
  }
 },
 "nbformat": 4,
 "nbformat_minor": 2
}
