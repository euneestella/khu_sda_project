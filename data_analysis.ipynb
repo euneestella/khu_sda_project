{
 "cells": [
  {
   "cell_type": "markdown",
   "metadata": {},
   "source": [
    "### 작업공간 불러오기, 자료 ```attach```하기"
   ]
  },
  {
   "cell_type": "code",
   "execution_count": 4,
   "metadata": {},
   "outputs": [],
   "source": [
    "load(\"C:/Users/eunee/khu_sda_project/data_cleaning.RData\")"
   ]
  },
  {
   "cell_type": "code",
   "execution_count": 12,
   "metadata": {},
   "outputs": [
    {
     "data": {
      "text/plain": [
       "      pid               wstart         wspacesat         wtime         gend    \n",
       " Min.   :     102   Min.   : 0.000   Min.   :1.000   Min.   : 0.3333   0:2897  \n",
       " 1st Qu.:  193303   1st Qu.: 8.000   1st Qu.:3.000   1st Qu.: 9.0000   1:2000  \n",
       " Median :  353304   Median : 9.000   Median :3.000   Median : 9.0000           \n",
       " Mean   : 1869563   Mean   : 9.045   Mean   :3.308   Mean   : 9.5741           \n",
       " 3rd Qu.:  596702   3rd Qu.: 9.000   3rd Qu.:4.000   3rd Qu.:10.0000           \n",
       " Max.   :11014502   Max.   :23.000   Max.   :5.000   Max.   :24.0000           \n",
       "      age        comp_type educ     jobty        lnwage      \n",
       " Min.   :18.00   0:4234    0: 666   0:3666   Min.   :-4.605  \n",
       " 1st Qu.:35.00   1: 663    1:1642   1: 814   1st Qu.: 4.942  \n",
       " Median :42.00             2: 931   2: 417   Median : 5.298  \n",
       " Mean   :43.59             3:1375            Mean   : 5.291  \n",
       " 3rd Qu.:52.00             4: 283            3rd Qu.: 5.704  \n",
       " Max.   :80.00                               Max.   : 8.294  "
      ]
     },
     "metadata": {},
     "output_type": "display_data"
    }
   ],
   "source": [
    "summary(nrdt_attach)"
   ]
  },
  {
   "cell_type": "code",
   "execution_count": 6,
   "metadata": {},
   "outputs": [],
   "source": [
    "attach(nrdt_attach)"
   ]
  },
  {
   "cell_type": "markdown",
   "metadata": {},
   "source": [
    "### ```glots```, ```ggplot2``` 패키지 설치하기"
   ]
  },
  {
   "cell_type": "code",
   "execution_count": 4,
   "metadata": {
    "scrolled": false
   },
   "outputs": [
    {
     "name": "stderr",
     "output_type": "stream",
     "text": [
      "Warning message:\n",
      "\"unable to access index for repository http://www.stats.ox.ac.uk/pub/RWin/bin/windows/contrib/3.5:\n",
      "  URL 'http://www.stats.ox.ac.uk/pub/RWin/bin/windows/contrib/3.5/PACKAGES'를 열 수 없습니다\""
     ]
    },
    {
     "name": "stdout",
     "output_type": "stream",
     "text": [
      "package 'ggplot2' successfully unpacked and MD5 sums checked\n",
      "\n",
      "The downloaded binary packages are in\n",
      "\tC:\\Users\\eunee\\AppData\\Local\\Temp\\RtmpI36a25\\downloaded_packages\n"
     ]
    },
    {
     "name": "stderr",
     "output_type": "stream",
     "text": [
      "Warning message:\n",
      "\"unable to access index for repository http://www.stats.ox.ac.uk/pub/RWin/bin/windows/contrib/3.5:\n",
      "  URL 'http://www.stats.ox.ac.uk/pub/RWin/bin/windows/contrib/3.5/PACKAGES'를 열 수 없습니다\""
     ]
    },
    {
     "name": "stdout",
     "output_type": "stream",
     "text": [
      "package 'gplots' successfully unpacked and MD5 sums checked\n",
      "\n",
      "The downloaded binary packages are in\n",
      "\tC:\\Users\\eunee\\AppData\\Local\\Temp\\RtmpI36a25\\downloaded_packages\n"
     ]
    },
    {
     "name": "stderr",
     "output_type": "stream",
     "text": [
      "\n",
      "Attaching package: 'gplots'\n",
      "\n",
      "The following object is masked from 'package:stats':\n",
      "\n",
      "    lowess\n",
      "\n"
     ]
    }
   ],
   "source": [
    "install.packages(\"ggplot2\")\n",
    "install.packages(\"gplots\")\n",
    "library(ggplot2)\n",
    "library(gplots)"
   ]
  },
  {
   "cell_type": "markdown",
   "metadata": {},
   "source": [
    "### 출근시간에 따른 일자리만족도\n",
    "혼동변수 : 로그임금, 성별, 종사상지위, 기업형태, 교육수준"
   ]
  },
  {
   "cell_type": "code",
   "execution_count": 50,
   "metadata": {
    "scrolled": true
   },
   "outputs": [
    {
     "data": {
      "text/plain": [
       "\n",
       "Call:\n",
       "lm(formula = wspacesat ~ wstart + lnwage + factor(gend) + factor(jobty) + \n",
       "    factor(comp_type) + factor(educ))\n",
       "\n",
       "Residuals:\n",
       "    Min      1Q  Median      3Q     Max \n",
       "-2.2791 -0.3231 -0.1561  0.5100  2.1967 \n",
       "\n",
       "Coefficients:\n",
       "                    Estimate Std. Error t value Pr(>|t|)    \n",
       "(Intercept)         2.162630   0.090371  23.931  < 2e-16 ***\n",
       "wstart              0.004402   0.003309   1.330 0.183525    \n",
       "lnwage              0.187891   0.015144  12.407  < 2e-16 ***\n",
       "factor(gend)1       0.141114   0.017590   8.023 1.29e-15 ***\n",
       "factor(jobty)1     -0.077151   0.023431  -3.293 0.001000 ***\n",
       "factor(jobty)2     -0.275123   0.030736  -8.951  < 2e-16 ***\n",
       "factor(comp_type)1  0.267026   0.023238  11.491  < 2e-16 ***\n",
       "factor(educ)1      -0.001329   0.025827  -0.051 0.958948    \n",
       "factor(educ)2       0.051409   0.029645   1.734 0.082953 .  \n",
       "factor(educ)3       0.101781   0.028545   3.566 0.000366 ***\n",
       "factor(educ)4       0.281766   0.041494   6.791 1.25e-11 ***\n",
       "---\n",
       "Signif. codes:  0 '***' 0.001 '**' 0.01 '*' 0.05 '.' 0.1 ' ' 1\n",
       "\n",
       "Residual standard error: 0.5413 on 4886 degrees of freedom\n",
       "Multiple R-squared:  0.1511,\tAdjusted R-squared:  0.1493 \n",
       "F-statistic: 86.94 on 10 and 4886 DF,  p-value: < 2.2e-16\n"
      ]
     },
     "metadata": {},
     "output_type": "display_data"
    }
   ],
   "source": [
    "fit1 <- lm(wspacesat ~ wstart + lnwage + factor(gend) + factor(jobty) + factor(comp_type) + factor(educ))\n",
    "summary(fit1)"
   ]
  },
  {
   "cell_type": "markdown",
   "metadata": {},
   "source": [
    "### 출근시간에 따른 로그임금"
   ]
  },
  {
   "cell_type": "code",
   "execution_count": 52,
   "metadata": {},
   "outputs": [
    {
     "data": {
      "text/plain": [
       "\n",
       "Call:\n",
       "lm(formula = lnwage ~ wstart)\n",
       "\n",
       "Residuals:\n",
       "    Min      1Q  Median      3Q     Max \n",
       "-9.9425 -0.3340  0.0051  0.4105  3.0008 \n",
       "\n",
       "Coefficients:\n",
       "             Estimate Std. Error t value Pr(>|t|)    \n",
       "(Intercept)  5.689926   0.036686  155.10   <2e-16 ***\n",
       "wstart      -0.044073   0.003921  -11.24   <2e-16 ***\n",
       "---\n",
       "Signif. codes:  0 '***' 0.001 '**' 0.01 '*' 0.05 '.' 0.1 ' ' 1\n",
       "\n",
       "Residual standard error: 0.6571 on 4895 degrees of freedom\n",
       "Multiple R-squared:  0.02516,\tAdjusted R-squared:  0.02497 \n",
       "F-statistic: 126.4 on 1 and 4895 DF,  p-value: < 2.2e-16\n"
      ]
     },
     "metadata": {},
     "output_type": "display_data"
    }
   ],
   "source": [
    "summary(lm(lnwage ~ wstart))"
   ]
  },
  {
   "cell_type": "markdown",
   "metadata": {},
   "source": [
    "### 로그임금에 따른 일자리만족도"
   ]
  },
  {
   "cell_type": "code",
   "execution_count": 53,
   "metadata": {},
   "outputs": [
    {
     "data": {
      "text/plain": [
       "\n",
       "Call:\n",
       "lm(formula = wspacesat ~ lnwage)\n",
       "\n",
       "Residuals:\n",
       "    Min      1Q  Median      3Q     Max \n",
       "-2.2443 -0.3572 -0.2064  0.5624  2.0062 \n",
       "\n",
       "Coefficients:\n",
       "            Estimate Std. Error t value Pr(>|t|)    \n",
       "(Intercept)  2.10139    0.06494   32.36   <2e-16 ***\n",
       "lnwage       0.22810    0.01218   18.73   <2e-16 ***\n",
       "---\n",
       "Signif. codes:  0 '***' 0.001 '**' 0.01 '*' 0.05 '.' 0.1 ' ' 1\n",
       "\n",
       "Residual standard error: 0.567 on 4895 degrees of freedom\n",
       "Multiple R-squared:  0.06689,\tAdjusted R-squared:  0.0667 \n",
       "F-statistic: 350.9 on 1 and 4895 DF,  p-value: < 2.2e-16\n"
      ]
     },
     "metadata": {},
     "output_type": "display_data"
    }
   ],
   "source": [
    "summary(lm(wspacesat ~ lnwage))"
   ]
  },
  {
   "cell_type": "code",
   "execution_count": 18,
   "metadata": {},
   "outputs": [],
   "source": [
    "############################################################"
   ]
  },
  {
   "cell_type": "code",
   "execution_count": null,
   "metadata": {},
   "outputs": [],
   "source": []
  },
  {
   "cell_type": "code",
   "execution_count": 9,
   "metadata": {},
   "outputs": [
    {
     "data": {
      "text/plain": [
       "\n",
       "Call:\n",
       "lm(formula = wspacesat_jit ~ wstart)\n",
       "\n",
       "Residuals:\n",
       "    Min      1Q  Median      3Q     Max \n",
       "-4.3361 -0.7691  0.0146  0.7911  4.4734 \n",
       "\n",
       "Coefficients:\n",
       "             Estimate Std. Error t value Pr(>|t|)    \n",
       "(Intercept) 3.209e+00  6.407e-02  50.081   <2e-16 ***\n",
       "wstart      1.163e-04  6.891e-05   1.687   0.0916 .  \n",
       "---\n",
       "Signif. codes:  0 '***' 0.001 '**' 0.01 '*' 0.05 '.' 0.1 ' ' 1\n",
       "\n",
       "Residual standard error: 1.159 on 4890 degrees of freedom\n",
       "Multiple R-squared:  0.0005818,\tAdjusted R-squared:  0.0003774 \n",
       "F-statistic: 2.847 on 1 and 4890 DF,  p-value: 0.09163\n"
      ]
     },
     "metadata": {},
     "output_type": "display_data"
    },
    {
     "name": "stderr",
     "output_type": "stream",
     "text": [
      "Warning message in simpleLoess(y, x, w, span, degree = degree, parametric = FALSE, :\n",
      "\"pseudoinverse used at 3\"Warning message in simpleLoess(y, x, w, span, degree = degree, parametric = FALSE, :\n",
      "\"neighborhood radius 1\"Warning message in simpleLoess(y, x, w, span, degree = degree, parametric = FALSE, :\n",
      "\"reciprocal condition number  0\"Warning message in simpleLoess(y, x, w, span, degree = degree, parametric = FALSE, :\n",
      "\"There are other near singularities as well. 1\"Warning message in simpleLoess(y, x, w, span, degree = degree, parametric = FALSE, :\n",
      "\"pseudoinverse used at 3\"Warning message in simpleLoess(y, x, w, span, degree = degree, parametric = FALSE, :\n",
      "\"neighborhood radius 1\"Warning message in simpleLoess(y, x, w, span, degree = degree, parametric = FALSE, :\n",
      "\"reciprocal condition number  0\"Warning message in simpleLoess(y, x, w, span, degree = degree, parametric = FALSE, :\n",
      "\"There are other near singularities as well. 1\"Warning message in simpleLoess(y, x, w, span, degree = degree, parametric = FALSE, :\n",
      "\"pseudoinverse used at 3\"Warning message in simpleLoess(y, x, w, span, degree = degree, parametric = FALSE, :\n",
      "\"neighborhood radius 1\"Warning message in simpleLoess(y, x, w, span, degree = degree, parametric = FALSE, :\n",
      "\"reciprocal condition number  0\"Warning message in simpleLoess(y, x, w, span, degree = degree, parametric = FALSE, :\n",
      "\"There are other near singularities as well. 1\"Warning message in simpleLoess(y, x, w, span, degree = degree, parametric = FALSE, :\n",
      "\"pseudoinverse used at 3\"Warning message in simpleLoess(y, x, w, span, degree = degree, parametric = FALSE, :\n",
      "\"neighborhood radius 1\"Warning message in simpleLoess(y, x, w, span, degree = degree, parametric = FALSE, :\n",
      "\"reciprocal condition number  0\"Warning message in simpleLoess(y, x, w, span, degree = degree, parametric = FALSE, :\n",
      "\"There are other near singularities as well. 1\"Warning message in simpleLoess(y, x, w, span, degree = degree, parametric = FALSE, :\n",
      "\"pseudoinverse used at 3\"Warning message in simpleLoess(y, x, w, span, degree = degree, parametric = FALSE, :\n",
      "\"neighborhood radius 1\"Warning message in simpleLoess(y, x, w, span, degree = degree, parametric = FALSE, :\n",
      "\"reciprocal condition number  0\"Warning message in simpleLoess(y, x, w, span, degree = degree, parametric = FALSE, :\n",
      "\"There are other near singularities as well. 1\""
     ]
    },
    {
     "data": {
      "image/png": "[encoded data removed]",
      "text/plain": [
       "plot without title"
      ]
     },
     "metadata": {},
     "output_type": "display_data"
    },
    {
     "data": {
      "image/png": "[encoded data removed]",
      "text/plain": [
       "plot without title"
      ]
     },
     "metadata": {},
     "output_type": "display_data"
    }
   ],
   "source": [
    "set.seed(38365)\n",
    "nrdt_attach$wspacesat_jit <- nrdt_attach$wspacesat +rnorm(length(nrdt_attach$wspacesat))\n",
    "attach(nrdt_attach)\n",
    "newfit <- lm(wspacesat_jit ~ wstart)\n",
    "summary(newfit)\n",
    "plot(wstart_c, wspacesat_jit)\n",
    "scatter.smooth(wstart_c, wspacesat_jit, lpars = list(lty = 2), col = 1)\n",
    "abline(newfit)"
   ]
  },
  {
   "cell_type": "code",
   "execution_count": 11,
   "metadata": {},
   "outputs": [
    {
     "data": {
      "image/png": "[encoded data removed]",
      "text/plain": [
       "plot without title"
      ]
     },
     "metadata": {},
     "output_type": "display_data"
    }
   ],
   "source": [
    "plotmeans(wspacesat ~ wstart_c,\n",
    "          barcol = 1, barwidth = 2, n.label = FALSE, connect = T)"
   ]
  },
  {
   "cell_type": "markdown",
   "metadata": {},
   "source": [
    "### 출근시간에 따른 일자리만족도 : 로그임금 통제 시"
   ]
  },
  {
   "cell_type": "code",
   "execution_count": 12,
   "metadata": {
    "scrolled": true
   },
   "outputs": [
    {
     "data": {
      "text/plain": [
       "\n",
       "Call:\n",
       "lm(formula = wspacesat ~ wstart + lnwage)\n",
       "\n",
       "Residuals:\n",
       "    Min      1Q  Median      3Q     Max \n",
       "-2.2346 -0.3535 -0.2040  0.5655  2.0120 \n",
       "\n",
       "Coefficients:\n",
       "             Estimate Std. Error t value Pr(>|t|)    \n",
       "(Intercept) 1.996e+00  7.690e-02  25.954  < 2e-16 ***\n",
       "wstart      9.073e-05  3.413e-05   2.658  0.00788 ** \n",
       "lnwage      2.328e-01  1.234e-02  18.864  < 2e-16 ***\n",
       "---\n",
       "Signif. codes:  0 '***' 0.001 '**' 0.01 '*' 0.05 '.' 0.1 ' ' 1\n",
       "\n",
       "Residual standard error: 0.5667 on 4889 degrees of freedom\n",
       "Multiple R-squared:  0.06787,\tAdjusted R-squared:  0.06749 \n",
       "F-statistic:   178 on 2 and 4889 DF,  p-value: < 2.2e-16\n"
      ]
     },
     "metadata": {},
     "output_type": "display_data"
    }
   ],
   "source": [
    "fit3 <- lm(wspacesat ~ wstart + lnwage)\n",
    "summary(fit3)"
   ]
  },
  {
   "cell_type": "markdown",
   "metadata": {},
   "source": [
    "### 출근시간에 따른 로그임금 "
   ]
  },
  {
   "cell_type": "markdown",
   "metadata": {},
   "source": [
    "* 선형회귀"
   ]
  },
  {
   "cell_type": "code",
   "execution_count": null,
   "metadata": {},
   "outputs": [],
   "source": []
  },
  {
   "cell_type": "code",
   "execution_count": 38,
   "metadata": {},
   "outputs": [
    {
     "data": {
      "text/plain": [
       "\n",
       "Call:\n",
       "lm(formula = lnwage ~ newstart)\n",
       "\n",
       "Residuals:\n",
       "    Min      1Q  Median      3Q     Max \n",
       "-9.9425 -0.3340  0.0051  0.4105  3.0008 \n",
       "\n",
       "Coefficients:\n",
       "              Estimate Std. Error t value Pr(>|t|)    \n",
       "(Intercept)  5.690e+00  3.669e-02  155.10   <2e-16 ***\n",
       "newstart    -7.346e-04  6.535e-05  -11.24   <2e-16 ***\n",
       "---\n",
       "Signif. codes:  0 '***' 0.001 '**' 0.01 '*' 0.05 '.' 0.1 ' ' 1\n",
       "\n",
       "Residual standard error: 0.6571 on 4895 degrees of freedom\n",
       "Multiple R-squared:  0.02516,\tAdjusted R-squared:  0.02497 \n",
       "F-statistic: 126.4 on 1 and 4895 DF,  p-value: < 2.2e-16\n"
      ]
     },
     "metadata": {},
     "output_type": "display_data"
    }
   ],
   "source": [
    "summary(lm(lnwage ~ newstart))"
   ]
  },
  {
   "cell_type": "code",
   "execution_count": 13,
   "metadata": {
    "scrolled": true
   },
   "outputs": [
    {
     "data": {
      "text/plain": [
       "\n",
       "Call:\n",
       "lm(formula = lnwage ~ wstart)\n",
       "\n",
       "Residuals:\n",
       "    Min      1Q  Median      3Q     Max \n",
       "-9.9405 -0.3332  0.0076  0.4131  3.0033 \n",
       "\n",
       "Coefficients:\n",
       "              Estimate Std. Error t value Pr(>|t|)    \n",
       "(Intercept)  5.692e+00  3.630e-02  156.80   <2e-16 ***\n",
       "wstart      -4.455e-04  3.904e-05  -11.41   <2e-16 ***\n",
       "---\n",
       "Signif. codes:  0 '***' 0.001 '**' 0.01 '*' 0.05 '.' 0.1 ' ' 1\n",
       "\n",
       "Residual standard error: 0.6568 on 4890 degrees of freedom\n",
       "Multiple R-squared:  0.02594,\tAdjusted R-squared:  0.02574 \n",
       "F-statistic: 130.2 on 1 and 4890 DF,  p-value: < 2.2e-16\n"
      ]
     },
     "metadata": {},
     "output_type": "display_data"
    },
    {
     "data": {},
     "metadata": {},
     "output_type": "display_data"
    },
    {
     "data": {
      "image/png": "[encoded data removed]",
      "text/plain": [
       "plot without title"
      ]
     },
     "metadata": {},
     "output_type": "display_data"
    }
   ],
   "source": [
    "fit4 <- lm(lnwage ~ wstart)\n",
    "summary(fit4)\n",
    "\n",
    "ggplot(data = nrdt_attach, aes(wstart, lnwage))+geom_point()+geom_smooth(method = \"lm\")"
   ]
  },
  {
   "cell_type": "markdown",
   "metadata": {},
   "source": [
    "* 이차항을 넣은 회귀"
   ]
  },
  {
   "cell_type": "code",
   "execution_count": 42,
   "metadata": {},
   "outputs": [
    {
     "data": {
      "text/plain": [
       "\n",
       "Call:\n",
       "lm(formula = lnwage ~ poly(newstart, 2, raw = TRUE))\n",
       "\n",
       "Residuals:\n",
       "    Min      1Q  Median      3Q     Max \n",
       "-9.9471 -0.3343  0.0170  0.4224  3.0127 \n",
       "\n",
       "Coefficients:\n",
       "                                 Estimate Std. Error t value Pr(>|t|)    \n",
       "(Intercept)                     5.983e+00  1.021e-01  58.595  < 2e-16 ***\n",
       "poly(newstart, 2, raw = TRUE)1 -1.626e-03  2.972e-04  -5.472 4.68e-08 ***\n",
       "poly(newstart, 2, raw = TRUE)2  6.058e-07  1.970e-07   3.076  0.00211 ** \n",
       "---\n",
       "Signif. codes:  0 '***' 0.001 '**' 0.01 '*' 0.05 '.' 0.1 ' ' 1\n",
       "\n",
       "Residual standard error: 0.6565 on 4894 degrees of freedom\n",
       "Multiple R-squared:  0.02705,\tAdjusted R-squared:  0.02665 \n",
       "F-statistic: 68.02 on 2 and 4894 DF,  p-value: < 2.2e-16\n"
      ]
     },
     "metadata": {},
     "output_type": "display_data"
    }
   ],
   "source": [
    "summary(lm(lnwage ~ poly(newstart, 2, raw = TRUE)))"
   ]
  },
  {
   "cell_type": "code",
   "execution_count": 15,
   "metadata": {},
   "outputs": [
    {
     "data": {},
     "metadata": {},
     "output_type": "display_data"
    },
    {
     "data": {
      "image/png": "[encoded data removed]",
      "text/plain": [
       "plot without title"
      ]
     },
     "metadata": {},
     "output_type": "display_data"
    }
   ],
   "source": [
    "ggplot(nrdt_attach, aes(wstart, lnwage))+geom_point()+geom_smooth(method = \"lm\", formula = y ~ poly(x,2))"
   ]
  },
  {
   "cell_type": "markdown",
   "metadata": {},
   "source": [
    "* 삼차항을 넣은 회귀"
   ]
  },
  {
   "cell_type": "code",
   "execution_count": 15,
   "metadata": {
    "scrolled": true
   },
   "outputs": [
    {
     "data": {
      "text/plain": [
       "\n",
       "Call:\n",
       "lm(formula = lnwage ~ wstart + I(wstart^2) + I(wstart^3))\n",
       "\n",
       "Residuals:\n",
       "    Min      1Q  Median      3Q     Max \n",
       "-9.9767 -0.3448  0.0057  0.4111  3.0013 \n",
       "\n",
       "Coefficients:\n",
       "              Estimate Std. Error t value Pr(>|t|)    \n",
       "(Intercept)  4.409e+00  1.712e-01  25.756   <2e-16 ***\n",
       "wstart       3.921e-03  4.671e-04   8.396   <2e-16 ***\n",
       "I(wstart^2) -4.452e-06  4.178e-07 -10.658   <2e-16 ***\n",
       "I(wstart^3)  1.318e-09  1.160e-10  11.361   <2e-16 ***\n",
       "---\n",
       "Signif. codes:  0 '***' 0.001 '**' 0.01 '*' 0.05 '.' 0.1 ' ' 1\n",
       "\n",
       "Residual standard error: 0.6478 on 4893 degrees of freedom\n",
       "Multiple R-squared:  0.05295,\tAdjusted R-squared:  0.05237 \n",
       "F-statistic: 91.19 on 3 and 4893 DF,  p-value: < 2.2e-16\n"
      ]
     },
     "metadata": {},
     "output_type": "display_data"
    }
   ],
   "source": [
    "fit6 <- lm(lnwage ~ wstart + I(wstart^2) + I(wstart^3))\n",
    "summary(fit6)"
   ]
  },
  {
   "cell_type": "code",
   "execution_count": 37,
   "metadata": {
    "scrolled": true
   },
   "outputs": [
    {
     "data": {
      "text/plain": [
       "\n",
       "Call:\n",
       "lm(formula = lnwage ~ poly(newstart, 3, raw = TRUE))\n",
       "\n",
       "Residuals:\n",
       "    Min      1Q  Median      3Q     Max \n",
       "-9.9807 -0.3416  0.0001  0.4056  2.9958 \n",
       "\n",
       "Coefficients:\n",
       "                                 Estimate Std. Error t value Pr(>|t|)    \n",
       "(Intercept)                     4.379e+00  1.731e-01  25.304   <2e-16 ***\n",
       "poly(newstart, 3, raw = TRUE)1  6.649e-03  7.831e-04   8.491   <2e-16 ***\n",
       "poly(newstart, 3, raw = TRUE)2 -1.246e-05  1.163e-06 -10.717   <2e-16 ***\n",
       "poly(newstart, 3, raw = TRUE)3  6.113e-09  5.363e-10  11.398   <2e-16 ***\n",
       "---\n",
       "Signif. codes:  0 '***' 0.001 '**' 0.01 '*' 0.05 '.' 0.1 ' ' 1\n",
       "\n",
       "Residual standard error: 0.648 on 4893 degrees of freedom\n",
       "Multiple R-squared:  0.05221,\tAdjusted R-squared:  0.05163 \n",
       "F-statistic: 89.85 on 3 and 4893 DF,  p-value: < 2.2e-16\n"
      ]
     },
     "metadata": {},
     "output_type": "display_data"
    }
   ],
   "source": [
    "summary(lm(lnwage ~ poly(newstart, 3, raw = TRUE)))"
   ]
  },
  {
   "cell_type": "code",
   "execution_count": 36,
   "metadata": {},
   "outputs": [
    {
     "data": {
      "text/plain": [
       "\n",
       "Call:\n",
       "lm(formula = lnwage ~ poly(wstart, 3, raw = TRUE))\n",
       "\n",
       "Residuals:\n",
       "    Min      1Q  Median      3Q     Max \n",
       "-9.9767 -0.3448  0.0057  0.4111  3.0013 \n",
       "\n",
       "Coefficients:\n",
       "                               Estimate Std. Error t value Pr(>|t|)    \n",
       "(Intercept)                   4.409e+00  1.712e-01  25.756   <2e-16 ***\n",
       "poly(wstart, 3, raw = TRUE)1  3.921e-03  4.671e-04   8.396   <2e-16 ***\n",
       "poly(wstart, 3, raw = TRUE)2 -4.452e-06  4.178e-07 -10.658   <2e-16 ***\n",
       "poly(wstart, 3, raw = TRUE)3  1.318e-09  1.160e-10  11.361   <2e-16 ***\n",
       "---\n",
       "Signif. codes:  0 '***' 0.001 '**' 0.01 '*' 0.05 '.' 0.1 ' ' 1\n",
       "\n",
       "Residual standard error: 0.6478 on 4893 degrees of freedom\n",
       "Multiple R-squared:  0.05295,\tAdjusted R-squared:  0.05237 \n",
       "F-statistic: 91.19 on 3 and 4893 DF,  p-value: < 2.2e-16\n"
      ]
     },
     "metadata": {},
     "output_type": "display_data"
    }
   ],
   "source": [
    "summary(lm(lnwage ~ poly(wstart, 3, raw = TRUE)))"
   ]
  },
  {
   "cell_type": "code",
   "execution_count": 11,
   "metadata": {},
   "outputs": [
    {
     "data": {},
     "metadata": {},
     "output_type": "display_data"
    },
    {
     "data": {
      "image/png": "[encoded data removed]",
      "text/plain": [
       "plot without title"
      ]
     },
     "metadata": {},
     "output_type": "display_data"
    }
   ],
   "source": [
    "ggplot(nrdt_attach, aes(newstart, lnwage))+ geom_point() +geom_smooth(method = \"lm\", formula = y ~ poly(x,3))"
   ]
  },
  {
   "cell_type": "code",
   "execution_count": 18,
   "metadata": {},
   "outputs": [
    {
     "data": {},
     "metadata": {},
     "output_type": "display_data"
    },
    {
     "data": {
      "image/png": "[encoded data removed]",
      "text/plain": [
       "plot without title"
      ]
     },
     "metadata": {},
     "output_type": "display_data"
    }
   ],
   "source": [
    "ggplot(nrdt_attach, aes(wstart, lnwage))+ geom_point() +geom_smooth(method = \"lm\", formula = y ~ poly(x,3))"
   ]
  },
  {
   "cell_type": "markdown",
   "metadata": {},
   "source": [
    "* LOESS 곡선"
   ]
  },
  {
   "cell_type": "code",
   "execution_count": 19,
   "metadata": {},
   "outputs": [
    {
     "data": {},
     "metadata": {},
     "output_type": "display_data"
    },
    {
     "data": {
      "image/png": "[encoded data removed]",
      "text/plain": [
       "plot without title"
      ]
     },
     "metadata": {},
     "output_type": "display_data"
    }
   ],
   "source": [
    "ggplot(nrdt_attach, aes(wstart, lnwage))+ geom_point() + geom_smooth(method = \"loess\")"
   ]
  },
  {
   "cell_type": "markdown",
   "metadata": {},
   "source": [
    "* 삼차항, LOESS 합쳐 그리기"
   ]
  },
  {
   "cell_type": "code",
   "execution_count": 40,
   "metadata": {},
   "outputs": [
    {
     "data": {},
     "metadata": {},
     "output_type": "display_data"
    },
    {
     "data": {
      "image/png": "[encoded data removed]",
      "text/plain": [
       "plot without title"
      ]
     },
     "metadata": {},
     "output_type": "display_data"
    }
   ],
   "source": [
    "ggplot(nrdt_attach, aes(newstart, lnwage))+ geom_point() +geom_smooth(method = \"lm\", formula = y ~ poly(x,3), color = \"red\")+ geom_smooth(method = \"loess\")"
   ]
  },
  {
   "cell_type": "markdown",
   "metadata": {},
   "source": [
    "### 출근시간에 따른 로그임금 : 근로시간 통제 시"
   ]
  },
  {
   "cell_type": "code",
   "execution_count": 37,
   "metadata": {},
   "outputs": [
    {
     "data": {
      "text/plain": [
       "\n",
       "Call:\n",
       "lm(formula = lnwage ~ wstart + wtime)\n",
       "\n",
       "Residuals:\n",
       "    Min      1Q  Median      3Q     Max \n",
       "-9.8731 -0.3622  0.0207  0.4206  3.0304 \n",
       "\n",
       "Coefficients:\n",
       "             Estimate Std. Error t value Pr(>|t|)    \n",
       "(Intercept)  5.074892   0.055970  90.671  < 2e-16 ***\n",
       "wstart      -0.029436   0.003975  -7.406 1.53e-13 ***\n",
       "wtime        0.050411   0.003517  14.335  < 2e-16 ***\n",
       "---\n",
       "Signif. codes:  0 '***' 0.001 '**' 0.01 '*' 0.05 '.' 0.1 ' ' 1\n",
       "\n",
       "Residual standard error: 0.6437 on 4894 degrees of freedom\n",
       "Multiple R-squared:  0.06445,\tAdjusted R-squared:  0.06406 \n",
       "F-statistic: 168.6 on 2 and 4894 DF,  p-value: < 2.2e-16\n"
      ]
     },
     "metadata": {},
     "output_type": "display_data"
    }
   ],
   "source": [
    "summary(lm(lnwage ~ wstart + wtime))"
   ]
  },
  {
   "cell_type": "code",
   "execution_count": 42,
   "metadata": {
    "scrolled": true
   },
   "outputs": [
    {
     "data": {
      "text/plain": [
       "\n",
       "Call:\n",
       "lm(formula = lnwage ~ wstart)\n",
       "\n",
       "Residuals:\n",
       "    Min      1Q  Median      3Q     Max \n",
       "-9.9425 -0.3340  0.0051  0.4105  3.0008 \n",
       "\n",
       "Coefficients:\n",
       "             Estimate Std. Error t value Pr(>|t|)    \n",
       "(Intercept)  5.689926   0.036686  155.10   <2e-16 ***\n",
       "wstart      -0.044073   0.003921  -11.24   <2e-16 ***\n",
       "---\n",
       "Signif. codes:  0 '***' 0.001 '**' 0.01 '*' 0.05 '.' 0.1 ' ' 1\n",
       "\n",
       "Residual standard error: 0.6571 on 4895 degrees of freedom\n",
       "Multiple R-squared:  0.02516,\tAdjusted R-squared:  0.02497 \n",
       "F-statistic: 126.4 on 1 and 4895 DF,  p-value: < 2.2e-16\n"
      ]
     },
     "metadata": {},
     "output_type": "display_data"
    }
   ],
   "source": [
    "summary(lm(lnwage ~ wstart))"
   ]
  },
  {
   "cell_type": "code",
   "execution_count": 43,
   "metadata": {},
   "outputs": [
    {
     "data": {
      "text/plain": [
       "\n",
       "Call:\n",
       "lm(formula = lnwage ~ wstart + wtime)\n",
       "\n",
       "Residuals:\n",
       "    Min      1Q  Median      3Q     Max \n",
       "-9.8731 -0.3622  0.0207  0.4206  3.0304 \n",
       "\n",
       "Coefficients:\n",
       "             Estimate Std. Error t value Pr(>|t|)    \n",
       "(Intercept)  5.074892   0.055970  90.671  < 2e-16 ***\n",
       "wstart      -0.029436   0.003975  -7.406 1.53e-13 ***\n",
       "wtime        0.050411   0.003517  14.335  < 2e-16 ***\n",
       "---\n",
       "Signif. codes:  0 '***' 0.001 '**' 0.01 '*' 0.05 '.' 0.1 ' ' 1\n",
       "\n",
       "Residual standard error: 0.6437 on 4894 degrees of freedom\n",
       "Multiple R-squared:  0.06445,\tAdjusted R-squared:  0.06406 \n",
       "F-statistic: 168.6 on 2 and 4894 DF,  p-value: < 2.2e-16\n"
      ]
     },
     "metadata": {},
     "output_type": "display_data"
    }
   ],
   "source": [
    "summary(lm(lnwage ~ wstart + wtime))"
   ]
  },
  {
   "cell_type": "code",
   "execution_count": 43,
   "metadata": {},
   "outputs": [
    {
     "data": {
      "text/html": [
       "<table>\n",
       "<thead><tr><th scope=col>Res.Df</th><th scope=col>RSS</th><th scope=col>Df</th><th scope=col>Sum of Sq</th><th scope=col>F</th><th scope=col>Pr(&gt;F)</th></tr></thead>\n",
       "<tbody>\n",
       "\t<tr><td>4895        </td><td>1686.374    </td><td>NA          </td><td>      NA    </td><td>      NA    </td><td>          NA</td></tr>\n",
       "\t<tr><td>4894        </td><td>1571.081    </td><td> 1          </td><td>115.2931    </td><td>359.1441    </td><td>2.399449e-77</td></tr>\n",
       "</tbody>\n",
       "</table>\n"
      ],
      "text/latex": [
       "\\begin{tabular}{r|llllll}\n",
       " Res.Df & RSS & Df & Sum of Sq & F & Pr(>F)\\\\\n",
       "\\hline\n",
       "\t 4895         & 1686.374     & NA           &       NA     &       NA     &           NA\\\\\n",
       "\t 4894         & 1571.081     &  1           & 115.2931     & 359.1441     & 2.399449e-77\\\\\n",
       "\\end{tabular}\n"
      ],
      "text/markdown": [
       "\n",
       "Res.Df | RSS | Df | Sum of Sq | F | Pr(>F) | \n",
       "|---|---|\n",
       "| 4895         | 1686.374     | NA           |       NA     |       NA     |           NA | \n",
       "| 4894         | 1571.081     |  1           | 115.2931     | 359.1441     | 2.399449e-77 | \n",
       "\n",
       "\n"
      ],
      "text/plain": [
       "  Res.Df RSS      Df Sum of Sq F        Pr(>F)      \n",
       "1 4895   1686.374 NA       NA        NA           NA\n",
       "2 4894   1571.081  1 115.2931  359.1441 2.399449e-77"
      ]
     },
     "metadata": {},
     "output_type": "display_data"
    }
   ],
   "source": [
    "fit1 <- lm(wspacesat ~ newstart)\n",
    "fit2 <- lm(wspacesat ~ newstart + lnwage)\n",
    "\n",
    "anova(fit1, fit2)"
   ]
  }
 ],
 "metadata": {
  "kernelspec": {
   "display_name": "R",
   "language": "R",
   "name": "ir"
  },
  "language_info": {
   "codemirror_mode": "r",
   "file_extension": ".r",
   "mimetype": "text/x-r-source",
   "name": "R",
   "pygments_lexer": "r",
   "version": "3.5.1"
  }
 },
 "nbformat": 4,
 "nbformat_minor": 2
}
