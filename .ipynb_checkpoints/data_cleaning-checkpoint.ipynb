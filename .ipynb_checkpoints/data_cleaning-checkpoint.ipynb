{
 "cells": [
  {
   "cell_type": "markdown",
   "metadata": {},
   "source": [
    "### 변수명 정리\n",
    "(원 변수명, 새로운 변수명, 변수 설명 순으로 정리)\n",
    "\n",
    "pid : pid (pid)       \n",
    "a177102 : wstart_h (업무 시작 시)       \n",
    "a177103 : wstart_m (업무 시작 분)      \n",
    "a177104 : wend_d (업무 종료 일)      \n",
    "p174301 : jobsat (직무만족도)      \n",
    "p171003 : fixedwt (정규근로시간여부)      \n",
    "p171004 : wtime (주당 평균 근로시간)      \n",
    "p174321 : wspacesat (전반적일자리만족도)      \n",
    "p174322 : wsat (전반적일만족도)      \n",
    "p175501 : marri (혼인상태)      \n",
    "p179071 : childbirth (자녀 출산경험 유무)      \n",
    "p170314 : jobty (종사상지위)      \n",
    "p170101: gend (성별)      \n",
    "p171621: wbonus (성과급제여부)      \n",
    "p170104: birth (생년)      \n",
    "p170401: comp_type (기업형태)      "
   ]
  },
  {
   "cell_type": "code",
   "execution_count": 5,
   "metadata": {
    "scrolled": true
   },
   "outputs": [
    {
     "name": "stderr",
     "output_type": "stream",
     "text": [
      "Warning message:\n",
      "\"unable to access index for repository http://www.stats.ox.ac.uk/pub/RWin/bin/windows/contrib/3.5:\n",
      "  URL 'http://www.stats.ox.ac.uk/pub/RWin/bin/windows/contrib/3.5/PACKAGES'를 열 수 없습니다\"Warning message:\n",
      "\"package 'foreign' is in use and will not be installed\"Warning message:\n",
      "\"unable to access index for repository http://www.stats.ox.ac.uk/pub/RWin/bin/windows/contrib/3.5:\n",
      "  URL 'http://www.stats.ox.ac.uk/pub/RWin/bin/windows/contrib/3.5/PACKAGES'를 열 수 없습니다\"Warning message:\n",
      "\"package 'dplyr' is in use and will not be installed\""
     ]
    }
   ],
   "source": [
    "install.packages(\"foreign\")\n",
    "install.packages(\"dplyr\")\n",
    "library(foreign)\n",
    "library(dplyr)"
   ]
  },
  {
   "cell_type": "markdown",
   "metadata": {},
   "source": [
    "read.spss 명령어 활용해 자료 불러오기( 부가조사, 개인별)"
   ]
  },
  {
   "cell_type": "code",
   "execution_count": 6,
   "metadata": {},
   "outputs": [],
   "source": [
    "dt17_a <- read.spss(\"C:/Users/eunee/khu_sda_project/data/klips17a.sav\",\n",
    "                   use.value.labels = FALSE, to.data.frame = TRUE)\n",
    "dt17_p <- read.spss(\"C:/Users/eunee/khu_sda_project/data/klips17p_i.sav\",\n",
    "                   use.value.labels = FALSE, to.data.frame = TRUE)"
   ]
  },
  {
   "cell_type": "markdown",
   "metadata": {},
   "source": [
    "### 부가조사 : ```rdt_a```"
   ]
  },
  {
   "cell_type": "code",
   "execution_count": 7,
   "metadata": {
    "scrolled": true
   },
   "outputs": [
    {
     "name": "stdout",
     "output_type": "stream",
     "text": [
      "'data.frame':\t11686 obs. of  4 variables:\n",
      " $ pid     : num  101 401 402 902 501401 ...\n",
      " $ wstart_h: num  7 9 13 9 9 NA 4 10 9 NA ...\n",
      " $ wstart_m: num  0 0 0 0 0 NA 0 30 0 NA ...\n",
      " $ wend_d  : num  1 1 1 1 1 NA 1 1 1 NA ...\n"
     ]
    }
   ],
   "source": [
    "rdt_a <- subset(dt17_a,\n",
    "             select = c(pid, a177102, a177103, a177104))\n",
    "names(rdt_a) <- c(\"pid\", \"wstart_h\", \"wstart_m\", \"wend_d\")\n",
    "str(rdt_a)"
   ]
  },
  {
   "cell_type": "markdown",
   "metadata": {},
   "source": [
    "### 개인별 : ```rdt_p```"
   ]
  },
  {
   "cell_type": "code",
   "execution_count": 8,
   "metadata": {
    "scrolled": true
   },
   "outputs": [
    {
     "name": "stdout",
     "output_type": "stream",
     "text": [
      "'data.frame':\t13168 obs. of  13 variables:\n",
      " $ pid       : num  101 102 201 202 203 401 402 602 902 903 ...\n",
      " $ jobsat    : num  4 3 3 3 NA 4 4 3 4 NA ...\n",
      " $ fixedwt   : num  2 1 1 1 NA 1 NA 1 1 NA ...\n",
      " $ wtime     : num  24 NA NA NA NA NA NA NA NA NA ...\n",
      " $ wspacesat : num  3 3 3 3 NA 2 2 3 2 NA ...\n",
      " $ wsat      : num  3 3 3 3 NA 2 2 3 2 NA ...\n",
      " $ marri     : num  5 5 4 4 2 2 2 5 2 2 ...\n",
      " $ childbirth: num  NA NA NA NA NA NA NA NA NA NA ...\n",
      " $ jobty     : num  3 3 3 2 NA 1 4 2 1 NA ...\n",
      " $ gend      : num  2 1 1 2 2 1 2 2 2 2 ...\n",
      " $ wbonus    : num  2 2 2 2 NA 2 NA 2 2 NA ...\n",
      " $ birth     : num  1941 1968 1951 1954 1979 ...\n",
      " $ com_type  : num  6 1 1 1 NA 3 NA 3 4 NA ...\n"
     ]
    }
   ],
   "source": [
    "rdt_p <- subset(dt17_p,\n",
    "               select = c(pid, p174301, p171003, p171004, p174321, p174322, p175501, p179071, p170314, p170101, p171621, p170104, p170401))\n",
    "names(rdt_p) <- c(\"pid\", \"jobsat\", \"fixedwt\", \"wtime\", \"wspacesat\", \"wsat\", \"marri\", \"childbirth\", \"jobty\", \"gend\", \"wbonus\", \"birth\", \"com_type\")\n",
    "str(rdt_p)"
   ]
  },
  {
   "cell_type": "markdown",
   "metadata": {},
   "source": [
    "### ```rdt_i``` : ```rdt_a```, ```rdt_p``` 에 대한 merge(inner join)"
   ]
  },
  {
   "cell_type": "code",
   "execution_count": 9,
   "metadata": {},
   "outputs": [
    {
     "name": "stdout",
     "output_type": "stream",
     "text": [
      "'data.frame':\t11679 obs. of  16 variables:\n",
      " $ pid       : num  101 102 203 401 402 ...\n",
      " $ wstart_h  : num  7 8 NA 9 13 9 NA NA 4 10 ...\n",
      " $ wstart_m  : num  0 30 NA 0 0 0 NA NA 0 30 ...\n",
      " $ wend_d    : num  1 1 NA 1 1 1 NA NA 1 1 ...\n",
      " $ jobsat    : num  4 3 NA 4 4 4 NA NA 2 3 ...\n",
      " $ fixedwt   : num  2 1 NA 1 NA 1 NA NA 1 1 ...\n",
      " $ wtime     : num  24 NA NA NA NA NA NA NA NA NA ...\n",
      " $ wspacesat : num  3 3 NA 2 2 2 NA NA 3 3 ...\n",
      " $ wsat      : num  3 3 NA 2 2 2 NA NA 3 3 ...\n",
      " $ marri     : num  5 5 2 2 2 2 2 4 2 2 ...\n",
      " $ childbirth: num  NA NA NA NA NA NA NA NA NA NA ...\n",
      " $ jobty     : num  3 3 NA 1 4 1 NA NA 1 1 ...\n",
      " $ gend      : num  2 1 2 1 2 2 2 2 1 2 ...\n",
      " $ wbonus    : num  2 2 NA 2 NA 2 NA NA 2 2 ...\n",
      " $ birth     : num  1941 1968 1979 1970 1969 ...\n",
      " $ com_type  : num  6 1 NA 3 NA 4 NA NA 1 1 ...\n"
     ]
    }
   ],
   "source": [
    "rdt_i <- merge(rdt_a, rdt_p, by = \"pid\")\n",
    "str(rdt_i)"
   ]
  },
  {
   "cell_type": "markdown",
   "metadata": {},
   "source": [
    "### ```rdt_o``` : ```rdt_a```, ```rdt_p``` 에 대한 merge(outer join)"
   ]
  },
  {
   "cell_type": "code",
   "execution_count": 10,
   "metadata": {},
   "outputs": [
    {
     "name": "stdout",
     "output_type": "stream",
     "text": [
      "'data.frame':\t13175 obs. of  16 variables:\n",
      " $ pid       : num  101 102 201 202 203 401 402 602 902 903 ...\n",
      " $ wstart_h  : num  7 8 NA NA NA 9 13 NA 9 NA ...\n",
      " $ wstart_m  : num  0 30 NA NA NA 0 0 NA 0 NA ...\n",
      " $ wend_d    : num  1 1 NA NA NA 1 1 NA 1 NA ...\n",
      " $ jobsat    : num  4 3 3 3 NA 4 4 3 4 NA ...\n",
      " $ fixedwt   : num  2 1 1 1 NA 1 NA 1 1 NA ...\n",
      " $ wtime     : num  24 NA NA NA NA NA NA NA NA NA ...\n",
      " $ wspacesat : num  3 3 3 3 NA 2 2 3 2 NA ...\n",
      " $ wsat      : num  3 3 3 3 NA 2 2 3 2 NA ...\n",
      " $ marri     : num  5 5 4 4 2 2 2 5 2 2 ...\n",
      " $ childbirth: num  NA NA NA NA NA NA NA NA NA NA ...\n",
      " $ jobty     : num  3 3 3 2 NA 1 4 2 1 NA ...\n",
      " $ gend      : num  2 1 1 2 2 1 2 2 2 2 ...\n",
      " $ wbonus    : num  2 2 2 2 NA 2 NA 2 2 NA ...\n",
      " $ birth     : num  1941 1968 1951 1954 1979 ...\n",
      " $ com_type  : num  6 1 1 1 NA 3 NA 3 4 NA ...\n"
     ]
    }
   ],
   "source": [
    "rdt_o <- merge(rdt_a, rdt_p, by = \"pid\", all = TRUE)\n",
    "str(rdt_o)"
   ]
  },
  {
   "cell_type": "markdown",
   "metadata": {},
   "source": [
    "### ```rdt_i```의 ```NA``` 알아보기 \n",
    "(이하 분석은 ```rdt_i```로 진행)"
   ]
  },
  {
   "cell_type": "code",
   "execution_count": 11,
   "metadata": {},
   "outputs": [
    {
     "data": {
      "text/html": [
       "<dl class=dl-horizontal>\n",
       "\t<dt>pid</dt>\n",
       "\t\t<dd>0</dd>\n",
       "\t<dt>wstart_h</dt>\n",
       "\t\t<dd>4349</dd>\n",
       "\t<dt>wstart_m</dt>\n",
       "\t\t<dd>4349</dd>\n",
       "\t<dt>wend_d</dt>\n",
       "\t\t<dd>4349</dd>\n",
       "\t<dt>jobsat</dt>\n",
       "\t\t<dd>4349</dd>\n",
       "\t<dt>fixedwt</dt>\n",
       "\t\t<dd>6505</dd>\n",
       "\t<dt>wtime</dt>\n",
       "\t\t<dd>10960</dd>\n",
       "\t<dt>wspacesat</dt>\n",
       "\t\t<dd>4349</dd>\n",
       "\t<dt>wsat</dt>\n",
       "\t\t<dd>4349</dd>\n",
       "\t<dt>marri</dt>\n",
       "\t\t<dd>0</dd>\n",
       "\t<dt>childbirth</dt>\n",
       "\t\t<dd>11623</dd>\n",
       "\t<dt>jobty</dt>\n",
       "\t\t<dd>4349</dd>\n",
       "\t<dt>gend</dt>\n",
       "\t\t<dd>0</dd>\n",
       "\t<dt>wbonus</dt>\n",
       "\t\t<dd>6505</dd>\n",
       "\t<dt>birth</dt>\n",
       "\t\t<dd>0</dd>\n",
       "\t<dt>com_type</dt>\n",
       "\t\t<dd>6505</dd>\n",
       "</dl>\n"
      ],
      "text/latex": [
       "\\begin{description*}\n",
       "\\item[pid] 0\n",
       "\\item[wstart\\textbackslash{}\\_h] 4349\n",
       "\\item[wstart\\textbackslash{}\\_m] 4349\n",
       "\\item[wend\\textbackslash{}\\_d] 4349\n",
       "\\item[jobsat] 4349\n",
       "\\item[fixedwt] 6505\n",
       "\\item[wtime] 10960\n",
       "\\item[wspacesat] 4349\n",
       "\\item[wsat] 4349\n",
       "\\item[marri] 0\n",
       "\\item[childbirth] 11623\n",
       "\\item[jobty] 4349\n",
       "\\item[gend] 0\n",
       "\\item[wbonus] 6505\n",
       "\\item[birth] 0\n",
       "\\item[com\\textbackslash{}\\_type] 6505\n",
       "\\end{description*}\n"
      ],
      "text/markdown": [
       "pid\n",
       ":   0wstart_h\n",
       ":   4349wstart_m\n",
       ":   4349wend_d\n",
       ":   4349jobsat\n",
       ":   4349fixedwt\n",
       ":   6505wtime\n",
       ":   10960wspacesat\n",
       ":   4349wsat\n",
       ":   4349marri\n",
       ":   0childbirth\n",
       ":   11623jobty\n",
       ":   4349gend\n",
       ":   0wbonus\n",
       ":   6505birth\n",
       ":   0com_type\n",
       ":   6505\n",
       "\n"
      ],
      "text/plain": [
       "       pid   wstart_h   wstart_m     wend_d     jobsat    fixedwt      wtime \n",
       "         0       4349       4349       4349       4349       6505      10960 \n",
       " wspacesat       wsat      marri childbirth      jobty       gend     wbonus \n",
       "      4349       4349          0      11623       4349          0       6505 \n",
       "     birth   com_type \n",
       "         0       6505 "
      ]
     },
     "metadata": {},
     "output_type": "display_data"
    }
   ],
   "source": [
    "colSums(is.na(rdt_i))"
   ]
  },
  {
   "cell_type": "code",
   "execution_count": 12,
   "metadata": {
    "scrolled": true
   },
   "outputs": [
    {
     "data": {
      "text/html": [
       "<table>\n",
       "<thead><tr><th scope=col>pid</th><th scope=col>wstart_h</th><th scope=col>wstart_m</th><th scope=col>wend_d</th><th scope=col>jobsat</th><th scope=col>fixedwt</th><th scope=col>wtime</th><th scope=col>wspacesat</th><th scope=col>wsat</th><th scope=col>marri</th><th scope=col>childbirth</th><th scope=col>jobty</th><th scope=col>gend</th><th scope=col>wbonus</th><th scope=col>birth</th><th scope=col>com_type</th></tr></thead>\n",
       "<tbody>\n",
       "\t<tr><td>101 </td><td> 7  </td><td> 0  </td><td> 1  </td><td> 4  </td><td> 2  </td><td>24  </td><td> 3  </td><td> 3  </td><td>5   </td><td>NA  </td><td> 3  </td><td>2   </td><td> 2  </td><td>1941</td><td> 6  </td></tr>\n",
       "\t<tr><td>102 </td><td> 8  </td><td>30  </td><td> 1  </td><td> 3  </td><td> 1  </td><td>NA  </td><td> 3  </td><td> 3  </td><td>5   </td><td>NA  </td><td> 3  </td><td>1   </td><td> 2  </td><td>1968</td><td> 1  </td></tr>\n",
       "\t<tr><td>203 </td><td>NA  </td><td>NA  </td><td>NA  </td><td>NA  </td><td>NA  </td><td>NA  </td><td>NA  </td><td>NA  </td><td>2   </td><td>NA  </td><td>NA  </td><td>2   </td><td>NA  </td><td>1979</td><td>NA  </td></tr>\n",
       "\t<tr><td>401 </td><td> 9  </td><td> 0  </td><td> 1  </td><td> 4  </td><td> 1  </td><td>NA  </td><td> 2  </td><td> 2  </td><td>2   </td><td>NA  </td><td> 1  </td><td>1   </td><td> 2  </td><td>1970</td><td> 3  </td></tr>\n",
       "\t<tr><td>402 </td><td>13  </td><td> 0  </td><td> 1  </td><td> 4  </td><td>NA  </td><td>NA  </td><td> 2  </td><td> 2  </td><td>2   </td><td>NA  </td><td> 4  </td><td>2   </td><td>NA  </td><td>1969</td><td>NA  </td></tr>\n",
       "\t<tr><td>902 </td><td> 9  </td><td> 0  </td><td> 1  </td><td> 4  </td><td> 1  </td><td>NA  </td><td> 2  </td><td> 2  </td><td>2   </td><td>NA  </td><td> 1  </td><td>2   </td><td> 2  </td><td>1970</td><td> 4  </td></tr>\n",
       "</tbody>\n",
       "</table>\n"
      ],
      "text/latex": [
       "\\begin{tabular}{r|llllllllllllllll}\n",
       " pid & wstart\\_h & wstart\\_m & wend\\_d & jobsat & fixedwt & wtime & wspacesat & wsat & marri & childbirth & jobty & gend & wbonus & birth & com\\_type\\\\\n",
       "\\hline\n",
       "\t 101  &  7   &  0   &  1   &  4   &  2   & 24   &  3   &  3   & 5    & NA   &  3   & 2    &  2   & 1941 &  6  \\\\\n",
       "\t 102  &  8   & 30   &  1   &  3   &  1   & NA   &  3   &  3   & 5    & NA   &  3   & 1    &  2   & 1968 &  1  \\\\\n",
       "\t 203  & NA   & NA   & NA   & NA   & NA   & NA   & NA   & NA   & 2    & NA   & NA   & 2    & NA   & 1979 & NA  \\\\\n",
       "\t 401  &  9   &  0   &  1   &  4   &  1   & NA   &  2   &  2   & 2    & NA   &  1   & 1    &  2   & 1970 &  3  \\\\\n",
       "\t 402  & 13   &  0   &  1   &  4   & NA   & NA   &  2   &  2   & 2    & NA   &  4   & 2    & NA   & 1969 & NA  \\\\\n",
       "\t 902  &  9   &  0   &  1   &  4   &  1   & NA   &  2   &  2   & 2    & NA   &  1   & 2    &  2   & 1970 &  4  \\\\\n",
       "\\end{tabular}\n"
      ],
      "text/markdown": [
       "\n",
       "pid | wstart_h | wstart_m | wend_d | jobsat | fixedwt | wtime | wspacesat | wsat | marri | childbirth | jobty | gend | wbonus | birth | com_type | \n",
       "|---|---|---|---|---|---|\n",
       "| 101  |  7   |  0   |  1   |  4   |  2   | 24   |  3   |  3   | 5    | NA   |  3   | 2    |  2   | 1941 |  6   | \n",
       "| 102  |  8   | 30   |  1   |  3   |  1   | NA   |  3   |  3   | 5    | NA   |  3   | 1    |  2   | 1968 |  1   | \n",
       "| 203  | NA   | NA   | NA   | NA   | NA   | NA   | NA   | NA   | 2    | NA   | NA   | 2    | NA   | 1979 | NA   | \n",
       "| 401  |  9   |  0   |  1   |  4   |  1   | NA   |  2   |  2   | 2    | NA   |  1   | 1    |  2   | 1970 |  3   | \n",
       "| 402  | 13   |  0   |  1   |  4   | NA   | NA   |  2   |  2   | 2    | NA   |  4   | 2    | NA   | 1969 | NA   | \n",
       "| 902  |  9   |  0   |  1   |  4   |  1   | NA   |  2   |  2   | 2    | NA   |  1   | 2    |  2   | 1970 |  4   | \n",
       "\n",
       "\n"
      ],
      "text/plain": [
       "  pid wstart_h wstart_m wend_d jobsat fixedwt wtime wspacesat wsat marri\n",
       "1 101  7        0        1      4      2      24     3         3   5    \n",
       "2 102  8       30        1      3      1      NA     3         3   5    \n",
       "3 203 NA       NA       NA     NA     NA      NA    NA        NA   2    \n",
       "4 401  9        0        1      4      1      NA     2         2   2    \n",
       "5 402 13        0        1      4     NA      NA     2         2   2    \n",
       "6 902  9        0        1      4      1      NA     2         2   2    \n",
       "  childbirth jobty gend wbonus birth com_type\n",
       "1 NA          3    2     2     1941   6      \n",
       "2 NA          3    1     2     1968   1      \n",
       "3 NA         NA    2    NA     1979  NA      \n",
       "4 NA          1    1     2     1970   3      \n",
       "5 NA          4    2    NA     1969  NA      \n",
       "6 NA          1    2     2     1970   4      "
      ]
     },
     "metadata": {},
     "output_type": "display_data"
    }
   ],
   "source": [
    "head(rdt_i)"
   ]
  },
  {
   "cell_type": "markdown",
   "metadata": {},
   "source": [
    "```rdt_i```는 ```pid```를 ```key```로 한 inner join이기 때문에 ```pid```의 ```NA```는 0이다.   \n",
    "우리의 설명변수인 ```wstart_h```와 ```wstart_m```에 해당하지 않거나(```NA```), 모름/무응답(```-1```)인 사례는 연구관심 밖이므로, 이후 클리닝에서 제거하도록 하자."
   ]
  },
  {
   "cell_type": "markdown",
   "metadata": {},
   "source": [
    "### 설명변수 클리닝"
   ]
  },
  {
   "cell_type": "code",
   "execution_count": 13,
   "metadata": {},
   "outputs": [],
   "source": [
    "nrdt_i <- rdt_i\n",
    "nrdt_i$nwstart_h <- ifelse(nrdt_i$wstart_h == -1, NA, nrdt_i$wstart_h)\n",
    "nrdt_i$nwstart_m <- ifelse(nrdt_i$wstart_m == -1, NA, nrdt_i$wstart_m)"
   ]
  },
  {
   "cell_type": "markdown",
   "metadata": {},
   "source": [
    "```ifelse```문을 활용해 ```nrdt_i```의 ```wstart_h```가 ```-1```(모름/무응답) 인 경우 ```NA```, 그렇지 않으면 원래 ```wstart_h``` 값을 주도록 했다. (```wstart_m```)의 경우도 마찬가지로 수행했다."
   ]
  },
  {
   "cell_type": "code",
   "execution_count": 14,
   "metadata": {},
   "outputs": [
    {
     "data": {
      "text/html": [
       "<dl class=dl-horizontal>\n",
       "\t<dt>pid</dt>\n",
       "\t\t<dd>0</dd>\n",
       "\t<dt>wstart_h</dt>\n",
       "\t\t<dd>0</dd>\n",
       "\t<dt>wstart_m</dt>\n",
       "\t\t<dd>0</dd>\n",
       "\t<dt>wend_d</dt>\n",
       "\t\t<dd>0</dd>\n",
       "\t<dt>jobsat</dt>\n",
       "\t\t<dd>0</dd>\n",
       "\t<dt>fixedwt</dt>\n",
       "\t\t<dd>2128</dd>\n",
       "\t<dt>wtime</dt>\n",
       "\t\t<dd>6539</dd>\n",
       "\t<dt>wspacesat</dt>\n",
       "\t\t<dd>0</dd>\n",
       "\t<dt>wsat</dt>\n",
       "\t\t<dd>0</dd>\n",
       "\t<dt>marri</dt>\n",
       "\t\t<dd>0</dd>\n",
       "\t<dt>childbirth</dt>\n",
       "\t\t<dd>7210</dd>\n",
       "\t<dt>jobty</dt>\n",
       "\t\t<dd>0</dd>\n",
       "\t<dt>gend</dt>\n",
       "\t\t<dd>0</dd>\n",
       "\t<dt>wbonus</dt>\n",
       "\t\t<dd>2128</dd>\n",
       "\t<dt>birth</dt>\n",
       "\t\t<dd>0</dd>\n",
       "\t<dt>com_type</dt>\n",
       "\t\t<dd>2128</dd>\n",
       "\t<dt>nwstart_h</dt>\n",
       "\t\t<dd>0</dd>\n",
       "\t<dt>nwstart_m</dt>\n",
       "\t\t<dd>0</dd>\n",
       "</dl>\n"
      ],
      "text/latex": [
       "\\begin{description*}\n",
       "\\item[pid] 0\n",
       "\\item[wstart\\textbackslash{}\\_h] 0\n",
       "\\item[wstart\\textbackslash{}\\_m] 0\n",
       "\\item[wend\\textbackslash{}\\_d] 0\n",
       "\\item[jobsat] 0\n",
       "\\item[fixedwt] 2128\n",
       "\\item[wtime] 6539\n",
       "\\item[wspacesat] 0\n",
       "\\item[wsat] 0\n",
       "\\item[marri] 0\n",
       "\\item[childbirth] 7210\n",
       "\\item[jobty] 0\n",
       "\\item[gend] 0\n",
       "\\item[wbonus] 2128\n",
       "\\item[birth] 0\n",
       "\\item[com\\textbackslash{}\\_type] 2128\n",
       "\\item[nwstart\\textbackslash{}\\_h] 0\n",
       "\\item[nwstart\\textbackslash{}\\_m] 0\n",
       "\\end{description*}\n"
      ],
      "text/markdown": [
       "pid\n",
       ":   0wstart_h\n",
       ":   0wstart_m\n",
       ":   0wend_d\n",
       ":   0jobsat\n",
       ":   0fixedwt\n",
       ":   2128wtime\n",
       ":   6539wspacesat\n",
       ":   0wsat\n",
       ":   0marri\n",
       ":   0childbirth\n",
       ":   7210jobty\n",
       ":   0gend\n",
       ":   0wbonus\n",
       ":   2128birth\n",
       ":   0com_type\n",
       ":   2128nwstart_h\n",
       ":   0nwstart_m\n",
       ":   0\n",
       "\n"
      ],
      "text/plain": [
       "       pid   wstart_h   wstart_m     wend_d     jobsat    fixedwt      wtime \n",
       "         0          0          0          0          0       2128       6539 \n",
       " wspacesat       wsat      marri childbirth      jobty       gend     wbonus \n",
       "         0          0          0       7210          0          0       2128 \n",
       "     birth   com_type  nwstart_h  nwstart_m \n",
       "         0       2128          0          0 "
      ]
     },
     "metadata": {},
     "output_type": "display_data"
    }
   ],
   "source": [
    "nrdt_i <- nrdt_i[complete.cases(nrdt_i[ , c(\"nwstart_h\", \"nwstart_m\")]), ]\n",
    "colSums(is.na(nrdt_i))"
   ]
  },
  {
   "cell_type": "markdown",
   "metadata": {},
   "source": [
    "```complete.cases```를 활용하여 ```nwstart_h```와 ```nwstart_m```에 ```NA```가 있는 행을 제거했다. (모름/무응답에 해당하는 ```-1```도 우리가 위에서 ```NA```로 만들었으므로, 이것도 제거된다.)"
   ]
  },
  {
   "cell_type": "code",
   "execution_count": 15,
   "metadata": {
    "scrolled": true
   },
   "outputs": [
    {
     "data": {
      "text/html": [
       "<table>\n",
       "<thead><tr><th></th><th scope=col>pid</th><th scope=col>wstart_h</th><th scope=col>wstart_m</th><th scope=col>wend_d</th><th scope=col>jobsat</th><th scope=col>fixedwt</th><th scope=col>wtime</th><th scope=col>wspacesat</th><th scope=col>wsat</th><th scope=col>marri</th><th scope=col>childbirth</th><th scope=col>jobty</th><th scope=col>gend</th><th scope=col>wbonus</th><th scope=col>birth</th><th scope=col>com_type</th><th scope=col>nwstart_h</th><th scope=col>nwstart_m</th></tr></thead>\n",
       "<tbody>\n",
       "\t<tr><th scope=row>1</th><td> 101</td><td> 7  </td><td> 0  </td><td>1   </td><td>4   </td><td> 2  </td><td>24  </td><td>3   </td><td>3   </td><td>5   </td><td>NA  </td><td>3   </td><td>2   </td><td> 2  </td><td>1941</td><td> 6  </td><td> 7  </td><td> 0  </td></tr>\n",
       "\t<tr><th scope=row>2</th><td> 102</td><td> 8  </td><td>30  </td><td>1   </td><td>3   </td><td> 1  </td><td>NA  </td><td>3   </td><td>3   </td><td>5   </td><td>NA  </td><td>3   </td><td>1   </td><td> 2  </td><td>1968</td><td> 1  </td><td> 8  </td><td>30  </td></tr>\n",
       "\t<tr><th scope=row>4</th><td> 401</td><td> 9  </td><td> 0  </td><td>1   </td><td>4   </td><td> 1  </td><td>NA  </td><td>2   </td><td>2   </td><td>2   </td><td>NA  </td><td>1   </td><td>1   </td><td> 2  </td><td>1970</td><td> 3  </td><td> 9  </td><td> 0  </td></tr>\n",
       "\t<tr><th scope=row>5</th><td> 402</td><td>13  </td><td> 0  </td><td>1   </td><td>4   </td><td>NA  </td><td>NA  </td><td>2   </td><td>2   </td><td>2   </td><td>NA  </td><td>4   </td><td>2   </td><td>NA  </td><td>1969</td><td>NA  </td><td>13  </td><td> 0  </td></tr>\n",
       "\t<tr><th scope=row>6</th><td> 902</td><td> 9  </td><td> 0  </td><td>1   </td><td>4   </td><td> 1  </td><td>NA  </td><td>2   </td><td>2   </td><td>2   </td><td>NA  </td><td>1   </td><td>2   </td><td> 2  </td><td>1970</td><td> 4  </td><td> 9  </td><td> 0  </td></tr>\n",
       "\t<tr><th scope=row>9</th><td>1101</td><td> 4  </td><td> 0  </td><td>1   </td><td>2   </td><td> 1  </td><td>NA  </td><td>3   </td><td>3   </td><td>2   </td><td>NA  </td><td>1   </td><td>1   </td><td> 2  </td><td>1957</td><td> 1  </td><td> 4  </td><td> 0  </td></tr>\n",
       "</tbody>\n",
       "</table>\n"
      ],
      "text/latex": [
       "\\begin{tabular}{r|llllllllllllllllll}\n",
       "  & pid & wstart\\_h & wstart\\_m & wend\\_d & jobsat & fixedwt & wtime & wspacesat & wsat & marri & childbirth & jobty & gend & wbonus & birth & com\\_type & nwstart\\_h & nwstart\\_m\\\\\n",
       "\\hline\n",
       "\t1 &  101 &  7   &  0   & 1    & 4    &  2   & 24   & 3    & 3    & 5    & NA   & 3    & 2    &  2   & 1941 &  6   &  7   &  0  \\\\\n",
       "\t2 &  102 &  8   & 30   & 1    & 3    &  1   & NA   & 3    & 3    & 5    & NA   & 3    & 1    &  2   & 1968 &  1   &  8   & 30  \\\\\n",
       "\t4 &  401 &  9   &  0   & 1    & 4    &  1   & NA   & 2    & 2    & 2    & NA   & 1    & 1    &  2   & 1970 &  3   &  9   &  0  \\\\\n",
       "\t5 &  402 & 13   &  0   & 1    & 4    & NA   & NA   & 2    & 2    & 2    & NA   & 4    & 2    & NA   & 1969 & NA   & 13   &  0  \\\\\n",
       "\t6 &  902 &  9   &  0   & 1    & 4    &  1   & NA   & 2    & 2    & 2    & NA   & 1    & 2    &  2   & 1970 &  4   &  9   &  0  \\\\\n",
       "\t9 & 1101 &  4   &  0   & 1    & 2    &  1   & NA   & 3    & 3    & 2    & NA   & 1    & 1    &  2   & 1957 &  1   &  4   &  0  \\\\\n",
       "\\end{tabular}\n"
      ],
      "text/markdown": [
       "\n",
       "| <!--/--> | pid | wstart_h | wstart_m | wend_d | jobsat | fixedwt | wtime | wspacesat | wsat | marri | childbirth | jobty | gend | wbonus | birth | com_type | nwstart_h | nwstart_m | \n",
       "|---|---|---|---|---|---|\n",
       "| 1 |  101 |  7   |  0   | 1    | 4    |  2   | 24   | 3    | 3    | 5    | NA   | 3    | 2    |  2   | 1941 |  6   |  7   |  0   | \n",
       "| 2 |  102 |  8   | 30   | 1    | 3    |  1   | NA   | 3    | 3    | 5    | NA   | 3    | 1    |  2   | 1968 |  1   |  8   | 30   | \n",
       "| 4 |  401 |  9   |  0   | 1    | 4    |  1   | NA   | 2    | 2    | 2    | NA   | 1    | 1    |  2   | 1970 |  3   |  9   |  0   | \n",
       "| 5 |  402 | 13   |  0   | 1    | 4    | NA   | NA   | 2    | 2    | 2    | NA   | 4    | 2    | NA   | 1969 | NA   | 13   |  0   | \n",
       "| 6 |  902 |  9   |  0   | 1    | 4    |  1   | NA   | 2    | 2    | 2    | NA   | 1    | 2    |  2   | 1970 |  4   |  9   |  0   | \n",
       "| 9 | 1101 |  4   |  0   | 1    | 2    |  1   | NA   | 3    | 3    | 2    | NA   | 1    | 1    |  2   | 1957 |  1   |  4   |  0   | \n",
       "\n",
       "\n"
      ],
      "text/plain": [
       "  pid  wstart_h wstart_m wend_d jobsat fixedwt wtime wspacesat wsat marri\n",
       "1  101  7        0       1      4       2      24    3         3    5    \n",
       "2  102  8       30       1      3       1      NA    3         3    5    \n",
       "4  401  9        0       1      4       1      NA    2         2    2    \n",
       "5  402 13        0       1      4      NA      NA    2         2    2    \n",
       "6  902  9        0       1      4       1      NA    2         2    2    \n",
       "9 1101  4        0       1      2       1      NA    3         3    2    \n",
       "  childbirth jobty gend wbonus birth com_type nwstart_h nwstart_m\n",
       "1 NA         3     2     2     1941   6        7         0       \n",
       "2 NA         3     1     2     1968   1        8        30       \n",
       "4 NA         1     1     2     1970   3        9         0       \n",
       "5 NA         4     2    NA     1969  NA       13         0       \n",
       "6 NA         1     2     2     1970   4        9         0       \n",
       "9 NA         1     1     2     1957   1        4         0       "
      ]
     },
     "metadata": {},
     "output_type": "display_data"
    }
   ],
   "source": [
    "head(nrdt_i)"
   ]
  },
  {
   "cell_type": "markdown",
   "metadata": {},
   "source": [
    "```wstart_h```와 ```wstart_m```에 ```NA```가 있는 행들이 제거되었다."
   ]
  },
  {
   "cell_type": "code",
   "execution_count": 16,
   "metadata": {},
   "outputs": [
    {
     "data": {
      "text/html": [
       "0"
      ],
      "text/latex": [
       "0"
      ],
      "text/markdown": [
       "0"
      ],
      "text/plain": [
       "[1] 0"
      ]
     },
     "metadata": {},
     "output_type": "display_data"
    },
    {
     "data": {
      "text/html": [
       "0"
      ],
      "text/latex": [
       "0"
      ],
      "text/markdown": [
       "0"
      ],
      "text/plain": [
       "[1] 0"
      ]
     },
     "metadata": {},
     "output_type": "display_data"
    }
   ],
   "source": [
    "sum(nrdt_i$nwstart_h == -1)\n",
    "sum(nrdt_i$nwstart_m == -1)"
   ]
  },
  {
   "cell_type": "markdown",
   "metadata": {},
   "source": [
    "```nwstart_h```와 ```nwstart_m```에서 ```NA```와 ```-1``` 모두 제거되었다."
   ]
  },
  {
   "cell_type": "code",
   "execution_count": 17,
   "metadata": {
    "scrolled": false
   },
   "outputs": [],
   "source": [
    "nrdt_i$nwstart_m <- ifelse(nrdt_i$nwstart_m == \"0\", \"00\", nrdt_i$nwstart_m)\n",
    "nrdt_i$nwstart_m <- ifelse(nrdt_i$nwstart_m == \"1\", \"01\", nrdt_i$nwstart_m)\n",
    "nrdt_i$nwstart_m <- ifelse(nrdt_i$nwstart_m == \"2\", \"02\", nrdt_i$nwstart_m)\n",
    "nrdt_i$nwstart_m <- ifelse(nrdt_i$nwstart_m == \"3\", \"03\", nrdt_i$nwstart_m)\n",
    "nrdt_i$nwstart_m <- ifelse(nrdt_i$nwstart_m == \"4\", \"04\", nrdt_i$nwstart_m)\n",
    "nrdt_i$nwstart_m <- ifelse(nrdt_i$nwstart_m == \"5\", \"05\", nrdt_i$nwstart_m)\n",
    "nrdt_i$nwstart_m <- ifelse(nrdt_i$nwstart_m == \"6\", \"06\", nrdt_i$nwstart_m)\n",
    "nrdt_i$nwstart_m <- ifelse(nrdt_i$nwstart_m == \"7\", \"07\", nrdt_i$nwstart_m)\n",
    "nrdt_i$nwstart_m <- ifelse(nrdt_i$nwstart_m == \"8\", \"08\", nrdt_i$nwstart_m)\n",
    "nrdt_i$nwstart_m <- ifelse(nrdt_i$nwstart_m == \"9\", \"09\", nrdt_i$nwstart_m)"
   ]
  },
  {
   "cell_type": "markdown",
   "metadata": {},
   "source": [
    "0분을 00분, 1분을 01분 등으로 만드는 작업을 실행했다."
   ]
  },
  {
   "cell_type": "code",
   "execution_count": 18,
   "metadata": {},
   "outputs": [],
   "source": [
    "nrdt_i$nwstart <- paste(nrdt_i$nwstart_h, nrdt_i$nwstart_m, sep = \"\")"
   ]
  },
  {
   "cell_type": "markdown",
   "metadata": {},
   "source": [
    "```nwstart_h```와 ```nwstart_m```을 ```nwstart```로 합쳐주자."
   ]
  },
  {
   "cell_type": "markdown",
   "metadata": {},
   "source": [
    "http://www.mpm.go.kr/mpm/info/infoService/BizService10/ 을 참고해서, (-Inf, 700), (700, 300), ... (1000, Inf)로 범주화하자."
   ]
  },
  {
   "cell_type": "code",
   "execution_count": 44,
   "metadata": {},
   "outputs": [],
   "source": [
    "nrdt_i$nwstart_c <- cut(nrdt_i$nwstart,\n",
    "                       breaks = c(-Inf, 700, 730, 800, 830, 900, 930, 1000, Inf),\n",
    "                       right = FALSE, labels = c(\"A\", \"B\", \"C\", \"D\", \"E\", \"F\", \"G\", \"H\"))"
   ]
  },
  {
   "cell_type": "markdown",
   "metadata": {},
   "source": [
    "A : 7시 이전    \n",
    "B : 7시 ~ 7시 30분   \n",
    "C : 7시 30분 ~ 8시   \n",
    "D : 8시 ~ 8시 30분    \n",
    "E : 8시 30분 ~ 9시    \n",
    "F : 9시 ~ 9시 30분   \n",
    "G : 9시 30분 ~ 10시  \n",
    "H : 10시 이후     \n",
    "    \n",
    "로 범주화했다."
   ]
  },
  {
   "cell_type": "code",
   "execution_count": 42,
   "metadata": {},
   "outputs": [
    {
     "data": {
      "text/html": [
       "<dl class=dl-horizontal>\n",
       "\t<dt>A</dt>\n",
       "\t\t<dd>536</dd>\n",
       "\t<dt>B</dt>\n",
       "\t\t<dd>438</dd>\n",
       "\t<dt>C</dt>\n",
       "\t\t<dd>214</dd>\n",
       "\t<dt>D</dt>\n",
       "\t\t<dd>1157</dd>\n",
       "\t<dt>E</dt>\n",
       "\t\t<dd>1090</dd>\n",
       "\t<dt>F</dt>\n",
       "\t\t<dd>2210</dd>\n",
       "\t<dt>G</dt>\n",
       "\t\t<dd>208</dd>\n",
       "\t<dt>H</dt>\n",
       "\t\t<dd>1380</dd>\n",
       "</dl>\n"
      ],
      "text/latex": [
       "\\begin{description*}\n",
       "\\item[A] 536\n",
       "\\item[B] 438\n",
       "\\item[C] 214\n",
       "\\item[D] 1157\n",
       "\\item[E] 1090\n",
       "\\item[F] 2210\n",
       "\\item[G] 208\n",
       "\\item[H] 1380\n",
       "\\end{description*}\n"
      ],
      "text/markdown": [
       "A\n",
       ":   536B\n",
       ":   438C\n",
       ":   214D\n",
       ":   1157E\n",
       ":   1090F\n",
       ":   2210G\n",
       ":   208H\n",
       ":   1380\n",
       "\n"
      ],
      "text/plain": [
       "   A    B    C    D    E    F    G    H \n",
       " 536  438  214 1157 1090 2210  208 1380 "
      ]
     },
     "metadata": {},
     "output_type": "display_data"
    }
   ],
   "source": [
    "summary(nrdt_i$nwstart_c)"
   ]
  },
  {
   "cell_type": "markdown",
   "metadata": {},
   "source": [
    "```summary``` 함수로 각 범주별 사례수를 확인 가능하며"
   ]
  },
  {
   "cell_type": "code",
   "execution_count": 43,
   "metadata": {},
   "outputs": [
    {
     "data": {
      "image/png": "[encoded data removed]",
      "text/plain": [
       "plot without title"
      ]
     },
     "metadata": {},
     "output_type": "display_data"
    }
   ],
   "source": [
    "plot(nrdt_i$nwstart_c)"
   ]
  },
  {
   "cell_type": "markdown",
   "metadata": {},
   "source": [
    "```plot```함수로 막대그래프로 볼 수도 있다."
   ]
  },
  {
   "cell_type": "markdown",
   "metadata": {},
   "source": [
    "```nrdt_i$nwstart_c```로 출근 시간을 범주화하였다."
   ]
  }
 ],
 "metadata": {
  "kernelspec": {
   "display_name": "R",
   "language": "R",
   "name": "ir"
  },
  "language_info": {
   "codemirror_mode": "r",
   "file_extension": ".r",
   "mimetype": "text/x-r-source",
   "name": "R",
   "pygments_lexer": "r",
   "version": "3.5.1"
  }
 },
 "nbformat": 4,
 "nbformat_minor": 2
}
