{
 "cells": [
  {
   "cell_type": "markdown",
   "metadata": {},
   "source": [
    "필요한 패키지 ```foreign```, ```dplyr``` 설치"
   ]
  },
  {
   "cell_type": "code",
   "execution_count": 1,
   "metadata": {
    "scrolled": true
   },
   "outputs": [
    {
     "name": "stderr",
     "output_type": "stream",
     "text": [
      "Warning message:\n",
      "\"unable to access index for repository http://www.stats.ox.ac.uk/pub/RWin/bin/windows/contrib/3.5:\n",
      "  URL 'http://www.stats.ox.ac.uk/pub/RWin/bin/windows/contrib/3.5/PACKAGES'를 열 수 없습니다\""
     ]
    },
    {
     "name": "stdout",
     "output_type": "stream",
     "text": [
      "package 'foreign' successfully unpacked and MD5 sums checked\n",
      "\n",
      "The downloaded binary packages are in\n",
      "\tC:\\Users\\eunee\\AppData\\Local\\Temp\\RtmpQlO1LR\\downloaded_packages\n"
     ]
    },
    {
     "name": "stderr",
     "output_type": "stream",
     "text": [
      "Warning message:\n",
      "\"unable to access index for repository http://www.stats.ox.ac.uk/pub/RWin/bin/windows/contrib/3.5:\n",
      "  URL 'http://www.stats.ox.ac.uk/pub/RWin/bin/windows/contrib/3.5/PACKAGES'를 열 수 없습니다\""
     ]
    },
    {
     "name": "stdout",
     "output_type": "stream",
     "text": [
      "package 'dplyr' successfully unpacked and MD5 sums checked\n",
      "\n",
      "The downloaded binary packages are in\n",
      "\tC:\\Users\\eunee\\AppData\\Local\\Temp\\RtmpQlO1LR\\downloaded_packages\n"
     ]
    },
    {
     "name": "stderr",
     "output_type": "stream",
     "text": [
      "\n",
      "Attaching package: 'dplyr'\n",
      "\n",
      "The following objects are masked from 'package:stats':\n",
      "\n",
      "    filter, lag\n",
      "\n",
      "The following objects are masked from 'package:base':\n",
      "\n",
      "    intersect, setdiff, setequal, union\n",
      "\n"
     ]
    }
   ],
   "source": [
    "install.packages(\"foreign\")\n",
    "install.packages(\"dplyr\")\n",
    "library(foreign)\n",
    "library(dplyr)"
   ]
  },
  {
   "cell_type": "markdown",
   "metadata": {},
   "source": [
    "부가조사, 개인별 조사 불러들이기"
   ]
  },
  {
   "cell_type": "code",
   "execution_count": 24,
   "metadata": {},
   "outputs": [],
   "source": [
    "dt17_a <- read.spss(\"C:/Users/eunee/khu_sda_project/data/klips17a.sav\",\n",
    "                   use.value.labels = FALSE, to.data.frame = TRUE)\n",
    "dt17_p <- read.spss(\"C:/Users/eunee/khu_sda_project/data/klips17p_i.sav\",\n",
    "                   use.value.labels = FALSE, to.data.frame = TRUE)"
   ]
  },
  {
   "cell_type": "markdown",
   "metadata": {},
   "source": [
    "### 부가조사 : ```rdt_a```"
   ]
  },
  {
   "cell_type": "code",
   "execution_count": 25,
   "metadata": {
    "scrolled": true
   },
   "outputs": [],
   "source": [
    "rdt_a <- subset(dt17_a,\n",
    "                select = c(pid, a177102, a177103, a177105, a177106))\n",
    "names(rdt_a) <- c(\"pid\", \"wstart_h\", \"wstart_m\", \"wend_h\", \"wend_m\")"
   ]
  },
  {
   "cell_type": "code",
   "execution_count": 6,
   "metadata": {},
   "outputs": [
    {
     "name": "stdout",
     "output_type": "stream",
     "text": [
      "'data.frame':\t11686 obs. of  5 variables:\n",
      " $ pid     : num  101 401 402 902 501401 ...\n",
      " $ wstart_h: num  7 9 13 9 9 NA 4 10 9 NA ...\n",
      " $ wstart_m: num  0 0 0 0 0 NA 0 30 0 NA ...\n",
      " $ wend_h  : num  18 18 15 17 18 NA 14 22 18 NA ...\n",
      " $ wend_m  : num  0 0 0 0 0 NA 0 30 0 NA ...\n"
     ]
    }
   ],
   "source": [
    "str(rdt_a)"
   ]
  },
  {
   "cell_type": "markdown",
   "metadata": {},
   "source": [
    "### 개인별 : ```rdt_p```"
   ]
  },
  {
   "cell_type": "code",
   "execution_count": 26,
   "metadata": {
    "scrolled": true
   },
   "outputs": [],
   "source": [
    "rdt_p <- subset(dt17_p,\n",
    "                select = c(pid, p171003, p174321, p170101, p170104, p170401, p171642, p170314, p170110))\n",
    "names(rdt_p) <- c(\"pid\", \"fixedwt\", \"wspacesat\", \"gend\", \"birth\", \"comp_type\", \"wage\", \"jobty\", \"educ\")"
   ]
  },
  {
   "cell_type": "code",
   "execution_count": 8,
   "metadata": {},
   "outputs": [
    {
     "name": "stdout",
     "output_type": "stream",
     "text": [
      "'data.frame':\t13168 obs. of  9 variables:\n",
      " $ pid      : num  101 102 201 202 203 401 402 602 902 903 ...\n",
      " $ fixedwt  : num  2 1 1 1 NA 1 NA 1 1 NA ...\n",
      " $ wspacesat: num  3 3 3 3 NA 2 2 3 2 NA ...\n",
      " $ gend     : num  2 1 1 2 2 1 2 2 2 2 ...\n",
      " $ birth    : num  1941 1968 1951 1954 1979 ...\n",
      " $ comp_type: num  6 1 1 1 NA 3 NA 3 4 NA ...\n",
      " $ wage     : num  25 250 102 82 NA 500 NA 22 300 NA ...\n",
      " $ jobty    : num  3 3 3 2 NA 1 4 2 1 NA ...\n",
      " $ educ     : num  4 5 5 5 6 7 6 3 8 7 ...\n"
     ]
    }
   ],
   "source": [
    "str(rdt_p)"
   ]
  },
  {
   "cell_type": "markdown",
   "metadata": {},
   "source": [
    "### ```rdt_i``` : ```rdt_a```, ```rdt_p``` 에 대한 merge(inner join)"
   ]
  },
  {
   "cell_type": "markdown",
   "metadata": {},
   "source": [
    "```pid``` 기준으로 inner join"
   ]
  },
  {
   "cell_type": "code",
   "execution_count": 27,
   "metadata": {
    "scrolled": true
   },
   "outputs": [],
   "source": [
    "rdt_i <- merge(rdt_a, rdt_p, by = \"pid\")"
   ]
  },
  {
   "cell_type": "code",
   "execution_count": 10,
   "metadata": {},
   "outputs": [
    {
     "name": "stdout",
     "output_type": "stream",
     "text": [
      "'data.frame':\t11679 obs. of  13 variables:\n",
      " $ pid      : num  101 102 203 401 402 ...\n",
      " $ wstart_h : num  7 8 NA 9 13 9 NA NA 4 10 ...\n",
      " $ wstart_m : num  0 30 NA 0 0 0 NA NA 0 30 ...\n",
      " $ wend_h   : num  18 18 NA 18 15 17 NA NA 14 22 ...\n",
      " $ wend_m   : num  0 0 NA 0 0 0 NA NA 0 30 ...\n",
      " $ fixedwt  : num  2 1 NA 1 NA 1 NA NA 1 1 ...\n",
      " $ wspacesat: num  3 3 NA 2 2 2 NA NA 3 3 ...\n",
      " $ gend     : num  2 1 2 1 2 2 2 2 1 2 ...\n",
      " $ birth    : num  1941 1968 1979 1970 1969 ...\n",
      " $ comp_type: num  6 1 NA 3 NA 4 NA NA 1 1 ...\n",
      " $ wage     : num  25 250 NA 500 NA 300 NA NA 70 130 ...\n",
      " $ jobty    : num  3 3 NA 1 4 1 NA NA 1 1 ...\n",
      " $ educ     : num  4 5 6 7 6 8 7 2 3 4 ...\n"
     ]
    }
   ],
   "source": [
    "str(rdt_i)"
   ]
  },
  {
   "cell_type": "markdown",
   "metadata": {},
   "source": [
    "### ```rdt_i```의 ```NA``` 알아보기 "
   ]
  },
  {
   "cell_type": "code",
   "execution_count": 11,
   "metadata": {},
   "outputs": [
    {
     "data": {
      "text/html": [
       "<dl class=dl-horizontal>\n",
       "\t<dt>pid</dt>\n",
       "\t\t<dd>0</dd>\n",
       "\t<dt>wstart_h</dt>\n",
       "\t\t<dd>4349</dd>\n",
       "\t<dt>wstart_m</dt>\n",
       "\t\t<dd>4349</dd>\n",
       "\t<dt>wend_h</dt>\n",
       "\t\t<dd>4349</dd>\n",
       "\t<dt>wend_m</dt>\n",
       "\t\t<dd>4349</dd>\n",
       "\t<dt>fixedwt</dt>\n",
       "\t\t<dd>6505</dd>\n",
       "\t<dt>wspacesat</dt>\n",
       "\t\t<dd>4349</dd>\n",
       "\t<dt>gend</dt>\n",
       "\t\t<dd>0</dd>\n",
       "\t<dt>birth</dt>\n",
       "\t\t<dd>0</dd>\n",
       "\t<dt>comp_type</dt>\n",
       "\t\t<dd>6505</dd>\n",
       "\t<dt>wage</dt>\n",
       "\t\t<dd>6515</dd>\n",
       "\t<dt>jobty</dt>\n",
       "\t\t<dd>4349</dd>\n",
       "\t<dt>educ</dt>\n",
       "\t\t<dd>0</dd>\n",
       "</dl>\n"
      ],
      "text/latex": [
       "\\begin{description*}\n",
       "\\item[pid] 0\n",
       "\\item[wstart\\textbackslash{}\\_h] 4349\n",
       "\\item[wstart\\textbackslash{}\\_m] 4349\n",
       "\\item[wend\\textbackslash{}\\_h] 4349\n",
       "\\item[wend\\textbackslash{}\\_m] 4349\n",
       "\\item[fixedwt] 6505\n",
       "\\item[wspacesat] 4349\n",
       "\\item[gend] 0\n",
       "\\item[birth] 0\n",
       "\\item[comp\\textbackslash{}\\_type] 6505\n",
       "\\item[wage] 6515\n",
       "\\item[jobty] 4349\n",
       "\\item[educ] 0\n",
       "\\end{description*}\n"
      ],
      "text/markdown": [
       "pid\n",
       ":   0wstart_h\n",
       ":   4349wstart_m\n",
       ":   4349wend_h\n",
       ":   4349wend_m\n",
       ":   4349fixedwt\n",
       ":   6505wspacesat\n",
       ":   4349gend\n",
       ":   0birth\n",
       ":   0comp_type\n",
       ":   6505wage\n",
       ":   6515jobty\n",
       ":   4349educ\n",
       ":   0\n",
       "\n"
      ],
      "text/plain": [
       "      pid  wstart_h  wstart_m    wend_h    wend_m   fixedwt wspacesat      gend \n",
       "        0      4349      4349      4349      4349      6505      4349         0 \n",
       "    birth comp_type      wage     jobty      educ \n",
       "        0      6505      6515      4349         0 "
      ]
     },
     "metadata": {},
     "output_type": "display_data"
    }
   ],
   "source": [
    "colSums(is.na(rdt_i))"
   ]
  },
  {
   "cell_type": "code",
   "execution_count": 12,
   "metadata": {
    "scrolled": true
   },
   "outputs": [
    {
     "data": {
      "text/html": [
       "<table>\n",
       "<thead><tr><th scope=col>pid</th><th scope=col>wstart_h</th><th scope=col>wstart_m</th><th scope=col>wend_h</th><th scope=col>wend_m</th><th scope=col>fixedwt</th><th scope=col>wspacesat</th><th scope=col>gend</th><th scope=col>birth</th><th scope=col>comp_type</th><th scope=col>wage</th><th scope=col>jobty</th><th scope=col>educ</th></tr></thead>\n",
       "<tbody>\n",
       "\t<tr><td>101 </td><td> 7  </td><td> 0  </td><td>18  </td><td> 0  </td><td> 2  </td><td> 3  </td><td>2   </td><td>1941</td><td> 6  </td><td> 25 </td><td> 3  </td><td>4   </td></tr>\n",
       "\t<tr><td>102 </td><td> 8  </td><td>30  </td><td>18  </td><td> 0  </td><td> 1  </td><td> 3  </td><td>1   </td><td>1968</td><td> 1  </td><td>250 </td><td> 3  </td><td>5   </td></tr>\n",
       "\t<tr><td>203 </td><td>NA  </td><td>NA  </td><td>NA  </td><td>NA  </td><td>NA  </td><td>NA  </td><td>2   </td><td>1979</td><td>NA  </td><td> NA </td><td>NA  </td><td>6   </td></tr>\n",
       "\t<tr><td>401 </td><td> 9  </td><td> 0  </td><td>18  </td><td> 0  </td><td> 1  </td><td> 2  </td><td>1   </td><td>1970</td><td> 3  </td><td>500 </td><td> 1  </td><td>7   </td></tr>\n",
       "\t<tr><td>402 </td><td>13  </td><td> 0  </td><td>15  </td><td> 0  </td><td>NA  </td><td> 2  </td><td>2   </td><td>1969</td><td>NA  </td><td> NA </td><td> 4  </td><td>6   </td></tr>\n",
       "\t<tr><td>902 </td><td> 9  </td><td> 0  </td><td>17  </td><td> 0  </td><td> 1  </td><td> 2  </td><td>2   </td><td>1970</td><td> 4  </td><td>300 </td><td> 1  </td><td>8   </td></tr>\n",
       "</tbody>\n",
       "</table>\n"
      ],
      "text/latex": [
       "\\begin{tabular}{r|lllllllllllll}\n",
       " pid & wstart\\_h & wstart\\_m & wend\\_h & wend\\_m & fixedwt & wspacesat & gend & birth & comp\\_type & wage & jobty & educ\\\\\n",
       "\\hline\n",
       "\t 101  &  7   &  0   & 18   &  0   &  2   &  3   & 2    & 1941 &  6   &  25  &  3   & 4   \\\\\n",
       "\t 102  &  8   & 30   & 18   &  0   &  1   &  3   & 1    & 1968 &  1   & 250  &  3   & 5   \\\\\n",
       "\t 203  & NA   & NA   & NA   & NA   & NA   & NA   & 2    & 1979 & NA   &  NA  & NA   & 6   \\\\\n",
       "\t 401  &  9   &  0   & 18   &  0   &  1   &  2   & 1    & 1970 &  3   & 500  &  1   & 7   \\\\\n",
       "\t 402  & 13   &  0   & 15   &  0   & NA   &  2   & 2    & 1969 & NA   &  NA  &  4   & 6   \\\\\n",
       "\t 902  &  9   &  0   & 17   &  0   &  1   &  2   & 2    & 1970 &  4   & 300  &  1   & 8   \\\\\n",
       "\\end{tabular}\n"
      ],
      "text/markdown": [
       "\n",
       "pid | wstart_h | wstart_m | wend_h | wend_m | fixedwt | wspacesat | gend | birth | comp_type | wage | jobty | educ | \n",
       "|---|---|---|---|---|---|\n",
       "| 101  |  7   |  0   | 18   |  0   |  2   |  3   | 2    | 1941 |  6   |  25  |  3   | 4    | \n",
       "| 102  |  8   | 30   | 18   |  0   |  1   |  3   | 1    | 1968 |  1   | 250  |  3   | 5    | \n",
       "| 203  | NA   | NA   | NA   | NA   | NA   | NA   | 2    | 1979 | NA   |  NA  | NA   | 6    | \n",
       "| 401  |  9   |  0   | 18   |  0   |  1   |  2   | 1    | 1970 |  3   | 500  |  1   | 7    | \n",
       "| 402  | 13   |  0   | 15   |  0   | NA   |  2   | 2    | 1969 | NA   |  NA  |  4   | 6    | \n",
       "| 902  |  9   |  0   | 17   |  0   |  1   |  2   | 2    | 1970 |  4   | 300  |  1   | 8    | \n",
       "\n",
       "\n"
      ],
      "text/plain": [
       "  pid wstart_h wstart_m wend_h wend_m fixedwt wspacesat gend birth comp_type\n",
       "1 101  7        0       18      0      2       3        2    1941   6       \n",
       "2 102  8       30       18      0      1       3        1    1968   1       \n",
       "3 203 NA       NA       NA     NA     NA      NA        2    1979  NA       \n",
       "4 401  9        0       18      0      1       2        1    1970   3       \n",
       "5 402 13        0       15      0     NA       2        2    1969  NA       \n",
       "6 902  9        0       17      0      1       2        2    1970   4       \n",
       "  wage jobty educ\n",
       "1  25   3    4   \n",
       "2 250   3    5   \n",
       "3  NA  NA    6   \n",
       "4 500   1    7   \n",
       "5  NA   4    6   \n",
       "6 300   1    8   "
      ]
     },
     "metadata": {},
     "output_type": "display_data"
    }
   ],
   "source": [
    "head(rdt_i)"
   ]
  },
  {
   "cell_type": "markdown",
   "metadata": {},
   "source": [
    "```rdt_i```는 ```pid```를 ```key```로 한 inner join이기 때문에 ```pid```의 ```NA```는 0이다.   \n",
    "설명변수인 ```wstart_h```와 ```wstart_m```에 해당하지 않거나(```NA```), 모름/무응답(```-1```)인 사례는 연구관심 밖이므로 가장 먼저 제거가 필요하다."
   ]
  },
  {
   "cell_type": "markdown",
   "metadata": {},
   "source": [
    "## 설명변수(출근시간) 만들기"
   ]
  },
  {
   "cell_type": "code",
   "execution_count": 28,
   "metadata": {},
   "outputs": [],
   "source": [
    "nrdt_i <- rdt_i\n",
    "nrdt_i$nwstart_h <- ifelse(nrdt_i$wstart_h == -1, NA, nrdt_i$wstart_h)\n",
    "nrdt_i$nwstart_m <- ifelse(nrdt_i$wstart_m == -1, NA, nrdt_i$wstart_m)"
   ]
  },
  {
   "cell_type": "markdown",
   "metadata": {},
   "source": [
    "```ifelse```문을 활용해 ```nrdt_i```의 ```wstart_h```가 ```-1```(모름/무응답) 인 경우 ```NA```, 그렇지 않으면 원래 ```wstart_h``` 값을 주도록 했다. (```wstart_m```)의 경우도 마찬가지로 수행했다."
   ]
  },
  {
   "cell_type": "code",
   "execution_count": 29,
   "metadata": {},
   "outputs": [],
   "source": [
    "nrdt_i <- nrdt_i[complete.cases(nrdt_i[ , c(\"nwstart_h\", \"nwstart_m\")]), ]"
   ]
  },
  {
   "cell_type": "code",
   "execution_count": 30,
   "metadata": {},
   "outputs": [
    {
     "data": {
      "text/html": [
       "<dl class=dl-horizontal>\n",
       "\t<dt>pid</dt>\n",
       "\t\t<dd>0</dd>\n",
       "\t<dt>wstart_h</dt>\n",
       "\t\t<dd>0</dd>\n",
       "\t<dt>wstart_m</dt>\n",
       "\t\t<dd>0</dd>\n",
       "\t<dt>wend_h</dt>\n",
       "\t\t<dd>0</dd>\n",
       "\t<dt>wend_m</dt>\n",
       "\t\t<dd>0</dd>\n",
       "\t<dt>fixedwt</dt>\n",
       "\t\t<dd>2128</dd>\n",
       "\t<dt>wspacesat</dt>\n",
       "\t\t<dd>0</dd>\n",
       "\t<dt>gend</dt>\n",
       "\t\t<dd>0</dd>\n",
       "\t<dt>birth</dt>\n",
       "\t\t<dd>0</dd>\n",
       "\t<dt>comp_type</dt>\n",
       "\t\t<dd>2128</dd>\n",
       "\t<dt>wage</dt>\n",
       "\t\t<dd>2134</dd>\n",
       "\t<dt>jobty</dt>\n",
       "\t\t<dd>0</dd>\n",
       "\t<dt>educ</dt>\n",
       "\t\t<dd>0</dd>\n",
       "\t<dt>nwstart_h</dt>\n",
       "\t\t<dd>0</dd>\n",
       "\t<dt>nwstart_m</dt>\n",
       "\t\t<dd>0</dd>\n",
       "</dl>\n"
      ],
      "text/latex": [
       "\\begin{description*}\n",
       "\\item[pid] 0\n",
       "\\item[wstart\\textbackslash{}\\_h] 0\n",
       "\\item[wstart\\textbackslash{}\\_m] 0\n",
       "\\item[wend\\textbackslash{}\\_h] 0\n",
       "\\item[wend\\textbackslash{}\\_m] 0\n",
       "\\item[fixedwt] 2128\n",
       "\\item[wspacesat] 0\n",
       "\\item[gend] 0\n",
       "\\item[birth] 0\n",
       "\\item[comp\\textbackslash{}\\_type] 2128\n",
       "\\item[wage] 2134\n",
       "\\item[jobty] 0\n",
       "\\item[educ] 0\n",
       "\\item[nwstart\\textbackslash{}\\_h] 0\n",
       "\\item[nwstart\\textbackslash{}\\_m] 0\n",
       "\\end{description*}\n"
      ],
      "text/markdown": [
       "pid\n",
       ":   0wstart_h\n",
       ":   0wstart_m\n",
       ":   0wend_h\n",
       ":   0wend_m\n",
       ":   0fixedwt\n",
       ":   2128wspacesat\n",
       ":   0gend\n",
       ":   0birth\n",
       ":   0comp_type\n",
       ":   2128wage\n",
       ":   2134jobty\n",
       ":   0educ\n",
       ":   0nwstart_h\n",
       ":   0nwstart_m\n",
       ":   0\n",
       "\n"
      ],
      "text/plain": [
       "      pid  wstart_h  wstart_m    wend_h    wend_m   fixedwt wspacesat      gend \n",
       "        0         0         0         0         0      2128         0         0 \n",
       "    birth comp_type      wage     jobty      educ nwstart_h nwstart_m \n",
       "        0      2128      2134         0         0         0         0 "
      ]
     },
     "metadata": {},
     "output_type": "display_data"
    }
   ],
   "source": [
    "colSums(is.na(nrdt_i))"
   ]
  },
  {
   "cell_type": "markdown",
   "metadata": {},
   "source": [
    "```complete.cases```를 활용하여 ```nwstart_h```와 ```nwstart_m```에 ```NA```가 있는 행을 제거했다. (모름/무응답에 해당하는 ```-1```도 우리가 위에서 ```NA```로 만들었으므로 함께 제거된다.)"
   ]
  },
  {
   "cell_type": "code",
   "execution_count": 31,
   "metadata": {
    "scrolled": true
   },
   "outputs": [
    {
     "data": {
      "text/html": [
       "<table>\n",
       "<thead><tr><th></th><th scope=col>pid</th><th scope=col>wstart_h</th><th scope=col>wstart_m</th><th scope=col>wend_h</th><th scope=col>wend_m</th><th scope=col>fixedwt</th><th scope=col>wspacesat</th><th scope=col>gend</th><th scope=col>birth</th><th scope=col>comp_type</th><th scope=col>wage</th><th scope=col>jobty</th><th scope=col>educ</th><th scope=col>nwstart_h</th><th scope=col>nwstart_m</th></tr></thead>\n",
       "<tbody>\n",
       "\t<tr><th scope=row>1</th><td> 101</td><td> 7  </td><td> 0  </td><td>18  </td><td>0   </td><td> 2  </td><td>3   </td><td>2   </td><td>1941</td><td> 6  </td><td> 25 </td><td>3   </td><td>4   </td><td> 7  </td><td> 0  </td></tr>\n",
       "\t<tr><th scope=row>2</th><td> 102</td><td> 8  </td><td>30  </td><td>18  </td><td>0   </td><td> 1  </td><td>3   </td><td>1   </td><td>1968</td><td> 1  </td><td>250 </td><td>3   </td><td>5   </td><td> 8  </td><td>30  </td></tr>\n",
       "\t<tr><th scope=row>4</th><td> 401</td><td> 9  </td><td> 0  </td><td>18  </td><td>0   </td><td> 1  </td><td>2   </td><td>1   </td><td>1970</td><td> 3  </td><td>500 </td><td>1   </td><td>7   </td><td> 9  </td><td> 0  </td></tr>\n",
       "\t<tr><th scope=row>5</th><td> 402</td><td>13  </td><td> 0  </td><td>15  </td><td>0   </td><td>NA  </td><td>2   </td><td>2   </td><td>1969</td><td>NA  </td><td> NA </td><td>4   </td><td>6   </td><td>13  </td><td> 0  </td></tr>\n",
       "\t<tr><th scope=row>6</th><td> 902</td><td> 9  </td><td> 0  </td><td>17  </td><td>0   </td><td> 1  </td><td>2   </td><td>2   </td><td>1970</td><td> 4  </td><td>300 </td><td>1   </td><td>8   </td><td> 9  </td><td> 0  </td></tr>\n",
       "\t<tr><th scope=row>9</th><td>1101</td><td> 4  </td><td> 0  </td><td>14  </td><td>0   </td><td> 1  </td><td>3   </td><td>1   </td><td>1957</td><td> 1  </td><td> 70 </td><td>1   </td><td>3   </td><td> 4  </td><td> 0  </td></tr>\n",
       "</tbody>\n",
       "</table>\n"
      ],
      "text/latex": [
       "\\begin{tabular}{r|lllllllllllllll}\n",
       "  & pid & wstart\\_h & wstart\\_m & wend\\_h & wend\\_m & fixedwt & wspacesat & gend & birth & comp\\_type & wage & jobty & educ & nwstart\\_h & nwstart\\_m\\\\\n",
       "\\hline\n",
       "\t1 &  101 &  7   &  0   & 18   & 0    &  2   & 3    & 2    & 1941 &  6   &  25  & 3    & 4    &  7   &  0  \\\\\n",
       "\t2 &  102 &  8   & 30   & 18   & 0    &  1   & 3    & 1    & 1968 &  1   & 250  & 3    & 5    &  8   & 30  \\\\\n",
       "\t4 &  401 &  9   &  0   & 18   & 0    &  1   & 2    & 1    & 1970 &  3   & 500  & 1    & 7    &  9   &  0  \\\\\n",
       "\t5 &  402 & 13   &  0   & 15   & 0    & NA   & 2    & 2    & 1969 & NA   &  NA  & 4    & 6    & 13   &  0  \\\\\n",
       "\t6 &  902 &  9   &  0   & 17   & 0    &  1   & 2    & 2    & 1970 &  4   & 300  & 1    & 8    &  9   &  0  \\\\\n",
       "\t9 & 1101 &  4   &  0   & 14   & 0    &  1   & 3    & 1    & 1957 &  1   &  70  & 1    & 3    &  4   &  0  \\\\\n",
       "\\end{tabular}\n"
      ],
      "text/markdown": [
       "\n",
       "| <!--/--> | pid | wstart_h | wstart_m | wend_h | wend_m | fixedwt | wspacesat | gend | birth | comp_type | wage | jobty | educ | nwstart_h | nwstart_m | \n",
       "|---|---|---|---|---|---|\n",
       "| 1 |  101 |  7   |  0   | 18   | 0    |  2   | 3    | 2    | 1941 |  6   |  25  | 3    | 4    |  7   |  0   | \n",
       "| 2 |  102 |  8   | 30   | 18   | 0    |  1   | 3    | 1    | 1968 |  1   | 250  | 3    | 5    |  8   | 30   | \n",
       "| 4 |  401 |  9   |  0   | 18   | 0    |  1   | 2    | 1    | 1970 |  3   | 500  | 1    | 7    |  9   |  0   | \n",
       "| 5 |  402 | 13   |  0   | 15   | 0    | NA   | 2    | 2    | 1969 | NA   |  NA  | 4    | 6    | 13   |  0   | \n",
       "| 6 |  902 |  9   |  0   | 17   | 0    |  1   | 2    | 2    | 1970 |  4   | 300  | 1    | 8    |  9   |  0   | \n",
       "| 9 | 1101 |  4   |  0   | 14   | 0    |  1   | 3    | 1    | 1957 |  1   |  70  | 1    | 3    |  4   |  0   | \n",
       "\n",
       "\n"
      ],
      "text/plain": [
       "  pid  wstart_h wstart_m wend_h wend_m fixedwt wspacesat gend birth comp_type\n",
       "1  101  7        0       18     0       2      3         2    1941   6       \n",
       "2  102  8       30       18     0       1      3         1    1968   1       \n",
       "4  401  9        0       18     0       1      2         1    1970   3       \n",
       "5  402 13        0       15     0      NA      2         2    1969  NA       \n",
       "6  902  9        0       17     0       1      2         2    1970   4       \n",
       "9 1101  4        0       14     0       1      3         1    1957   1       \n",
       "  wage jobty educ nwstart_h nwstart_m\n",
       "1  25  3     4     7         0       \n",
       "2 250  3     5     8        30       \n",
       "4 500  1     7     9         0       \n",
       "5  NA  4     6    13         0       \n",
       "6 300  1     8     9         0       \n",
       "9  70  1     3     4         0       "
      ]
     },
     "metadata": {},
     "output_type": "display_data"
    }
   ],
   "source": [
    "head(nrdt_i)"
   ]
  },
  {
   "cell_type": "markdown",
   "metadata": {},
   "source": [
    "```wstart_h```와 ```wstart_m```에 ```NA```가 있는 행들이 제거되었다."
   ]
  },
  {
   "cell_type": "code",
   "execution_count": 32,
   "metadata": {},
   "outputs": [],
   "source": [
    "nrdt_i$nwstart_m <- as.numeric(nrdt_i$nwstart_m)\n",
    "nrdt_i$wstart_m <- (nrdt_i$nwstart_h)*60 + (nrdt_i$nwstart_m)\n",
    "nrdt_i$wstart_h <- (nrdt_i$wstart_m)/60\n",
    "nrdt_i$wstart <- nrdt_i$wstart_h"
   ]
  },
  {
   "cell_type": "code",
   "execution_count": 33,
   "metadata": {
    "scrolled": true
   },
   "outputs": [
    {
     "data": {
      "text/plain": [
       "   Min. 1st Qu.  Median    Mean 3rd Qu.    Max. \n",
       "  0.000   8.000   9.000   9.071   9.000  23.250 "
      ]
     },
     "metadata": {},
     "output_type": "display_data"
    }
   ],
   "source": [
    "summary(nrdt_i$wstart)"
   ]
  },
  {
   "cell_type": "markdown",
   "metadata": {},
   "source": [
    "설명변수 클리닝을 ```nrdt_i$wstart```로 완료하였다."
   ]
  },
  {
   "cell_type": "markdown",
   "metadata": {},
   "source": [
    "## 종속변수(전반적일자리만족도) 클리닝"
   ]
  },
  {
   "cell_type": "code",
   "execution_count": 34,
   "metadata": {},
   "outputs": [
    {
     "data": {
      "text/plain": [
       "   Min. 1st Qu.  Median    Mean 3rd Qu.    Max. \n",
       " -1.000   2.000   3.000   2.698   3.000   5.000 "
      ]
     },
     "metadata": {},
     "output_type": "display_data"
    }
   ],
   "source": [
    "summary(nrdt_i$wspacesat)"
   ]
  },
  {
   "cell_type": "markdown",
   "metadata": {},
   "source": [
    "모름/무응답 을 ```NA```로 처리해야 한다."
   ]
  },
  {
   "cell_type": "code",
   "execution_count": 35,
   "metadata": {},
   "outputs": [],
   "source": [
    "nrdt_i$nwspacesat <- ifelse(nrdt_i$wspacesat == -1, NA, nrdt_i$wspacesat)"
   ]
  },
  {
   "cell_type": "markdown",
   "metadata": {},
   "source": [
    "```-1```인 경우 ```NA```로, 그렇지 않을 경우 ```nrdt_i$wspacesat```을 그대로 가진다."
   ]
  },
  {
   "cell_type": "code",
   "execution_count": 36,
   "metadata": {},
   "outputs": [],
   "source": [
    "nrdt_i <- nrdt_i[complete.cases(nrdt_i[ , \"nwspacesat\"]), ]"
   ]
  },
  {
   "cell_type": "markdown",
   "metadata": {},
   "source": [
    "역코딩을 실시한다."
   ]
  },
  {
   "cell_type": "code",
   "execution_count": 37,
   "metadata": {},
   "outputs": [],
   "source": [
    "nrdt_i$nwspacesat_c <- c(5,4,3,2,1)[match(nrdt_i$nwspacesat, c(1,2,3,4,5))]"
   ]
  },
  {
   "cell_type": "code",
   "execution_count": 38,
   "metadata": {},
   "outputs": [
    {
     "data": {
      "text/html": [
       "<dl class=dl-horizontal>\n",
       "\t<dt>pid</dt>\n",
       "\t\t<dd>0</dd>\n",
       "\t<dt>wstart_h</dt>\n",
       "\t\t<dd>0</dd>\n",
       "\t<dt>wstart_m</dt>\n",
       "\t\t<dd>0</dd>\n",
       "\t<dt>wend_h</dt>\n",
       "\t\t<dd>0</dd>\n",
       "\t<dt>wend_m</dt>\n",
       "\t\t<dd>0</dd>\n",
       "\t<dt>fixedwt</dt>\n",
       "\t\t<dd>2120</dd>\n",
       "\t<dt>wspacesat</dt>\n",
       "\t\t<dd>0</dd>\n",
       "\t<dt>gend</dt>\n",
       "\t\t<dd>0</dd>\n",
       "\t<dt>birth</dt>\n",
       "\t\t<dd>0</dd>\n",
       "\t<dt>comp_type</dt>\n",
       "\t\t<dd>2120</dd>\n",
       "\t<dt>wage</dt>\n",
       "\t\t<dd>2126</dd>\n",
       "\t<dt>jobty</dt>\n",
       "\t\t<dd>0</dd>\n",
       "\t<dt>educ</dt>\n",
       "\t\t<dd>0</dd>\n",
       "\t<dt>nwstart_h</dt>\n",
       "\t\t<dd>0</dd>\n",
       "\t<dt>nwstart_m</dt>\n",
       "\t\t<dd>0</dd>\n",
       "\t<dt>wstart</dt>\n",
       "\t\t<dd>0</dd>\n",
       "\t<dt>nwspacesat</dt>\n",
       "\t\t<dd>0</dd>\n",
       "\t<dt>nwspacesat_c</dt>\n",
       "\t\t<dd>0</dd>\n",
       "</dl>\n"
      ],
      "text/latex": [
       "\\begin{description*}\n",
       "\\item[pid] 0\n",
       "\\item[wstart\\textbackslash{}\\_h] 0\n",
       "\\item[wstart\\textbackslash{}\\_m] 0\n",
       "\\item[wend\\textbackslash{}\\_h] 0\n",
       "\\item[wend\\textbackslash{}\\_m] 0\n",
       "\\item[fixedwt] 2120\n",
       "\\item[wspacesat] 0\n",
       "\\item[gend] 0\n",
       "\\item[birth] 0\n",
       "\\item[comp\\textbackslash{}\\_type] 2120\n",
       "\\item[wage] 2126\n",
       "\\item[jobty] 0\n",
       "\\item[educ] 0\n",
       "\\item[nwstart\\textbackslash{}\\_h] 0\n",
       "\\item[nwstart\\textbackslash{}\\_m] 0\n",
       "\\item[wstart] 0\n",
       "\\item[nwspacesat] 0\n",
       "\\item[nwspacesat\\textbackslash{}\\_c] 0\n",
       "\\end{description*}\n"
      ],
      "text/markdown": [
       "pid\n",
       ":   0wstart_h\n",
       ":   0wstart_m\n",
       ":   0wend_h\n",
       ":   0wend_m\n",
       ":   0fixedwt\n",
       ":   2120wspacesat\n",
       ":   0gend\n",
       ":   0birth\n",
       ":   0comp_type\n",
       ":   2120wage\n",
       ":   2126jobty\n",
       ":   0educ\n",
       ":   0nwstart_h\n",
       ":   0nwstart_m\n",
       ":   0wstart\n",
       ":   0nwspacesat\n",
       ":   0nwspacesat_c\n",
       ":   0\n",
       "\n"
      ],
      "text/plain": [
       "         pid     wstart_h     wstart_m       wend_h       wend_m      fixedwt \n",
       "           0            0            0            0            0         2120 \n",
       "   wspacesat         gend        birth    comp_type         wage        jobty \n",
       "           0            0            0         2120         2126            0 \n",
       "        educ    nwstart_h    nwstart_m       wstart   nwspacesat nwspacesat_c \n",
       "           0            0            0            0            0            0 "
      ]
     },
     "metadata": {},
     "output_type": "display_data"
    }
   ],
   "source": [
    "colSums(is.na(nrdt_i))"
   ]
  },
  {
   "cell_type": "markdown",
   "metadata": {},
   "source": [
    "## 혼동변수 클리닝\n",
    "### 연령\n",
    "출생년도 ```birth```를 이용해 연령 ```age``` 혼동변수를 만들어 보자."
   ]
  },
  {
   "cell_type": "code",
   "execution_count": 39,
   "metadata": {},
   "outputs": [],
   "source": [
    "nrdt_i <- nrdt_i %>% \n",
    "  mutate(age = 2014-birth)"
   ]
  },
  {
   "cell_type": "markdown",
   "metadata": {},
   "source": [
    "조사년도인 2014년에서 출생년도를 빼서 연령을 계산했다."
   ]
  },
  {
   "cell_type": "markdown",
   "metadata": {},
   "source": [
    "### 종사상 지위\n",
    "(1) 상용직   \n",
    "(2) 임시직   \n",
    "(3) 일용직   \n",
    "(4) 고용주/자영업자   \n",
    "(5) 무급가족종사자\n",
    "   \n",
    "중 상용직, 임시직, 일용직만 가져와 범주화한다."
   ]
  },
  {
   "cell_type": "code",
   "execution_count": 40,
   "metadata": {},
   "outputs": [],
   "source": [
    "nrdt_i$jobty_c <- c(0,1,2)[match(nrdt_i$jobty, c(1,2,3))]\n",
    "nrdt_i$jobty_c <- factor(nrdt_i$jobty_c)"
   ]
  },
  {
   "cell_type": "markdown",
   "metadata": {},
   "source": [
    "0 : 상용직   \n",
    "1 : 임시직   \n",
    "2 : 일용직   "
   ]
  },
  {
   "cell_type": "code",
   "execution_count": 41,
   "metadata": {},
   "outputs": [
    {
     "data": {
      "text/html": [
       "<dl class=dl-horizontal>\n",
       "\t<dt>0</dt>\n",
       "\t\t<dd>3706</dd>\n",
       "\t<dt>1</dt>\n",
       "\t\t<dd>850</dd>\n",
       "\t<dt>2</dt>\n",
       "\t\t<dd>521</dd>\n",
       "\t<dt>NA's</dt>\n",
       "\t\t<dd>2120</dd>\n",
       "</dl>\n"
      ],
      "text/latex": [
       "\\begin{description*}\n",
       "\\item[0] 3706\n",
       "\\item[1] 850\n",
       "\\item[2] 521\n",
       "\\item[NA's] 2120\n",
       "\\end{description*}\n"
      ],
      "text/markdown": [
       "0\n",
       ":   37061\n",
       ":   8502\n",
       ":   521NA's\n",
       ":   2120\n",
       "\n"
      ],
      "text/plain": [
       "   0    1    2 NA's \n",
       "3706  850  521 2120 "
      ]
     },
     "metadata": {},
     "output_type": "display_data"
    }
   ],
   "source": [
    "summary(nrdt_i$jobty_c)"
   ]
  },
  {
   "cell_type": "markdown",
   "metadata": {},
   "source": [
    "### 기업형태\n",
    "(1) : 민간회사 또는 개인 사업체  \n",
    "(2) : 외국인 회사   \n",
    "(3) : 정부투자기관, 정부출연기관, 공사합동기업   \n",
    "(4) : 법인단체    \n",
    "(5) : 정부기관   \n",
    "(6) : 나는 특정회사나 사업체에 소속되어 있지 않다   \n",
    "(7) : 시민단체, 종교단체  \n",
    "(8) : 기타    "
   ]
  },
  {
   "cell_type": "code",
   "execution_count": 42,
   "metadata": {},
   "outputs": [],
   "source": [
    "nrdt_i$comp_type <- ifelse(nrdt_i$comp_type == -1, NA, nrdt_i$comp_type)\n",
    "nrdt_i$comp_type <- ifelse(nrdt_i$comp_type == 8, NA, nrdt_i$comp_type)\n",
    "nrdt_i$comp_type <- ifelse(nrdt_i$comp_type == 7, NA, nrdt_i$comp_type)\n",
    "nrdt_i$comp_type <- ifelse(nrdt_i$comp_type == 6, NA, nrdt_i$comp_type)"
   ]
  },
  {
   "cell_type": "markdown",
   "metadata": {},
   "source": [
    "필요하지 않은 범주는 ```NA```처리한다."
   ]
  },
  {
   "cell_type": "code",
   "execution_count": 43,
   "metadata": {},
   "outputs": [],
   "source": [
    "nrdt_i$comp_type <- c(1, 1 ,2, 1, 2)[match(nrdt_i$comp_type, c(1, 2, 3, 4, 5))]"
   ]
  },
  {
   "cell_type": "markdown",
   "metadata": {},
   "source": [
    "0 : 민간회사, 개인 사업체, 외국인 회사, 법인단체     \n",
    "1 : 정부투자기관, 정부출연기관, 공사합동기업, 정부기관   "
   ]
  },
  {
   "cell_type": "code",
   "execution_count": 44,
   "metadata": {},
   "outputs": [],
   "source": [
    "nrdt_i$comp_type_c <- cut(nrdt_i$comp_type, breaks = c(1,2,3),\n",
    "                          right = FALSE,\n",
    "                          labels = c(\"0\", \"1\"))"
   ]
  },
  {
   "cell_type": "code",
   "execution_count": 45,
   "metadata": {},
   "outputs": [
    {
     "data": {
      "text/html": [
       "<dl class=dl-horizontal>\n",
       "\t<dt>0</dt>\n",
       "\t\t<dd>4242</dd>\n",
       "\t<dt>1</dt>\n",
       "\t\t<dd>665</dd>\n",
       "\t<dt>NA's</dt>\n",
       "\t\t<dd>2290</dd>\n",
       "</dl>\n"
      ],
      "text/latex": [
       "\\begin{description*}\n",
       "\\item[0] 4242\n",
       "\\item[1] 665\n",
       "\\item[NA's] 2290\n",
       "\\end{description*}\n"
      ],
      "text/markdown": [
       "0\n",
       ":   42421\n",
       ":   665NA's\n",
       ":   2290\n",
       "\n"
      ],
      "text/plain": [
       "   0    1 NA's \n",
       "4242  665 2290 "
      ]
     },
     "metadata": {},
     "output_type": "display_data"
    }
   ],
   "source": [
    "summary(nrdt_i$comp_type_c)"
   ]
  },
  {
   "cell_type": "markdown",
   "metadata": {},
   "source": [
    "### 성별"
   ]
  },
  {
   "cell_type": "code",
   "execution_count": 46,
   "metadata": {},
   "outputs": [],
   "source": [
    "nrdt_i$gend <- ifelse(nrdt_i$gend == -1, NA, nrdt_i$gend)"
   ]
  },
  {
   "cell_type": "code",
   "execution_count": 47,
   "metadata": {
    "scrolled": true
   },
   "outputs": [],
   "source": [
    "nrdt_i$gend_c <- cut(nrdt_i$gend, breaks = c(1,2,3),\n",
    "                     right = FALSE,\n",
    "                     labels = c(\"0\", \"1\"))"
   ]
  },
  {
   "cell_type": "code",
   "execution_count": 48,
   "metadata": {},
   "outputs": [
    {
     "data": {
      "text/html": [
       "<dl class=dl-horizontal>\n",
       "\t<dt>0</dt>\n",
       "\t\t<dd>4288</dd>\n",
       "\t<dt>1</dt>\n",
       "\t\t<dd>2909</dd>\n",
       "</dl>\n"
      ],
      "text/latex": [
       "\\begin{description*}\n",
       "\\item[0] 4288\n",
       "\\item[1] 2909\n",
       "\\end{description*}\n"
      ],
      "text/markdown": [
       "0\n",
       ":   42881\n",
       ":   2909\n",
       "\n"
      ],
      "text/plain": [
       "   0    1 \n",
       "4288 2909 "
      ]
     },
     "metadata": {},
     "output_type": "display_data"
    }
   ],
   "source": [
    "summary(nrdt_i$gend_c)"
   ]
  },
  {
   "cell_type": "markdown",
   "metadata": {},
   "source": [
    "0 : 남성   \n",
    "1 : 여성"
   ]
  },
  {
   "cell_type": "markdown",
   "metadata": {},
   "source": [
    "성별 범주 중 ```-1```은 모름/무응답이므로 ```NA```로 만든다."
   ]
  },
  {
   "cell_type": "markdown",
   "metadata": {},
   "source": [
    "### 학력"
   ]
  },
  {
   "cell_type": "code",
   "execution_count": 49,
   "metadata": {},
   "outputs": [],
   "source": [
    "nrdt_i$educ <- c(0,0,0,0,1,2,3,4,4)[match(nrdt_i$educ, c(1,2,3,4,5,6,7,8,9))]\n",
    "nrdt_i$educ <- factor(nrdt_i$educ)"
   ]
  },
  {
   "cell_type": "code",
   "execution_count": 50,
   "metadata": {},
   "outputs": [
    {
     "data": {
      "text/html": [
       "<dl class=dl-horizontal>\n",
       "\t<dt>0</dt>\n",
       "\t\t<dd>1432</dd>\n",
       "\t<dt>1</dt>\n",
       "\t\t<dd>2534</dd>\n",
       "\t<dt>2</dt>\n",
       "\t\t<dd>1144</dd>\n",
       "\t<dt>3</dt>\n",
       "\t\t<dd>1732</dd>\n",
       "\t<dt>4</dt>\n",
       "\t\t<dd>355</dd>\n",
       "</dl>\n"
      ],
      "text/latex": [
       "\\begin{description*}\n",
       "\\item[0] 1432\n",
       "\\item[1] 2534\n",
       "\\item[2] 1144\n",
       "\\item[3] 1732\n",
       "\\item[4] 355\n",
       "\\end{description*}\n"
      ],
      "text/markdown": [
       "0\n",
       ":   14321\n",
       ":   25342\n",
       ":   11443\n",
       ":   17324\n",
       ":   355\n",
       "\n"
      ],
      "text/plain": [
       "   0    1    2    3    4 \n",
       "1432 2534 1144 1732  355 "
      ]
     },
     "metadata": {},
     "output_type": "display_data"
    }
   ],
   "source": [
    "summary(nrdt_i$educ)"
   ]
  },
  {
   "cell_type": "markdown",
   "metadata": {},
   "source": [
    "0 : 미취학, 무학, 초등학교, 중학교   \n",
    "1 : 고등학교   \n",
    "2 : 2년제 대학, 전문대학   \n",
    "3 : 4년제 대학\n",
    "4: 대학원 석사, 대학원 박사   \n",
    "    \n",
    "학력변수를 생성한 뒤 재범주화하였다."
   ]
  },
  {
   "cell_type": "markdown",
   "metadata": {},
   "source": [
    "### 임금\n",
    "임금은 로그를 취하여 만든다."
   ]
  },
  {
   "cell_type": "code",
   "execution_count": 51,
   "metadata": {},
   "outputs": [],
   "source": [
    "nrdt_i$wage <- ifelse(nrdt_i$wage<0, NA, nrdt_i$wage)\n",
    "nrdt_i$lnwage <- log(nrdt_i$wage+0.01)"
   ]
  },
  {
   "cell_type": "code",
   "execution_count": 52,
   "metadata": {},
   "outputs": [
    {
     "data": {
      "text/plain": [
       "   Min. 1st Qu.  Median    Mean 3rd Qu.    Max.    NA's \n",
       " -4.605   4.942   5.298   5.276   5.704   8.294    2126 "
      ]
     },
     "metadata": {},
     "output_type": "display_data"
    }
   ],
   "source": [
    "summary(nrdt_i$lnwage)"
   ]
  },
  {
   "cell_type": "markdown",
   "metadata": {},
   "source": [
    "### 근로시간\n",
    "출근시간과 퇴근시간의 차이로 근로시간을 계산한다."
   ]
  },
  {
   "cell_type": "code",
   "execution_count": 53,
   "metadata": {},
   "outputs": [],
   "source": [
    "nrdt_i$wend_h <- ifelse(nrdt_i$wend_h == -1, NA, nrdt_i$wend_h)\n",
    "nrdt_i$wend_m <- ifelse(nrdt_i$wend_m == -1, NA, nrdt_i$wend_m)"
   ]
  },
  {
   "cell_type": "markdown",
   "metadata": {},
   "source": [
    "퇴근 시간과 분에서 ```-1```은 모름/무응답이므로 ```NA```로 만든다."
   ]
  },
  {
   "cell_type": "code",
   "execution_count": 54,
   "metadata": {},
   "outputs": [],
   "source": [
    "nrdt_i$wend_m <- ifelse(nrdt_i$wend_m == \"0\", \"00\", nrdt_i$wend_m)\n",
    "nrdt_i$wend_m <- ifelse(nrdt_i$wend_m == \"1\", \"01\", nrdt_i$wend_m)\n",
    "nrdt_i$wend_m <- ifelse(nrdt_i$wend_m == \"2\", \"02\", nrdt_i$wend_m)\n",
    "nrdt_i$wend_m <- ifelse(nrdt_i$wend_m == \"3\", \"03\", nrdt_i$wend_m)\n",
    "nrdt_i$wend_m <- ifelse(nrdt_i$wend_m == \"4\", \"04\", nrdt_i$wend_m)\n",
    "nrdt_i$wend_m <- ifelse(nrdt_i$wend_m == \"5\", \"05\", nrdt_i$wend_m)\n",
    "nrdt_i$wend_m <- ifelse(nrdt_i$wend_m == \"6\", \"06\", nrdt_i$wend_m)\n",
    "nrdt_i$wend_m <- ifelse(nrdt_i$wend_m == \"7\", \"07\", nrdt_i$wend_m)\n",
    "nrdt_i$wend_m <- ifelse(nrdt_i$wend_m == \"8\", \"08\", nrdt_i$wend_m)\n",
    "nrdt_i$wend_m <- ifelse(nrdt_i$wend_m == \"9\", \"09\", nrdt_i$wend_m)"
   ]
  },
  {
   "cell_type": "markdown",
   "metadata": {},
   "source": [
    "0분을 00분, 1분을 01분 (...) 으로 만드는 작업을 수행했다."
   ]
  },
  {
   "cell_type": "code",
   "execution_count": 55,
   "metadata": {},
   "outputs": [],
   "source": [
    "nrdt_i$nwstart_t <- (strtoi(nrdt_i$nwstart_m)+(strtoi(nrdt_i$nwstart_h)*60))\n",
    "nrdt_i$wend_t <- (strtoi(nrdt_i$wend_m)+(strtoi(nrdt_i$wend_h)*60))"
   ]
  },
  {
   "cell_type": "markdown",
   "metadata": {},
   "source": [
    "계산의 편의를 위해 출근시간과 퇴근시간을 분 단위로 표시한다."
   ]
  },
  {
   "cell_type": "code",
   "execution_count": 56,
   "metadata": {},
   "outputs": [],
   "source": [
    "nrdt_i$w_time_m <- nrdt_i$wend_t - nrdt_i$nwstart_t"
   ]
  },
  {
   "cell_type": "markdown",
   "metadata": {},
   "source": [
    "출근시간과 퇴근시간의 차이로 근무시간을 설명한다. 이때 근무시간은 분 단위"
   ]
  },
  {
   "cell_type": "code",
   "execution_count": 57,
   "metadata": {},
   "outputs": [],
   "source": [
    "nrdt_i$w_time_m <- ifelse(nrdt_i$w_time_m <= 0, nrdt_i$w_time_m+ (24*60), nrdt_i$w_time_m)"
   ]
  },
  {
   "cell_type": "markdown",
   "metadata": {},
   "source": [
    "출퇴근 시간의 차이가 음수인 경우 24시간*60분을 더한다."
   ]
  },
  {
   "cell_type": "code",
   "execution_count": 58,
   "metadata": {},
   "outputs": [],
   "source": [
    "nrdt_i$w_time <- nrdt_i$w_time_m/60"
   ]
  },
  {
   "cell_type": "markdown",
   "metadata": {},
   "source": [
    "분 단위로 만들어진 근무시간을 시간 단위로 변환한다."
   ]
  },
  {
   "cell_type": "markdown",
   "metadata": {},
   "source": [
    "## 최종 데이터 셋"
   ]
  },
  {
   "cell_type": "code",
   "execution_count": 59,
   "metadata": {},
   "outputs": [],
   "source": [
    "nrdt_attach <- data.frame(nrdt_i$pid, nrdt_i$wstart, nrdt_i$nwspacesat_c, nrdt_i$w_time, nrdt_i$gend_c, nrdt_i$age, \n",
    "                          nrdt_i$comp_type_c, nrdt_i$educ, nrdt_i$jobty_c, nrdt_i$lnwage)"
   ]
  },
  {
   "cell_type": "code",
   "execution_count": 60,
   "metadata": {},
   "outputs": [],
   "source": [
    "nrdt_names <- c(\"pid\", \"wstart\", \"wspacesat\", \"wtime\", \"gend\", \"age\", \"comp_type\", \"educ\", \"jobty\", \"lnwage\")\n",
    "names(nrdt_attach) <- nrdt_names"
   ]
  },
  {
   "cell_type": "code",
   "execution_count": 61,
   "metadata": {},
   "outputs": [],
   "source": [
    "nrdt_attach <- nrdt_attach[complete.cases(nrdt_attach),]"
   ]
  },
  {
   "cell_type": "code",
   "execution_count": 62,
   "metadata": {},
   "outputs": [
    {
     "data": {
      "text/plain": [
       "      pid               wstart         wspacesat         wtime         gend    \n",
       " Min.   :     102   Min.   : 0.000   Min.   :1.000   Min.   : 0.3333   0:2897  \n",
       " 1st Qu.:  193303   1st Qu.: 8.000   1st Qu.:3.000   1st Qu.: 9.0000   1:2000  \n",
       " Median :  353304   Median : 9.000   Median :3.000   Median : 9.0000           \n",
       " Mean   : 1869563   Mean   : 9.045   Mean   :3.308   Mean   : 9.5741           \n",
       " 3rd Qu.:  596702   3rd Qu.: 9.000   3rd Qu.:4.000   3rd Qu.:10.0000           \n",
       " Max.   :11014502   Max.   :23.000   Max.   :5.000   Max.   :24.0000           \n",
       "      age        comp_type educ     jobty        lnwage      \n",
       " Min.   :18.00   0:4234    0: 666   0:3666   Min.   :-4.605  \n",
       " 1st Qu.:35.00   1: 663    1:1642   1: 814   1st Qu.: 4.942  \n",
       " Median :42.00             2: 931   2: 417   Median : 5.298  \n",
       " Mean   :43.59             3:1375            Mean   : 5.291  \n",
       " 3rd Qu.:52.00             4: 283            3rd Qu.: 5.704  \n",
       " Max.   :80.00                               Max.   : 8.294  "
      ]
     },
     "metadata": {},
     "output_type": "display_data"
    }
   ],
   "source": [
    "summary(nrdt_attach)"
   ]
  },
  {
   "cell_type": "code",
   "execution_count": 63,
   "metadata": {},
   "outputs": [],
   "source": [
    "save.image(file=\"C:/Users/eunee/khu_sda_project/data_cleaning.RData\")"
   ]
  },
  {
   "cell_type": "markdown",
   "metadata": {},
   "source": [
    "## 최종 데이터 셋 변수 정리\n",
    "- ```pid``` : pid\n",
    "- ```wstart``` : 출근시간 (연속형)   \n",
    "- ```wspacesat``` : 전반적일자리만족도 (연속형)  \n",
    "  - 1 : 매우 불만족\n",
    "  - 2 : 불만족\n",
    "  - 3 : 보통\n",
    "  - 4 : 만족\n",
    "  - 5 : 매우 만족\n",
    "- ```wtime``` : 주당 평균 근로시간 (연속형)\n",
    "- ```gend``` : 성별 (이분형)  \n",
    "  - 0 : 남성\n",
    "  - 1 : 여성\n",
    "- ```age``` : 연령 (연속형)\n",
    "- ```comp_type``` : 기업형태 (범주형) \n",
    "  - 0 : 민간 (민간회사, 개인 사업체, 외국인 회사, 법인단체)\n",
    "  - 1 : 비민간 (정부투자기관, 정부출연기관, 공사합동기업, 정부기관)\n",
    "- ```educ``` : 학력 (범주형)  \n",
    "  - 0 : 미취학, 무학, 초등학교, 중학교\n",
    "  - 1 : 고등학교\n",
    "  - 2 : 2년제 대학, 전문대학\n",
    "  - 3 : 4년제 대학\n",
    "  3대학원 석사, 대학원 박사\n",
    "- ```jobty``` : 종사상지위 (범주형)  \n",
    "  - 0 : 상용직\n",
    "  - 1 : 임시직\n",
    "  - 2 : 일용직\n",
    "- ```lnwage``` : 로그 임금 (연속형)"
   ]
  }
 ],
 "metadata": {
  "kernelspec": {
   "display_name": "R",
   "language": "R",
   "name": "ir"
  },
  "language_info": {
   "codemirror_mode": "r",
   "file_extension": ".r",
   "mimetype": "text/x-r-source",
   "name": "R",
   "pygments_lexer": "r",
   "version": "3.5.1"
  }
 },
 "nbformat": 4,
 "nbformat_minor": 2
}
