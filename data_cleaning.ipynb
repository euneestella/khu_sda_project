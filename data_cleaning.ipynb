{
 "cells": [
  {
   "cell_type": "markdown",
   "metadata": {},
   "source": [
    "## 변수명 정리\n",
    "(원 변수명, 새로운 변수명, 변수 설명 순으로 정리)\n",
    "\n",
    "pid : pid (pid)       \n",
    "a177102 : wstart_h (업무 시작 시)       \n",
    "a177103 : wstart_m (업무 시작 분)           \n",
    "p171003 : fixedwt (정규근로시간여부)      \n",
    "p171004 : wtime (주당 평균 근로시간)      \n",
    "p174321 : wspacesat (전반적일자리만족도)      \n",
    "p174322 : wsat (전반적일만족도)           \n",
    "p170101: gend (성별)      \n",
    "p171621: wbonus (성과급제여부)      \n",
    "p170104: birth (생년)      \n",
    "p170401: comp_type (기업형태)      "
   ]
  },
  {
   "cell_type": "markdown",
   "metadata": {},
   "source": [
    "필요한 패키지 ```foreign```, ```dplyr``` 설치"
   ]
  },
  {
   "cell_type": "code",
   "execution_count": 1,
   "metadata": {
    "scrolled": true
   },
   "outputs": [
    {
     "name": "stderr",
     "output_type": "stream",
     "text": [
      "Warning message:\n",
      "\"unable to access index for repository http://www.stats.ox.ac.uk/pub/RWin/bin/windows/contrib/3.5:\n",
      "  URL 'http://www.stats.ox.ac.uk/pub/RWin/bin/windows/contrib/3.5/PACKAGES'를 열 수 없습니다\""
     ]
    },
    {
     "name": "stdout",
     "output_type": "stream",
     "text": [
      "package 'foreign' successfully unpacked and MD5 sums checked\n",
      "\n",
      "The downloaded binary packages are in\n",
      "\tC:\\Users\\eunee\\AppData\\Local\\Temp\\RtmpUToDjR\\downloaded_packages\n"
     ]
    },
    {
     "name": "stderr",
     "output_type": "stream",
     "text": [
      "Warning message:\n",
      "\"unable to access index for repository http://www.stats.ox.ac.uk/pub/RWin/bin/windows/contrib/3.5:\n",
      "  URL 'http://www.stats.ox.ac.uk/pub/RWin/bin/windows/contrib/3.5/PACKAGES'를 열 수 없습니다\""
     ]
    },
    {
     "name": "stdout",
     "output_type": "stream",
     "text": [
      "package 'dplyr' successfully unpacked and MD5 sums checked\n",
      "\n",
      "The downloaded binary packages are in\n",
      "\tC:\\Users\\eunee\\AppData\\Local\\Temp\\RtmpUToDjR\\downloaded_packages\n"
     ]
    },
    {
     "name": "stderr",
     "output_type": "stream",
     "text": [
      "\n",
      "Attaching package: 'dplyr'\n",
      "\n",
      "The following objects are masked from 'package:stats':\n",
      "\n",
      "    filter, lag\n",
      "\n",
      "The following objects are masked from 'package:base':\n",
      "\n",
      "    intersect, setdiff, setequal, union\n",
      "\n"
     ]
    }
   ],
   "source": [
    "install.packages(\"foreign\")\n",
    "install.packages(\"dplyr\")\n",
    "library(foreign)\n",
    "library(dplyr)"
   ]
  },
  {
   "cell_type": "markdown",
   "metadata": {},
   "source": [
    "부가조사, 개인별 조사 불러들이기"
   ]
  },
  {
   "cell_type": "code",
   "execution_count": 2,
   "metadata": {},
   "outputs": [],
   "source": [
    "dt17_a <- read.spss(\"C:/Users/eunee/khu_sda_project/data/klips17a.sav\",\n",
    "                   use.value.labels = FALSE, to.data.frame = TRUE)\n",
    "dt17_p <- read.spss(\"C:/Users/eunee/khu_sda_project/data/klips17p_i.sav\",\n",
    "                   use.value.labels = FALSE, to.data.frame = TRUE)"
   ]
  },
  {
   "cell_type": "markdown",
   "metadata": {},
   "source": [
    "### 부가조사 : ```rdt_a```"
   ]
  },
  {
   "cell_type": "code",
   "execution_count": 52,
   "metadata": {
    "scrolled": true
   },
   "outputs": [],
   "source": [
    "rdt_a <- subset(dt17_a,\n",
    "             select = c(pid, a177102, a177103, a177105, a177106))\n",
    "names(rdt_a) <- c(\"pid\", \"wstart_h\", \"wstart_m\", \"wend_h\", \"wend_m\")"
   ]
  },
  {
   "cell_type": "code",
   "execution_count": 53,
   "metadata": {},
   "outputs": [
    {
     "name": "stdout",
     "output_type": "stream",
     "text": [
      "'data.frame':\t11686 obs. of  5 variables:\n",
      " $ pid     : num  101 401 402 902 501401 ...\n",
      " $ wstart_h: num  7 9 13 9 9 NA 4 10 9 NA ...\n",
      " $ wstart_m: num  0 0 0 0 0 NA 0 30 0 NA ...\n",
      " $ wend_h  : num  18 18 15 17 18 NA 14 22 18 NA ...\n",
      " $ wend_m  : num  0 0 0 0 0 NA 0 30 0 NA ...\n"
     ]
    }
   ],
   "source": [
    "str(rdt_a)"
   ]
  },
  {
   "cell_type": "markdown",
   "metadata": {},
   "source": [
    "### 개인별 : ```rdt_p```"
   ]
  },
  {
   "cell_type": "code",
   "execution_count": 54,
   "metadata": {
    "scrolled": true
   },
   "outputs": [],
   "source": [
    "rdt_p <- subset(dt17_p,\n",
    "               select = c(pid, p171003, p171004, p174321, p174322, p170101, p171621, p170104, p170401))\n",
    "names(rdt_p) <- c(\"pid\", \"fixedwt\", \"wtime\", \"wspacesat\", \"wsat\", \"gend\", \"wbonus\", \"birth\", \"comp_type\")"
   ]
  },
  {
   "cell_type": "code",
   "execution_count": 55,
   "metadata": {},
   "outputs": [
    {
     "name": "stdout",
     "output_type": "stream",
     "text": [
      "'data.frame':\t13168 obs. of  9 variables:\n",
      " $ pid      : num  101 102 201 202 203 401 402 602 902 903 ...\n",
      " $ fixedwt  : num  2 1 1 1 NA 1 NA 1 1 NA ...\n",
      " $ wtime    : num  24 NA NA NA NA NA NA NA NA NA ...\n",
      " $ wspacesat: num  3 3 3 3 NA 2 2 3 2 NA ...\n",
      " $ wsat     : num  3 3 3 3 NA 2 2 3 2 NA ...\n",
      " $ gend     : num  2 1 1 2 2 1 2 2 2 2 ...\n",
      " $ wbonus   : num  2 2 2 2 NA 2 NA 2 2 NA ...\n",
      " $ birth    : num  1941 1968 1951 1954 1979 ...\n",
      " $ comp_type: num  6 1 1 1 NA 3 NA 3 4 NA ...\n"
     ]
    }
   ],
   "source": [
    "str(rdt_p)"
   ]
  },
  {
   "cell_type": "markdown",
   "metadata": {},
   "source": [
    "### ```rdt_i``` : ```rdt_a```, ```rdt_p``` 에 대한 merge(inner join)"
   ]
  },
  {
   "cell_type": "markdown",
   "metadata": {},
   "source": [
    "```pid``` 기준으로 inner join"
   ]
  },
  {
   "cell_type": "code",
   "execution_count": 56,
   "metadata": {
    "scrolled": true
   },
   "outputs": [
    {
     "name": "stdout",
     "output_type": "stream",
     "text": [
      "'data.frame':\t11679 obs. of  13 variables:\n",
      " $ pid      : num  101 102 203 401 402 ...\n",
      " $ wstart_h : num  7 8 NA 9 13 9 NA NA 4 10 ...\n",
      " $ wstart_m : num  0 30 NA 0 0 0 NA NA 0 30 ...\n",
      " $ wend_h   : num  18 18 NA 18 15 17 NA NA 14 22 ...\n",
      " $ wend_m   : num  0 0 NA 0 0 0 NA NA 0 30 ...\n",
      " $ fixedwt  : num  2 1 NA 1 NA 1 NA NA 1 1 ...\n",
      " $ wtime    : num  24 NA NA NA NA NA NA NA NA NA ...\n",
      " $ wspacesat: num  3 3 NA 2 2 2 NA NA 3 3 ...\n",
      " $ wsat     : num  3 3 NA 2 2 2 NA NA 3 3 ...\n",
      " $ gend     : num  2 1 2 1 2 2 2 2 1 2 ...\n",
      " $ wbonus   : num  2 2 NA 2 NA 2 NA NA 2 2 ...\n",
      " $ birth    : num  1941 1968 1979 1970 1969 ...\n",
      " $ comp_type: num  6 1 NA 3 NA 4 NA NA 1 1 ...\n"
     ]
    }
   ],
   "source": [
    "rdt_i <- merge(rdt_a, rdt_p, by = \"pid\")\n",
    "str(rdt_i)"
   ]
  },
  {
   "cell_type": "markdown",
   "metadata": {},
   "source": [
    "### ```rdt_i```의 ```NA``` 알아보기 "
   ]
  },
  {
   "cell_type": "code",
   "execution_count": 57,
   "metadata": {},
   "outputs": [
    {
     "data": {
      "text/html": [
       "<dl class=dl-horizontal>\n",
       "\t<dt>pid</dt>\n",
       "\t\t<dd>0</dd>\n",
       "\t<dt>wstart_h</dt>\n",
       "\t\t<dd>4349</dd>\n",
       "\t<dt>wstart_m</dt>\n",
       "\t\t<dd>4349</dd>\n",
       "\t<dt>wend_h</dt>\n",
       "\t\t<dd>4349</dd>\n",
       "\t<dt>wend_m</dt>\n",
       "\t\t<dd>4349</dd>\n",
       "\t<dt>fixedwt</dt>\n",
       "\t\t<dd>6505</dd>\n",
       "\t<dt>wtime</dt>\n",
       "\t\t<dd>10960</dd>\n",
       "\t<dt>wspacesat</dt>\n",
       "\t\t<dd>4349</dd>\n",
       "\t<dt>wsat</dt>\n",
       "\t\t<dd>4349</dd>\n",
       "\t<dt>gend</dt>\n",
       "\t\t<dd>0</dd>\n",
       "\t<dt>wbonus</dt>\n",
       "\t\t<dd>6505</dd>\n",
       "\t<dt>birth</dt>\n",
       "\t\t<dd>0</dd>\n",
       "\t<dt>comp_type</dt>\n",
       "\t\t<dd>6505</dd>\n",
       "</dl>\n"
      ],
      "text/latex": [
       "\\begin{description*}\n",
       "\\item[pid] 0\n",
       "\\item[wstart\\textbackslash{}\\_h] 4349\n",
       "\\item[wstart\\textbackslash{}\\_m] 4349\n",
       "\\item[wend\\textbackslash{}\\_h] 4349\n",
       "\\item[wend\\textbackslash{}\\_m] 4349\n",
       "\\item[fixedwt] 6505\n",
       "\\item[wtime] 10960\n",
       "\\item[wspacesat] 4349\n",
       "\\item[wsat] 4349\n",
       "\\item[gend] 0\n",
       "\\item[wbonus] 6505\n",
       "\\item[birth] 0\n",
       "\\item[comp\\textbackslash{}\\_type] 6505\n",
       "\\end{description*}\n"
      ],
      "text/markdown": [
       "pid\n",
       ":   0wstart_h\n",
       ":   4349wstart_m\n",
       ":   4349wend_h\n",
       ":   4349wend_m\n",
       ":   4349fixedwt\n",
       ":   6505wtime\n",
       ":   10960wspacesat\n",
       ":   4349wsat\n",
       ":   4349gend\n",
       ":   0wbonus\n",
       ":   6505birth\n",
       ":   0comp_type\n",
       ":   6505\n",
       "\n"
      ],
      "text/plain": [
       "      pid  wstart_h  wstart_m    wend_h    wend_m   fixedwt     wtime wspacesat \n",
       "        0      4349      4349      4349      4349      6505     10960      4349 \n",
       "     wsat      gend    wbonus     birth comp_type \n",
       "     4349         0      6505         0      6505 "
      ]
     },
     "metadata": {},
     "output_type": "display_data"
    }
   ],
   "source": [
    "colSums(is.na(rdt_i))"
   ]
  },
  {
   "cell_type": "code",
   "execution_count": 58,
   "metadata": {
    "scrolled": true
   },
   "outputs": [
    {
     "data": {
      "text/html": [
       "<table>\n",
       "<thead><tr><th scope=col>pid</th><th scope=col>wstart_h</th><th scope=col>wstart_m</th><th scope=col>wend_h</th><th scope=col>wend_m</th><th scope=col>fixedwt</th><th scope=col>wtime</th><th scope=col>wspacesat</th><th scope=col>wsat</th><th scope=col>gend</th><th scope=col>wbonus</th><th scope=col>birth</th><th scope=col>comp_type</th></tr></thead>\n",
       "<tbody>\n",
       "\t<tr><td>101 </td><td> 7  </td><td> 0  </td><td>18  </td><td> 0  </td><td> 2  </td><td>24  </td><td> 3  </td><td> 3  </td><td>2   </td><td> 2  </td><td>1941</td><td> 6  </td></tr>\n",
       "\t<tr><td>102 </td><td> 8  </td><td>30  </td><td>18  </td><td> 0  </td><td> 1  </td><td>NA  </td><td> 3  </td><td> 3  </td><td>1   </td><td> 2  </td><td>1968</td><td> 1  </td></tr>\n",
       "\t<tr><td>203 </td><td>NA  </td><td>NA  </td><td>NA  </td><td>NA  </td><td>NA  </td><td>NA  </td><td>NA  </td><td>NA  </td><td>2   </td><td>NA  </td><td>1979</td><td>NA  </td></tr>\n",
       "\t<tr><td>401 </td><td> 9  </td><td> 0  </td><td>18  </td><td> 0  </td><td> 1  </td><td>NA  </td><td> 2  </td><td> 2  </td><td>1   </td><td> 2  </td><td>1970</td><td> 3  </td></tr>\n",
       "\t<tr><td>402 </td><td>13  </td><td> 0  </td><td>15  </td><td> 0  </td><td>NA  </td><td>NA  </td><td> 2  </td><td> 2  </td><td>2   </td><td>NA  </td><td>1969</td><td>NA  </td></tr>\n",
       "\t<tr><td>902 </td><td> 9  </td><td> 0  </td><td>17  </td><td> 0  </td><td> 1  </td><td>NA  </td><td> 2  </td><td> 2  </td><td>2   </td><td> 2  </td><td>1970</td><td> 4  </td></tr>\n",
       "</tbody>\n",
       "</table>\n"
      ],
      "text/latex": [
       "\\begin{tabular}{r|lllllllllllll}\n",
       " pid & wstart\\_h & wstart\\_m & wend\\_h & wend\\_m & fixedwt & wtime & wspacesat & wsat & gend & wbonus & birth & comp\\_type\\\\\n",
       "\\hline\n",
       "\t 101  &  7   &  0   & 18   &  0   &  2   & 24   &  3   &  3   & 2    &  2   & 1941 &  6  \\\\\n",
       "\t 102  &  8   & 30   & 18   &  0   &  1   & NA   &  3   &  3   & 1    &  2   & 1968 &  1  \\\\\n",
       "\t 203  & NA   & NA   & NA   & NA   & NA   & NA   & NA   & NA   & 2    & NA   & 1979 & NA  \\\\\n",
       "\t 401  &  9   &  0   & 18   &  0   &  1   & NA   &  2   &  2   & 1    &  2   & 1970 &  3  \\\\\n",
       "\t 402  & 13   &  0   & 15   &  0   & NA   & NA   &  2   &  2   & 2    & NA   & 1969 & NA  \\\\\n",
       "\t 902  &  9   &  0   & 17   &  0   &  1   & NA   &  2   &  2   & 2    &  2   & 1970 &  4  \\\\\n",
       "\\end{tabular}\n"
      ],
      "text/markdown": [
       "\n",
       "pid | wstart_h | wstart_m | wend_h | wend_m | fixedwt | wtime | wspacesat | wsat | gend | wbonus | birth | comp_type | \n",
       "|---|---|---|---|---|---|\n",
       "| 101  |  7   |  0   | 18   |  0   |  2   | 24   |  3   |  3   | 2    |  2   | 1941 |  6   | \n",
       "| 102  |  8   | 30   | 18   |  0   |  1   | NA   |  3   |  3   | 1    |  2   | 1968 |  1   | \n",
       "| 203  | NA   | NA   | NA   | NA   | NA   | NA   | NA   | NA   | 2    | NA   | 1979 | NA   | \n",
       "| 401  |  9   |  0   | 18   |  0   |  1   | NA   |  2   |  2   | 1    |  2   | 1970 |  3   | \n",
       "| 402  | 13   |  0   | 15   |  0   | NA   | NA   |  2   |  2   | 2    | NA   | 1969 | NA   | \n",
       "| 902  |  9   |  0   | 17   |  0   |  1   | NA   |  2   |  2   | 2    |  2   | 1970 |  4   | \n",
       "\n",
       "\n"
      ],
      "text/plain": [
       "  pid wstart_h wstart_m wend_h wend_m fixedwt wtime wspacesat wsat gend wbonus\n",
       "1 101  7        0       18      0      2      24     3         3   2     2    \n",
       "2 102  8       30       18      0      1      NA     3         3   1     2    \n",
       "3 203 NA       NA       NA     NA     NA      NA    NA        NA   2    NA    \n",
       "4 401  9        0       18      0      1      NA     2         2   1     2    \n",
       "5 402 13        0       15      0     NA      NA     2         2   2    NA    \n",
       "6 902  9        0       17      0      1      NA     2         2   2     2    \n",
       "  birth comp_type\n",
       "1 1941   6       \n",
       "2 1968   1       \n",
       "3 1979  NA       \n",
       "4 1970   3       \n",
       "5 1969  NA       \n",
       "6 1970   4       "
      ]
     },
     "metadata": {},
     "output_type": "display_data"
    }
   ],
   "source": [
    "head(rdt_i)"
   ]
  },
  {
   "cell_type": "markdown",
   "metadata": {},
   "source": [
    "```rdt_i```는 ```pid```를 ```key```로 한 inner join이기 때문에 ```pid```의 ```NA```는 0이다.   \n",
    "설명변수인 ```wstart_h```와 ```wstart_m```에 해당하지 않거나(```NA```), 모름/무응답(```-1```)인 사례는 연구관심 밖이므로 가장 먼저 제거가 필요하다."
   ]
  },
  {
   "cell_type": "markdown",
   "metadata": {},
   "source": [
    "## 설명변수(출근시간) 만들기"
   ]
  },
  {
   "cell_type": "code",
   "execution_count": 59,
   "metadata": {},
   "outputs": [],
   "source": [
    "nrdt_i <- rdt_i\n",
    "nrdt_i$nwstart_h <- ifelse(nrdt_i$wstart_h == -1, NA, nrdt_i$wstart_h)\n",
    "nrdt_i$nwstart_m <- ifelse(nrdt_i$wstart_m == -1, NA, nrdt_i$wstart_m)"
   ]
  },
  {
   "cell_type": "markdown",
   "metadata": {},
   "source": [
    "```ifelse```문을 활용해 ```nrdt_i```의 ```wstart_h```가 ```-1```(모름/무응답) 인 경우 ```NA```, 그렇지 않으면 원래 ```wstart_h``` 값을 주도록 했다. (```wstart_m```)의 경우도 마찬가지로 수행했다."
   ]
  },
  {
   "cell_type": "code",
   "execution_count": 60,
   "metadata": {},
   "outputs": [
    {
     "data": {
      "text/html": [
       "<dl class=dl-horizontal>\n",
       "\t<dt>pid</dt>\n",
       "\t\t<dd>0</dd>\n",
       "\t<dt>wstart_h</dt>\n",
       "\t\t<dd>0</dd>\n",
       "\t<dt>wstart_m</dt>\n",
       "\t\t<dd>0</dd>\n",
       "\t<dt>wend_h</dt>\n",
       "\t\t<dd>0</dd>\n",
       "\t<dt>wend_m</dt>\n",
       "\t\t<dd>0</dd>\n",
       "\t<dt>fixedwt</dt>\n",
       "\t\t<dd>2128</dd>\n",
       "\t<dt>wtime</dt>\n",
       "\t\t<dd>6539</dd>\n",
       "\t<dt>wspacesat</dt>\n",
       "\t\t<dd>0</dd>\n",
       "\t<dt>wsat</dt>\n",
       "\t\t<dd>0</dd>\n",
       "\t<dt>gend</dt>\n",
       "\t\t<dd>0</dd>\n",
       "\t<dt>wbonus</dt>\n",
       "\t\t<dd>2128</dd>\n",
       "\t<dt>birth</dt>\n",
       "\t\t<dd>0</dd>\n",
       "\t<dt>comp_type</dt>\n",
       "\t\t<dd>2128</dd>\n",
       "\t<dt>nwstart_h</dt>\n",
       "\t\t<dd>0</dd>\n",
       "\t<dt>nwstart_m</dt>\n",
       "\t\t<dd>0</dd>\n",
       "</dl>\n"
      ],
      "text/latex": [
       "\\begin{description*}\n",
       "\\item[pid] 0\n",
       "\\item[wstart\\textbackslash{}\\_h] 0\n",
       "\\item[wstart\\textbackslash{}\\_m] 0\n",
       "\\item[wend\\textbackslash{}\\_h] 0\n",
       "\\item[wend\\textbackslash{}\\_m] 0\n",
       "\\item[fixedwt] 2128\n",
       "\\item[wtime] 6539\n",
       "\\item[wspacesat] 0\n",
       "\\item[wsat] 0\n",
       "\\item[gend] 0\n",
       "\\item[wbonus] 2128\n",
       "\\item[birth] 0\n",
       "\\item[comp\\textbackslash{}\\_type] 2128\n",
       "\\item[nwstart\\textbackslash{}\\_h] 0\n",
       "\\item[nwstart\\textbackslash{}\\_m] 0\n",
       "\\end{description*}\n"
      ],
      "text/markdown": [
       "pid\n",
       ":   0wstart_h\n",
       ":   0wstart_m\n",
       ":   0wend_h\n",
       ":   0wend_m\n",
       ":   0fixedwt\n",
       ":   2128wtime\n",
       ":   6539wspacesat\n",
       ":   0wsat\n",
       ":   0gend\n",
       ":   0wbonus\n",
       ":   2128birth\n",
       ":   0comp_type\n",
       ":   2128nwstart_h\n",
       ":   0nwstart_m\n",
       ":   0\n",
       "\n"
      ],
      "text/plain": [
       "      pid  wstart_h  wstart_m    wend_h    wend_m   fixedwt     wtime wspacesat \n",
       "        0         0         0         0         0      2128      6539         0 \n",
       "     wsat      gend    wbonus     birth comp_type nwstart_h nwstart_m \n",
       "        0         0      2128         0      2128         0         0 "
      ]
     },
     "metadata": {},
     "output_type": "display_data"
    }
   ],
   "source": [
    "nrdt_i <- nrdt_i[complete.cases(nrdt_i[ , c(\"nwstart_h\", \"nwstart_m\")]), ]\n",
    "colSums(is.na(nrdt_i))"
   ]
  },
  {
   "cell_type": "markdown",
   "metadata": {},
   "source": [
    "```complete.cases```를 활용하여 ```nwstart_h```와 ```nwstart_m```에 ```NA```가 있는 행을 제거했다. (모름/무응답에 해당하는 ```-1```도 우리가 위에서 ```NA```로 만들었으므로 함께 제거된다.)"
   ]
  },
  {
   "cell_type": "code",
   "execution_count": 61,
   "metadata": {
    "scrolled": true
   },
   "outputs": [
    {
     "data": {
      "text/html": [
       "<table>\n",
       "<thead><tr><th></th><th scope=col>pid</th><th scope=col>wstart_h</th><th scope=col>wstart_m</th><th scope=col>wend_h</th><th scope=col>wend_m</th><th scope=col>fixedwt</th><th scope=col>wtime</th><th scope=col>wspacesat</th><th scope=col>wsat</th><th scope=col>gend</th><th scope=col>wbonus</th><th scope=col>birth</th><th scope=col>comp_type</th><th scope=col>nwstart_h</th><th scope=col>nwstart_m</th></tr></thead>\n",
       "<tbody>\n",
       "\t<tr><th scope=row>1</th><td> 101</td><td> 7  </td><td> 0  </td><td>18  </td><td>0   </td><td> 2  </td><td>24  </td><td>3   </td><td>3   </td><td>2   </td><td> 2  </td><td>1941</td><td> 6  </td><td> 7  </td><td> 0  </td></tr>\n",
       "\t<tr><th scope=row>2</th><td> 102</td><td> 8  </td><td>30  </td><td>18  </td><td>0   </td><td> 1  </td><td>NA  </td><td>3   </td><td>3   </td><td>1   </td><td> 2  </td><td>1968</td><td> 1  </td><td> 8  </td><td>30  </td></tr>\n",
       "\t<tr><th scope=row>4</th><td> 401</td><td> 9  </td><td> 0  </td><td>18  </td><td>0   </td><td> 1  </td><td>NA  </td><td>2   </td><td>2   </td><td>1   </td><td> 2  </td><td>1970</td><td> 3  </td><td> 9  </td><td> 0  </td></tr>\n",
       "\t<tr><th scope=row>5</th><td> 402</td><td>13  </td><td> 0  </td><td>15  </td><td>0   </td><td>NA  </td><td>NA  </td><td>2   </td><td>2   </td><td>2   </td><td>NA  </td><td>1969</td><td>NA  </td><td>13  </td><td> 0  </td></tr>\n",
       "\t<tr><th scope=row>6</th><td> 902</td><td> 9  </td><td> 0  </td><td>17  </td><td>0   </td><td> 1  </td><td>NA  </td><td>2   </td><td>2   </td><td>2   </td><td> 2  </td><td>1970</td><td> 4  </td><td> 9  </td><td> 0  </td></tr>\n",
       "\t<tr><th scope=row>9</th><td>1101</td><td> 4  </td><td> 0  </td><td>14  </td><td>0   </td><td> 1  </td><td>NA  </td><td>3   </td><td>3   </td><td>1   </td><td> 2  </td><td>1957</td><td> 1  </td><td> 4  </td><td> 0  </td></tr>\n",
       "</tbody>\n",
       "</table>\n"
      ],
      "text/latex": [
       "\\begin{tabular}{r|lllllllllllllll}\n",
       "  & pid & wstart\\_h & wstart\\_m & wend\\_h & wend\\_m & fixedwt & wtime & wspacesat & wsat & gend & wbonus & birth & comp\\_type & nwstart\\_h & nwstart\\_m\\\\\n",
       "\\hline\n",
       "\t1 &  101 &  7   &  0   & 18   & 0    &  2   & 24   & 3    & 3    & 2    &  2   & 1941 &  6   &  7   &  0  \\\\\n",
       "\t2 &  102 &  8   & 30   & 18   & 0    &  1   & NA   & 3    & 3    & 1    &  2   & 1968 &  1   &  8   & 30  \\\\\n",
       "\t4 &  401 &  9   &  0   & 18   & 0    &  1   & NA   & 2    & 2    & 1    &  2   & 1970 &  3   &  9   &  0  \\\\\n",
       "\t5 &  402 & 13   &  0   & 15   & 0    & NA   & NA   & 2    & 2    & 2    & NA   & 1969 & NA   & 13   &  0  \\\\\n",
       "\t6 &  902 &  9   &  0   & 17   & 0    &  1   & NA   & 2    & 2    & 2    &  2   & 1970 &  4   &  9   &  0  \\\\\n",
       "\t9 & 1101 &  4   &  0   & 14   & 0    &  1   & NA   & 3    & 3    & 1    &  2   & 1957 &  1   &  4   &  0  \\\\\n",
       "\\end{tabular}\n"
      ],
      "text/markdown": [
       "\n",
       "| <!--/--> | pid | wstart_h | wstart_m | wend_h | wend_m | fixedwt | wtime | wspacesat | wsat | gend | wbonus | birth | comp_type | nwstart_h | nwstart_m | \n",
       "|---|---|---|---|---|---|\n",
       "| 1 |  101 |  7   |  0   | 18   | 0    |  2   | 24   | 3    | 3    | 2    |  2   | 1941 |  6   |  7   |  0   | \n",
       "| 2 |  102 |  8   | 30   | 18   | 0    |  1   | NA   | 3    | 3    | 1    |  2   | 1968 |  1   |  8   | 30   | \n",
       "| 4 |  401 |  9   |  0   | 18   | 0    |  1   | NA   | 2    | 2    | 1    |  2   | 1970 |  3   |  9   |  0   | \n",
       "| 5 |  402 | 13   |  0   | 15   | 0    | NA   | NA   | 2    | 2    | 2    | NA   | 1969 | NA   | 13   |  0   | \n",
       "| 6 |  902 |  9   |  0   | 17   | 0    |  1   | NA   | 2    | 2    | 2    |  2   | 1970 |  4   |  9   |  0   | \n",
       "| 9 | 1101 |  4   |  0   | 14   | 0    |  1   | NA   | 3    | 3    | 1    |  2   | 1957 |  1   |  4   |  0   | \n",
       "\n",
       "\n"
      ],
      "text/plain": [
       "  pid  wstart_h wstart_m wend_h wend_m fixedwt wtime wspacesat wsat gend wbonus\n",
       "1  101  7        0       18     0       2      24    3         3    2     2    \n",
       "2  102  8       30       18     0       1      NA    3         3    1     2    \n",
       "4  401  9        0       18     0       1      NA    2         2    1     2    \n",
       "5  402 13        0       15     0      NA      NA    2         2    2    NA    \n",
       "6  902  9        0       17     0       1      NA    2         2    2     2    \n",
       "9 1101  4        0       14     0       1      NA    3         3    1     2    \n",
       "  birth comp_type nwstart_h nwstart_m\n",
       "1 1941   6         7         0       \n",
       "2 1968   1         8        30       \n",
       "4 1970   3         9         0       \n",
       "5 1969  NA        13         0       \n",
       "6 1970   4         9         0       \n",
       "9 1957   1         4         0       "
      ]
     },
     "metadata": {},
     "output_type": "display_data"
    }
   ],
   "source": [
    "head(nrdt_i)"
   ]
  },
  {
   "cell_type": "markdown",
   "metadata": {},
   "source": [
    "```wstart_h```와 ```wstart_m```에 ```NA```가 있는 행들이 제거되었다."
   ]
  },
  {
   "cell_type": "code",
   "execution_count": 62,
   "metadata": {
    "scrolled": false
   },
   "outputs": [],
   "source": [
    "nrdt_i$nwstart_m <- ifelse(nrdt_i$nwstart_m == \"0\", \"00\", nrdt_i$nwstart_m)\n",
    "nrdt_i$nwstart_m <- ifelse(nrdt_i$nwstart_m == \"1\", \"01\", nrdt_i$nwstart_m)\n",
    "nrdt_i$nwstart_m <- ifelse(nrdt_i$nwstart_m == \"2\", \"02\", nrdt_i$nwstart_m)\n",
    "nrdt_i$nwstart_m <- ifelse(nrdt_i$nwstart_m == \"3\", \"03\", nrdt_i$nwstart_m)\n",
    "nrdt_i$nwstart_m <- ifelse(nrdt_i$nwstart_m == \"4\", \"04\", nrdt_i$nwstart_m)\n",
    "nrdt_i$nwstart_m <- ifelse(nrdt_i$nwstart_m == \"5\", \"05\", nrdt_i$nwstart_m)\n",
    "nrdt_i$nwstart_m <- ifelse(nrdt_i$nwstart_m == \"6\", \"06\", nrdt_i$nwstart_m)\n",
    "nrdt_i$nwstart_m <- ifelse(nrdt_i$nwstart_m == \"7\", \"07\", nrdt_i$nwstart_m)\n",
    "nrdt_i$nwstart_m <- ifelse(nrdt_i$nwstart_m == \"8\", \"08\", nrdt_i$nwstart_m)\n",
    "nrdt_i$nwstart_m <- ifelse(nrdt_i$nwstart_m == \"9\", \"09\", nrdt_i$nwstart_m)"
   ]
  },
  {
   "cell_type": "markdown",
   "metadata": {},
   "source": [
    "0분을 00분, 1분을 01분 (...) 으로 만드는 작업을 수행했다.    \n",
    "(예를 들어 오전 7시를 700, 오후 1시 30분을 1330처럼 나타내기 위함이다.)"
   ]
  },
  {
   "cell_type": "code",
   "execution_count": 63,
   "metadata": {},
   "outputs": [],
   "source": [
    "nrdt_i$nwstart <- paste(nrdt_i$nwstart_h, nrdt_i$nwstart_m, sep = \"\")"
   ]
  },
  {
   "cell_type": "markdown",
   "metadata": {},
   "source": [
    "```nwstart_h```와 ```nwstart_m```을 ```nwstart```로 합친다."
   ]
  },
  {
   "cell_type": "markdown",
   "metadata": {},
   "source": [
    "(-Inf, 700), (700, 300), ... (1000, Inf)로 범주화한다. 범주화는 인사혁신처의 유연근로제 기준(http://www.mpm.go.kr/mpm/info/infoService/BizService10/)에 근거하여 수행했다."
   ]
  },
  {
   "cell_type": "code",
   "execution_count": 64,
   "metadata": {
    "scrolled": true
   },
   "outputs": [
    {
     "data": {
      "text/html": [
       "'character'"
      ],
      "text/latex": [
       "'character'"
      ],
      "text/markdown": [
       "'character'"
      ],
      "text/plain": [
       "[1] \"character\""
      ]
     },
     "metadata": {},
     "output_type": "display_data"
    }
   ],
   "source": [
    "typeof(nrdt_i$nwstart)"
   ]
  },
  {
   "cell_type": "markdown",
   "metadata": {},
   "source": [
    "숫자처럼 보이지만 문자형이다. 문자형으로 저장된 경우 ```cut```할 수 없으므로 integer로 만들어준 다음 ```cut```한다."
   ]
  },
  {
   "cell_type": "code",
   "execution_count": 65,
   "metadata": {},
   "outputs": [],
   "source": [
    "nrdt_i$nwstart <- strtoi(nrdt_i$nwstart)"
   ]
  },
  {
   "cell_type": "code",
   "execution_count": 66,
   "metadata": {},
   "outputs": [],
   "source": [
    "nrdt_i$nwstart_c <- cut(nrdt_i$nwstart,\n",
    "                       breaks = c(700, 730, 800, 830, 900, 930, 1001),\n",
    "                       right = FALSE, labels = c(\"A\", \"B\", \"C\", \"D\", \"E\", \"F\"))"
   ]
  },
  {
   "cell_type": "markdown",
   "metadata": {},
   "source": [
    "A : 7시 ~ 7시 30분   \n",
    "B : 7시 30분 ~ 8시   \n",
    "C : 8시 ~ 8시 30분    \n",
    "D : 8시 30분 ~ 9시    \n",
    "E : 9시 ~ 9시 30분   \n",
    "F : 9시 30분 ~ 10시  \n",
    "    \n",
    "로 범주화했다. 이 범주 외의 값은 ```NA```로 만들어 제거한다."
   ]
  },
  {
   "cell_type": "code",
   "execution_count": 67,
   "metadata": {},
   "outputs": [
    {
     "data": {
      "text/html": [
       "<dl class=dl-horizontal>\n",
       "\t<dt>A</dt>\n",
       "\t\t<dd>438</dd>\n",
       "\t<dt>B</dt>\n",
       "\t\t<dd>214</dd>\n",
       "\t<dt>C</dt>\n",
       "\t\t<dd>1157</dd>\n",
       "\t<dt>D</dt>\n",
       "\t\t<dd>1090</dd>\n",
       "\t<dt>E</dt>\n",
       "\t\t<dd>2210</dd>\n",
       "\t<dt>F</dt>\n",
       "\t\t<dd>735</dd>\n",
       "\t<dt>NA's</dt>\n",
       "\t\t<dd>1389</dd>\n",
       "</dl>\n"
      ],
      "text/latex": [
       "\\begin{description*}\n",
       "\\item[A] 438\n",
       "\\item[B] 214\n",
       "\\item[C] 1157\n",
       "\\item[D] 1090\n",
       "\\item[E] 2210\n",
       "\\item[F] 735\n",
       "\\item[NA's] 1389\n",
       "\\end{description*}\n"
      ],
      "text/markdown": [
       "A\n",
       ":   438B\n",
       ":   214C\n",
       ":   1157D\n",
       ":   1090E\n",
       ":   2210F\n",
       ":   735NA's\n",
       ":   1389\n",
       "\n"
      ],
      "text/plain": [
       "   A    B    C    D    E    F NA's \n",
       " 438  214 1157 1090 2210  735 1389 "
      ]
     },
     "metadata": {},
     "output_type": "display_data"
    }
   ],
   "source": [
    "summary(nrdt_i$nwstart_c)"
   ]
  },
  {
   "cell_type": "markdown",
   "metadata": {},
   "source": [
    "A : 7시 ~ 7시 30분   \n",
    "B : 7시 30분 ~ 8시   \n",
    "C : 8시 ~ 8시 30분    \n",
    "D : 8시 30분 ~ 9시    \n",
    "E : 9시 ~ 9시 30분   \n",
    "F : 9시 30분 ~ 10시    \n",
    "   \n",
    "```summary``` 함수로 각 범주별 사례수를 확인 가능하며 (```NA```는 범주에 포함되지 않는 사례이다.)"
   ]
  },
  {
   "cell_type": "code",
   "execution_count": 68,
   "metadata": {},
   "outputs": [
    {
     "data": {
      "image/png": "[encoded data removed]",
      "text/plain": [
       "plot without title"
      ]
     },
     "metadata": {},
     "output_type": "display_data"
    }
   ],
   "source": [
    "plot(nrdt_i$nwstart_c)"
   ]
  },
  {
   "cell_type": "markdown",
   "metadata": {},
   "source": [
    "출근 시간의 범주를 막대그래프로 볼 수 있다. ```E``` 범주, 즉 9시 ~ 9시 30분 출근의 사례수가 가장 많다."
   ]
  },
  {
   "cell_type": "markdown",
   "metadata": {},
   "source": [
    "설명변수 클리닝을 ```nrdt_i$nwstart_c```로 완료하였다."
   ]
  },
  {
   "cell_type": "markdown",
   "metadata": {},
   "source": [
    "## 종속변수(전반적일자리만족도) 클리닝"
   ]
  },
  {
   "cell_type": "code",
   "execution_count": 69,
   "metadata": {},
   "outputs": [
    {
     "data": {
      "text/plain": [
       "   Min. 1st Qu.  Median    Mean 3rd Qu.    Max. \n",
       " -1.000   2.000   3.000   2.698   3.000   5.000 "
      ]
     },
     "metadata": {},
     "output_type": "display_data"
    }
   ],
   "source": [
    "summary(nrdt_i$wspacesat)"
   ]
  },
  {
   "cell_type": "markdown",
   "metadata": {},
   "source": [
    "모름/무응답 을 ```NA```로 처리해야 한다."
   ]
  },
  {
   "cell_type": "code",
   "execution_count": 70,
   "metadata": {},
   "outputs": [],
   "source": [
    "nrdt_i$nwspacesat <- ifelse(nrdt_i$wspacesat == -1, NA, nrdt_i$wspacesat)"
   ]
  },
  {
   "cell_type": "markdown",
   "metadata": {},
   "source": [
    "```-1```인 경우 ```NA```로, 그렇지 않을 경우 ```nrdt_i$wspacesat```을 그대로 가진다."
   ]
  },
  {
   "cell_type": "code",
   "execution_count": 71,
   "metadata": {},
   "outputs": [
    {
     "data": {
      "text/html": [
       "<dl class=dl-horizontal>\n",
       "\t<dt>pid</dt>\n",
       "\t\t<dd>0</dd>\n",
       "\t<dt>wstart_h</dt>\n",
       "\t\t<dd>0</dd>\n",
       "\t<dt>wstart_m</dt>\n",
       "\t\t<dd>0</dd>\n",
       "\t<dt>wend_h</dt>\n",
       "\t\t<dd>0</dd>\n",
       "\t<dt>wend_m</dt>\n",
       "\t\t<dd>0</dd>\n",
       "\t<dt>fixedwt</dt>\n",
       "\t\t<dd>2120</dd>\n",
       "\t<dt>wtime</dt>\n",
       "\t\t<dd>6505</dd>\n",
       "\t<dt>wspacesat</dt>\n",
       "\t\t<dd>0</dd>\n",
       "\t<dt>wsat</dt>\n",
       "\t\t<dd>0</dd>\n",
       "\t<dt>gend</dt>\n",
       "\t\t<dd>0</dd>\n",
       "\t<dt>wbonus</dt>\n",
       "\t\t<dd>2120</dd>\n",
       "\t<dt>birth</dt>\n",
       "\t\t<dd>0</dd>\n",
       "\t<dt>comp_type</dt>\n",
       "\t\t<dd>2120</dd>\n",
       "\t<dt>nwstart_h</dt>\n",
       "\t\t<dd>0</dd>\n",
       "\t<dt>nwstart_m</dt>\n",
       "\t\t<dd>0</dd>\n",
       "\t<dt>nwstart</dt>\n",
       "\t\t<dd>0</dd>\n",
       "\t<dt>nwstart_c</dt>\n",
       "\t\t<dd>1381</dd>\n",
       "\t<dt>nwspacesat</dt>\n",
       "\t\t<dd>0</dd>\n",
       "</dl>\n"
      ],
      "text/latex": [
       "\\begin{description*}\n",
       "\\item[pid] 0\n",
       "\\item[wstart\\textbackslash{}\\_h] 0\n",
       "\\item[wstart\\textbackslash{}\\_m] 0\n",
       "\\item[wend\\textbackslash{}\\_h] 0\n",
       "\\item[wend\\textbackslash{}\\_m] 0\n",
       "\\item[fixedwt] 2120\n",
       "\\item[wtime] 6505\n",
       "\\item[wspacesat] 0\n",
       "\\item[wsat] 0\n",
       "\\item[gend] 0\n",
       "\\item[wbonus] 2120\n",
       "\\item[birth] 0\n",
       "\\item[comp\\textbackslash{}\\_type] 2120\n",
       "\\item[nwstart\\textbackslash{}\\_h] 0\n",
       "\\item[nwstart\\textbackslash{}\\_m] 0\n",
       "\\item[nwstart] 0\n",
       "\\item[nwstart\\textbackslash{}\\_c] 1381\n",
       "\\item[nwspacesat] 0\n",
       "\\end{description*}\n"
      ],
      "text/markdown": [
       "pid\n",
       ":   0wstart_h\n",
       ":   0wstart_m\n",
       ":   0wend_h\n",
       ":   0wend_m\n",
       ":   0fixedwt\n",
       ":   2120wtime\n",
       ":   6505wspacesat\n",
       ":   0wsat\n",
       ":   0gend\n",
       ":   0wbonus\n",
       ":   2120birth\n",
       ":   0comp_type\n",
       ":   2120nwstart_h\n",
       ":   0nwstart_m\n",
       ":   0nwstart\n",
       ":   0nwstart_c\n",
       ":   1381nwspacesat\n",
       ":   0\n",
       "\n"
      ],
      "text/plain": [
       "       pid   wstart_h   wstart_m     wend_h     wend_m    fixedwt      wtime \n",
       "         0          0          0          0          0       2120       6505 \n",
       " wspacesat       wsat       gend     wbonus      birth  comp_type  nwstart_h \n",
       "         0          0          0       2120          0       2120          0 \n",
       " nwstart_m    nwstart  nwstart_c nwspacesat \n",
       "         0          0       1381          0 "
      ]
     },
     "metadata": {},
     "output_type": "display_data"
    }
   ],
   "source": [
    "nrdt_i <- nrdt_i[complete.cases(nrdt_i[ , \"nwspacesat\"]), ]\n",
    "colSums(is.na(nrdt_i))"
   ]
  },
  {
   "cell_type": "markdown",
   "metadata": {},
   "source": [
    "```-1```로 코딩된 모름/무응답을 다시 ```NA```로 바꾼 다음 제거했다."
   ]
  },
  {
   "cell_type": "markdown",
   "metadata": {},
   "source": [
    "## 혼동변수 클리닝\n",
    "### 연령\n",
    "출생년도 ```birth```를 이용해 연령 ```age``` 혼동변수를 만들어 보자."
   ]
  },
  {
   "cell_type": "code",
   "execution_count": 72,
   "metadata": {},
   "outputs": [],
   "source": [
    "nrdt_i <- nrdt_i %>% \n",
    "  mutate(age = 2014-birth)"
   ]
  },
  {
   "cell_type": "markdown",
   "metadata": {},
   "source": [
    "조사년도인 2014년에서 출생년도를 빼서 연령을 계산했다."
   ]
  },
  {
   "cell_type": "markdown",
   "metadata": {},
   "source": [
    "### 기업형태"
   ]
  },
  {
   "cell_type": "code",
   "execution_count": 107,
   "metadata": {},
   "outputs": [],
   "source": [
    "nrdt_i$comp_type <- ifelse(nrdt_i$comp_type == -1, NA, nrdt_i$comp_type)\n",
    "nrdt_i$comp_type <- ifelse(nrdt_i$comp_type == 8, NA, nrdt_i$comp_type)"
   ]
  },
  {
   "cell_type": "code",
   "execution_count": 108,
   "metadata": {},
   "outputs": [],
   "source": [
    "nrdt_i$comp_type_c <- cut(nrdt_i$comp_type, breaks = c(1,2,3,4,5,6,7,8),\n",
    "                         right = FALSE,\n",
    "                         labels = c(\"A\", \"B\", \"C\", \"D\", \"E\", \"F\", \"G\"))"
   ]
  },
  {
   "cell_type": "code",
   "execution_count": 109,
   "metadata": {},
   "outputs": [
    {
     "data": {
      "text/html": [
       "<dl class=dl-horizontal>\n",
       "\t<dt>A</dt>\n",
       "\t\t<dd>3287</dd>\n",
       "\t<dt>B</dt>\n",
       "\t\t<dd>32</dd>\n",
       "\t<dt>C</dt>\n",
       "\t\t<dd>222</dd>\n",
       "\t<dt>D</dt>\n",
       "\t\t<dd>209</dd>\n",
       "\t<dt>E</dt>\n",
       "\t\t<dd>358</dd>\n",
       "\t<dt>F</dt>\n",
       "\t\t<dd>100</dd>\n",
       "\t<dt>G</dt>\n",
       "\t\t<dd>26</dd>\n",
       "\t<dt>NA's</dt>\n",
       "\t\t<dd>1497</dd>\n",
       "</dl>\n"
      ],
      "text/latex": [
       "\\begin{description*}\n",
       "\\item[A] 3287\n",
       "\\item[B] 32\n",
       "\\item[C] 222\n",
       "\\item[D] 209\n",
       "\\item[E] 358\n",
       "\\item[F] 100\n",
       "\\item[G] 26\n",
       "\\item[NA's] 1497\n",
       "\\end{description*}\n"
      ],
      "text/markdown": [
       "A\n",
       ":   3287B\n",
       ":   32C\n",
       ":   222D\n",
       ":   209E\n",
       ":   358F\n",
       ":   100G\n",
       ":   26NA's\n",
       ":   1497\n",
       "\n"
      ],
      "text/plain": [
       "   A    B    C    D    E    F    G NA's \n",
       "3287   32  222  209  358  100   26 1497 "
      ]
     },
     "metadata": {},
     "output_type": "display_data"
    }
   ],
   "source": [
    "summary(nrdt_i$comp_type_c)"
   ]
  },
  {
   "cell_type": "markdown",
   "metadata": {},
   "source": [
    "기업형태 범주 중 ```-1```은 모름/무응답, ```8```은 기타이므로 ```NA```로 만든다"
   ]
  },
  {
   "cell_type": "markdown",
   "metadata": {},
   "source": [
    "### 성과급제여부"
   ]
  },
  {
   "cell_type": "code",
   "execution_count": 74,
   "metadata": {},
   "outputs": [],
   "source": [
    "nrdt_i$wbonus <- ifelse(nrdt_i$wbonus == -1, NA, nrdt_i$wbonus)\n",
    "nrdt_i$wbonus <- ifelse(nrdt_i$wbonus == 3, NA, nrdt_i$wbonus)"
   ]
  },
  {
   "cell_type": "code",
   "execution_count": 111,
   "metadata": {},
   "outputs": [],
   "source": [
    "nrdt_i$wbonus_c <- cut(nrdt_i$comp_type, breaks = c(1,2,3),\n",
    "                         right = FALSE,\n",
    "                         labels = c(\"A\", \"B\"))"
   ]
  },
  {
   "cell_type": "code",
   "execution_count": 112,
   "metadata": {},
   "outputs": [
    {
     "data": {
      "text/html": [
       "<dl class=dl-horizontal>\n",
       "\t<dt>A</dt>\n",
       "\t\t<dd>3287</dd>\n",
       "\t<dt>B</dt>\n",
       "\t\t<dd>32</dd>\n",
       "\t<dt>NA's</dt>\n",
       "\t\t<dd>2412</dd>\n",
       "</dl>\n"
      ],
      "text/latex": [
       "\\begin{description*}\n",
       "\\item[A] 3287\n",
       "\\item[B] 32\n",
       "\\item[NA's] 2412\n",
       "\\end{description*}\n"
      ],
      "text/markdown": [
       "A\n",
       ":   3287B\n",
       ":   32NA's\n",
       ":   2412\n",
       "\n"
      ],
      "text/plain": [
       "   A    B NA's \n",
       "3287   32 2412 "
      ]
     },
     "metadata": {},
     "output_type": "display_data"
    }
   ],
   "source": [
    "summary(nrdt_i$wbonus_c)"
   ]
  },
  {
   "cell_type": "markdown",
   "metadata": {},
   "source": [
    "A : 예   \n",
    "B : 아니오"
   ]
  },
  {
   "cell_type": "markdown",
   "metadata": {},
   "source": [
    "성과급제여부 범주 중 ```-1```은  모름/무응답, ```3```은 모른다 이므로 ```NA```로 만든다."
   ]
  },
  {
   "cell_type": "markdown",
   "metadata": {},
   "source": [
    "### 성별"
   ]
  },
  {
   "cell_type": "code",
   "execution_count": 75,
   "metadata": {},
   "outputs": [],
   "source": [
    "nrdt_i$gend <- ifelse(nrdt_i$gend == -1, NA, nrdt_i$gend)"
   ]
  },
  {
   "cell_type": "code",
   "execution_count": 114,
   "metadata": {
    "scrolled": true
   },
   "outputs": [],
   "source": [
    "nrdt_i$gend_c <- cut(nrdt_i$gend, breaks = c(1,2,3),\n",
    "                         right = FALSE,\n",
    "                         labels = c(\"A\", \"B\"))"
   ]
  },
  {
   "cell_type": "code",
   "execution_count": 115,
   "metadata": {},
   "outputs": [
    {
     "data": {
      "text/html": [
       "<dl class=dl-horizontal>\n",
       "\t<dt>A</dt>\n",
       "\t\t<dd>3468</dd>\n",
       "\t<dt>B</dt>\n",
       "\t\t<dd>2263</dd>\n",
       "</dl>\n"
      ],
      "text/latex": [
       "\\begin{description*}\n",
       "\\item[A] 3468\n",
       "\\item[B] 2263\n",
       "\\end{description*}\n"
      ],
      "text/markdown": [
       "A\n",
       ":   3468B\n",
       ":   2263\n",
       "\n"
      ],
      "text/plain": [
       "   A    B \n",
       "3468 2263 "
      ]
     },
     "metadata": {},
     "output_type": "display_data"
    }
   ],
   "source": [
    "summary(nrdt_i$gend_c)"
   ]
  },
  {
   "cell_type": "markdown",
   "metadata": {},
   "source": [
    "A : 남성   \n",
    "B : 여성"
   ]
  },
  {
   "cell_type": "markdown",
   "metadata": {},
   "source": [
    "성별 범주 중 ```-1```은 모름/무응답이므로 ```NA```로 만든다."
   ]
  },
  {
   "cell_type": "markdown",
   "metadata": {},
   "source": [
    "### 정규근로시간여부"
   ]
  },
  {
   "cell_type": "code",
   "execution_count": 117,
   "metadata": {},
   "outputs": [],
   "source": [
    "nrdt_i$fixedwt <- ifelse(nrdt_i$fixedwt == -1, NA, nrdt_i$fixedwt)\n",
    "nrdt_i$fixedwt <- ifelse(nrdt_i$fixedwt == 2, NA, nrdt_i$fixedwt)"
   ]
  },
  {
   "cell_type": "markdown",
   "metadata": {},
   "source": [
    "정규근로시간여부 중 ```-1```은 모름/무응답, ```2```은 아니오이므로 ```NA```으로 만든다. (정규근로시간이 없는 사람은 연구관심 밖이므로 제거)"
   ]
  },
  {
   "cell_type": "markdown",
   "metadata": {},
   "source": [
    "### 전반적일만족도"
   ]
  },
  {
   "cell_type": "code",
   "execution_count": 78,
   "metadata": {},
   "outputs": [],
   "source": [
    "nrdt_i$wsat <- ifelse(nrdt_i$wsat == -1, NA, nrdt_i$wsat)"
   ]
  },
  {
   "cell_type": "markdown",
   "metadata": {},
   "source": [
    "전반적일만족도 중 ```-1```은 모름/무응답이므로 ```NA```로 만든다."
   ]
  },
  {
   "cell_type": "markdown",
   "metadata": {},
   "source": [
    "### 근로시간\n",
    "출근시간과 퇴근시간의 차이로 근로시간을 계산한다."
   ]
  },
  {
   "cell_type": "code",
   "execution_count": 79,
   "metadata": {},
   "outputs": [],
   "source": [
    "nrdt_i$wend_h <- ifelse(nrdt_i$wend_h == -1, NA, nrdt_i$wend_h)\n",
    "nrdt_i$wend_m <- ifelse(nrdt_i$wend_m == -1, NA, nrdt_i$wend_m)"
   ]
  },
  {
   "cell_type": "markdown",
   "metadata": {},
   "source": [
    "퇴근 시간과 분에서 ```-1```은 모름/무응답이므로 ```NA```로 만든다."
   ]
  },
  {
   "cell_type": "code",
   "execution_count": 80,
   "metadata": {},
   "outputs": [],
   "source": [
    "nrdt_i$wend_m <- ifelse(nrdt_i$wend_m == \"0\", \"00\", nrdt_i$wend_m)\n",
    "nrdt_i$wend_m <- ifelse(nrdt_i$wend_m == \"1\", \"01\", nrdt_i$wend_m)\n",
    "nrdt_i$wend_m <- ifelse(nrdt_i$wend_m == \"2\", \"02\", nrdt_i$wend_m)\n",
    "nrdt_i$wend_m <- ifelse(nrdt_i$wend_m == \"3\", \"03\", nrdt_i$wend_m)\n",
    "nrdt_i$wend_m <- ifelse(nrdt_i$wend_m == \"4\", \"04\", nrdt_i$wend_m)\n",
    "nrdt_i$wend_m <- ifelse(nrdt_i$wend_m == \"5\", \"05\", nrdt_i$wend_m)\n",
    "nrdt_i$wend_m <- ifelse(nrdt_i$wend_m == \"6\", \"06\", nrdt_i$wend_m)\n",
    "nrdt_i$wend_m <- ifelse(nrdt_i$wend_m == \"7\", \"07\", nrdt_i$wend_m)\n",
    "nrdt_i$wend_m <- ifelse(nrdt_i$wend_m == \"8\", \"08\", nrdt_i$wend_m)\n",
    "nrdt_i$wend_m <- ifelse(nrdt_i$wend_m == \"9\", \"09\", nrdt_i$wend_m)"
   ]
  },
  {
   "cell_type": "markdown",
   "metadata": {},
   "source": [
    "0분을 00분, 1분을 01분 (...) 으로 만드는 작업을 수행했다."
   ]
  },
  {
   "cell_type": "code",
   "execution_count": 81,
   "metadata": {},
   "outputs": [],
   "source": [
    "nrdt_i$nwstart_t <- (strtoi(nrdt_i$nwstart_m)+(strtoi(nrdt_i$nwstart_h)*60))\n",
    "nrdt_i$wend_t <- (strtoi(nrdt_i$wend_m)+(strtoi(nrdt_i$wend_h)*60))"
   ]
  },
  {
   "cell_type": "markdown",
   "metadata": {},
   "source": [
    "계산의 편의를 위해 출근시간과 퇴근시간을 분 단위로 표시한다."
   ]
  },
  {
   "cell_type": "code",
   "execution_count": 82,
   "metadata": {},
   "outputs": [],
   "source": [
    "nrdt_i$w_time_m <- nrdt_i$wend_t - nrdt_i$nwstart_t"
   ]
  },
  {
   "cell_type": "markdown",
   "metadata": {},
   "source": [
    "출근시간과 퇴근시간의 차이로 근무시간을 설명한다. 이때 근무시간은 분 단위"
   ]
  },
  {
   "cell_type": "code",
   "execution_count": 83,
   "metadata": {},
   "outputs": [],
   "source": [
    "nrdt_i <- nrdt_i %>% filter(nrdt_i$nwstart>=700 & nrdt_i$nwstart<1001)"
   ]
  },
  {
   "cell_type": "markdown",
   "metadata": {},
   "source": [
    "유연근무제 적용 시 출근 시간인 오전 7시(```700```)와 오전 10시(```1001```) 사이의 값들만 남긴다."
   ]
  },
  {
   "cell_type": "code",
   "execution_count": 84,
   "metadata": {},
   "outputs": [],
   "source": [
    "nrdt_i$w_time <- nrdt_i$w_time_m/60"
   ]
  },
  {
   "cell_type": "markdown",
   "metadata": {},
   "source": [
    "분 단위로 만들어진 근무시간을 시간 단위로 변환한다."
   ]
  },
  {
   "cell_type": "code",
   "execution_count": 85,
   "metadata": {},
   "outputs": [],
   "source": [
    "nrdt_i <- nrdt_i %>% filter(nrdt_i$w_time>0)"
   ]
  },
  {
   "cell_type": "markdown",
   "metadata": {},
   "source": [
    "근무시간이 양수인 값들만 남긴다."
   ]
  },
  {
   "cell_type": "markdown",
   "metadata": {},
   "source": [
    "## 최종 데이터 셋"
   ]
  },
  {
   "cell_type": "code",
   "execution_count": 118,
   "metadata": {},
   "outputs": [],
   "source": [
    "nrdt_attach <- data.frame(nrdt_i$pid, nrdt_i$nwstart_c, nrdt_i$wspacesat, nrdt_i$w_time, nrdt_i$gend_c, nrdt_i$age, \n",
    "                          nrdt_i$comp_type_c, nrdt_i$wbonus_c, nrdt_i$wsat)"
   ]
  },
  {
   "cell_type": "code",
   "execution_count": 119,
   "metadata": {},
   "outputs": [],
   "source": [
    "nrdt_names <- c(\"pid\", \"wstart\", \"wspacesat\", \"wtime\", \"gend\", \"age\", \"comp_type\", \"wbonus\", \"wsat\")\n",
    "names(nrdt_attach) <- nrdt_names"
   ]
  },
  {
   "cell_type": "code",
   "execution_count": 120,
   "metadata": {
    "scrolled": true
   },
   "outputs": [
    {
     "data": {
      "text/plain": [
       "      pid           nwstart    wspacesat         wtime          gend    \n",
       " Min.   :     101   A: 420   Min.   :1.000   Min.   : 0.01667   A:3468  \n",
       " 1st Qu.:  197452   B: 208   1st Qu.:2.000   1st Qu.: 9.00000   B:2263  \n",
       " Median :  360503   C:1126   Median :3.000   Median : 9.00000           \n",
       " Mean   : 1982144   D:1075   Mean   :2.699   Mean   : 9.49928           \n",
       " 3rd Qu.:  599202   E:2181   3rd Qu.:3.000   3rd Qu.:10.50000           \n",
       " Max.   :11014502   F: 721   Max.   :5.000   Max.   :17.00000           \n",
       "                                                                        \n",
       "      age         comp_type     wbonus          wsat      \n",
       " Min.   :18.0   A      :3287   A   :3287   Min.   :1.000  \n",
       " 1st Qu.:37.0   E      : 358   B   :  32   1st Qu.:2.000  \n",
       " Median :45.0   C      : 222   NA's:2412   Median :3.000  \n",
       " Mean   :45.9   D      : 209               Mean   :2.643  \n",
       " 3rd Qu.:55.0   F      : 100               3rd Qu.:3.000  \n",
       " Max.   :84.0   (Other):  58               Max.   :5.000  \n",
       "                NA's   :1497                              "
      ]
     },
     "metadata": {},
     "output_type": "display_data"
    }
   ],
   "source": [
    "summary(nrdt_attach)"
   ]
  },
  {
   "cell_type": "markdown",
   "metadata": {},
   "source": [
    "pid : pid   \n",
    "wstart : 출근시간 (범주형)   \n",
    "wspacesat : 전반적일자리만족도 (연속형)     \n",
    "wtime : 일일 근로시간 (연속형)   \n",
    "gend : 성별 (이분형)    \n",
    "age : 연령 (연속형)  \n",
    "comp_type : 기업형태 (범주형)   \n",
    "wbonus : 성과급제여부 (이분형)    \n",
    "wsat : 전반적일만족도 (연속형)  "
   ]
  }
 ],
 "metadata": {
  "kernelspec": {
   "display_name": "R",
   "language": "R",
   "name": "ir"
  },
  "language_info": {
   "codemirror_mode": "r",
   "file_extension": ".r",
   "mimetype": "text/x-r-source",
   "name": "R",
   "pygments_lexer": "r",
   "version": "3.5.1"
  }
 },
 "nbformat": 4,
 "nbformat_minor": 2
}
