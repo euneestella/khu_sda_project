{
 "cells": [
  {
   "cell_type": "markdown",
   "metadata": {},
   "source": [
    "### 변수명 정리\n",
    "(원 변수명, 새로운 변수명, 변수 설명 순으로 정리)\n",
    "           \n",
    "pid : pid (pid)     \n",
    "a177102 : wstart_h (업무 시작 시)    \n",
    "a177103 : wstart_m (업무 시작 분)    \n",
    "a177104 : wend_d (업무 종료 일)   \n",
    "p174301 : jobsat  (직무만족도)    \n",
    "p171003 : fixedwt (정규근로시간여부)     \n",
    "p171004 : wtime (주당 평균 근로시간)    \n",
    "p174321 : wspacesat (전반적일자리만족도)    \n",
    "p174322 : wsat (전반적일만족도)    \n",
    "p175501 : marri (혼인상태)     \n",
    "p179071 : childbirth (자녀 출산경험 유무)    \n",
    "p170314 : jobty (종사상지위)    \n",
    "p170101: gend (성별)    \n",
    "p171621: wbonus (성과급제여부)   \n",
    "p170104: birth (생년)    \n",
    "p170401: comp_type (기업형태)    \n"
   ]
  },
  {
   "cell_type": "markdown",
   "metadata": {},
   "source": [
    "필요한 패키지 설치 (dplyr는 혹시 몰라서 함께 설치함)"
   ]
  },
  {
   "cell_type": "code",
   "execution_count": 4,
   "metadata": {
    "scrolled": true
   },
   "outputs": [
    {
     "name": "stderr",
     "output_type": "stream",
     "text": [
      "Warning message:\n",
      "\"unable to access index for repository http://www.stats.ox.ac.uk/pub/RWin/bin/windows/contrib/3.5:\n",
      "  URL 'http://www.stats.ox.ac.uk/pub/RWin/bin/windows/contrib/3.5/PACKAGES'를 열 수 없습니다\"Warning message:\n",
      "\"package 'foreign' is in use and will not be installed\"Warning message:\n",
      "\"unable to access index for repository http://www.stats.ox.ac.uk/pub/RWin/bin/windows/contrib/3.5:\n",
      "  URL 'http://www.stats.ox.ac.uk/pub/RWin/bin/windows/contrib/3.5/PACKAGES'를 열 수 없습니다\"Warning message:\n",
      "\"package 'dplyr' is in use and will not be installed\""
     ]
    }
   ],
   "source": [
    "install.packages(\"foreign\")\n",
    "install.packages(\"dplyr\")\n",
    "library(foreign)\n",
    "library(dplyr)"
   ]
  },
  {
   "cell_type": "markdown",
   "metadata": {},
   "source": [
    "```read.spss``` 명령어 활용해 자료 불러오기( 부가조사, 개인별)"
   ]
  },
  {
   "cell_type": "code",
   "execution_count": 6,
   "metadata": {},
   "outputs": [],
   "source": [
    "dt17_a <- read.spss(\"C:/Users/eunee/khu_sda_project/data/klips17a.sav\",\n",
    "                   use.value.labels = FALSE, to.data.frame = TRUE)\n",
    "dt17_p <- read.spss(\"C:/Users/eunee/khu_sda_project/data/klips17p_i.sav\",\n",
    "                   use.value.labels = FALSE, to.data.frame = TRUE)"
   ]
  },
  {
   "cell_type": "markdown",
   "metadata": {},
   "source": [
    "### 부가조사 : ```rdt_a```"
   ]
  },
  {
   "cell_type": "code",
   "execution_count": 19,
   "metadata": {
    "scrolled": true
   },
   "outputs": [
    {
     "name": "stdout",
     "output_type": "stream",
     "text": [
      "'data.frame':\t11686 obs. of  4 variables:\n",
      " $ pid     : num  101 401 402 902 501401 ...\n",
      " $ wstart_h: num  7 9 13 9 9 NA 4 10 9 NA ...\n",
      " $ wstart_m: num  0 0 0 0 0 NA 0 30 0 NA ...\n",
      " $ wend_d  : num  1 1 1 1 1 NA 1 1 1 NA ...\n"
     ]
    }
   ],
   "source": [
    "rdt_a <- subset(dt17_a,\n",
    "             select = c(pid, a177102, a177103, a177104))\n",
    "names(rdt_a) <- c(\"pid\", \"wstart_h\", \"wstart_m\", \"wend_d\")\n",
    "str(rdt_a)"
   ]
  },
  {
   "cell_type": "markdown",
   "metadata": {},
   "source": [
    "### 개인별 : ```rdt_p```"
   ]
  },
  {
   "cell_type": "code",
   "execution_count": 18,
   "metadata": {
    "scrolled": true
   },
   "outputs": [
    {
     "name": "stdout",
     "output_type": "stream",
     "text": [
      "'data.frame':\t13168 obs. of  13 variables:\n",
      " $ pid       : num  101 102 201 202 203 401 402 602 902 903 ...\n",
      " $ jobsat    : num  4 3 3 3 NA 4 4 3 4 NA ...\n",
      " $ fixedwt   : num  2 1 1 1 NA 1 NA 1 1 NA ...\n",
      " $ wtime     : num  24 NA NA NA NA NA NA NA NA NA ...\n",
      " $ wspacesat : num  3 3 3 3 NA 2 2 3 2 NA ...\n",
      " $ wsat      : num  3 3 3 3 NA 2 2 3 2 NA ...\n",
      " $ marri     : num  5 5 4 4 2 2 2 5 2 2 ...\n",
      " $ childbirth: num  NA NA NA NA NA NA NA NA NA NA ...\n",
      " $ jobty     : num  3 3 3 2 NA 1 4 2 1 NA ...\n",
      " $ gend      : num  2 1 1 2 2 1 2 2 2 2 ...\n",
      " $ wbonus    : num  2 2 2 2 NA 2 NA 2 2 NA ...\n",
      " $ birth     : num  1941 1968 1951 1954 1979 ...\n",
      " $ com_type  : num  6 1 1 1 NA 3 NA 3 4 NA ...\n"
     ]
    }
   ],
   "source": [
    "rdt_p <- subset(dt17_p,\n",
    "               select = c(pid, p174301, p171003, p171004, p174321, p174322, p175501, p179071, p170314, p170101, p171621, p170104, p170401))\n",
    "names(rdt_p) <- c(\"pid\", \"jobsat\", \"fixedwt\", \"wtime\", \"wspacesat\", \"wsat\", \"marri\", \"childbirth\", \"jobty\", \"gend\", \"wbonus\", \"birth\", \"com_type\")\n",
    "str(rdt_p)"
   ]
  },
  {
   "cell_type": "markdown",
   "metadata": {},
   "source": [
    "### ```rdt_i``` : ```rdt_a```, ```rdt_p``` 에 대한 merge(inner join)"
   ]
  },
  {
   "cell_type": "code",
   "execution_count": 25,
   "metadata": {},
   "outputs": [
    {
     "name": "stdout",
     "output_type": "stream",
     "text": [
      "'data.frame':\t11679 obs. of  16 variables:\n",
      " $ pid       : num  101 102 203 401 402 ...\n",
      " $ wstart_h  : num  7 8 NA 9 13 9 NA NA 4 10 ...\n",
      " $ wstart_m  : num  0 30 NA 0 0 0 NA NA 0 30 ...\n",
      " $ wend_d    : num  1 1 NA 1 1 1 NA NA 1 1 ...\n",
      " $ jobsat    : num  4 3 NA 4 4 4 NA NA 2 3 ...\n",
      " $ fixedwt   : num  2 1 NA 1 NA 1 NA NA 1 1 ...\n",
      " $ wtime     : num  24 NA NA NA NA NA NA NA NA NA ...\n",
      " $ wspacesat : num  3 3 NA 2 2 2 NA NA 3 3 ...\n",
      " $ wsat      : num  3 3 NA 2 2 2 NA NA 3 3 ...\n",
      " $ marri     : num  5 5 2 2 2 2 2 4 2 2 ...\n",
      " $ childbirth: num  NA NA NA NA NA NA NA NA NA NA ...\n",
      " $ jobty     : num  3 3 NA 1 4 1 NA NA 1 1 ...\n",
      " $ gend      : num  2 1 2 1 2 2 2 2 1 2 ...\n",
      " $ wbonus    : num  2 2 NA 2 NA 2 NA NA 2 2 ...\n",
      " $ birth     : num  1941 1968 1979 1970 1969 ...\n",
      " $ com_type  : num  6 1 NA 3 NA 4 NA NA 1 1 ...\n"
     ]
    }
   ],
   "source": [
    "rdt_i <- merge(rdt_a, rdt_p, by = \"pid\")\n",
    "str(rdt_i)"
   ]
  },
  {
   "cell_type": "markdown",
   "metadata": {},
   "source": [
    "### ```rdt_o``` : ```rdt_a```, ```rdt_p```에 대한 merge(outer join)"
   ]
  },
  {
   "cell_type": "code",
   "execution_count": 26,
   "metadata": {},
   "outputs": [
    {
     "name": "stdout",
     "output_type": "stream",
     "text": [
      "'data.frame':\t13175 obs. of  16 variables:\n",
      " $ pid       : num  101 102 201 202 203 401 402 602 902 903 ...\n",
      " $ wstart_h  : num  7 8 NA NA NA 9 13 NA 9 NA ...\n",
      " $ wstart_m  : num  0 30 NA NA NA 0 0 NA 0 NA ...\n",
      " $ wend_d    : num  1 1 NA NA NA 1 1 NA 1 NA ...\n",
      " $ jobsat    : num  4 3 3 3 NA 4 4 3 4 NA ...\n",
      " $ fixedwt   : num  2 1 1 1 NA 1 NA 1 1 NA ...\n",
      " $ wtime     : num  24 NA NA NA NA NA NA NA NA NA ...\n",
      " $ wspacesat : num  3 3 3 3 NA 2 2 3 2 NA ...\n",
      " $ wsat      : num  3 3 3 3 NA 2 2 3 2 NA ...\n",
      " $ marri     : num  5 5 4 4 2 2 2 5 2 2 ...\n",
      " $ childbirth: num  NA NA NA NA NA NA NA NA NA NA ...\n",
      " $ jobty     : num  3 3 3 2 NA 1 4 2 1 NA ...\n",
      " $ gend      : num  2 1 1 2 2 1 2 2 2 2 ...\n",
      " $ wbonus    : num  2 2 2 2 NA 2 NA 2 2 NA ...\n",
      " $ birth     : num  1941 1968 1951 1954 1979 ...\n",
      " $ com_type  : num  6 1 1 1 NA 3 NA 3 4 NA ...\n"
     ]
    }
   ],
   "source": [
    "rdt_o <- merge(rdt_a, rdt_p, by = \"pid\", all = TRUE)\n",
    "str(rdt_o)"
   ]
  }
 ],
 "metadata": {
  "kernelspec": {
   "display_name": "R",
   "language": "R",
   "name": "ir"
  },
  "language_info": {
   "codemirror_mode": "r",
   "file_extension": ".r",
   "mimetype": "text/x-r-source",
   "name": "R",
   "pygments_lexer": "r",
   "version": "3.5.1"
  }
 },
 "nbformat": 4,
 "nbformat_minor": 2
}
