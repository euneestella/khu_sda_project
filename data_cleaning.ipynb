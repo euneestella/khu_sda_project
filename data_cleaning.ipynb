{
 "cells": [
  {
   "cell_type": "markdown",
   "metadata": {},
   "source": [
    "### 변수명 정리\n",
    "(원 변수명, 새로운 변수명, 변수 설명 순으로 정리)\n",
    "\n",
    "pid : pid (pid)       \n",
    "a177102 : wstart_h (업무 시작 시)       \n",
    "a177103 : wstart_m (업무 시작 분)      \n",
    "a177104 : wend_d (업무 종료 일)      \n",
    "p174301 : jobsat (직무만족도)      \n",
    "p171003 : fixedwt (정규근로시간여부)      \n",
    "p171004 : wtime (주당 평균 근로시간)      \n",
    "p174321 : wspacesat (전반적일자리만족도)      \n",
    "p174322 : wsat (전반적일만족도)      \n",
    "p175501 : marri (혼인상태)      \n",
    "p179071 : childbirth (자녀 출산경험 유무)      \n",
    "p170314 : jobty (종사상지위)      \n",
    "p170101: gend (성별)      \n",
    "p171621: wbonus (성과급제여부)      \n",
    "p170104: birth (생년)      \n",
    "p170401: comp_type (기업형태)      "
   ]
  },
  {
   "cell_type": "code",
   "execution_count": 5,
   "metadata": {
    "scrolled": true
   },
   "outputs": [
    {
     "name": "stderr",
     "output_type": "stream",
     "text": [
      "Warning message:\n",
      "\"unable to access index for repository http://www.stats.ox.ac.uk/pub/RWin/bin/windows/contrib/3.5:\n",
      "  URL 'http://www.stats.ox.ac.uk/pub/RWin/bin/windows/contrib/3.5/PACKAGES'를 열 수 없습니다\"Warning message:\n",
      "\"package 'foreign' is in use and will not be installed\"Warning message:\n",
      "\"unable to access index for repository http://www.stats.ox.ac.uk/pub/RWin/bin/windows/contrib/3.5:\n",
      "  URL 'http://www.stats.ox.ac.uk/pub/RWin/bin/windows/contrib/3.5/PACKAGES'를 열 수 없습니다\"Warning message:\n",
      "\"package 'dplyr' is in use and will not be installed\""
     ]
    }
   ],
   "source": [
    "install.packages(\"foreign\")\n",
    "install.packages(\"dplyr\")\n",
    "library(foreign)\n",
    "library(dplyr)"
   ]
  },
  {
   "cell_type": "markdown",
   "metadata": {},
   "source": [
    "read.spss 명령어 활용해 자료 불러오기( 부가조사, 개인별)"
   ]
  },
  {
   "cell_type": "code",
   "execution_count": 6,
   "metadata": {},
   "outputs": [],
   "source": [
    "dt17_a <- read.spss(\"C:/Users/eunee/khu_sda_project/data/klips17a.sav\",\n",
    "                   use.value.labels = FALSE, to.data.frame = TRUE)\n",
    "dt17_p <- read.spss(\"C:/Users/eunee/khu_sda_project/data/klips17p_i.sav\",\n",
    "                   use.value.labels = FALSE, to.data.frame = TRUE)"
   ]
  },
  {
   "cell_type": "markdown",
   "metadata": {},
   "source": [
    "### 부가조사 : ```rdt_a```"
   ]
  },
  {
   "cell_type": "code",
   "execution_count": 7,
   "metadata": {
    "scrolled": true
   },
   "outputs": [
    {
     "name": "stdout",
     "output_type": "stream",
     "text": [
      "'data.frame':\t11686 obs. of  4 variables:\n",
      " $ pid     : num  101 401 402 902 501401 ...\n",
      " $ wstart_h: num  7 9 13 9 9 NA 4 10 9 NA ...\n",
      " $ wstart_m: num  0 0 0 0 0 NA 0 30 0 NA ...\n",
      " $ wend_d  : num  1 1 1 1 1 NA 1 1 1 NA ...\n"
     ]
    }
   ],
   "source": [
    "rdt_a <- subset(dt17_a,\n",
    "             select = c(pid, a177102, a177103, a177104))\n",
    "names(rdt_a) <- c(\"pid\", \"wstart_h\", \"wstart_m\", \"wend_d\")\n",
    "str(rdt_a)"
   ]
  },
  {
   "cell_type": "markdown",
   "metadata": {},
   "source": [
    "### 개인별 : ```rdt_p```"
   ]
  },
  {
   "cell_type": "code",
   "execution_count": 8,
   "metadata": {
    "scrolled": true
   },
   "outputs": [
    {
     "name": "stdout",
     "output_type": "stream",
     "text": [
      "'data.frame':\t13168 obs. of  13 variables:\n",
      " $ pid       : num  101 102 201 202 203 401 402 602 902 903 ...\n",
      " $ jobsat    : num  4 3 3 3 NA 4 4 3 4 NA ...\n",
      " $ fixedwt   : num  2 1 1 1 NA 1 NA 1 1 NA ...\n",
      " $ wtime     : num  24 NA NA NA NA NA NA NA NA NA ...\n",
      " $ wspacesat : num  3 3 3 3 NA 2 2 3 2 NA ...\n",
      " $ wsat      : num  3 3 3 3 NA 2 2 3 2 NA ...\n",
      " $ marri     : num  5 5 4 4 2 2 2 5 2 2 ...\n",
      " $ childbirth: num  NA NA NA NA NA NA NA NA NA NA ...\n",
      " $ jobty     : num  3 3 3 2 NA 1 4 2 1 NA ...\n",
      " $ gend      : num  2 1 1 2 2 1 2 2 2 2 ...\n",
      " $ wbonus    : num  2 2 2 2 NA 2 NA 2 2 NA ...\n",
      " $ birth     : num  1941 1968 1951 1954 1979 ...\n",
      " $ com_type  : num  6 1 1 1 NA 3 NA 3 4 NA ...\n"
     ]
    }
   ],
   "source": [
    "rdt_p <- subset(dt17_p,\n",
    "               select = c(pid, p174301, p171003, p171004, p174321, p174322, p175501, p179071, p170314, p170101, p171621, p170104, p170401))\n",
    "names(rdt_p) <- c(\"pid\", \"jobsat\", \"fixedwt\", \"wtime\", \"wspacesat\", \"wsat\", \"marri\", \"childbirth\", \"jobty\", \"gend\", \"wbonus\", \"birth\", \"com_type\")\n",
    "str(rdt_p)"
   ]
  },
  {
   "cell_type": "markdown",
   "metadata": {},
   "source": [
    "### ```rdt_i``` : ```rdt_a```, ```rdt_p``` 에 대한 merge(inner join)"
   ]
  },
  {
   "cell_type": "code",
   "execution_count": 9,
   "metadata": {},
   "outputs": [
    {
     "name": "stdout",
     "output_type": "stream",
     "text": [
      "'data.frame':\t11679 obs. of  16 variables:\n",
      " $ pid       : num  101 102 203 401 402 ...\n",
      " $ wstart_h  : num  7 8 NA 9 13 9 NA NA 4 10 ...\n",
      " $ wstart_m  : num  0 30 NA 0 0 0 NA NA 0 30 ...\n",
      " $ wend_d    : num  1 1 NA 1 1 1 NA NA 1 1 ...\n",
      " $ jobsat    : num  4 3 NA 4 4 4 NA NA 2 3 ...\n",
      " $ fixedwt   : num  2 1 NA 1 NA 1 NA NA 1 1 ...\n",
      " $ wtime     : num  24 NA NA NA NA NA NA NA NA NA ...\n",
      " $ wspacesat : num  3 3 NA 2 2 2 NA NA 3 3 ...\n",
      " $ wsat      : num  3 3 NA 2 2 2 NA NA 3 3 ...\n",
      " $ marri     : num  5 5 2 2 2 2 2 4 2 2 ...\n",
      " $ childbirth: num  NA NA NA NA NA NA NA NA NA NA ...\n",
      " $ jobty     : num  3 3 NA 1 4 1 NA NA 1 1 ...\n",
      " $ gend      : num  2 1 2 1 2 2 2 2 1 2 ...\n",
      " $ wbonus    : num  2 2 NA 2 NA 2 NA NA 2 2 ...\n",
      " $ birth     : num  1941 1968 1979 1970 1969 ...\n",
      " $ com_type  : num  6 1 NA 3 NA 4 NA NA 1 1 ...\n"
     ]
    }
   ],
   "source": [
    "rdt_i <- merge(rdt_a, rdt_p, by = \"pid\")\n",
    "str(rdt_i)"
   ]
  },
  {
   "cell_type": "markdown",
   "metadata": {},
   "source": [
    "### ```rdt_o``` : ```rdt_a```, ```rdt_p``` 에 대한 merge(outer join)"
   ]
  },
  {
   "cell_type": "code",
   "execution_count": 10,
   "metadata": {},
   "outputs": [
    {
     "name": "stdout",
     "output_type": "stream",
     "text": [
      "'data.frame':\t13175 obs. of  16 variables:\n",
      " $ pid       : num  101 102 201 202 203 401 402 602 902 903 ...\n",
      " $ wstart_h  : num  7 8 NA NA NA 9 13 NA 9 NA ...\n",
      " $ wstart_m  : num  0 30 NA NA NA 0 0 NA 0 NA ...\n",
      " $ wend_d    : num  1 1 NA NA NA 1 1 NA 1 NA ...\n",
      " $ jobsat    : num  4 3 3 3 NA 4 4 3 4 NA ...\n",
      " $ fixedwt   : num  2 1 1 1 NA 1 NA 1 1 NA ...\n",
      " $ wtime     : num  24 NA NA NA NA NA NA NA NA NA ...\n",
      " $ wspacesat : num  3 3 3 3 NA 2 2 3 2 NA ...\n",
      " $ wsat      : num  3 3 3 3 NA 2 2 3 2 NA ...\n",
      " $ marri     : num  5 5 4 4 2 2 2 5 2 2 ...\n",
      " $ childbirth: num  NA NA NA NA NA NA NA NA NA NA ...\n",
      " $ jobty     : num  3 3 3 2 NA 1 4 2 1 NA ...\n",
      " $ gend      : num  2 1 1 2 2 1 2 2 2 2 ...\n",
      " $ wbonus    : num  2 2 2 2 NA 2 NA 2 2 NA ...\n",
      " $ birth     : num  1941 1968 1951 1954 1979 ...\n",
      " $ com_type  : num  6 1 1 1 NA 3 NA 3 4 NA ...\n"
     ]
    }
   ],
   "source": [
    "rdt_o <- merge(rdt_a, rdt_p, by = \"pid\", all = TRUE)\n",
    "str(rdt_o)"
   ]
  },
  {
   "cell_type": "markdown",
   "metadata": {},
   "source": [
    "### ```rdt_i```의 ```NA``` 알아보기 \n",
    "(이하 분석은 ```rdt_i```로 진행)"
   ]
  },
  {
   "cell_type": "code",
   "execution_count": 11,
   "metadata": {},
   "outputs": [
    {
     "data": {
      "text/html": [
       "<dl class=dl-horizontal>\n",
       "\t<dt>pid</dt>\n",
       "\t\t<dd>0</dd>\n",
       "\t<dt>wstart_h</dt>\n",
       "\t\t<dd>4349</dd>\n",
       "\t<dt>wstart_m</dt>\n",
       "\t\t<dd>4349</dd>\n",
       "\t<dt>wend_d</dt>\n",
       "\t\t<dd>4349</dd>\n",
       "\t<dt>jobsat</dt>\n",
       "\t\t<dd>4349</dd>\n",
       "\t<dt>fixedwt</dt>\n",
       "\t\t<dd>6505</dd>\n",
       "\t<dt>wtime</dt>\n",
       "\t\t<dd>10960</dd>\n",
       "\t<dt>wspacesat</dt>\n",
       "\t\t<dd>4349</dd>\n",
       "\t<dt>wsat</dt>\n",
       "\t\t<dd>4349</dd>\n",
       "\t<dt>marri</dt>\n",
       "\t\t<dd>0</dd>\n",
       "\t<dt>childbirth</dt>\n",
       "\t\t<dd>11623</dd>\n",
       "\t<dt>jobty</dt>\n",
       "\t\t<dd>4349</dd>\n",
       "\t<dt>gend</dt>\n",
       "\t\t<dd>0</dd>\n",
       "\t<dt>wbonus</dt>\n",
       "\t\t<dd>6505</dd>\n",
       "\t<dt>birth</dt>\n",
       "\t\t<dd>0</dd>\n",
       "\t<dt>com_type</dt>\n",
       "\t\t<dd>6505</dd>\n",
       "</dl>\n"
      ],
      "text/latex": [
       "\\begin{description*}\n",
       "\\item[pid] 0\n",
       "\\item[wstart\\textbackslash{}\\_h] 4349\n",
       "\\item[wstart\\textbackslash{}\\_m] 4349\n",
       "\\item[wend\\textbackslash{}\\_d] 4349\n",
       "\\item[jobsat] 4349\n",
       "\\item[fixedwt] 6505\n",
       "\\item[wtime] 10960\n",
       "\\item[wspacesat] 4349\n",
       "\\item[wsat] 4349\n",
       "\\item[marri] 0\n",
       "\\item[childbirth] 11623\n",
       "\\item[jobty] 4349\n",
       "\\item[gend] 0\n",
       "\\item[wbonus] 6505\n",
       "\\item[birth] 0\n",
       "\\item[com\\textbackslash{}\\_type] 6505\n",
       "\\end{description*}\n"
      ],
      "text/markdown": [
       "pid\n",
       ":   0wstart_h\n",
       ":   4349wstart_m\n",
       ":   4349wend_d\n",
       ":   4349jobsat\n",
       ":   4349fixedwt\n",
       ":   6505wtime\n",
       ":   10960wspacesat\n",
       ":   4349wsat\n",
       ":   4349marri\n",
       ":   0childbirth\n",
       ":   11623jobty\n",
       ":   4349gend\n",
       ":   0wbonus\n",
       ":   6505birth\n",
       ":   0com_type\n",
       ":   6505\n",
       "\n"
      ],
      "text/plain": [
       "       pid   wstart_h   wstart_m     wend_d     jobsat    fixedwt      wtime \n",
       "         0       4349       4349       4349       4349       6505      10960 \n",
       " wspacesat       wsat      marri childbirth      jobty       gend     wbonus \n",
       "      4349       4349          0      11623       4349          0       6505 \n",
       "     birth   com_type \n",
       "         0       6505 "
      ]
     },
     "metadata": {},
     "output_type": "display_data"
    }
   ],
   "source": [
    "colSums(is.na(rdt_i))"
   ]
  },
  {
   "cell_type": "code",
   "execution_count": 12,
   "metadata": {},
   "outputs": [
    {
     "data": {
      "text/html": [
       "<table>\n",
       "<thead><tr><th scope=col>pid</th><th scope=col>wstart_h</th><th scope=col>wstart_m</th><th scope=col>wend_d</th><th scope=col>jobsat</th><th scope=col>fixedwt</th><th scope=col>wtime</th><th scope=col>wspacesat</th><th scope=col>wsat</th><th scope=col>marri</th><th scope=col>childbirth</th><th scope=col>jobty</th><th scope=col>gend</th><th scope=col>wbonus</th><th scope=col>birth</th><th scope=col>com_type</th></tr></thead>\n",
       "<tbody>\n",
       "\t<tr><td>101 </td><td> 7  </td><td> 0  </td><td> 1  </td><td> 4  </td><td> 2  </td><td>24  </td><td> 3  </td><td> 3  </td><td>5   </td><td>NA  </td><td> 3  </td><td>2   </td><td> 2  </td><td>1941</td><td> 6  </td></tr>\n",
       "\t<tr><td>102 </td><td> 8  </td><td>30  </td><td> 1  </td><td> 3  </td><td> 1  </td><td>NA  </td><td> 3  </td><td> 3  </td><td>5   </td><td>NA  </td><td> 3  </td><td>1   </td><td> 2  </td><td>1968</td><td> 1  </td></tr>\n",
       "\t<tr><td>203 </td><td>NA  </td><td>NA  </td><td>NA  </td><td>NA  </td><td>NA  </td><td>NA  </td><td>NA  </td><td>NA  </td><td>2   </td><td>NA  </td><td>NA  </td><td>2   </td><td>NA  </td><td>1979</td><td>NA  </td></tr>\n",
       "\t<tr><td>401 </td><td> 9  </td><td> 0  </td><td> 1  </td><td> 4  </td><td> 1  </td><td>NA  </td><td> 2  </td><td> 2  </td><td>2   </td><td>NA  </td><td> 1  </td><td>1   </td><td> 2  </td><td>1970</td><td> 3  </td></tr>\n",
       "\t<tr><td>402 </td><td>13  </td><td> 0  </td><td> 1  </td><td> 4  </td><td>NA  </td><td>NA  </td><td> 2  </td><td> 2  </td><td>2   </td><td>NA  </td><td> 4  </td><td>2   </td><td>NA  </td><td>1969</td><td>NA  </td></tr>\n",
       "\t<tr><td>902 </td><td> 9  </td><td> 0  </td><td> 1  </td><td> 4  </td><td> 1  </td><td>NA  </td><td> 2  </td><td> 2  </td><td>2   </td><td>NA  </td><td> 1  </td><td>2   </td><td> 2  </td><td>1970</td><td> 4  </td></tr>\n",
       "</tbody>\n",
       "</table>\n"
      ],
      "text/latex": [
       "\\begin{tabular}{r|llllllllllllllll}\n",
       " pid & wstart\\_h & wstart\\_m & wend\\_d & jobsat & fixedwt & wtime & wspacesat & wsat & marri & childbirth & jobty & gend & wbonus & birth & com\\_type\\\\\n",
       "\\hline\n",
       "\t 101  &  7   &  0   &  1   &  4   &  2   & 24   &  3   &  3   & 5    & NA   &  3   & 2    &  2   & 1941 &  6  \\\\\n",
       "\t 102  &  8   & 30   &  1   &  3   &  1   & NA   &  3   &  3   & 5    & NA   &  3   & 1    &  2   & 1968 &  1  \\\\\n",
       "\t 203  & NA   & NA   & NA   & NA   & NA   & NA   & NA   & NA   & 2    & NA   & NA   & 2    & NA   & 1979 & NA  \\\\\n",
       "\t 401  &  9   &  0   &  1   &  4   &  1   & NA   &  2   &  2   & 2    & NA   &  1   & 1    &  2   & 1970 &  3  \\\\\n",
       "\t 402  & 13   &  0   &  1   &  4   & NA   & NA   &  2   &  2   & 2    & NA   &  4   & 2    & NA   & 1969 & NA  \\\\\n",
       "\t 902  &  9   &  0   &  1   &  4   &  1   & NA   &  2   &  2   & 2    & NA   &  1   & 2    &  2   & 1970 &  4  \\\\\n",
       "\\end{tabular}\n"
      ],
      "text/markdown": [
       "\n",
       "pid | wstart_h | wstart_m | wend_d | jobsat | fixedwt | wtime | wspacesat | wsat | marri | childbirth | jobty | gend | wbonus | birth | com_type | \n",
       "|---|---|---|---|---|---|\n",
       "| 101  |  7   |  0   |  1   |  4   |  2   | 24   |  3   |  3   | 5    | NA   |  3   | 2    |  2   | 1941 |  6   | \n",
       "| 102  |  8   | 30   |  1   |  3   |  1   | NA   |  3   |  3   | 5    | NA   |  3   | 1    |  2   | 1968 |  1   | \n",
       "| 203  | NA   | NA   | NA   | NA   | NA   | NA   | NA   | NA   | 2    | NA   | NA   | 2    | NA   | 1979 | NA   | \n",
       "| 401  |  9   |  0   |  1   |  4   |  1   | NA   |  2   |  2   | 2    | NA   |  1   | 1    |  2   | 1970 |  3   | \n",
       "| 402  | 13   |  0   |  1   |  4   | NA   | NA   |  2   |  2   | 2    | NA   |  4   | 2    | NA   | 1969 | NA   | \n",
       "| 902  |  9   |  0   |  1   |  4   |  1   | NA   |  2   |  2   | 2    | NA   |  1   | 2    |  2   | 1970 |  4   | \n",
       "\n",
       "\n"
      ],
      "text/plain": [
       "  pid wstart_h wstart_m wend_d jobsat fixedwt wtime wspacesat wsat marri\n",
       "1 101  7        0        1      4      2      24     3         3   5    \n",
       "2 102  8       30        1      3      1      NA     3         3   5    \n",
       "3 203 NA       NA       NA     NA     NA      NA    NA        NA   2    \n",
       "4 401  9        0        1      4      1      NA     2         2   2    \n",
       "5 402 13        0        1      4     NA      NA     2         2   2    \n",
       "6 902  9        0        1      4      1      NA     2         2   2    \n",
       "  childbirth jobty gend wbonus birth com_type\n",
       "1 NA          3    2     2     1941   6      \n",
       "2 NA          3    1     2     1968   1      \n",
       "3 NA         NA    2    NA     1979  NA      \n",
       "4 NA          1    1     2     1970   3      \n",
       "5 NA          4    2    NA     1969  NA      \n",
       "6 NA          1    2     2     1970   4      "
      ]
     },
     "metadata": {},
     "output_type": "display_data"
    }
   ],
   "source": [
    "head(rdt_i)"
   ]
  },
  {
   "cell_type": "markdown",
   "metadata": {},
   "source": [
    "```rdt_i```는 ```pid```를 ```key```로 한 inner join이기 때문에 ```pid```의 ```NA```는 0이다.   \n",
    "우리의 설명변수인 ```wstart_h```와 ```wstart_m```에 해당하지 않거나(```NA```), 모름/무응답(```-1```)인 사례는 연구관심 밖이므로, 이후 클리닝에서 제거하도록 하자."
   ]
  },
  {
   "cell_type": "code",
   "execution_count": 13,
   "metadata": {},
   "outputs": [],
   "source": [
    "nrdt_i <- rdt_i\n",
    "nrdt_i$nwstart_h <- ifelse(nrdt_i$wstart_h == -1, NA, nrdt_i$wstart_h)\n",
    "nrdt_i$nwstart_m <- ifelse(nrdt_i$wstart_m == -1, NA, nrdt_i$wstart_m)"
   ]
  },
  {
   "cell_type": "markdown",
   "metadata": {},
   "source": [
    "```ifelse```문을 활용해 ```nrdt_i```의 ```wstart_h```가 ```-1```(모름/무응답) 인 경우 ```NA```, 그렇지 않으면 원래 ```wstart_h``` 값을 주도록 했다. (```wstart_m```)의 경우도 마찬가지로 수행했다."
   ]
  },
  {
   "cell_type": "code",
   "execution_count": 14,
   "metadata": {},
   "outputs": [
    {
     "data": {
      "text/html": [
       "<dl class=dl-horizontal>\n",
       "\t<dt>pid</dt>\n",
       "\t\t<dd>0</dd>\n",
       "\t<dt>wstart_h</dt>\n",
       "\t\t<dd>0</dd>\n",
       "\t<dt>wstart_m</dt>\n",
       "\t\t<dd>0</dd>\n",
       "\t<dt>wend_d</dt>\n",
       "\t\t<dd>0</dd>\n",
       "\t<dt>jobsat</dt>\n",
       "\t\t<dd>0</dd>\n",
       "\t<dt>fixedwt</dt>\n",
       "\t\t<dd>2128</dd>\n",
       "\t<dt>wtime</dt>\n",
       "\t\t<dd>6539</dd>\n",
       "\t<dt>wspacesat</dt>\n",
       "\t\t<dd>0</dd>\n",
       "\t<dt>wsat</dt>\n",
       "\t\t<dd>0</dd>\n",
       "\t<dt>marri</dt>\n",
       "\t\t<dd>0</dd>\n",
       "\t<dt>childbirth</dt>\n",
       "\t\t<dd>7210</dd>\n",
       "\t<dt>jobty</dt>\n",
       "\t\t<dd>0</dd>\n",
       "\t<dt>gend</dt>\n",
       "\t\t<dd>0</dd>\n",
       "\t<dt>wbonus</dt>\n",
       "\t\t<dd>2128</dd>\n",
       "\t<dt>birth</dt>\n",
       "\t\t<dd>0</dd>\n",
       "\t<dt>com_type</dt>\n",
       "\t\t<dd>2128</dd>\n",
       "\t<dt>nwstart_h</dt>\n",
       "\t\t<dd>0</dd>\n",
       "\t<dt>nwstart_m</dt>\n",
       "\t\t<dd>0</dd>\n",
       "</dl>\n"
      ],
      "text/latex": [
       "\\begin{description*}\n",
       "\\item[pid] 0\n",
       "\\item[wstart\\textbackslash{}\\_h] 0\n",
       "\\item[wstart\\textbackslash{}\\_m] 0\n",
       "\\item[wend\\textbackslash{}\\_d] 0\n",
       "\\item[jobsat] 0\n",
       "\\item[fixedwt] 2128\n",
       "\\item[wtime] 6539\n",
       "\\item[wspacesat] 0\n",
       "\\item[wsat] 0\n",
       "\\item[marri] 0\n",
       "\\item[childbirth] 7210\n",
       "\\item[jobty] 0\n",
       "\\item[gend] 0\n",
       "\\item[wbonus] 2128\n",
       "\\item[birth] 0\n",
       "\\item[com\\textbackslash{}\\_type] 2128\n",
       "\\item[nwstart\\textbackslash{}\\_h] 0\n",
       "\\item[nwstart\\textbackslash{}\\_m] 0\n",
       "\\end{description*}\n"
      ],
      "text/markdown": [
       "pid\n",
       ":   0wstart_h\n",
       ":   0wstart_m\n",
       ":   0wend_d\n",
       ":   0jobsat\n",
       ":   0fixedwt\n",
       ":   2128wtime\n",
       ":   6539wspacesat\n",
       ":   0wsat\n",
       ":   0marri\n",
       ":   0childbirth\n",
       ":   7210jobty\n",
       ":   0gend\n",
       ":   0wbonus\n",
       ":   2128birth\n",
       ":   0com_type\n",
       ":   2128nwstart_h\n",
       ":   0nwstart_m\n",
       ":   0\n",
       "\n"
      ],
      "text/plain": [
       "       pid   wstart_h   wstart_m     wend_d     jobsat    fixedwt      wtime \n",
       "         0          0          0          0          0       2128       6539 \n",
       " wspacesat       wsat      marri childbirth      jobty       gend     wbonus \n",
       "         0          0          0       7210          0          0       2128 \n",
       "     birth   com_type  nwstart_h  nwstart_m \n",
       "         0       2128          0          0 "
      ]
     },
     "metadata": {},
     "output_type": "display_data"
    }
   ],
   "source": [
    "nrdt_i <- nrdt_i[complete.cases(nrdt_i[ , c(\"nwstart_h\", \"nwstart_m\")]), ]\n",
    "colSums(is.na(nrdt_i))"
   ]
  },
  {
   "cell_type": "markdown",
   "metadata": {},
   "source": [
    "```complete.cases```를 활용하여 ```nwstart_h```와 ```nwstart_m```에 ```NA```가 있는 행을 제거했다. (모름/무응답에 해당하는 ```-1```도 우리가 위에서 ```NA```로 만들었으므로, 이것도 제거된다.)"
   ]
  },
  {
   "cell_type": "code",
   "execution_count": 15,
   "metadata": {
    "scrolled": true
   },
   "outputs": [
    {
     "data": {
      "text/html": [
       "<table>\n",
       "<thead><tr><th></th><th scope=col>pid</th><th scope=col>wstart_h</th><th scope=col>wstart_m</th><th scope=col>wend_d</th><th scope=col>jobsat</th><th scope=col>fixedwt</th><th scope=col>wtime</th><th scope=col>wspacesat</th><th scope=col>wsat</th><th scope=col>marri</th><th scope=col>childbirth</th><th scope=col>jobty</th><th scope=col>gend</th><th scope=col>wbonus</th><th scope=col>birth</th><th scope=col>com_type</th><th scope=col>nwstart_h</th><th scope=col>nwstart_m</th></tr></thead>\n",
       "<tbody>\n",
       "\t<tr><th scope=row>1</th><td> 101</td><td> 7  </td><td> 0  </td><td>1   </td><td>4   </td><td> 2  </td><td>24  </td><td>3   </td><td>3   </td><td>5   </td><td>NA  </td><td>3   </td><td>2   </td><td> 2  </td><td>1941</td><td> 6  </td><td> 7  </td><td> 0  </td></tr>\n",
       "\t<tr><th scope=row>2</th><td> 102</td><td> 8  </td><td>30  </td><td>1   </td><td>3   </td><td> 1  </td><td>NA  </td><td>3   </td><td>3   </td><td>5   </td><td>NA  </td><td>3   </td><td>1   </td><td> 2  </td><td>1968</td><td> 1  </td><td> 8  </td><td>30  </td></tr>\n",
       "\t<tr><th scope=row>4</th><td> 401</td><td> 9  </td><td> 0  </td><td>1   </td><td>4   </td><td> 1  </td><td>NA  </td><td>2   </td><td>2   </td><td>2   </td><td>NA  </td><td>1   </td><td>1   </td><td> 2  </td><td>1970</td><td> 3  </td><td> 9  </td><td> 0  </td></tr>\n",
       "\t<tr><th scope=row>5</th><td> 402</td><td>13  </td><td> 0  </td><td>1   </td><td>4   </td><td>NA  </td><td>NA  </td><td>2   </td><td>2   </td><td>2   </td><td>NA  </td><td>4   </td><td>2   </td><td>NA  </td><td>1969</td><td>NA  </td><td>13  </td><td> 0  </td></tr>\n",
       "\t<tr><th scope=row>6</th><td> 902</td><td> 9  </td><td> 0  </td><td>1   </td><td>4   </td><td> 1  </td><td>NA  </td><td>2   </td><td>2   </td><td>2   </td><td>NA  </td><td>1   </td><td>2   </td><td> 2  </td><td>1970</td><td> 4  </td><td> 9  </td><td> 0  </td></tr>\n",
       "\t<tr><th scope=row>9</th><td>1101</td><td> 4  </td><td> 0  </td><td>1   </td><td>2   </td><td> 1  </td><td>NA  </td><td>3   </td><td>3   </td><td>2   </td><td>NA  </td><td>1   </td><td>1   </td><td> 2  </td><td>1957</td><td> 1  </td><td> 4  </td><td> 0  </td></tr>\n",
       "</tbody>\n",
       "</table>\n"
      ],
      "text/latex": [
       "\\begin{tabular}{r|llllllllllllllllll}\n",
       "  & pid & wstart\\_h & wstart\\_m & wend\\_d & jobsat & fixedwt & wtime & wspacesat & wsat & marri & childbirth & jobty & gend & wbonus & birth & com\\_type & nwstart\\_h & nwstart\\_m\\\\\n",
       "\\hline\n",
       "\t1 &  101 &  7   &  0   & 1    & 4    &  2   & 24   & 3    & 3    & 5    & NA   & 3    & 2    &  2   & 1941 &  6   &  7   &  0  \\\\\n",
       "\t2 &  102 &  8   & 30   & 1    & 3    &  1   & NA   & 3    & 3    & 5    & NA   & 3    & 1    &  2   & 1968 &  1   &  8   & 30  \\\\\n",
       "\t4 &  401 &  9   &  0   & 1    & 4    &  1   & NA   & 2    & 2    & 2    & NA   & 1    & 1    &  2   & 1970 &  3   &  9   &  0  \\\\\n",
       "\t5 &  402 & 13   &  0   & 1    & 4    & NA   & NA   & 2    & 2    & 2    & NA   & 4    & 2    & NA   & 1969 & NA   & 13   &  0  \\\\\n",
       "\t6 &  902 &  9   &  0   & 1    & 4    &  1   & NA   & 2    & 2    & 2    & NA   & 1    & 2    &  2   & 1970 &  4   &  9   &  0  \\\\\n",
       "\t9 & 1101 &  4   &  0   & 1    & 2    &  1   & NA   & 3    & 3    & 2    & NA   & 1    & 1    &  2   & 1957 &  1   &  4   &  0  \\\\\n",
       "\\end{tabular}\n"
      ],
      "text/markdown": [
       "\n",
       "| <!--/--> | pid | wstart_h | wstart_m | wend_d | jobsat | fixedwt | wtime | wspacesat | wsat | marri | childbirth | jobty | gend | wbonus | birth | com_type | nwstart_h | nwstart_m | \n",
       "|---|---|---|---|---|---|\n",
       "| 1 |  101 |  7   |  0   | 1    | 4    |  2   | 24   | 3    | 3    | 5    | NA   | 3    | 2    |  2   | 1941 |  6   |  7   |  0   | \n",
       "| 2 |  102 |  8   | 30   | 1    | 3    |  1   | NA   | 3    | 3    | 5    | NA   | 3    | 1    |  2   | 1968 |  1   |  8   | 30   | \n",
       "| 4 |  401 |  9   |  0   | 1    | 4    |  1   | NA   | 2    | 2    | 2    | NA   | 1    | 1    |  2   | 1970 |  3   |  9   |  0   | \n",
       "| 5 |  402 | 13   |  0   | 1    | 4    | NA   | NA   | 2    | 2    | 2    | NA   | 4    | 2    | NA   | 1969 | NA   | 13   |  0   | \n",
       "| 6 |  902 |  9   |  0   | 1    | 4    |  1   | NA   | 2    | 2    | 2    | NA   | 1    | 2    |  2   | 1970 |  4   |  9   |  0   | \n",
       "| 9 | 1101 |  4   |  0   | 1    | 2    |  1   | NA   | 3    | 3    | 2    | NA   | 1    | 1    |  2   | 1957 |  1   |  4   |  0   | \n",
       "\n",
       "\n"
      ],
      "text/plain": [
       "  pid  wstart_h wstart_m wend_d jobsat fixedwt wtime wspacesat wsat marri\n",
       "1  101  7        0       1      4       2      24    3         3    5    \n",
       "2  102  8       30       1      3       1      NA    3         3    5    \n",
       "4  401  9        0       1      4       1      NA    2         2    2    \n",
       "5  402 13        0       1      4      NA      NA    2         2    2    \n",
       "6  902  9        0       1      4       1      NA    2         2    2    \n",
       "9 1101  4        0       1      2       1      NA    3         3    2    \n",
       "  childbirth jobty gend wbonus birth com_type nwstart_h nwstart_m\n",
       "1 NA         3     2     2     1941   6        7         0       \n",
       "2 NA         3     1     2     1968   1        8        30       \n",
       "4 NA         1     1     2     1970   3        9         0       \n",
       "5 NA         4     2    NA     1969  NA       13         0       \n",
       "6 NA         1     2     2     1970   4        9         0       \n",
       "9 NA         1     1     2     1957   1        4         0       "
      ]
     },
     "metadata": {},
     "output_type": "display_data"
    }
   ],
   "source": [
    "head(nrdt_i)"
   ]
  },
  {
   "cell_type": "markdown",
   "metadata": {},
   "source": [
    "```wstart_h```와 ```wstart_m```에 ```NA```가 있는 행들이 제거되었다."
   ]
  },
  {
   "cell_type": "code",
   "execution_count": 16,
   "metadata": {},
   "outputs": [
    {
     "data": {
      "text/html": [
       "0"
      ],
      "text/latex": [
       "0"
      ],
      "text/markdown": [
       "0"
      ],
      "text/plain": [
       "[1] 0"
      ]
     },
     "metadata": {},
     "output_type": "display_data"
    },
    {
     "data": {
      "text/html": [
       "0"
      ],
      "text/latex": [
       "0"
      ],
      "text/markdown": [
       "0"
      ],
      "text/plain": [
       "[1] 0"
      ]
     },
     "metadata": {},
     "output_type": "display_data"
    }
   ],
   "source": [
    "sum(nrdt_i$nwstart_h == -1)\n",
    "sum(nrdt_i$nwstart_m == -1)"
   ]
  },
  {
   "cell_type": "markdown",
   "metadata": {},
   "source": [
    "```nwstart_h```와 ```nwstart_m```에서 ```NA```와 ```-1``` 모두 제거되었다."
   ]
  },
  {
   "cell_type": "code",
   "execution_count": 17,
   "metadata": {
    "scrolled": false
   },
   "outputs": [],
   "source": [
    "nrdt_i$nwstart_m <- ifelse(nrdt_i$nwstart_m == \"0\", \"00\", nrdt_i$nwstart_m)\n",
    "nrdt_i$nwstart_m <- ifelse(nrdt_i$nwstart_m == \"1\", \"01\", nrdt_i$nwstart_m)\n",
    "nrdt_i$nwstart_m <- ifelse(nrdt_i$nwstart_m == \"2\", \"02\", nrdt_i$nwstart_m)\n",
    "nrdt_i$nwstart_m <- ifelse(nrdt_i$nwstart_m == \"3\", \"03\", nrdt_i$nwstart_m)\n",
    "nrdt_i$nwstart_m <- ifelse(nrdt_i$nwstart_m == \"4\", \"04\", nrdt_i$nwstart_m)\n",
    "nrdt_i$nwstart_m <- ifelse(nrdt_i$nwstart_m == \"5\", \"05\", nrdt_i$nwstart_m)\n",
    "nrdt_i$nwstart_m <- ifelse(nrdt_i$nwstart_m == \"6\", \"06\", nrdt_i$nwstart_m)\n",
    "nrdt_i$nwstart_m <- ifelse(nrdt_i$nwstart_m == \"7\", \"07\", nrdt_i$nwstart_m)\n",
    "nrdt_i$nwstart_m <- ifelse(nrdt_i$nwstart_m == \"8\", \"08\", nrdt_i$nwstart_m)\n",
    "nrdt_i$nwstart_m <- ifelse(nrdt_i$nwstart_m == \"9\", \"09\", nrdt_i$nwstart_m)"
   ]
  },
  {
   "cell_type": "markdown",
   "metadata": {},
   "source": [
    "0분을 00분, 1분을 01분 등으로 만드는 작업을 실행했다."
   ]
  },
  {
   "cell_type": "code",
   "execution_count": 18,
   "metadata": {},
   "outputs": [],
   "source": [
    "nrdt_i$nwstart <- paste(nrdt_i$nwstart_h, nrdt_i$nwstart_m, sep = \"\")"
   ]
  },
  {
   "cell_type": "markdown",
   "metadata": {},
   "source": [
    "```nwstart_h```와 ```nwstart_m```을 ```nwstart```로 합쳐주자."
   ]
  },
  {
   "cell_type": "markdown",
   "metadata": {},
   "source": [
    "http://www.mpm.go.kr/mpm/info/infoService/BizService10/ 을 참고해서, (-Inf, 700), (700, 300), ... (1000, Inf)로 범주화하자."
   ]
  },
  {
   "cell_type": "code",
   "execution_count": 36,
   "metadata": {},
   "outputs": [
    {
     "data": {
      "text/html": [
       "<dl class=dl-horizontal>\n",
       "\t<dt>before7</dt>\n",
       "\t\t<dd>536</dd>\n",
       "\t<dt>7:00-7:30</dt>\n",
       "\t\t<dd>438</dd>\n",
       "\t<dt>7:30-8:00</dt>\n",
       "\t\t<dd>214</dd>\n",
       "\t<dt>8:00-8:30</dt>\n",
       "\t\t<dd>1157</dd>\n",
       "\t<dt>8:30-9:00</dt>\n",
       "\t\t<dd>1090</dd>\n",
       "\t<dt>9:00-9:30</dt>\n",
       "\t\t<dd>2210</dd>\n",
       "\t<dt>9:30-10:00</dt>\n",
       "\t\t<dd>208</dd>\n",
       "\t<dt>after10</dt>\n",
       "\t\t<dd>1380</dd>\n",
       "</dl>\n"
      ],
      "text/latex": [
       "\\begin{description*}\n",
       "\\item[before7] 536\n",
       "\\item[7:00-7:30] 438\n",
       "\\item[7:30-8:00] 214\n",
       "\\item[8:00-8:30] 1157\n",
       "\\item[8:30-9:00] 1090\n",
       "\\item[9:00-9:30] 2210\n",
       "\\item[9:30-10:00] 208\n",
       "\\item[after10] 1380\n",
       "\\end{description*}\n"
      ],
      "text/markdown": [
       "before7\n",
       ":   5367:00-7:30\n",
       ":   4387:30-8:00\n",
       ":   2148:00-8:30\n",
       ":   11578:30-9:00\n",
       ":   10909:00-9:30\n",
       ":   22109:30-10:00\n",
       ":   208after10\n",
       ":   1380\n",
       "\n"
      ],
      "text/plain": [
       "   before7  7:00-7:30  7:30-8:00  8:00-8:30  8:30-9:00  9:00-9:30 9:30-10:00 \n",
       "       536        438        214       1157       1090       2210        208 \n",
       "   after10 \n",
       "      1380 "
      ]
     },
     "metadata": {},
     "output_type": "display_data"
    },
    {
     "data": {
      "text/html": [
       "<table>\n",
       "<thead><tr><th></th><th scope=col>pid</th><th scope=col>wstart_h</th><th scope=col>wstart_m</th><th scope=col>wend_d</th><th scope=col>jobsat</th><th scope=col>fixedwt</th><th scope=col>wtime</th><th scope=col>wspacesat</th><th scope=col>wsat</th><th scope=col>marri</th><th scope=col>childbirth</th><th scope=col>jobty</th><th scope=col>gend</th><th scope=col>wbonus</th><th scope=col>birth</th><th scope=col>com_type</th><th scope=col>nwstart_h</th><th scope=col>nwstart_m</th><th scope=col>nwstart</th><th scope=col>nwstart_c</th></tr></thead>\n",
       "<tbody>\n",
       "\t<tr><th scope=row>1</th><td> 101     </td><td> 7       </td><td> 0       </td><td>1        </td><td>4        </td><td> 2       </td><td>24       </td><td>3        </td><td>3        </td><td>5        </td><td>NA       </td><td>3        </td><td>2        </td><td> 2       </td><td>1941     </td><td> 6       </td><td> 7       </td><td>00       </td><td> 700     </td><td>7:00-7:30</td></tr>\n",
       "\t<tr><th scope=row>2</th><td> 102     </td><td> 8       </td><td>30       </td><td>1        </td><td>3        </td><td> 1       </td><td>NA       </td><td>3        </td><td>3        </td><td>5        </td><td>NA       </td><td>3        </td><td>1        </td><td> 2       </td><td>1968     </td><td> 1       </td><td> 8       </td><td>30       </td><td> 830     </td><td>8:30-9:00</td></tr>\n",
       "\t<tr><th scope=row>4</th><td> 401     </td><td> 9       </td><td> 0       </td><td>1        </td><td>4        </td><td> 1       </td><td>NA       </td><td>2        </td><td>2        </td><td>2        </td><td>NA       </td><td>1        </td><td>1        </td><td> 2       </td><td>1970     </td><td> 3       </td><td> 9       </td><td>00       </td><td> 900     </td><td>9:00-9:30</td></tr>\n",
       "\t<tr><th scope=row>5</th><td> 402     </td><td>13       </td><td> 0       </td><td>1        </td><td>4        </td><td>NA       </td><td>NA       </td><td>2        </td><td>2        </td><td>2        </td><td>NA       </td><td>4        </td><td>2        </td><td>NA       </td><td>1969     </td><td>NA       </td><td>13       </td><td>00       </td><td>1300     </td><td>after10  </td></tr>\n",
       "\t<tr><th scope=row>6</th><td> 902     </td><td> 9       </td><td> 0       </td><td>1        </td><td>4        </td><td> 1       </td><td>NA       </td><td>2        </td><td>2        </td><td>2        </td><td>NA       </td><td>1        </td><td>2        </td><td> 2       </td><td>1970     </td><td> 4       </td><td> 9       </td><td>00       </td><td> 900     </td><td>9:00-9:30</td></tr>\n",
       "\t<tr><th scope=row>9</th><td>1101     </td><td> 4       </td><td> 0       </td><td>1        </td><td>2        </td><td> 1       </td><td>NA       </td><td>3        </td><td>3        </td><td>2        </td><td>NA       </td><td>1        </td><td>1        </td><td> 2       </td><td>1957     </td><td> 1       </td><td> 4       </td><td>00       </td><td> 400     </td><td>before7  </td></tr>\n",
       "\t<tr><th scope=row>10</th><td>1102     </td><td>10       </td><td>30       </td><td>1        </td><td>3        </td><td> 1       </td><td>NA       </td><td>3        </td><td>3        </td><td>2        </td><td>NA       </td><td>1        </td><td>2        </td><td> 2       </td><td>1949     </td><td> 1       </td><td>10       </td><td>30       </td><td>1030     </td><td>after10  </td></tr>\n",
       "\t<tr><th scope=row>11</th><td>1203     </td><td> 9       </td><td> 0       </td><td>1        </td><td>5        </td><td>NA       </td><td>NA       </td><td>2        </td><td>2        </td><td>2        </td><td>NA       </td><td>4        </td><td>1        </td><td>NA       </td><td>1970     </td><td>NA       </td><td> 9       </td><td>00       </td><td> 900     </td><td>9:00-9:30</td></tr>\n",
       "\t<tr><th scope=row>14</th><td>1601     </td><td>15       </td><td> 0       </td><td>1        </td><td>2        </td><td>NA       </td><td>NA       </td><td>3        </td><td>3        </td><td>5        </td><td>NA       </td><td>4        </td><td>2        </td><td>NA       </td><td>1948     </td><td>NA       </td><td>15       </td><td>00       </td><td>1500     </td><td>after10  </td></tr>\n",
       "\t<tr><th scope=row>19</th><td>2002     </td><td>10       </td><td> 0       </td><td>1        </td><td>3        </td><td> 2       </td><td>15       </td><td>3        </td><td>3        </td><td>2        </td><td>NA       </td><td>1        </td><td>2        </td><td> 2       </td><td>1958     </td><td> 1       </td><td>10       </td><td>00       </td><td>1000     </td><td>after10  </td></tr>\n",
       "\t<tr><th scope=row>22</th><td>2201     </td><td> 9       </td><td> 0       </td><td>1        </td><td>4        </td><td> 1       </td><td>NA       </td><td>2        </td><td>2        </td><td>2        </td><td>NA       </td><td>1        </td><td>2        </td><td> 2       </td><td>1973     </td><td> 1       </td><td> 9       </td><td>00       </td><td> 900     </td><td>9:00-9:30</td></tr>\n",
       "\t<tr><th scope=row>23</th><td>2202     </td><td> 6       </td><td> 0       </td><td>1        </td><td>4        </td><td>NA       </td><td>NA       </td><td>3        </td><td>3        </td><td>2        </td><td>NA       </td><td>4        </td><td>1        </td><td>NA       </td><td>1967     </td><td>NA       </td><td> 6       </td><td>00       </td><td> 600     </td><td>before7  </td></tr>\n",
       "\t<tr><th scope=row>24</th><td>2703     </td><td> 9       </td><td> 0       </td><td>1        </td><td>4        </td><td> 1       </td><td>NA       </td><td>2        </td><td>2        </td><td>1        </td><td>NA       </td><td>1        </td><td>1        </td><td> 2       </td><td>1969     </td><td> 1       </td><td> 9       </td><td>00       </td><td> 900     </td><td>9:00-9:30</td></tr>\n",
       "\t<tr><th scope=row>25</th><td>3103     </td><td>12       </td><td> 0       </td><td>1        </td><td>3        </td><td>NA       </td><td>NA       </td><td>3        </td><td>3        </td><td>1        </td><td>NA       </td><td>4        </td><td>1        </td><td>NA       </td><td>1973     </td><td>NA       </td><td>12       </td><td>00       </td><td>1200     </td><td>after10  </td></tr>\n",
       "\t<tr><th scope=row>27</th><td>3204     </td><td> 9       </td><td> 0       </td><td>1        </td><td>2        </td><td> 1       </td><td>NA       </td><td>4        </td><td>3        </td><td>2        </td><td>NA       </td><td>1        </td><td>1        </td><td> 2       </td><td>1972     </td><td> 1       </td><td> 9       </td><td>00       </td><td> 900     </td><td>9:00-9:30</td></tr>\n",
       "\t<tr><th scope=row>28</th><td>3206     </td><td> 9       </td><td> 0       </td><td>1        </td><td>2        </td><td> 1       </td><td>NA       </td><td>3        </td><td>3        </td><td>4        </td><td>NA       </td><td>1        </td><td>2        </td><td> 2       </td><td>1972     </td><td> 1       </td><td> 9       </td><td>00       </td><td> 900     </td><td>9:00-9:30</td></tr>\n",
       "\t<tr><th scope=row>29</th><td>3301     </td><td> 8       </td><td> 0       </td><td>1        </td><td>4        </td><td> 1       </td><td>NA       </td><td>3        </td><td>2        </td><td>2        </td><td>NA       </td><td>1        </td><td>1        </td><td> 2       </td><td>1956     </td><td> 1       </td><td> 8       </td><td>00       </td><td> 800     </td><td>8:00-8:30</td></tr>\n",
       "\t<tr><th scope=row>30</th><td>3302     </td><td> 9       </td><td> 0       </td><td>1        </td><td>4        </td><td> 2       </td><td>50       </td><td>3        </td><td>2        </td><td>2        </td><td>NA       </td><td>1        </td><td>2        </td><td> 2       </td><td>1963     </td><td> 1       </td><td> 9       </td><td>00       </td><td> 900     </td><td>9:00-9:30</td></tr>\n",
       "\t<tr><th scope=row>31</th><td>3303     </td><td> 8       </td><td>30       </td><td>1        </td><td>3        </td><td> 1       </td><td>NA       </td><td>3        </td><td>3        </td><td>1        </td><td>NA       </td><td>2        </td><td>2        </td><td> 2       </td><td>1990     </td><td> 1       </td><td> 8       </td><td>30       </td><td> 830     </td><td>8:30-9:00</td></tr>\n",
       "\t<tr><th scope=row>32</th><td>3304     </td><td> 8       </td><td> 0       </td><td>1        </td><td>4        </td><td> 1       </td><td>NA       </td><td>4        </td><td>2        </td><td>1        </td><td>NA       </td><td>1        </td><td>1        </td><td> 2       </td><td>1992     </td><td> 3       </td><td> 8       </td><td>00       </td><td> 800     </td><td>8:00-8:30</td></tr>\n",
       "\t<tr><th scope=row>33</th><td>3402     </td><td> 9       </td><td> 0       </td><td>1        </td><td>4        </td><td> 2       </td><td>60       </td><td>2        </td><td>2        </td><td>4        </td><td>NA       </td><td>2        </td><td>2        </td><td> 2       </td><td>1959     </td><td> 1       </td><td> 9       </td><td>00       </td><td> 900     </td><td>9:00-9:30</td></tr>\n",
       "\t<tr><th scope=row>34</th><td>3403     </td><td> 8       </td><td>30       </td><td>1        </td><td>4        </td><td> 1       </td><td>NA       </td><td>2        </td><td>2        </td><td>2        </td><td>NA       </td><td>1        </td><td>1        </td><td> 2       </td><td>1984     </td><td> 1       </td><td> 8       </td><td>30       </td><td> 830     </td><td>8:30-9:00</td></tr>\n",
       "\t<tr><th scope=row>36</th><td>3803     </td><td>20       </td><td> 0       </td><td>1        </td><td>3        </td><td> 1       </td><td>NA       </td><td>4        </td><td>4        </td><td>1        </td><td>NA       </td><td>2        </td><td>1        </td><td> 2       </td><td>1971     </td><td> 1       </td><td>20       </td><td>00       </td><td>2000     </td><td>after10  </td></tr>\n",
       "\t<tr><th scope=row>37</th><td>3901     </td><td> 9       </td><td> 0       </td><td>1        </td><td>3        </td><td>NA       </td><td>NA       </td><td>4        </td><td>3        </td><td>2        </td><td>NA       </td><td>4        </td><td>1        </td><td>NA       </td><td>1964     </td><td>NA       </td><td> 9       </td><td>00       </td><td> 900     </td><td>9:00-9:30</td></tr>\n",
       "\t<tr><th scope=row>38</th><td>3902     </td><td> 9       </td><td> 0       </td><td>1        </td><td>1        </td><td>NA       </td><td>NA       </td><td>4        </td><td>4        </td><td>2        </td><td>NA       </td><td>5        </td><td>2        </td><td>NA       </td><td>1964     </td><td>NA       </td><td> 9       </td><td>00       </td><td> 900     </td><td>9:00-9:30</td></tr>\n",
       "\t<tr><th scope=row>39</th><td>3903     </td><td> 8       </td><td>30       </td><td>1        </td><td>5        </td><td> 1       </td><td>NA       </td><td>3        </td><td>2        </td><td>1        </td><td>NA       </td><td>1        </td><td>1        </td><td> 2       </td><td>1987     </td><td> 1       </td><td> 8       </td><td>30       </td><td> 830     </td><td>8:30-9:00</td></tr>\n",
       "\t<tr><th scope=row>40</th><td>4001     </td><td> 8       </td><td> 0       </td><td>1        </td><td>4        </td><td> 1       </td><td>NA       </td><td>3        </td><td>2        </td><td>2        </td><td>NA       </td><td>1        </td><td>1        </td><td> 2       </td><td>1951     </td><td> 7       </td><td> 8       </td><td>00       </td><td> 800     </td><td>8:00-8:30</td></tr>\n",
       "\t<tr><th scope=row>41</th><td>4002     </td><td> 5       </td><td>30       </td><td>1        </td><td>5        </td><td>NA       </td><td>NA       </td><td>2        </td><td>2        </td><td>2        </td><td>NA       </td><td>5        </td><td>2        </td><td>NA       </td><td>1951     </td><td>NA       </td><td> 5       </td><td>30       </td><td> 530     </td><td>before7  </td></tr>\n",
       "\t<tr><th scope=row>42</th><td>4003     </td><td> 8       </td><td> 0       </td><td>1        </td><td>2        </td><td> 1       </td><td>NA       </td><td>3        </td><td>3        </td><td>2        </td><td>NA       </td><td>1        </td><td>2        </td><td> 3       </td><td>1978     </td><td> 5       </td><td> 8       </td><td>00       </td><td> 800     </td><td>8:00-8:30</td></tr>\n",
       "\t<tr><th scope=row>43</th><td>4004     </td><td> 6       </td><td> 0       </td><td>1        </td><td>5        </td><td>NA       </td><td>NA       </td><td>2        </td><td>2        </td><td>2        </td><td>NA       </td><td>4        </td><td>1        </td><td>NA       </td><td>1979     </td><td>NA       </td><td> 6       </td><td>00       </td><td> 600     </td><td>before7  </td></tr>\n",
       "\t<tr><th scope=row>...</th><td>...</td><td>...</td><td>...</td><td>...</td><td>...</td><td>...</td><td>...</td><td>...</td><td>...</td><td>...</td><td>...</td><td>...</td><td>...</td><td>...</td><td>...</td><td>...</td><td>...</td><td>...</td><td>...</td><td>...</td></tr>\n",
       "\t<tr><th scope=row>11635</th><td>10140602  </td><td> 7        </td><td> 0        </td><td>1         </td><td>3         </td><td>NA        </td><td>NA        </td><td>2         </td><td>2         </td><td>2         </td><td>NA        </td><td>4         </td><td>2         </td><td>NA        </td><td>1958      </td><td>NA        </td><td> 7        </td><td>00        </td><td> 700      </td><td>7:00-7:30 </td></tr>\n",
       "\t<tr><th scope=row>11636</th><td>10140603  </td><td> 8        </td><td> 0        </td><td>1         </td><td>3         </td><td> 1        </td><td>NA        </td><td>3         </td><td>3         </td><td>2         </td><td>NA        </td><td>1         </td><td>1         </td><td> 2        </td><td>1982      </td><td> 1        </td><td> 8        </td><td>00        </td><td> 800      </td><td>8:00-8:30 </td></tr>\n",
       "\t<tr><th scope=row>11637</th><td>10140604  </td><td> 9        </td><td>30        </td><td>1         </td><td>4         </td><td> 1        </td><td>NA        </td><td>3         </td><td>2         </td><td>1         </td><td>NA        </td><td>1         </td><td>1         </td><td> 2        </td><td>1984      </td><td> 1        </td><td> 9        </td><td>30        </td><td> 930      </td><td>9:30-10:00</td></tr>\n",
       "\t<tr><th scope=row>11638</th><td>10141001  </td><td> 8        </td><td> 0        </td><td>1         </td><td>3         </td><td> 2        </td><td>32        </td><td>3         </td><td>3         </td><td>2         </td><td>NA        </td><td>3         </td><td>1         </td><td> 2        </td><td>1959      </td><td> 1        </td><td> 8        </td><td>00        </td><td> 800      </td><td>8:00-8:30 </td></tr>\n",
       "\t<tr><th scope=row>11640</th><td>10141004  </td><td> 8        </td><td>40        </td><td>1         </td><td>4         </td><td> 1        </td><td>NA        </td><td>3         </td><td>3         </td><td>1         </td><td>NA        </td><td>1         </td><td>2         </td><td> 2        </td><td>1990      </td><td> 4        </td><td> 8        </td><td>40        </td><td> 840      </td><td>8:30-9:00 </td></tr>\n",
       "\t<tr><th scope=row>11641</th><td>10141301  </td><td> 9        </td><td> 0        </td><td>1         </td><td>3         </td><td> 1        </td><td>NA        </td><td>3         </td><td>3         </td><td>1         </td><td>NA        </td><td>2         </td><td>1         </td><td> 2        </td><td>1980      </td><td> 1        </td><td> 9        </td><td>00        </td><td> 900      </td><td>9:00-9:30 </td></tr>\n",
       "\t<tr><th scope=row>11643</th><td>10141401  </td><td> 9        </td><td> 0        </td><td>1         </td><td>2         </td><td>NA        </td><td>NA        </td><td>3         </td><td>3         </td><td>1         </td><td>NA        </td><td>4         </td><td>1         </td><td>NA        </td><td>1951      </td><td>NA        </td><td> 9        </td><td>00        </td><td> 900      </td><td>9:00-9:30 </td></tr>\n",
       "\t<tr><th scope=row>11644</th><td>11000303  </td><td> 8        </td><td>30        </td><td>1         </td><td>3         </td><td> 1        </td><td>NA        </td><td>3         </td><td>3         </td><td>2         </td><td>NA        </td><td>1         </td><td>1         </td><td> 2        </td><td>1977      </td><td> 1        </td><td> 8        </td><td>30        </td><td> 830      </td><td>8:30-9:00 </td></tr>\n",
       "\t<tr><th scope=row>11645</th><td>11000802  </td><td>16        </td><td> 0        </td><td>1         </td><td>4         </td><td> 1        </td><td>NA        </td><td>3         </td><td>3         </td><td>2         </td><td>NA        </td><td>1         </td><td>1         </td><td> 2        </td><td>1978      </td><td> 1        </td><td>16        </td><td>00        </td><td>1600      </td><td>after10   </td></tr>\n",
       "\t<tr><th scope=row>11647</th><td>11001503  </td><td> 8        </td><td>30        </td><td>1         </td><td>4         </td><td> 2        </td><td>40        </td><td>2         </td><td>2         </td><td>2         </td><td>NA        </td><td>1         </td><td>2         </td><td> 2        </td><td>1981      </td><td> 1        </td><td> 8        </td><td>30        </td><td> 830      </td><td>8:30-9:00 </td></tr>\n",
       "\t<tr><th scope=row>11650</th><td>11002802  </td><td> 9        </td><td> 0        </td><td>1         </td><td>3         </td><td> 1        </td><td>NA        </td><td>2         </td><td>3         </td><td>2         </td><td>NA        </td><td>1         </td><td>1         </td><td> 2        </td><td>1980      </td><td> 1        </td><td> 9        </td><td>00        </td><td> 900      </td><td>9:00-9:30 </td></tr>\n",
       "\t<tr><th scope=row>11651</th><td>11002902  </td><td> 8        </td><td>30        </td><td>1         </td><td>4         </td><td> 1        </td><td>NA        </td><td>2         </td><td>2         </td><td>2         </td><td>NA        </td><td>1         </td><td>2         </td><td> 1        </td><td>1981      </td><td> 5        </td><td> 8        </td><td>30        </td><td> 830      </td><td>8:30-9:00 </td></tr>\n",
       "\t<tr><th scope=row>11653</th><td>11003202  </td><td>10        </td><td>30        </td><td>1         </td><td>4         </td><td> 1        </td><td>NA        </td><td>2         </td><td>3         </td><td>2         </td><td>NA        </td><td>1         </td><td>2         </td><td> 2        </td><td>1985      </td><td> 1        </td><td>10        </td><td>30        </td><td>1030      </td><td>after10   </td></tr>\n",
       "\t<tr><th scope=row>11655</th><td>11004902  </td><td> 9        </td><td> 0        </td><td>1         </td><td>3         </td><td> 1        </td><td>NA        </td><td>3         </td><td>3         </td><td>2         </td><td>NA        </td><td>1         </td><td>2         </td><td> 2        </td><td>1981      </td><td> 4        </td><td> 9        </td><td>00        </td><td> 900      </td><td>9:00-9:30 </td></tr>\n",
       "\t<tr><th scope=row>11656</th><td>11005102  </td><td>10        </td><td> 0        </td><td>1         </td><td>4         </td><td>NA        </td><td>NA        </td><td>3         </td><td>3         </td><td>2         </td><td>NA        </td><td>4         </td><td>1         </td><td>NA        </td><td>1981      </td><td>NA        </td><td>10        </td><td>00        </td><td>1000      </td><td>after10   </td></tr>\n",
       "\t<tr><th scope=row>11658</th><td>11005502  </td><td> 8        </td><td> 0        </td><td>1         </td><td>3         </td><td> 1        </td><td>NA        </td><td>3         </td><td>3         </td><td>2         </td><td>NA        </td><td>1         </td><td>1         </td><td> 2        </td><td>1973      </td><td> 5        </td><td> 8        </td><td>00        </td><td> 800      </td><td>8:00-8:30 </td></tr>\n",
       "\t<tr><th scope=row>11659</th><td>11005702  </td><td> 9        </td><td>50        </td><td>1         </td><td>4         </td><td> 1        </td><td>NA        </td><td>2         </td><td>2         </td><td>2         </td><td>NA        </td><td>1         </td><td>1         </td><td> 2        </td><td>1981      </td><td> 1        </td><td> 9        </td><td>50        </td><td> 950      </td><td>9:30-10:00</td></tr>\n",
       "\t<tr><th scope=row>11660</th><td>11006102  </td><td> 9        </td><td>30        </td><td>1         </td><td>3         </td><td> 2        </td><td>60        </td><td>3         </td><td>3         </td><td>2         </td><td>NA        </td><td>1         </td><td>1         </td><td> 2        </td><td>1982      </td><td> 1        </td><td> 9        </td><td>30        </td><td> 930      </td><td>9:30-10:00</td></tr>\n",
       "\t<tr><th scope=row>11661</th><td>11006402  </td><td> 8        </td><td>30        </td><td>1         </td><td>3         </td><td> 1        </td><td>NA        </td><td>3         </td><td>3         </td><td>2         </td><td>NA        </td><td>1         </td><td>1         </td><td> 2        </td><td>1975      </td><td> 1        </td><td> 8        </td><td>30        </td><td> 830      </td><td>8:30-9:00 </td></tr>\n",
       "\t<tr><th scope=row>11662</th><td>11006602  </td><td> 9        </td><td> 0        </td><td>1         </td><td>3         </td><td> 1        </td><td>NA        </td><td>2         </td><td>2         </td><td>2         </td><td>NA        </td><td>1         </td><td>1         </td><td> 2        </td><td>1980      </td><td> 3        </td><td> 9        </td><td>00        </td><td> 900      </td><td>9:00-9:30 </td></tr>\n",
       "\t<tr><th scope=row>11663</th><td>11007102  </td><td> 9        </td><td> 0        </td><td>1         </td><td>4         </td><td> 1        </td><td>NA        </td><td>3         </td><td>2         </td><td>2         </td><td>NA        </td><td>1         </td><td>1         </td><td> 2        </td><td>1985      </td><td> 1        </td><td> 9        </td><td>00        </td><td> 900      </td><td>9:00-9:30 </td></tr>\n",
       "\t<tr><th scope=row>11666</th><td>11009202  </td><td> 8        </td><td>30        </td><td>1         </td><td>4         </td><td> 2        </td><td>40        </td><td>2         </td><td>2         </td><td>2         </td><td>NA        </td><td>1         </td><td>1         </td><td> 2        </td><td>1982      </td><td> 3        </td><td> 8        </td><td>30        </td><td> 830      </td><td>8:30-9:00 </td></tr>\n",
       "\t<tr><th scope=row>11667</th><td>11009502  </td><td> 9        </td><td> 0        </td><td>1         </td><td>3         </td><td> 1        </td><td>NA        </td><td>3         </td><td>2         </td><td>2         </td><td>NA        </td><td>1         </td><td>1         </td><td> 2        </td><td>1981      </td><td> 1        </td><td> 9        </td><td>00        </td><td> 900      </td><td>9:00-9:30 </td></tr>\n",
       "\t<tr><th scope=row>11668</th><td>11010802  </td><td> 7        </td><td> 0        </td><td>1         </td><td>2         </td><td> 1        </td><td>NA        </td><td>2         </td><td>2         </td><td>2         </td><td>NA        </td><td>1         </td><td>1         </td><td> 1        </td><td>1985      </td><td> 1        </td><td> 7        </td><td>00        </td><td> 700      </td><td>7:00-7:30 </td></tr>\n",
       "\t<tr><th scope=row>11669</th><td>11011002  </td><td> 8        </td><td> 0        </td><td>1         </td><td>3         </td><td> 1        </td><td>NA        </td><td>3         </td><td>3         </td><td>2         </td><td>NA        </td><td>1         </td><td>1         </td><td> 2        </td><td>1978      </td><td> 1        </td><td> 8        </td><td>00        </td><td> 800      </td><td>8:00-8:30 </td></tr>\n",
       "\t<tr><th scope=row>11672</th><td>11012202  </td><td> 9        </td><td> 0        </td><td>1         </td><td>4         </td><td> 1        </td><td>NA        </td><td>2         </td><td>2         </td><td>2         </td><td>NA        </td><td>1         </td><td>1         </td><td> 2        </td><td>1981      </td><td> 1        </td><td> 9        </td><td>00        </td><td> 900      </td><td>9:00-9:30 </td></tr>\n",
       "\t<tr><th scope=row>11673</th><td>11012204  </td><td> 9        </td><td>30        </td><td>1         </td><td>4         </td><td>NA        </td><td>NA        </td><td>3         </td><td>2         </td><td>2         </td><td>NA        </td><td>4         </td><td>1         </td><td>NA        </td><td>1961      </td><td>NA        </td><td> 9        </td><td>30        </td><td> 930      </td><td>9:30-10:00</td></tr>\n",
       "\t<tr><th scope=row>11675</th><td>11012702  </td><td> 7        </td><td> 0        </td><td>1         </td><td>4         </td><td> 1        </td><td>NA        </td><td>2         </td><td>2         </td><td>2         </td><td> 1        </td><td>2         </td><td>2         </td><td> 2        </td><td>1984      </td><td> 1        </td><td> 7        </td><td>00        </td><td> 700      </td><td>7:00-7:30 </td></tr>\n",
       "\t<tr><th scope=row>11676</th><td>11013602  </td><td> 8        </td><td>30        </td><td>1         </td><td>3         </td><td> 1        </td><td>NA        </td><td>3         </td><td>3         </td><td>2         </td><td>NA        </td><td>1         </td><td>1         </td><td> 2        </td><td>1981      </td><td> 1        </td><td> 8        </td><td>30        </td><td> 830      </td><td>8:30-9:00 </td></tr>\n",
       "\t<tr><th scope=row>11677</th><td>11014502  </td><td> 8        </td><td>30        </td><td>1         </td><td>3         </td><td> 1        </td><td>NA        </td><td>3         </td><td>3         </td><td>2         </td><td> 1        </td><td>1         </td><td>2         </td><td> 1        </td><td>1983      </td><td> 1        </td><td> 8        </td><td>30        </td><td> 830      </td><td>8:30-9:00 </td></tr>\n",
       "</tbody>\n",
       "</table>\n"
      ],
      "text/latex": [
       "\\begin{tabular}{r|llllllllllllllllllll}\n",
       "  & pid & wstart\\_h & wstart\\_m & wend\\_d & jobsat & fixedwt & wtime & wspacesat & wsat & marri & childbirth & jobty & gend & wbonus & birth & com\\_type & nwstart\\_h & nwstart\\_m & nwstart & nwstart\\_c\\\\\n",
       "\\hline\n",
       "\t1 &  101      &  7        &  0        & 1         & 4         &  2        & 24        & 3         & 3         & 5         & NA        & 3         & 2         &  2        & 1941      &  6        &  7        & 00        &  700      & 7:00-7:30\\\\\n",
       "\t2 &  102      &  8        & 30        & 1         & 3         &  1        & NA        & 3         & 3         & 5         & NA        & 3         & 1         &  2        & 1968      &  1        &  8        & 30        &  830      & 8:30-9:00\\\\\n",
       "\t4 &  401      &  9        &  0        & 1         & 4         &  1        & NA        & 2         & 2         & 2         & NA        & 1         & 1         &  2        & 1970      &  3        &  9        & 00        &  900      & 9:00-9:30\\\\\n",
       "\t5 &  402      & 13        &  0        & 1         & 4         & NA        & NA        & 2         & 2         & 2         & NA        & 4         & 2         & NA        & 1969      & NA        & 13        & 00        & 1300      & after10  \\\\\n",
       "\t6 &  902      &  9        &  0        & 1         & 4         &  1        & NA        & 2         & 2         & 2         & NA        & 1         & 2         &  2        & 1970      &  4        &  9        & 00        &  900      & 9:00-9:30\\\\\n",
       "\t9 & 1101      &  4        &  0        & 1         & 2         &  1        & NA        & 3         & 3         & 2         & NA        & 1         & 1         &  2        & 1957      &  1        &  4        & 00        &  400      & before7  \\\\\n",
       "\t10 & 1102      & 10        & 30        & 1         & 3         &  1        & NA        & 3         & 3         & 2         & NA        & 1         & 2         &  2        & 1949      &  1        & 10        & 30        & 1030      & after10  \\\\\n",
       "\t11 & 1203      &  9        &  0        & 1         & 5         & NA        & NA        & 2         & 2         & 2         & NA        & 4         & 1         & NA        & 1970      & NA        &  9        & 00        &  900      & 9:00-9:30\\\\\n",
       "\t14 & 1601      & 15        &  0        & 1         & 2         & NA        & NA        & 3         & 3         & 5         & NA        & 4         & 2         & NA        & 1948      & NA        & 15        & 00        & 1500      & after10  \\\\\n",
       "\t19 & 2002      & 10        &  0        & 1         & 3         &  2        & 15        & 3         & 3         & 2         & NA        & 1         & 2         &  2        & 1958      &  1        & 10        & 00        & 1000      & after10  \\\\\n",
       "\t22 & 2201      &  9        &  0        & 1         & 4         &  1        & NA        & 2         & 2         & 2         & NA        & 1         & 2         &  2        & 1973      &  1        &  9        & 00        &  900      & 9:00-9:30\\\\\n",
       "\t23 & 2202      &  6        &  0        & 1         & 4         & NA        & NA        & 3         & 3         & 2         & NA        & 4         & 1         & NA        & 1967      & NA        &  6        & 00        &  600      & before7  \\\\\n",
       "\t24 & 2703      &  9        &  0        & 1         & 4         &  1        & NA        & 2         & 2         & 1         & NA        & 1         & 1         &  2        & 1969      &  1        &  9        & 00        &  900      & 9:00-9:30\\\\\n",
       "\t25 & 3103      & 12        &  0        & 1         & 3         & NA        & NA        & 3         & 3         & 1         & NA        & 4         & 1         & NA        & 1973      & NA        & 12        & 00        & 1200      & after10  \\\\\n",
       "\t27 & 3204      &  9        &  0        & 1         & 2         &  1        & NA        & 4         & 3         & 2         & NA        & 1         & 1         &  2        & 1972      &  1        &  9        & 00        &  900      & 9:00-9:30\\\\\n",
       "\t28 & 3206      &  9        &  0        & 1         & 2         &  1        & NA        & 3         & 3         & 4         & NA        & 1         & 2         &  2        & 1972      &  1        &  9        & 00        &  900      & 9:00-9:30\\\\\n",
       "\t29 & 3301      &  8        &  0        & 1         & 4         &  1        & NA        & 3         & 2         & 2         & NA        & 1         & 1         &  2        & 1956      &  1        &  8        & 00        &  800      & 8:00-8:30\\\\\n",
       "\t30 & 3302      &  9        &  0        & 1         & 4         &  2        & 50        & 3         & 2         & 2         & NA        & 1         & 2         &  2        & 1963      &  1        &  9        & 00        &  900      & 9:00-9:30\\\\\n",
       "\t31 & 3303      &  8        & 30        & 1         & 3         &  1        & NA        & 3         & 3         & 1         & NA        & 2         & 2         &  2        & 1990      &  1        &  8        & 30        &  830      & 8:30-9:00\\\\\n",
       "\t32 & 3304      &  8        &  0        & 1         & 4         &  1        & NA        & 4         & 2         & 1         & NA        & 1         & 1         &  2        & 1992      &  3        &  8        & 00        &  800      & 8:00-8:30\\\\\n",
       "\t33 & 3402      &  9        &  0        & 1         & 4         &  2        & 60        & 2         & 2         & 4         & NA        & 2         & 2         &  2        & 1959      &  1        &  9        & 00        &  900      & 9:00-9:30\\\\\n",
       "\t34 & 3403      &  8        & 30        & 1         & 4         &  1        & NA        & 2         & 2         & 2         & NA        & 1         & 1         &  2        & 1984      &  1        &  8        & 30        &  830      & 8:30-9:00\\\\\n",
       "\t36 & 3803      & 20        &  0        & 1         & 3         &  1        & NA        & 4         & 4         & 1         & NA        & 2         & 1         &  2        & 1971      &  1        & 20        & 00        & 2000      & after10  \\\\\n",
       "\t37 & 3901      &  9        &  0        & 1         & 3         & NA        & NA        & 4         & 3         & 2         & NA        & 4         & 1         & NA        & 1964      & NA        &  9        & 00        &  900      & 9:00-9:30\\\\\n",
       "\t38 & 3902      &  9        &  0        & 1         & 1         & NA        & NA        & 4         & 4         & 2         & NA        & 5         & 2         & NA        & 1964      & NA        &  9        & 00        &  900      & 9:00-9:30\\\\\n",
       "\t39 & 3903      &  8        & 30        & 1         & 5         &  1        & NA        & 3         & 2         & 1         & NA        & 1         & 1         &  2        & 1987      &  1        &  8        & 30        &  830      & 8:30-9:00\\\\\n",
       "\t40 & 4001      &  8        &  0        & 1         & 4         &  1        & NA        & 3         & 2         & 2         & NA        & 1         & 1         &  2        & 1951      &  7        &  8        & 00        &  800      & 8:00-8:30\\\\\n",
       "\t41 & 4002      &  5        & 30        & 1         & 5         & NA        & NA        & 2         & 2         & 2         & NA        & 5         & 2         & NA        & 1951      & NA        &  5        & 30        &  530      & before7  \\\\\n",
       "\t42 & 4003      &  8        &  0        & 1         & 2         &  1        & NA        & 3         & 3         & 2         & NA        & 1         & 2         &  3        & 1978      &  5        &  8        & 00        &  800      & 8:00-8:30\\\\\n",
       "\t43 & 4004      &  6        &  0        & 1         & 5         & NA        & NA        & 2         & 2         & 2         & NA        & 4         & 1         & NA        & 1979      & NA        &  6        & 00        &  600      & before7  \\\\\n",
       "\t... & ... & ... & ... & ... & ... & ... & ... & ... & ... & ... & ... & ... & ... & ... & ... & ... & ... & ... & ... & ...\\\\\n",
       "\t11635 & 10140602   &  7         &  0         & 1          & 3          & NA         & NA         & 2          & 2          & 2          & NA         & 4          & 2          & NA         & 1958       & NA         &  7         & 00         &  700       & 7:00-7:30 \\\\\n",
       "\t11636 & 10140603   &  8         &  0         & 1          & 3          &  1         & NA         & 3          & 3          & 2          & NA         & 1          & 1          &  2         & 1982       &  1         &  8         & 00         &  800       & 8:00-8:30 \\\\\n",
       "\t11637 & 10140604   &  9         & 30         & 1          & 4          &  1         & NA         & 3          & 2          & 1          & NA         & 1          & 1          &  2         & 1984       &  1         &  9         & 30         &  930       & 9:30-10:00\\\\\n",
       "\t11638 & 10141001   &  8         &  0         & 1          & 3          &  2         & 32         & 3          & 3          & 2          & NA         & 3          & 1          &  2         & 1959       &  1         &  8         & 00         &  800       & 8:00-8:30 \\\\\n",
       "\t11640 & 10141004   &  8         & 40         & 1          & 4          &  1         & NA         & 3          & 3          & 1          & NA         & 1          & 2          &  2         & 1990       &  4         &  8         & 40         &  840       & 8:30-9:00 \\\\\n",
       "\t11641 & 10141301   &  9         &  0         & 1          & 3          &  1         & NA         & 3          & 3          & 1          & NA         & 2          & 1          &  2         & 1980       &  1         &  9         & 00         &  900       & 9:00-9:30 \\\\\n",
       "\t11643 & 10141401   &  9         &  0         & 1          & 2          & NA         & NA         & 3          & 3          & 1          & NA         & 4          & 1          & NA         & 1951       & NA         &  9         & 00         &  900       & 9:00-9:30 \\\\\n",
       "\t11644 & 11000303   &  8         & 30         & 1          & 3          &  1         & NA         & 3          & 3          & 2          & NA         & 1          & 1          &  2         & 1977       &  1         &  8         & 30         &  830       & 8:30-9:00 \\\\\n",
       "\t11645 & 11000802   & 16         &  0         & 1          & 4          &  1         & NA         & 3          & 3          & 2          & NA         & 1          & 1          &  2         & 1978       &  1         & 16         & 00         & 1600       & after10   \\\\\n",
       "\t11647 & 11001503   &  8         & 30         & 1          & 4          &  2         & 40         & 2          & 2          & 2          & NA         & 1          & 2          &  2         & 1981       &  1         &  8         & 30         &  830       & 8:30-9:00 \\\\\n",
       "\t11650 & 11002802   &  9         &  0         & 1          & 3          &  1         & NA         & 2          & 3          & 2          & NA         & 1          & 1          &  2         & 1980       &  1         &  9         & 00         &  900       & 9:00-9:30 \\\\\n",
       "\t11651 & 11002902   &  8         & 30         & 1          & 4          &  1         & NA         & 2          & 2          & 2          & NA         & 1          & 2          &  1         & 1981       &  5         &  8         & 30         &  830       & 8:30-9:00 \\\\\n",
       "\t11653 & 11003202   & 10         & 30         & 1          & 4          &  1         & NA         & 2          & 3          & 2          & NA         & 1          & 2          &  2         & 1985       &  1         & 10         & 30         & 1030       & after10   \\\\\n",
       "\t11655 & 11004902   &  9         &  0         & 1          & 3          &  1         & NA         & 3          & 3          & 2          & NA         & 1          & 2          &  2         & 1981       &  4         &  9         & 00         &  900       & 9:00-9:30 \\\\\n",
       "\t11656 & 11005102   & 10         &  0         & 1          & 4          & NA         & NA         & 3          & 3          & 2          & NA         & 4          & 1          & NA         & 1981       & NA         & 10         & 00         & 1000       & after10   \\\\\n",
       "\t11658 & 11005502   &  8         &  0         & 1          & 3          &  1         & NA         & 3          & 3          & 2          & NA         & 1          & 1          &  2         & 1973       &  5         &  8         & 00         &  800       & 8:00-8:30 \\\\\n",
       "\t11659 & 11005702   &  9         & 50         & 1          & 4          &  1         & NA         & 2          & 2          & 2          & NA         & 1          & 1          &  2         & 1981       &  1         &  9         & 50         &  950       & 9:30-10:00\\\\\n",
       "\t11660 & 11006102   &  9         & 30         & 1          & 3          &  2         & 60         & 3          & 3          & 2          & NA         & 1          & 1          &  2         & 1982       &  1         &  9         & 30         &  930       & 9:30-10:00\\\\\n",
       "\t11661 & 11006402   &  8         & 30         & 1          & 3          &  1         & NA         & 3          & 3          & 2          & NA         & 1          & 1          &  2         & 1975       &  1         &  8         & 30         &  830       & 8:30-9:00 \\\\\n",
       "\t11662 & 11006602   &  9         &  0         & 1          & 3          &  1         & NA         & 2          & 2          & 2          & NA         & 1          & 1          &  2         & 1980       &  3         &  9         & 00         &  900       & 9:00-9:30 \\\\\n",
       "\t11663 & 11007102   &  9         &  0         & 1          & 4          &  1         & NA         & 3          & 2          & 2          & NA         & 1          & 1          &  2         & 1985       &  1         &  9         & 00         &  900       & 9:00-9:30 \\\\\n",
       "\t11666 & 11009202   &  8         & 30         & 1          & 4          &  2         & 40         & 2          & 2          & 2          & NA         & 1          & 1          &  2         & 1982       &  3         &  8         & 30         &  830       & 8:30-9:00 \\\\\n",
       "\t11667 & 11009502   &  9         &  0         & 1          & 3          &  1         & NA         & 3          & 2          & 2          & NA         & 1          & 1          &  2         & 1981       &  1         &  9         & 00         &  900       & 9:00-9:30 \\\\\n",
       "\t11668 & 11010802   &  7         &  0         & 1          & 2          &  1         & NA         & 2          & 2          & 2          & NA         & 1          & 1          &  1         & 1985       &  1         &  7         & 00         &  700       & 7:00-7:30 \\\\\n",
       "\t11669 & 11011002   &  8         &  0         & 1          & 3          &  1         & NA         & 3          & 3          & 2          & NA         & 1          & 1          &  2         & 1978       &  1         &  8         & 00         &  800       & 8:00-8:30 \\\\\n",
       "\t11672 & 11012202   &  9         &  0         & 1          & 4          &  1         & NA         & 2          & 2          & 2          & NA         & 1          & 1          &  2         & 1981       &  1         &  9         & 00         &  900       & 9:00-9:30 \\\\\n",
       "\t11673 & 11012204   &  9         & 30         & 1          & 4          & NA         & NA         & 3          & 2          & 2          & NA         & 4          & 1          & NA         & 1961       & NA         &  9         & 30         &  930       & 9:30-10:00\\\\\n",
       "\t11675 & 11012702   &  7         &  0         & 1          & 4          &  1         & NA         & 2          & 2          & 2          &  1         & 2          & 2          &  2         & 1984       &  1         &  7         & 00         &  700       & 7:00-7:30 \\\\\n",
       "\t11676 & 11013602   &  8         & 30         & 1          & 3          &  1         & NA         & 3          & 3          & 2          & NA         & 1          & 1          &  2         & 1981       &  1         &  8         & 30         &  830       & 8:30-9:00 \\\\\n",
       "\t11677 & 11014502   &  8         & 30         & 1          & 3          &  1         & NA         & 3          & 3          & 2          &  1         & 1          & 2          &  1         & 1983       &  1         &  8         & 30         &  830       & 8:30-9:00 \\\\\n",
       "\\end{tabular}\n"
      ],
      "text/markdown": [
       "\n",
       "| <!--/--> | pid | wstart_h | wstart_m | wend_d | jobsat | fixedwt | wtime | wspacesat | wsat | marri | childbirth | jobty | gend | wbonus | birth | com_type | nwstart_h | nwstart_m | nwstart | nwstart_c | \n",
       "|---|---|---|---|---|---|---|---|---|---|---|---|---|---|---|---|---|---|---|---|---|---|---|---|---|---|---|---|---|---|---|---|---|---|---|---|---|---|---|---|---|---|---|---|---|---|---|---|---|---|---|---|---|---|---|---|---|---|---|---|---|\n",
       "| 1 |  101      |  7        |  0        | 1         | 4         |  2        | 24        | 3         | 3         | 5         | NA        | 3         | 2         |  2        | 1941      |  6        |  7        | 00        |  700      | 7:00-7:30 | \n",
       "| 2 |  102      |  8        | 30        | 1         | 3         |  1        | NA        | 3         | 3         | 5         | NA        | 3         | 1         |  2        | 1968      |  1        |  8        | 30        |  830      | 8:30-9:00 | \n",
       "| 4 |  401      |  9        |  0        | 1         | 4         |  1        | NA        | 2         | 2         | 2         | NA        | 1         | 1         |  2        | 1970      |  3        |  9        | 00        |  900      | 9:00-9:30 | \n",
       "| 5 |  402      | 13        |  0        | 1         | 4         | NA        | NA        | 2         | 2         | 2         | NA        | 4         | 2         | NA        | 1969      | NA        | 13        | 00        | 1300      | after10   | \n",
       "| 6 |  902      |  9        |  0        | 1         | 4         |  1        | NA        | 2         | 2         | 2         | NA        | 1         | 2         |  2        | 1970      |  4        |  9        | 00        |  900      | 9:00-9:30 | \n",
       "| 9 | 1101      |  4        |  0        | 1         | 2         |  1        | NA        | 3         | 3         | 2         | NA        | 1         | 1         |  2        | 1957      |  1        |  4        | 00        |  400      | before7   | \n",
       "| 10 | 1102      | 10        | 30        | 1         | 3         |  1        | NA        | 3         | 3         | 2         | NA        | 1         | 2         |  2        | 1949      |  1        | 10        | 30        | 1030      | after10   | \n",
       "| 11 | 1203      |  9        |  0        | 1         | 5         | NA        | NA        | 2         | 2         | 2         | NA        | 4         | 1         | NA        | 1970      | NA        |  9        | 00        |  900      | 9:00-9:30 | \n",
       "| 14 | 1601      | 15        |  0        | 1         | 2         | NA        | NA        | 3         | 3         | 5         | NA        | 4         | 2         | NA        | 1948      | NA        | 15        | 00        | 1500      | after10   | \n",
       "| 19 | 2002      | 10        |  0        | 1         | 3         |  2        | 15        | 3         | 3         | 2         | NA        | 1         | 2         |  2        | 1958      |  1        | 10        | 00        | 1000      | after10   | \n",
       "| 22 | 2201      |  9        |  0        | 1         | 4         |  1        | NA        | 2         | 2         | 2         | NA        | 1         | 2         |  2        | 1973      |  1        |  9        | 00        |  900      | 9:00-9:30 | \n",
       "| 23 | 2202      |  6        |  0        | 1         | 4         | NA        | NA        | 3         | 3         | 2         | NA        | 4         | 1         | NA        | 1967      | NA        |  6        | 00        |  600      | before7   | \n",
       "| 24 | 2703      |  9        |  0        | 1         | 4         |  1        | NA        | 2         | 2         | 1         | NA        | 1         | 1         |  2        | 1969      |  1        |  9        | 00        |  900      | 9:00-9:30 | \n",
       "| 25 | 3103      | 12        |  0        | 1         | 3         | NA        | NA        | 3         | 3         | 1         | NA        | 4         | 1         | NA        | 1973      | NA        | 12        | 00        | 1200      | after10   | \n",
       "| 27 | 3204      |  9        |  0        | 1         | 2         |  1        | NA        | 4         | 3         | 2         | NA        | 1         | 1         |  2        | 1972      |  1        |  9        | 00        |  900      | 9:00-9:30 | \n",
       "| 28 | 3206      |  9        |  0        | 1         | 2         |  1        | NA        | 3         | 3         | 4         | NA        | 1         | 2         |  2        | 1972      |  1        |  9        | 00        |  900      | 9:00-9:30 | \n",
       "| 29 | 3301      |  8        |  0        | 1         | 4         |  1        | NA        | 3         | 2         | 2         | NA        | 1         | 1         |  2        | 1956      |  1        |  8        | 00        |  800      | 8:00-8:30 | \n",
       "| 30 | 3302      |  9        |  0        | 1         | 4         |  2        | 50        | 3         | 2         | 2         | NA        | 1         | 2         |  2        | 1963      |  1        |  9        | 00        |  900      | 9:00-9:30 | \n",
       "| 31 | 3303      |  8        | 30        | 1         | 3         |  1        | NA        | 3         | 3         | 1         | NA        | 2         | 2         |  2        | 1990      |  1        |  8        | 30        |  830      | 8:30-9:00 | \n",
       "| 32 | 3304      |  8        |  0        | 1         | 4         |  1        | NA        | 4         | 2         | 1         | NA        | 1         | 1         |  2        | 1992      |  3        |  8        | 00        |  800      | 8:00-8:30 | \n",
       "| 33 | 3402      |  9        |  0        | 1         | 4         |  2        | 60        | 2         | 2         | 4         | NA        | 2         | 2         |  2        | 1959      |  1        |  9        | 00        |  900      | 9:00-9:30 | \n",
       "| 34 | 3403      |  8        | 30        | 1         | 4         |  1        | NA        | 2         | 2         | 2         | NA        | 1         | 1         |  2        | 1984      |  1        |  8        | 30        |  830      | 8:30-9:00 | \n",
       "| 36 | 3803      | 20        |  0        | 1         | 3         |  1        | NA        | 4         | 4         | 1         | NA        | 2         | 1         |  2        | 1971      |  1        | 20        | 00        | 2000      | after10   | \n",
       "| 37 | 3901      |  9        |  0        | 1         | 3         | NA        | NA        | 4         | 3         | 2         | NA        | 4         | 1         | NA        | 1964      | NA        |  9        | 00        |  900      | 9:00-9:30 | \n",
       "| 38 | 3902      |  9        |  0        | 1         | 1         | NA        | NA        | 4         | 4         | 2         | NA        | 5         | 2         | NA        | 1964      | NA        |  9        | 00        |  900      | 9:00-9:30 | \n",
       "| 39 | 3903      |  8        | 30        | 1         | 5         |  1        | NA        | 3         | 2         | 1         | NA        | 1         | 1         |  2        | 1987      |  1        |  8        | 30        |  830      | 8:30-9:00 | \n",
       "| 40 | 4001      |  8        |  0        | 1         | 4         |  1        | NA        | 3         | 2         | 2         | NA        | 1         | 1         |  2        | 1951      |  7        |  8        | 00        |  800      | 8:00-8:30 | \n",
       "| 41 | 4002      |  5        | 30        | 1         | 5         | NA        | NA        | 2         | 2         | 2         | NA        | 5         | 2         | NA        | 1951      | NA        |  5        | 30        |  530      | before7   | \n",
       "| 42 | 4003      |  8        |  0        | 1         | 2         |  1        | NA        | 3         | 3         | 2         | NA        | 1         | 2         |  3        | 1978      |  5        |  8        | 00        |  800      | 8:00-8:30 | \n",
       "| 43 | 4004      |  6        |  0        | 1         | 5         | NA        | NA        | 2         | 2         | 2         | NA        | 4         | 1         | NA        | 1979      | NA        |  6        | 00        |  600      | before7   | \n",
       "| ... | ... | ... | ... | ... | ... | ... | ... | ... | ... | ... | ... | ... | ... | ... | ... | ... | ... | ... | ... | ... | \n",
       "| 11635 | 10140602   |  7         |  0         | 1          | 3          | NA         | NA         | 2          | 2          | 2          | NA         | 4          | 2          | NA         | 1958       | NA         |  7         | 00         |  700       | 7:00-7:30  | \n",
       "| 11636 | 10140603   |  8         |  0         | 1          | 3          |  1         | NA         | 3          | 3          | 2          | NA         | 1          | 1          |  2         | 1982       |  1         |  8         | 00         |  800       | 8:00-8:30  | \n",
       "| 11637 | 10140604   |  9         | 30         | 1          | 4          |  1         | NA         | 3          | 2          | 1          | NA         | 1          | 1          |  2         | 1984       |  1         |  9         | 30         |  930       | 9:30-10:00 | \n",
       "| 11638 | 10141001   |  8         |  0         | 1          | 3          |  2         | 32         | 3          | 3          | 2          | NA         | 3          | 1          |  2         | 1959       |  1         |  8         | 00         |  800       | 8:00-8:30  | \n",
       "| 11640 | 10141004   |  8         | 40         | 1          | 4          |  1         | NA         | 3          | 3          | 1          | NA         | 1          | 2          |  2         | 1990       |  4         |  8         | 40         |  840       | 8:30-9:00  | \n",
       "| 11641 | 10141301   |  9         |  0         | 1          | 3          |  1         | NA         | 3          | 3          | 1          | NA         | 2          | 1          |  2         | 1980       |  1         |  9         | 00         |  900       | 9:00-9:30  | \n",
       "| 11643 | 10141401   |  9         |  0         | 1          | 2          | NA         | NA         | 3          | 3          | 1          | NA         | 4          | 1          | NA         | 1951       | NA         |  9         | 00         |  900       | 9:00-9:30  | \n",
       "| 11644 | 11000303   |  8         | 30         | 1          | 3          |  1         | NA         | 3          | 3          | 2          | NA         | 1          | 1          |  2         | 1977       |  1         |  8         | 30         |  830       | 8:30-9:00  | \n",
       "| 11645 | 11000802   | 16         |  0         | 1          | 4          |  1         | NA         | 3          | 3          | 2          | NA         | 1          | 1          |  2         | 1978       |  1         | 16         | 00         | 1600       | after10    | \n",
       "| 11647 | 11001503   |  8         | 30         | 1          | 4          |  2         | 40         | 2          | 2          | 2          | NA         | 1          | 2          |  2         | 1981       |  1         |  8         | 30         |  830       | 8:30-9:00  | \n",
       "| 11650 | 11002802   |  9         |  0         | 1          | 3          |  1         | NA         | 2          | 3          | 2          | NA         | 1          | 1          |  2         | 1980       |  1         |  9         | 00         |  900       | 9:00-9:30  | \n",
       "| 11651 | 11002902   |  8         | 30         | 1          | 4          |  1         | NA         | 2          | 2          | 2          | NA         | 1          | 2          |  1         | 1981       |  5         |  8         | 30         |  830       | 8:30-9:00  | \n",
       "| 11653 | 11003202   | 10         | 30         | 1          | 4          |  1         | NA         | 2          | 3          | 2          | NA         | 1          | 2          |  2         | 1985       |  1         | 10         | 30         | 1030       | after10    | \n",
       "| 11655 | 11004902   |  9         |  0         | 1          | 3          |  1         | NA         | 3          | 3          | 2          | NA         | 1          | 2          |  2         | 1981       |  4         |  9         | 00         |  900       | 9:00-9:30  | \n",
       "| 11656 | 11005102   | 10         |  0         | 1          | 4          | NA         | NA         | 3          | 3          | 2          | NA         | 4          | 1          | NA         | 1981       | NA         | 10         | 00         | 1000       | after10    | \n",
       "| 11658 | 11005502   |  8         |  0         | 1          | 3          |  1         | NA         | 3          | 3          | 2          | NA         | 1          | 1          |  2         | 1973       |  5         |  8         | 00         |  800       | 8:00-8:30  | \n",
       "| 11659 | 11005702   |  9         | 50         | 1          | 4          |  1         | NA         | 2          | 2          | 2          | NA         | 1          | 1          |  2         | 1981       |  1         |  9         | 50         |  950       | 9:30-10:00 | \n",
       "| 11660 | 11006102   |  9         | 30         | 1          | 3          |  2         | 60         | 3          | 3          | 2          | NA         | 1          | 1          |  2         | 1982       |  1         |  9         | 30         |  930       | 9:30-10:00 | \n",
       "| 11661 | 11006402   |  8         | 30         | 1          | 3          |  1         | NA         | 3          | 3          | 2          | NA         | 1          | 1          |  2         | 1975       |  1         |  8         | 30         |  830       | 8:30-9:00  | \n",
       "| 11662 | 11006602   |  9         |  0         | 1          | 3          |  1         | NA         | 2          | 2          | 2          | NA         | 1          | 1          |  2         | 1980       |  3         |  9         | 00         |  900       | 9:00-9:30  | \n",
       "| 11663 | 11007102   |  9         |  0         | 1          | 4          |  1         | NA         | 3          | 2          | 2          | NA         | 1          | 1          |  2         | 1985       |  1         |  9         | 00         |  900       | 9:00-9:30  | \n",
       "| 11666 | 11009202   |  8         | 30         | 1          | 4          |  2         | 40         | 2          | 2          | 2          | NA         | 1          | 1          |  2         | 1982       |  3         |  8         | 30         |  830       | 8:30-9:00  | \n",
       "| 11667 | 11009502   |  9         |  0         | 1          | 3          |  1         | NA         | 3          | 2          | 2          | NA         | 1          | 1          |  2         | 1981       |  1         |  9         | 00         |  900       | 9:00-9:30  | \n",
       "| 11668 | 11010802   |  7         |  0         | 1          | 2          |  1         | NA         | 2          | 2          | 2          | NA         | 1          | 1          |  1         | 1985       |  1         |  7         | 00         |  700       | 7:00-7:30  | \n",
       "| 11669 | 11011002   |  8         |  0         | 1          | 3          |  1         | NA         | 3          | 3          | 2          | NA         | 1          | 1          |  2         | 1978       |  1         |  8         | 00         |  800       | 8:00-8:30  | \n",
       "| 11672 | 11012202   |  9         |  0         | 1          | 4          |  1         | NA         | 2          | 2          | 2          | NA         | 1          | 1          |  2         | 1981       |  1         |  9         | 00         |  900       | 9:00-9:30  | \n",
       "| 11673 | 11012204   |  9         | 30         | 1          | 4          | NA         | NA         | 3          | 2          | 2          | NA         | 4          | 1          | NA         | 1961       | NA         |  9         | 30         |  930       | 9:30-10:00 | \n",
       "| 11675 | 11012702   |  7         |  0         | 1          | 4          |  1         | NA         | 2          | 2          | 2          |  1         | 2          | 2          |  2         | 1984       |  1         |  7         | 00         |  700       | 7:00-7:30  | \n",
       "| 11676 | 11013602   |  8         | 30         | 1          | 3          |  1         | NA         | 3          | 3          | 2          | NA         | 1          | 1          |  2         | 1981       |  1         |  8         | 30         |  830       | 8:30-9:00  | \n",
       "| 11677 | 11014502   |  8         | 30         | 1          | 3          |  1         | NA         | 3          | 3          | 2          |  1         | 1          | 2          |  1         | 1983       |  1         |  8         | 30         |  830       | 8:30-9:00  | \n",
       "\n",
       "\n"
      ],
      "text/plain": [
       "      pid      wstart_h wstart_m wend_d jobsat fixedwt wtime wspacesat wsat\n",
       "1      101      7        0       1      4       2      24    3         3   \n",
       "2      102      8       30       1      3       1      NA    3         3   \n",
       "4      401      9        0       1      4       1      NA    2         2   \n",
       "5      402     13        0       1      4      NA      NA    2         2   \n",
       "6      902      9        0       1      4       1      NA    2         2   \n",
       "9     1101      4        0       1      2       1      NA    3         3   \n",
       "10    1102     10       30       1      3       1      NA    3         3   \n",
       "11    1203      9        0       1      5      NA      NA    2         2   \n",
       "14    1601     15        0       1      2      NA      NA    3         3   \n",
       "19    2002     10        0       1      3       2      15    3         3   \n",
       "22    2201      9        0       1      4       1      NA    2         2   \n",
       "23    2202      6        0       1      4      NA      NA    3         3   \n",
       "24    2703      9        0       1      4       1      NA    2         2   \n",
       "25    3103     12        0       1      3      NA      NA    3         3   \n",
       "27    3204      9        0       1      2       1      NA    4         3   \n",
       "28    3206      9        0       1      2       1      NA    3         3   \n",
       "29    3301      8        0       1      4       1      NA    3         2   \n",
       "30    3302      9        0       1      4       2      50    3         2   \n",
       "31    3303      8       30       1      3       1      NA    3         3   \n",
       "32    3304      8        0       1      4       1      NA    4         2   \n",
       "33    3402      9        0       1      4       2      60    2         2   \n",
       "34    3403      8       30       1      4       1      NA    2         2   \n",
       "36    3803     20        0       1      3       1      NA    4         4   \n",
       "37    3901      9        0       1      3      NA      NA    4         3   \n",
       "38    3902      9        0       1      1      NA      NA    4         4   \n",
       "39    3903      8       30       1      5       1      NA    3         2   \n",
       "40    4001      8        0       1      4       1      NA    3         2   \n",
       "41    4002      5       30       1      5      NA      NA    2         2   \n",
       "42    4003      8        0       1      2       1      NA    3         3   \n",
       "43    4004      6        0       1      5      NA      NA    2         2   \n",
       "...   ...      ...      ...      ...    ...    ...     ...   ...       ... \n",
       "11635 10140602  7        0       1      3      NA      NA    2         2   \n",
       "11636 10140603  8        0       1      3       1      NA    3         3   \n",
       "11637 10140604  9       30       1      4       1      NA    3         2   \n",
       "11638 10141001  8        0       1      3       2      32    3         3   \n",
       "11640 10141004  8       40       1      4       1      NA    3         3   \n",
       "11641 10141301  9        0       1      3       1      NA    3         3   \n",
       "11643 10141401  9        0       1      2      NA      NA    3         3   \n",
       "11644 11000303  8       30       1      3       1      NA    3         3   \n",
       "11645 11000802 16        0       1      4       1      NA    3         3   \n",
       "11647 11001503  8       30       1      4       2      40    2         2   \n",
       "11650 11002802  9        0       1      3       1      NA    2         3   \n",
       "11651 11002902  8       30       1      4       1      NA    2         2   \n",
       "11653 11003202 10       30       1      4       1      NA    2         3   \n",
       "11655 11004902  9        0       1      3       1      NA    3         3   \n",
       "11656 11005102 10        0       1      4      NA      NA    3         3   \n",
       "11658 11005502  8        0       1      3       1      NA    3         3   \n",
       "11659 11005702  9       50       1      4       1      NA    2         2   \n",
       "11660 11006102  9       30       1      3       2      60    3         3   \n",
       "11661 11006402  8       30       1      3       1      NA    3         3   \n",
       "11662 11006602  9        0       1      3       1      NA    2         2   \n",
       "11663 11007102  9        0       1      4       1      NA    3         2   \n",
       "11666 11009202  8       30       1      4       2      40    2         2   \n",
       "11667 11009502  9        0       1      3       1      NA    3         2   \n",
       "11668 11010802  7        0       1      2       1      NA    2         2   \n",
       "11669 11011002  8        0       1      3       1      NA    3         3   \n",
       "11672 11012202  9        0       1      4       1      NA    2         2   \n",
       "11673 11012204  9       30       1      4      NA      NA    3         2   \n",
       "11675 11012702  7        0       1      4       1      NA    2         2   \n",
       "11676 11013602  8       30       1      3       1      NA    3         3   \n",
       "11677 11014502  8       30       1      3       1      NA    3         3   \n",
       "      marri childbirth jobty gend wbonus birth com_type nwstart_h nwstart_m\n",
       "1     5     NA         3     2     2     1941   6        7        00       \n",
       "2     5     NA         3     1     2     1968   1        8        30       \n",
       "4     2     NA         1     1     2     1970   3        9        00       \n",
       "5     2     NA         4     2    NA     1969  NA       13        00       \n",
       "6     2     NA         1     2     2     1970   4        9        00       \n",
       "9     2     NA         1     1     2     1957   1        4        00       \n",
       "10    2     NA         1     2     2     1949   1       10        30       \n",
       "11    2     NA         4     1    NA     1970  NA        9        00       \n",
       "14    5     NA         4     2    NA     1948  NA       15        00       \n",
       "19    2     NA         1     2     2     1958   1       10        00       \n",
       "22    2     NA         1     2     2     1973   1        9        00       \n",
       "23    2     NA         4     1    NA     1967  NA        6        00       \n",
       "24    1     NA         1     1     2     1969   1        9        00       \n",
       "25    1     NA         4     1    NA     1973  NA       12        00       \n",
       "27    2     NA         1     1     2     1972   1        9        00       \n",
       "28    4     NA         1     2     2     1972   1        9        00       \n",
       "29    2     NA         1     1     2     1956   1        8        00       \n",
       "30    2     NA         1     2     2     1963   1        9        00       \n",
       "31    1     NA         2     2     2     1990   1        8        30       \n",
       "32    1     NA         1     1     2     1992   3        8        00       \n",
       "33    4     NA         2     2     2     1959   1        9        00       \n",
       "34    2     NA         1     1     2     1984   1        8        30       \n",
       "36    1     NA         2     1     2     1971   1       20        00       \n",
       "37    2     NA         4     1    NA     1964  NA        9        00       \n",
       "38    2     NA         5     2    NA     1964  NA        9        00       \n",
       "39    1     NA         1     1     2     1987   1        8        30       \n",
       "40    2     NA         1     1     2     1951   7        8        00       \n",
       "41    2     NA         5     2    NA     1951  NA        5        30       \n",
       "42    2     NA         1     2     3     1978   5        8        00       \n",
       "43    2     NA         4     1    NA     1979  NA        6        00       \n",
       "...   ...   ...        ...   ...  ...    ...   ...      ...       ...      \n",
       "11635 2     NA         4     2    NA     1958  NA        7        00       \n",
       "11636 2     NA         1     1     2     1982   1        8        00       \n",
       "11637 1     NA         1     1     2     1984   1        9        30       \n",
       "11638 2     NA         3     1     2     1959   1        8        00       \n",
       "11640 1     NA         1     2     2     1990   4        8        40       \n",
       "11641 1     NA         2     1     2     1980   1        9        00       \n",
       "11643 1     NA         4     1    NA     1951  NA        9        00       \n",
       "11644 2     NA         1     1     2     1977   1        8        30       \n",
       "11645 2     NA         1     1     2     1978   1       16        00       \n",
       "11647 2     NA         1     2     2     1981   1        8        30       \n",
       "11650 2     NA         1     1     2     1980   1        9        00       \n",
       "11651 2     NA         1     2     1     1981   5        8        30       \n",
       "11653 2     NA         1     2     2     1985   1       10        30       \n",
       "11655 2     NA         1     2     2     1981   4        9        00       \n",
       "11656 2     NA         4     1    NA     1981  NA       10        00       \n",
       "11658 2     NA         1     1     2     1973   5        8        00       \n",
       "11659 2     NA         1     1     2     1981   1        9        50       \n",
       "11660 2     NA         1     1     2     1982   1        9        30       \n",
       "11661 2     NA         1     1     2     1975   1        8        30       \n",
       "11662 2     NA         1     1     2     1980   3        9        00       \n",
       "11663 2     NA         1     1     2     1985   1        9        00       \n",
       "11666 2     NA         1     1     2     1982   3        8        30       \n",
       "11667 2     NA         1     1     2     1981   1        9        00       \n",
       "11668 2     NA         1     1     1     1985   1        7        00       \n",
       "11669 2     NA         1     1     2     1978   1        8        00       \n",
       "11672 2     NA         1     1     2     1981   1        9        00       \n",
       "11673 2     NA         4     1    NA     1961  NA        9        30       \n",
       "11675 2      1         2     2     2     1984   1        7        00       \n",
       "11676 2     NA         1     1     2     1981   1        8        30       \n",
       "11677 2      1         1     2     1     1983   1        8        30       \n",
       "      nwstart nwstart_c \n",
       "1      700    7:00-7:30 \n",
       "2      830    8:30-9:00 \n",
       "4      900    9:00-9:30 \n",
       "5     1300    after10   \n",
       "6      900    9:00-9:30 \n",
       "9      400    before7   \n",
       "10    1030    after10   \n",
       "11     900    9:00-9:30 \n",
       "14    1500    after10   \n",
       "19    1000    after10   \n",
       "22     900    9:00-9:30 \n",
       "23     600    before7   \n",
       "24     900    9:00-9:30 \n",
       "25    1200    after10   \n",
       "27     900    9:00-9:30 \n",
       "28     900    9:00-9:30 \n",
       "29     800    8:00-8:30 \n",
       "30     900    9:00-9:30 \n",
       "31     830    8:30-9:00 \n",
       "32     800    8:00-8:30 \n",
       "33     900    9:00-9:30 \n",
       "34     830    8:30-9:00 \n",
       "36    2000    after10   \n",
       "37     900    9:00-9:30 \n",
       "38     900    9:00-9:30 \n",
       "39     830    8:30-9:00 \n",
       "40     800    8:00-8:30 \n",
       "41     530    before7   \n",
       "42     800    8:00-8:30 \n",
       "43     600    before7   \n",
       "...   ...     ...       \n",
       "11635  700    7:00-7:30 \n",
       "11636  800    8:00-8:30 \n",
       "11637  930    9:30-10:00\n",
       "11638  800    8:00-8:30 \n",
       "11640  840    8:30-9:00 \n",
       "11641  900    9:00-9:30 \n",
       "11643  900    9:00-9:30 \n",
       "11644  830    8:30-9:00 \n",
       "11645 1600    after10   \n",
       "11647  830    8:30-9:00 \n",
       "11650  900    9:00-9:30 \n",
       "11651  830    8:30-9:00 \n",
       "11653 1030    after10   \n",
       "11655  900    9:00-9:30 \n",
       "11656 1000    after10   \n",
       "11658  800    8:00-8:30 \n",
       "11659  950    9:30-10:00\n",
       "11660  930    9:30-10:00\n",
       "11661  830    8:30-9:00 \n",
       "11662  900    9:00-9:30 \n",
       "11663  900    9:00-9:30 \n",
       "11666  830    8:30-9:00 \n",
       "11667  900    9:00-9:30 \n",
       "11668  700    7:00-7:30 \n",
       "11669  800    8:00-8:30 \n",
       "11672  900    9:00-9:30 \n",
       "11673  930    9:30-10:00\n",
       "11675  700    7:00-7:30 \n",
       "11676  830    8:30-9:00 \n",
       "11677  830    8:30-9:00 "
      ]
     },
     "metadata": {},
     "output_type": "display_data"
    }
   ],
   "source": [
    "nrdt_i$nwstart_c <- cut(nrdt_i$nwstart,\n",
    "                       breaks = c(-Inf, 700, 730, 800, 830, 900, 930, 1000, Inf),\n",
    "                       right = FALSE, labels = c(\"before7\", \"7:00-7:30\", \"7:30-8:00\", \"8:00-8:30\", \"8:30-9:00\", \"9:00-9:30\", \"9:30-10:00\", \"after10\"))\n",
    "\n",
    "summary(nrdt_i$nwstart_c)\n",
    "nrdt_i"
   ]
  }
 ],
 "metadata": {
  "kernelspec": {
   "display_name": "R",
   "language": "R",
   "name": "ir"
  },
  "language_info": {
   "codemirror_mode": "r",
   "file_extension": ".r",
   "mimetype": "text/x-r-source",
   "name": "R",
   "pygments_lexer": "r",
   "version": "3.5.1"
  }
 },
 "nbformat": 4,
 "nbformat_minor": 2
}
