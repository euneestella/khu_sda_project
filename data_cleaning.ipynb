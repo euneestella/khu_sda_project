{
 "cells": [
  {
   "cell_type": "markdown",
   "metadata": {},
   "source": [
    "## 변수명 정리\n",
    "(원 변수명, 새로운 변수명, 변수 설명 순으로 정리)\n",
    "\n",
    "pid : pid (pid)       \n",
    "a177102 : wstart_h (업무 시작 시)       \n",
    "a177103 : wstart_m (업무 시작 분)      \n",
    "a177104 : wend_d (업무 종료 일)      \n",
    "p174301 : jobsat (직무만족도)      \n",
    "p171003 : fixedwt (정규근로시간여부)      \n",
    "p171004 : wtime (주당 평균 근로시간)      \n",
    "p174321 : wspacesat (전반적일자리만족도)      \n",
    "p174322 : wsat (전반적일만족도)      \n",
    "p175501 : marri (혼인상태)      \n",
    "p179071 : childbirth (자녀 출산경험 유무)      \n",
    "p170314 : jobty (종사상지위)      \n",
    "p170101: gend (성별)      \n",
    "p171621: wbonus (성과급제여부)      \n",
    "p170104: birth (생년)      \n",
    "p170401: comp_type (기업형태)      "
   ]
  },
  {
   "cell_type": "code",
   "execution_count": 52,
   "metadata": {
    "scrolled": true
   },
   "outputs": [
    {
     "name": "stderr",
     "output_type": "stream",
     "text": [
      "Warning message:\n",
      "\"unable to access index for repository http://www.stats.ox.ac.uk/pub/RWin/bin/windows/contrib/3.5:\n",
      "  URL 'http://www.stats.ox.ac.uk/pub/RWin/bin/windows/contrib/3.5/PACKAGES'를 열 수 없습니다\"Warning message:\n",
      "\"package 'foreign' is in use and will not be installed\"Warning message:\n",
      "\"unable to access index for repository http://www.stats.ox.ac.uk/pub/RWin/bin/windows/contrib/3.5:\n",
      "  URL 'http://www.stats.ox.ac.uk/pub/RWin/bin/windows/contrib/3.5/PACKAGES'를 열 수 없습니다\"Warning message:\n",
      "\"package 'dplyr' is in use and will not be installed\""
     ]
    }
   ],
   "source": [
    "install.packages(\"foreign\")\n",
    "install.packages(\"dplyr\")\n",
    "library(foreign)\n",
    "library(dplyr)"
   ]
  },
  {
   "cell_type": "markdown",
   "metadata": {},
   "source": [
    "read.spss 명령어 활용해 자료 불러오기( 부가조사, 개인별)"
   ]
  },
  {
   "cell_type": "code",
   "execution_count": 68,
   "metadata": {},
   "outputs": [],
   "source": [
    "dt17_a <- read.spss(\"C:/Users/eunee/khu_sda_project/data/klips17a.sav\",\n",
    "                   use.value.labels = FALSE, to.data.frame = TRUE)\n",
    "dt17_p <- read.spss(\"C:/Users/eunee/khu_sda_project/data/klips17p_i.sav\",\n",
    "                   use.value.labels = FALSE, to.data.frame = TRUE)"
   ]
  },
  {
   "cell_type": "markdown",
   "metadata": {},
   "source": [
    "### 부가조사 : ```rdt_a```"
   ]
  },
  {
   "cell_type": "code",
   "execution_count": 69,
   "metadata": {
    "scrolled": true
   },
   "outputs": [
    {
     "name": "stdout",
     "output_type": "stream",
     "text": [
      "'data.frame':\t11686 obs. of  4 variables:\n",
      " $ pid     : num  101 401 402 902 501401 ...\n",
      " $ wstart_h: num  7 9 13 9 9 NA 4 10 9 NA ...\n",
      " $ wstart_m: num  0 0 0 0 0 NA 0 30 0 NA ...\n",
      " $ wend_d  : num  1 1 1 1 1 NA 1 1 1 NA ...\n"
     ]
    }
   ],
   "source": [
    "rdt_a <- subset(dt17_a,\n",
    "             select = c(pid, a177102, a177103, a177104))\n",
    "names(rdt_a) <- c(\"pid\", \"wstart_h\", \"wstart_m\", \"wend_d\")\n",
    "str(rdt_a)"
   ]
  },
  {
   "cell_type": "markdown",
   "metadata": {},
   "source": [
    "### 개인별 : ```rdt_p```"
   ]
  },
  {
   "cell_type": "code",
   "execution_count": 70,
   "metadata": {
    "scrolled": true
   },
   "outputs": [
    {
     "name": "stdout",
     "output_type": "stream",
     "text": [
      "'data.frame':\t13168 obs. of  13 variables:\n",
      " $ pid       : num  101 102 201 202 203 401 402 602 902 903 ...\n",
      " $ jobsat    : num  4 3 3 3 NA 4 4 3 4 NA ...\n",
      " $ fixedwt   : num  2 1 1 1 NA 1 NA 1 1 NA ...\n",
      " $ wtime     : num  24 NA NA NA NA NA NA NA NA NA ...\n",
      " $ wspacesat : num  3 3 3 3 NA 2 2 3 2 NA ...\n",
      " $ wsat      : num  3 3 3 3 NA 2 2 3 2 NA ...\n",
      " $ marri     : num  5 5 4 4 2 2 2 5 2 2 ...\n",
      " $ childbirth: num  NA NA NA NA NA NA NA NA NA NA ...\n",
      " $ jobty     : num  3 3 3 2 NA 1 4 2 1 NA ...\n",
      " $ gend      : num  2 1 1 2 2 1 2 2 2 2 ...\n",
      " $ wbonus    : num  2 2 2 2 NA 2 NA 2 2 NA ...\n",
      " $ birth     : num  1941 1968 1951 1954 1979 ...\n",
      " $ com_type  : num  6 1 1 1 NA 3 NA 3 4 NA ...\n"
     ]
    }
   ],
   "source": [
    "rdt_p <- subset(dt17_p,\n",
    "               select = c(pid, p174301, p171003, p171004, p174321, p174322, p175501, p179071, p170314, p170101, p171621, p170104, p170401))\n",
    "names(rdt_p) <- c(\"pid\", \"jobsat\", \"fixedwt\", \"wtime\", \"wspacesat\", \"wsat\", \"marri\", \"childbirth\", \"jobty\", \"gend\", \"wbonus\", \"birth\", \"com_type\")\n",
    "str(rdt_p)"
   ]
  },
  {
   "cell_type": "markdown",
   "metadata": {},
   "source": [
    "### ```rdt_i``` : ```rdt_a```, ```rdt_p``` 에 대한 merge(inner join)"
   ]
  },
  {
   "cell_type": "code",
   "execution_count": 71,
   "metadata": {},
   "outputs": [
    {
     "name": "stdout",
     "output_type": "stream",
     "text": [
      "'data.frame':\t11679 obs. of  16 variables:\n",
      " $ pid       : num  101 102 203 401 402 ...\n",
      " $ wstart_h  : num  7 8 NA 9 13 9 NA NA 4 10 ...\n",
      " $ wstart_m  : num  0 30 NA 0 0 0 NA NA 0 30 ...\n",
      " $ wend_d    : num  1 1 NA 1 1 1 NA NA 1 1 ...\n",
      " $ jobsat    : num  4 3 NA 4 4 4 NA NA 2 3 ...\n",
      " $ fixedwt   : num  2 1 NA 1 NA 1 NA NA 1 1 ...\n",
      " $ wtime     : num  24 NA NA NA NA NA NA NA NA NA ...\n",
      " $ wspacesat : num  3 3 NA 2 2 2 NA NA 3 3 ...\n",
      " $ wsat      : num  3 3 NA 2 2 2 NA NA 3 3 ...\n",
      " $ marri     : num  5 5 2 2 2 2 2 4 2 2 ...\n",
      " $ childbirth: num  NA NA NA NA NA NA NA NA NA NA ...\n",
      " $ jobty     : num  3 3 NA 1 4 1 NA NA 1 1 ...\n",
      " $ gend      : num  2 1 2 1 2 2 2 2 1 2 ...\n",
      " $ wbonus    : num  2 2 NA 2 NA 2 NA NA 2 2 ...\n",
      " $ birth     : num  1941 1968 1979 1970 1969 ...\n",
      " $ com_type  : num  6 1 NA 3 NA 4 NA NA 1 1 ...\n"
     ]
    }
   ],
   "source": [
    "rdt_i <- merge(rdt_a, rdt_p, by = \"pid\")\n",
    "str(rdt_i)"
   ]
  },
  {
   "cell_type": "markdown",
   "metadata": {},
   "source": [
    "### ```rdt_o``` : ```rdt_a```, ```rdt_p``` 에 대한 merge(outer join)"
   ]
  },
  {
   "cell_type": "code",
   "execution_count": 72,
   "metadata": {},
   "outputs": [
    {
     "name": "stdout",
     "output_type": "stream",
     "text": [
      "'data.frame':\t13175 obs. of  16 variables:\n",
      " $ pid       : num  101 102 201 202 203 401 402 602 902 903 ...\n",
      " $ wstart_h  : num  7 8 NA NA NA 9 13 NA 9 NA ...\n",
      " $ wstart_m  : num  0 30 NA NA NA 0 0 NA 0 NA ...\n",
      " $ wend_d    : num  1 1 NA NA NA 1 1 NA 1 NA ...\n",
      " $ jobsat    : num  4 3 3 3 NA 4 4 3 4 NA ...\n",
      " $ fixedwt   : num  2 1 1 1 NA 1 NA 1 1 NA ...\n",
      " $ wtime     : num  24 NA NA NA NA NA NA NA NA NA ...\n",
      " $ wspacesat : num  3 3 3 3 NA 2 2 3 2 NA ...\n",
      " $ wsat      : num  3 3 3 3 NA 2 2 3 2 NA ...\n",
      " $ marri     : num  5 5 4 4 2 2 2 5 2 2 ...\n",
      " $ childbirth: num  NA NA NA NA NA NA NA NA NA NA ...\n",
      " $ jobty     : num  3 3 3 2 NA 1 4 2 1 NA ...\n",
      " $ gend      : num  2 1 1 2 2 1 2 2 2 2 ...\n",
      " $ wbonus    : num  2 2 2 2 NA 2 NA 2 2 NA ...\n",
      " $ birth     : num  1941 1968 1951 1954 1979 ...\n",
      " $ com_type  : num  6 1 1 1 NA 3 NA 3 4 NA ...\n"
     ]
    }
   ],
   "source": [
    "rdt_o <- merge(rdt_a, rdt_p, by = \"pid\", all = TRUE)\n",
    "str(rdt_o)"
   ]
  },
  {
   "cell_type": "markdown",
   "metadata": {},
   "source": [
    "### ```rdt_i```의 ```NA``` 알아보기 \n",
    "(이하 분석은 ```rdt_i```로 진행)"
   ]
  },
  {
   "cell_type": "code",
   "execution_count": 73,
   "metadata": {},
   "outputs": [
    {
     "data": {
      "text/html": [
       "<dl class=dl-horizontal>\n",
       "\t<dt>pid</dt>\n",
       "\t\t<dd>0</dd>\n",
       "\t<dt>wstart_h</dt>\n",
       "\t\t<dd>4349</dd>\n",
       "\t<dt>wstart_m</dt>\n",
       "\t\t<dd>4349</dd>\n",
       "\t<dt>wend_d</dt>\n",
       "\t\t<dd>4349</dd>\n",
       "\t<dt>jobsat</dt>\n",
       "\t\t<dd>4349</dd>\n",
       "\t<dt>fixedwt</dt>\n",
       "\t\t<dd>6505</dd>\n",
       "\t<dt>wtime</dt>\n",
       "\t\t<dd>10960</dd>\n",
       "\t<dt>wspacesat</dt>\n",
       "\t\t<dd>4349</dd>\n",
       "\t<dt>wsat</dt>\n",
       "\t\t<dd>4349</dd>\n",
       "\t<dt>marri</dt>\n",
       "\t\t<dd>0</dd>\n",
       "\t<dt>childbirth</dt>\n",
       "\t\t<dd>11623</dd>\n",
       "\t<dt>jobty</dt>\n",
       "\t\t<dd>4349</dd>\n",
       "\t<dt>gend</dt>\n",
       "\t\t<dd>0</dd>\n",
       "\t<dt>wbonus</dt>\n",
       "\t\t<dd>6505</dd>\n",
       "\t<dt>birth</dt>\n",
       "\t\t<dd>0</dd>\n",
       "\t<dt>com_type</dt>\n",
       "\t\t<dd>6505</dd>\n",
       "</dl>\n"
      ],
      "text/latex": [
       "\\begin{description*}\n",
       "\\item[pid] 0\n",
       "\\item[wstart\\textbackslash{}\\_h] 4349\n",
       "\\item[wstart\\textbackslash{}\\_m] 4349\n",
       "\\item[wend\\textbackslash{}\\_d] 4349\n",
       "\\item[jobsat] 4349\n",
       "\\item[fixedwt] 6505\n",
       "\\item[wtime] 10960\n",
       "\\item[wspacesat] 4349\n",
       "\\item[wsat] 4349\n",
       "\\item[marri] 0\n",
       "\\item[childbirth] 11623\n",
       "\\item[jobty] 4349\n",
       "\\item[gend] 0\n",
       "\\item[wbonus] 6505\n",
       "\\item[birth] 0\n",
       "\\item[com\\textbackslash{}\\_type] 6505\n",
       "\\end{description*}\n"
      ],
      "text/markdown": [
       "pid\n",
       ":   0wstart_h\n",
       ":   4349wstart_m\n",
       ":   4349wend_d\n",
       ":   4349jobsat\n",
       ":   4349fixedwt\n",
       ":   6505wtime\n",
       ":   10960wspacesat\n",
       ":   4349wsat\n",
       ":   4349marri\n",
       ":   0childbirth\n",
       ":   11623jobty\n",
       ":   4349gend\n",
       ":   0wbonus\n",
       ":   6505birth\n",
       ":   0com_type\n",
       ":   6505\n",
       "\n"
      ],
      "text/plain": [
       "       pid   wstart_h   wstart_m     wend_d     jobsat    fixedwt      wtime \n",
       "         0       4349       4349       4349       4349       6505      10960 \n",
       " wspacesat       wsat      marri childbirth      jobty       gend     wbonus \n",
       "      4349       4349          0      11623       4349          0       6505 \n",
       "     birth   com_type \n",
       "         0       6505 "
      ]
     },
     "metadata": {},
     "output_type": "display_data"
    }
   ],
   "source": [
    "colSums(is.na(rdt_i))"
   ]
  },
  {
   "cell_type": "code",
   "execution_count": 74,
   "metadata": {
    "scrolled": true
   },
   "outputs": [
    {
     "data": {
      "text/html": [
       "<table>\n",
       "<thead><tr><th scope=col>pid</th><th scope=col>wstart_h</th><th scope=col>wstart_m</th><th scope=col>wend_d</th><th scope=col>jobsat</th><th scope=col>fixedwt</th><th scope=col>wtime</th><th scope=col>wspacesat</th><th scope=col>wsat</th><th scope=col>marri</th><th scope=col>childbirth</th><th scope=col>jobty</th><th scope=col>gend</th><th scope=col>wbonus</th><th scope=col>birth</th><th scope=col>com_type</th></tr></thead>\n",
       "<tbody>\n",
       "\t<tr><td>101 </td><td> 7  </td><td> 0  </td><td> 1  </td><td> 4  </td><td> 2  </td><td>24  </td><td> 3  </td><td> 3  </td><td>5   </td><td>NA  </td><td> 3  </td><td>2   </td><td> 2  </td><td>1941</td><td> 6  </td></tr>\n",
       "\t<tr><td>102 </td><td> 8  </td><td>30  </td><td> 1  </td><td> 3  </td><td> 1  </td><td>NA  </td><td> 3  </td><td> 3  </td><td>5   </td><td>NA  </td><td> 3  </td><td>1   </td><td> 2  </td><td>1968</td><td> 1  </td></tr>\n",
       "\t<tr><td>203 </td><td>NA  </td><td>NA  </td><td>NA  </td><td>NA  </td><td>NA  </td><td>NA  </td><td>NA  </td><td>NA  </td><td>2   </td><td>NA  </td><td>NA  </td><td>2   </td><td>NA  </td><td>1979</td><td>NA  </td></tr>\n",
       "\t<tr><td>401 </td><td> 9  </td><td> 0  </td><td> 1  </td><td> 4  </td><td> 1  </td><td>NA  </td><td> 2  </td><td> 2  </td><td>2   </td><td>NA  </td><td> 1  </td><td>1   </td><td> 2  </td><td>1970</td><td> 3  </td></tr>\n",
       "\t<tr><td>402 </td><td>13  </td><td> 0  </td><td> 1  </td><td> 4  </td><td>NA  </td><td>NA  </td><td> 2  </td><td> 2  </td><td>2   </td><td>NA  </td><td> 4  </td><td>2   </td><td>NA  </td><td>1969</td><td>NA  </td></tr>\n",
       "\t<tr><td>902 </td><td> 9  </td><td> 0  </td><td> 1  </td><td> 4  </td><td> 1  </td><td>NA  </td><td> 2  </td><td> 2  </td><td>2   </td><td>NA  </td><td> 1  </td><td>2   </td><td> 2  </td><td>1970</td><td> 4  </td></tr>\n",
       "</tbody>\n",
       "</table>\n"
      ],
      "text/latex": [
       "\\begin{tabular}{r|llllllllllllllll}\n",
       " pid & wstart\\_h & wstart\\_m & wend\\_d & jobsat & fixedwt & wtime & wspacesat & wsat & marri & childbirth & jobty & gend & wbonus & birth & com\\_type\\\\\n",
       "\\hline\n",
       "\t 101  &  7   &  0   &  1   &  4   &  2   & 24   &  3   &  3   & 5    & NA   &  3   & 2    &  2   & 1941 &  6  \\\\\n",
       "\t 102  &  8   & 30   &  1   &  3   &  1   & NA   &  3   &  3   & 5    & NA   &  3   & 1    &  2   & 1968 &  1  \\\\\n",
       "\t 203  & NA   & NA   & NA   & NA   & NA   & NA   & NA   & NA   & 2    & NA   & NA   & 2    & NA   & 1979 & NA  \\\\\n",
       "\t 401  &  9   &  0   &  1   &  4   &  1   & NA   &  2   &  2   & 2    & NA   &  1   & 1    &  2   & 1970 &  3  \\\\\n",
       "\t 402  & 13   &  0   &  1   &  4   & NA   & NA   &  2   &  2   & 2    & NA   &  4   & 2    & NA   & 1969 & NA  \\\\\n",
       "\t 902  &  9   &  0   &  1   &  4   &  1   & NA   &  2   &  2   & 2    & NA   &  1   & 2    &  2   & 1970 &  4  \\\\\n",
       "\\end{tabular}\n"
      ],
      "text/markdown": [
       "\n",
       "pid | wstart_h | wstart_m | wend_d | jobsat | fixedwt | wtime | wspacesat | wsat | marri | childbirth | jobty | gend | wbonus | birth | com_type | \n",
       "|---|---|---|---|---|---|\n",
       "| 101  |  7   |  0   |  1   |  4   |  2   | 24   |  3   |  3   | 5    | NA   |  3   | 2    |  2   | 1941 |  6   | \n",
       "| 102  |  8   | 30   |  1   |  3   |  1   | NA   |  3   |  3   | 5    | NA   |  3   | 1    |  2   | 1968 |  1   | \n",
       "| 203  | NA   | NA   | NA   | NA   | NA   | NA   | NA   | NA   | 2    | NA   | NA   | 2    | NA   | 1979 | NA   | \n",
       "| 401  |  9   |  0   |  1   |  4   |  1   | NA   |  2   |  2   | 2    | NA   |  1   | 1    |  2   | 1970 |  3   | \n",
       "| 402  | 13   |  0   |  1   |  4   | NA   | NA   |  2   |  2   | 2    | NA   |  4   | 2    | NA   | 1969 | NA   | \n",
       "| 902  |  9   |  0   |  1   |  4   |  1   | NA   |  2   |  2   | 2    | NA   |  1   | 2    |  2   | 1970 |  4   | \n",
       "\n",
       "\n"
      ],
      "text/plain": [
       "  pid wstart_h wstart_m wend_d jobsat fixedwt wtime wspacesat wsat marri\n",
       "1 101  7        0        1      4      2      24     3         3   5    \n",
       "2 102  8       30        1      3      1      NA     3         3   5    \n",
       "3 203 NA       NA       NA     NA     NA      NA    NA        NA   2    \n",
       "4 401  9        0        1      4      1      NA     2         2   2    \n",
       "5 402 13        0        1      4     NA      NA     2         2   2    \n",
       "6 902  9        0        1      4      1      NA     2         2   2    \n",
       "  childbirth jobty gend wbonus birth com_type\n",
       "1 NA          3    2     2     1941   6      \n",
       "2 NA          3    1     2     1968   1      \n",
       "3 NA         NA    2    NA     1979  NA      \n",
       "4 NA          1    1     2     1970   3      \n",
       "5 NA          4    2    NA     1969  NA      \n",
       "6 NA          1    2     2     1970   4      "
      ]
     },
     "metadata": {},
     "output_type": "display_data"
    }
   ],
   "source": [
    "head(rdt_i)"
   ]
  },
  {
   "cell_type": "markdown",
   "metadata": {},
   "source": [
    "```rdt_i```는 ```pid```를 ```key```로 한 inner join이기 때문에 ```pid```의 ```NA```는 0이다.   \n",
    "우리의 설명변수인 ```wstart_h```와 ```wstart_m```에 해당하지 않거나(```NA```), 모름/무응답(```-1```)인 사례는 연구관심 밖이므로, 이후 클리닝에서 제거하도록 하자."
   ]
  },
  {
   "cell_type": "markdown",
   "metadata": {},
   "source": [
    "## 설명변수 클리닝"
   ]
  },
  {
   "cell_type": "code",
   "execution_count": 75,
   "metadata": {},
   "outputs": [],
   "source": [
    "nrdt_i <- rdt_i\n",
    "nrdt_i$nwstart_h <- ifelse(nrdt_i$wstart_h == -1, NA, nrdt_i$wstart_h)\n",
    "nrdt_i$nwstart_m <- ifelse(nrdt_i$wstart_m == -1, NA, nrdt_i$wstart_m)"
   ]
  },
  {
   "cell_type": "markdown",
   "metadata": {},
   "source": [
    "```ifelse```문을 활용해 ```nrdt_i```의 ```wstart_h```가 ```-1```(모름/무응답) 인 경우 ```NA```, 그렇지 않으면 원래 ```wstart_h``` 값을 주도록 했다. (```wstart_m```)의 경우도 마찬가지로 수행했다."
   ]
  },
  {
   "cell_type": "code",
   "execution_count": 76,
   "metadata": {},
   "outputs": [
    {
     "data": {
      "text/html": [
       "<dl class=dl-horizontal>\n",
       "\t<dt>pid</dt>\n",
       "\t\t<dd>0</dd>\n",
       "\t<dt>wstart_h</dt>\n",
       "\t\t<dd>0</dd>\n",
       "\t<dt>wstart_m</dt>\n",
       "\t\t<dd>0</dd>\n",
       "\t<dt>wend_d</dt>\n",
       "\t\t<dd>0</dd>\n",
       "\t<dt>jobsat</dt>\n",
       "\t\t<dd>0</dd>\n",
       "\t<dt>fixedwt</dt>\n",
       "\t\t<dd>2128</dd>\n",
       "\t<dt>wtime</dt>\n",
       "\t\t<dd>6539</dd>\n",
       "\t<dt>wspacesat</dt>\n",
       "\t\t<dd>0</dd>\n",
       "\t<dt>wsat</dt>\n",
       "\t\t<dd>0</dd>\n",
       "\t<dt>marri</dt>\n",
       "\t\t<dd>0</dd>\n",
       "\t<dt>childbirth</dt>\n",
       "\t\t<dd>7210</dd>\n",
       "\t<dt>jobty</dt>\n",
       "\t\t<dd>0</dd>\n",
       "\t<dt>gend</dt>\n",
       "\t\t<dd>0</dd>\n",
       "\t<dt>wbonus</dt>\n",
       "\t\t<dd>2128</dd>\n",
       "\t<dt>birth</dt>\n",
       "\t\t<dd>0</dd>\n",
       "\t<dt>com_type</dt>\n",
       "\t\t<dd>2128</dd>\n",
       "\t<dt>nwstart_h</dt>\n",
       "\t\t<dd>0</dd>\n",
       "\t<dt>nwstart_m</dt>\n",
       "\t\t<dd>0</dd>\n",
       "</dl>\n"
      ],
      "text/latex": [
       "\\begin{description*}\n",
       "\\item[pid] 0\n",
       "\\item[wstart\\textbackslash{}\\_h] 0\n",
       "\\item[wstart\\textbackslash{}\\_m] 0\n",
       "\\item[wend\\textbackslash{}\\_d] 0\n",
       "\\item[jobsat] 0\n",
       "\\item[fixedwt] 2128\n",
       "\\item[wtime] 6539\n",
       "\\item[wspacesat] 0\n",
       "\\item[wsat] 0\n",
       "\\item[marri] 0\n",
       "\\item[childbirth] 7210\n",
       "\\item[jobty] 0\n",
       "\\item[gend] 0\n",
       "\\item[wbonus] 2128\n",
       "\\item[birth] 0\n",
       "\\item[com\\textbackslash{}\\_type] 2128\n",
       "\\item[nwstart\\textbackslash{}\\_h] 0\n",
       "\\item[nwstart\\textbackslash{}\\_m] 0\n",
       "\\end{description*}\n"
      ],
      "text/markdown": [
       "pid\n",
       ":   0wstart_h\n",
       ":   0wstart_m\n",
       ":   0wend_d\n",
       ":   0jobsat\n",
       ":   0fixedwt\n",
       ":   2128wtime\n",
       ":   6539wspacesat\n",
       ":   0wsat\n",
       ":   0marri\n",
       ":   0childbirth\n",
       ":   7210jobty\n",
       ":   0gend\n",
       ":   0wbonus\n",
       ":   2128birth\n",
       ":   0com_type\n",
       ":   2128nwstart_h\n",
       ":   0nwstart_m\n",
       ":   0\n",
       "\n"
      ],
      "text/plain": [
       "       pid   wstart_h   wstart_m     wend_d     jobsat    fixedwt      wtime \n",
       "         0          0          0          0          0       2128       6539 \n",
       " wspacesat       wsat      marri childbirth      jobty       gend     wbonus \n",
       "         0          0          0       7210          0          0       2128 \n",
       "     birth   com_type  nwstart_h  nwstart_m \n",
       "         0       2128          0          0 "
      ]
     },
     "metadata": {},
     "output_type": "display_data"
    }
   ],
   "source": [
    "nrdt_i <- nrdt_i[complete.cases(nrdt_i[ , c(\"nwstart_h\", \"nwstart_m\")]), ]\n",
    "colSums(is.na(nrdt_i))"
   ]
  },
  {
   "cell_type": "markdown",
   "metadata": {},
   "source": [
    "```complete.cases```를 활용하여 ```nwstart_h```와 ```nwstart_m```에 ```NA```가 있는 행을 제거했다. (모름/무응답에 해당하는 ```-1```도 우리가 위에서 ```NA```로 만들었으므로, 이것도 제거된다.)"
   ]
  },
  {
   "cell_type": "code",
   "execution_count": 77,
   "metadata": {
    "scrolled": true
   },
   "outputs": [
    {
     "data": {
      "text/html": [
       "<table>\n",
       "<thead><tr><th></th><th scope=col>pid</th><th scope=col>wstart_h</th><th scope=col>wstart_m</th><th scope=col>wend_d</th><th scope=col>jobsat</th><th scope=col>fixedwt</th><th scope=col>wtime</th><th scope=col>wspacesat</th><th scope=col>wsat</th><th scope=col>marri</th><th scope=col>childbirth</th><th scope=col>jobty</th><th scope=col>gend</th><th scope=col>wbonus</th><th scope=col>birth</th><th scope=col>com_type</th><th scope=col>nwstart_h</th><th scope=col>nwstart_m</th></tr></thead>\n",
       "<tbody>\n",
       "\t<tr><th scope=row>1</th><td> 101</td><td> 7  </td><td> 0  </td><td>1   </td><td>4   </td><td> 2  </td><td>24  </td><td>3   </td><td>3   </td><td>5   </td><td>NA  </td><td>3   </td><td>2   </td><td> 2  </td><td>1941</td><td> 6  </td><td> 7  </td><td> 0  </td></tr>\n",
       "\t<tr><th scope=row>2</th><td> 102</td><td> 8  </td><td>30  </td><td>1   </td><td>3   </td><td> 1  </td><td>NA  </td><td>3   </td><td>3   </td><td>5   </td><td>NA  </td><td>3   </td><td>1   </td><td> 2  </td><td>1968</td><td> 1  </td><td> 8  </td><td>30  </td></tr>\n",
       "\t<tr><th scope=row>4</th><td> 401</td><td> 9  </td><td> 0  </td><td>1   </td><td>4   </td><td> 1  </td><td>NA  </td><td>2   </td><td>2   </td><td>2   </td><td>NA  </td><td>1   </td><td>1   </td><td> 2  </td><td>1970</td><td> 3  </td><td> 9  </td><td> 0  </td></tr>\n",
       "\t<tr><th scope=row>5</th><td> 402</td><td>13  </td><td> 0  </td><td>1   </td><td>4   </td><td>NA  </td><td>NA  </td><td>2   </td><td>2   </td><td>2   </td><td>NA  </td><td>4   </td><td>2   </td><td>NA  </td><td>1969</td><td>NA  </td><td>13  </td><td> 0  </td></tr>\n",
       "\t<tr><th scope=row>6</th><td> 902</td><td> 9  </td><td> 0  </td><td>1   </td><td>4   </td><td> 1  </td><td>NA  </td><td>2   </td><td>2   </td><td>2   </td><td>NA  </td><td>1   </td><td>2   </td><td> 2  </td><td>1970</td><td> 4  </td><td> 9  </td><td> 0  </td></tr>\n",
       "\t<tr><th scope=row>9</th><td>1101</td><td> 4  </td><td> 0  </td><td>1   </td><td>2   </td><td> 1  </td><td>NA  </td><td>3   </td><td>3   </td><td>2   </td><td>NA  </td><td>1   </td><td>1   </td><td> 2  </td><td>1957</td><td> 1  </td><td> 4  </td><td> 0  </td></tr>\n",
       "</tbody>\n",
       "</table>\n"
      ],
      "text/latex": [
       "\\begin{tabular}{r|llllllllllllllllll}\n",
       "  & pid & wstart\\_h & wstart\\_m & wend\\_d & jobsat & fixedwt & wtime & wspacesat & wsat & marri & childbirth & jobty & gend & wbonus & birth & com\\_type & nwstart\\_h & nwstart\\_m\\\\\n",
       "\\hline\n",
       "\t1 &  101 &  7   &  0   & 1    & 4    &  2   & 24   & 3    & 3    & 5    & NA   & 3    & 2    &  2   & 1941 &  6   &  7   &  0  \\\\\n",
       "\t2 &  102 &  8   & 30   & 1    & 3    &  1   & NA   & 3    & 3    & 5    & NA   & 3    & 1    &  2   & 1968 &  1   &  8   & 30  \\\\\n",
       "\t4 &  401 &  9   &  0   & 1    & 4    &  1   & NA   & 2    & 2    & 2    & NA   & 1    & 1    &  2   & 1970 &  3   &  9   &  0  \\\\\n",
       "\t5 &  402 & 13   &  0   & 1    & 4    & NA   & NA   & 2    & 2    & 2    & NA   & 4    & 2    & NA   & 1969 & NA   & 13   &  0  \\\\\n",
       "\t6 &  902 &  9   &  0   & 1    & 4    &  1   & NA   & 2    & 2    & 2    & NA   & 1    & 2    &  2   & 1970 &  4   &  9   &  0  \\\\\n",
       "\t9 & 1101 &  4   &  0   & 1    & 2    &  1   & NA   & 3    & 3    & 2    & NA   & 1    & 1    &  2   & 1957 &  1   &  4   &  0  \\\\\n",
       "\\end{tabular}\n"
      ],
      "text/markdown": [
       "\n",
       "| <!--/--> | pid | wstart_h | wstart_m | wend_d | jobsat | fixedwt | wtime | wspacesat | wsat | marri | childbirth | jobty | gend | wbonus | birth | com_type | nwstart_h | nwstart_m | \n",
       "|---|---|---|---|---|---|\n",
       "| 1 |  101 |  7   |  0   | 1    | 4    |  2   | 24   | 3    | 3    | 5    | NA   | 3    | 2    |  2   | 1941 |  6   |  7   |  0   | \n",
       "| 2 |  102 |  8   | 30   | 1    | 3    |  1   | NA   | 3    | 3    | 5    | NA   | 3    | 1    |  2   | 1968 |  1   |  8   | 30   | \n",
       "| 4 |  401 |  9   |  0   | 1    | 4    |  1   | NA   | 2    | 2    | 2    | NA   | 1    | 1    |  2   | 1970 |  3   |  9   |  0   | \n",
       "| 5 |  402 | 13   |  0   | 1    | 4    | NA   | NA   | 2    | 2    | 2    | NA   | 4    | 2    | NA   | 1969 | NA   | 13   |  0   | \n",
       "| 6 |  902 |  9   |  0   | 1    | 4    |  1   | NA   | 2    | 2    | 2    | NA   | 1    | 2    |  2   | 1970 |  4   |  9   |  0   | \n",
       "| 9 | 1101 |  4   |  0   | 1    | 2    |  1   | NA   | 3    | 3    | 2    | NA   | 1    | 1    |  2   | 1957 |  1   |  4   |  0   | \n",
       "\n",
       "\n"
      ],
      "text/plain": [
       "  pid  wstart_h wstart_m wend_d jobsat fixedwt wtime wspacesat wsat marri\n",
       "1  101  7        0       1      4       2      24    3         3    5    \n",
       "2  102  8       30       1      3       1      NA    3         3    5    \n",
       "4  401  9        0       1      4       1      NA    2         2    2    \n",
       "5  402 13        0       1      4      NA      NA    2         2    2    \n",
       "6  902  9        0       1      4       1      NA    2         2    2    \n",
       "9 1101  4        0       1      2       1      NA    3         3    2    \n",
       "  childbirth jobty gend wbonus birth com_type nwstart_h nwstart_m\n",
       "1 NA         3     2     2     1941   6        7         0       \n",
       "2 NA         3     1     2     1968   1        8        30       \n",
       "4 NA         1     1     2     1970   3        9         0       \n",
       "5 NA         4     2    NA     1969  NA       13         0       \n",
       "6 NA         1     2     2     1970   4        9         0       \n",
       "9 NA         1     1     2     1957   1        4         0       "
      ]
     },
     "metadata": {},
     "output_type": "display_data"
    }
   ],
   "source": [
    "head(nrdt_i)"
   ]
  },
  {
   "cell_type": "markdown",
   "metadata": {},
   "source": [
    "```wstart_h```와 ```wstart_m```에 ```NA```가 있는 행들이 제거되었다."
   ]
  },
  {
   "cell_type": "code",
   "execution_count": 78,
   "metadata": {},
   "outputs": [
    {
     "data": {
      "text/html": [
       "0"
      ],
      "text/latex": [
       "0"
      ],
      "text/markdown": [
       "0"
      ],
      "text/plain": [
       "[1] 0"
      ]
     },
     "metadata": {},
     "output_type": "display_data"
    },
    {
     "data": {
      "text/html": [
       "0"
      ],
      "text/latex": [
       "0"
      ],
      "text/markdown": [
       "0"
      ],
      "text/plain": [
       "[1] 0"
      ]
     },
     "metadata": {},
     "output_type": "display_data"
    }
   ],
   "source": [
    "sum(nrdt_i$nwstart_h == -1)\n",
    "sum(nrdt_i$nwstart_m == -1)"
   ]
  },
  {
   "cell_type": "markdown",
   "metadata": {},
   "source": [
    "```nwstart_h```와 ```nwstart_m```에서 ```NA```와 ```-1``` 모두 제거되었다."
   ]
  },
  {
   "cell_type": "code",
   "execution_count": 82,
   "metadata": {
    "scrolled": false
   },
   "outputs": [],
   "source": [
    "nrdt_i$nwstart_m <- ifelse(nrdt_i$nwstart_m == \"0\", \"00\", nrdt_i$nwstart_m)\n",
    "nrdt_i$nwstart_m <- ifelse(nrdt_i$nwstart_m == \"1\", \"01\", nrdt_i$nwstart_m)\n",
    "nrdt_i$nwstart_m <- ifelse(nrdt_i$nwstart_m == \"2\", \"02\", nrdt_i$nwstart_m)\n",
    "nrdt_i$nwstart_m <- ifelse(nrdt_i$nwstart_m == \"3\", \"03\", nrdt_i$nwstart_m)\n",
    "nrdt_i$nwstart_m <- ifelse(nrdt_i$nwstart_m == \"4\", \"04\", nrdt_i$nwstart_m)\n",
    "nrdt_i$nwstart_m <- ifelse(nrdt_i$nwstart_m == \"5\", \"05\", nrdt_i$nwstart_m)\n",
    "nrdt_i$nwstart_m <- ifelse(nrdt_i$nwstart_m == \"6\", \"06\", nrdt_i$nwstart_m)\n",
    "nrdt_i$nwstart_m <- ifelse(nrdt_i$nwstart_m == \"7\", \"07\", nrdt_i$nwstart_m)\n",
    "nrdt_i$nwstart_m <- ifelse(nrdt_i$nwstart_m == \"8\", \"08\", nrdt_i$nwstart_m)\n",
    "nrdt_i$nwstart_m <- ifelse(nrdt_i$nwstart_m == \"9\", \"09\", nrdt_i$nwstart_m)"
   ]
  },
  {
   "cell_type": "markdown",
   "metadata": {},
   "source": [
    "0분을 00분, 1분을 01분 등으로 만드는 작업을 실행했다."
   ]
  },
  {
   "cell_type": "code",
   "execution_count": 83,
   "metadata": {},
   "outputs": [],
   "source": [
    "nrdt_i$nwstart <- paste(nrdt_i$nwstart_h, nrdt_i$nwstart_m, sep = \"\")"
   ]
  },
  {
   "cell_type": "markdown",
   "metadata": {},
   "source": [
    "```nwstart_h```와 ```nwstart_m```을 ```nwstart```로 합쳐주자."
   ]
  },
  {
   "cell_type": "markdown",
   "metadata": {},
   "source": [
    "http://www.mpm.go.kr/mpm/info/infoService/BizService10/ 을 참고해서, (-Inf, 700), (700, 300), ... (1000, Inf)로 범주화하자."
   ]
  },
  {
   "cell_type": "code",
   "execution_count": 85,
   "metadata": {
    "scrolled": true
   },
   "outputs": [
    {
     "data": {
      "text/html": [
       "'character'"
      ],
      "text/latex": [
       "'character'"
      ],
      "text/markdown": [
       "'character'"
      ],
      "text/plain": [
       "[1] \"character\""
      ]
     },
     "metadata": {},
     "output_type": "display_data"
    }
   ],
   "source": [
    "typeof(nrdt_i$nwstart)"
   ]
  },
  {
   "cell_type": "markdown",
   "metadata": {},
   "source": [
    "숫자처럼 보이지만 문자형이다. 문자형으로 저장된 경우 ```cut```할 수 없으므로 integer로 만들어준 다음 ```cut```하자."
   ]
  },
  {
   "cell_type": "code",
   "execution_count": 87,
   "metadata": {},
   "outputs": [],
   "source": [
    "nrdt_i$nwstart <- strtoi(nrdt_i$nwstart)"
   ]
  },
  {
   "cell_type": "code",
   "execution_count": 88,
   "metadata": {},
   "outputs": [],
   "source": [
    "nrdt_i$nwstart_c <- cut(nrdt_i$nwstart,\n",
    "                       breaks = c(-Inf, 700, 730, 800, 830, 900, 930, 1000, Inf),\n",
    "                       right = FALSE, labels = c(\"A\", \"B\", \"C\", \"D\", \"E\", \"F\", \"G\", \"H\"))"
   ]
  },
  {
   "cell_type": "markdown",
   "metadata": {},
   "source": [
    "A : 7시 이전    \n",
    "B : 7시 ~ 7시 30분   \n",
    "C : 7시 30분 ~ 8시   \n",
    "D : 8시 ~ 8시 30분    \n",
    "E : 8시 30분 ~ 9시    \n",
    "F : 9시 ~ 9시 30분   \n",
    "G : 9시 30분 ~ 10시  \n",
    "H : 10시 이후     \n",
    "    \n",
    "로 범주화했다."
   ]
  },
  {
   "cell_type": "code",
   "execution_count": 89,
   "metadata": {},
   "outputs": [
    {
     "data": {
      "text/html": [
       "<dl class=dl-horizontal>\n",
       "\t<dt>A</dt>\n",
       "\t\t<dd>536</dd>\n",
       "\t<dt>B</dt>\n",
       "\t\t<dd>438</dd>\n",
       "\t<dt>C</dt>\n",
       "\t\t<dd>214</dd>\n",
       "\t<dt>D</dt>\n",
       "\t\t<dd>1157</dd>\n",
       "\t<dt>E</dt>\n",
       "\t\t<dd>1090</dd>\n",
       "\t<dt>F</dt>\n",
       "\t\t<dd>2210</dd>\n",
       "\t<dt>G</dt>\n",
       "\t\t<dd>208</dd>\n",
       "\t<dt>H</dt>\n",
       "\t\t<dd>1380</dd>\n",
       "</dl>\n"
      ],
      "text/latex": [
       "\\begin{description*}\n",
       "\\item[A] 536\n",
       "\\item[B] 438\n",
       "\\item[C] 214\n",
       "\\item[D] 1157\n",
       "\\item[E] 1090\n",
       "\\item[F] 2210\n",
       "\\item[G] 208\n",
       "\\item[H] 1380\n",
       "\\end{description*}\n"
      ],
      "text/markdown": [
       "A\n",
       ":   536B\n",
       ":   438C\n",
       ":   214D\n",
       ":   1157E\n",
       ":   1090F\n",
       ":   2210G\n",
       ":   208H\n",
       ":   1380\n",
       "\n"
      ],
      "text/plain": [
       "   A    B    C    D    E    F    G    H \n",
       " 536  438  214 1157 1090 2210  208 1380 "
      ]
     },
     "metadata": {},
     "output_type": "display_data"
    }
   ],
   "source": [
    "summary(nrdt_i$nwstart_c)"
   ]
  },
  {
   "cell_type": "markdown",
   "metadata": {},
   "source": [
    "```summary``` 함수로 각 범주별 사례수를 확인 가능하며"
   ]
  },
  {
   "cell_type": "code",
   "execution_count": 90,
   "metadata": {},
   "outputs": [
    {
     "data": {
      "image/png": "[encoded data removed]",
      "text/plain": [
       "plot without title"
      ]
     },
     "metadata": {},
     "output_type": "display_data"
    }
   ],
   "source": [
    "plot(nrdt_i$nwstart_c)"
   ]
  },
  {
   "cell_type": "markdown",
   "metadata": {},
   "source": [
    "```plot```함수로 막대그래프로 볼 수도 있다."
   ]
  },
  {
   "cell_type": "markdown",
   "metadata": {},
   "source": [
    "```nrdt_i$nwstart_c```로 출근 시간을 범주화하였다."
   ]
  },
  {
   "cell_type": "markdown",
   "metadata": {},
   "source": [
    "## 종속변수 클리닝"
   ]
  },
  {
   "cell_type": "code",
   "execution_count": 91,
   "metadata": {},
   "outputs": [
    {
     "data": {
      "text/plain": [
       "   Min. 1st Qu.  Median    Mean 3rd Qu.    Max. \n",
       " -1.000   2.000   3.000   2.698   3.000   5.000 "
      ]
     },
     "metadata": {},
     "output_type": "display_data"
    }
   ],
   "source": [
    "summary(nrdt_i$wspacesat)"
   ]
  },
  {
   "cell_type": "markdown",
   "metadata": {},
   "source": [
    "모름/무응답 을 NA로 처리하자."
   ]
  },
  {
   "cell_type": "code",
   "execution_count": 92,
   "metadata": {},
   "outputs": [],
   "source": [
    "nrdt_i$nwspacesat <- ifelse(nrdt_i$wspacesat == -1, NA, nrdt_i$wspacesat)"
   ]
  },
  {
   "cell_type": "code",
   "execution_count": 99,
   "metadata": {},
   "outputs": [
    {
     "data": {
      "text/html": [
       "<dl class=dl-horizontal>\n",
       "\t<dt>pid</dt>\n",
       "\t\t<dd>0</dd>\n",
       "\t<dt>wstart_h</dt>\n",
       "\t\t<dd>0</dd>\n",
       "\t<dt>wstart_m</dt>\n",
       "\t\t<dd>0</dd>\n",
       "\t<dt>wend_d</dt>\n",
       "\t\t<dd>0</dd>\n",
       "\t<dt>jobsat</dt>\n",
       "\t\t<dd>0</dd>\n",
       "\t<dt>fixedwt</dt>\n",
       "\t\t<dd>2120</dd>\n",
       "\t<dt>wtime</dt>\n",
       "\t\t<dd>6505</dd>\n",
       "\t<dt>wspacesat</dt>\n",
       "\t\t<dd>0</dd>\n",
       "\t<dt>wsat</dt>\n",
       "\t\t<dd>0</dd>\n",
       "\t<dt>marri</dt>\n",
       "\t\t<dd>0</dd>\n",
       "\t<dt>childbirth</dt>\n",
       "\t\t<dd>7174</dd>\n",
       "\t<dt>jobty</dt>\n",
       "\t\t<dd>0</dd>\n",
       "\t<dt>gend</dt>\n",
       "\t\t<dd>0</dd>\n",
       "\t<dt>wbonus</dt>\n",
       "\t\t<dd>2120</dd>\n",
       "\t<dt>birth</dt>\n",
       "\t\t<dd>0</dd>\n",
       "\t<dt>com_type</dt>\n",
       "\t\t<dd>2120</dd>\n",
       "\t<dt>nwstart_h</dt>\n",
       "\t\t<dd>0</dd>\n",
       "\t<dt>nwstart_m</dt>\n",
       "\t\t<dd>0</dd>\n",
       "\t<dt>nwstart</dt>\n",
       "\t\t<dd>0</dd>\n",
       "\t<dt>nwstart_c</dt>\n",
       "\t\t<dd>0</dd>\n",
       "\t<dt>nwspacesat</dt>\n",
       "\t\t<dd>0</dd>\n",
       "\t<dt>age</dt>\n",
       "\t\t<dd>0</dd>\n",
       "</dl>\n"
      ],
      "text/latex": [
       "\\begin{description*}\n",
       "\\item[pid] 0\n",
       "\\item[wstart\\textbackslash{}\\_h] 0\n",
       "\\item[wstart\\textbackslash{}\\_m] 0\n",
       "\\item[wend\\textbackslash{}\\_d] 0\n",
       "\\item[jobsat] 0\n",
       "\\item[fixedwt] 2120\n",
       "\\item[wtime] 6505\n",
       "\\item[wspacesat] 0\n",
       "\\item[wsat] 0\n",
       "\\item[marri] 0\n",
       "\\item[childbirth] 7174\n",
       "\\item[jobty] 0\n",
       "\\item[gend] 0\n",
       "\\item[wbonus] 2120\n",
       "\\item[birth] 0\n",
       "\\item[com\\textbackslash{}\\_type] 2120\n",
       "\\item[nwstart\\textbackslash{}\\_h] 0\n",
       "\\item[nwstart\\textbackslash{}\\_m] 0\n",
       "\\item[nwstart] 0\n",
       "\\item[nwstart\\textbackslash{}\\_c] 0\n",
       "\\item[nwspacesat] 0\n",
       "\\item[age] 0\n",
       "\\end{description*}\n"
      ],
      "text/markdown": [
       "pid\n",
       ":   0wstart_h\n",
       ":   0wstart_m\n",
       ":   0wend_d\n",
       ":   0jobsat\n",
       ":   0fixedwt\n",
       ":   2120wtime\n",
       ":   6505wspacesat\n",
       ":   0wsat\n",
       ":   0marri\n",
       ":   0childbirth\n",
       ":   7174jobty\n",
       ":   0gend\n",
       ":   0wbonus\n",
       ":   2120birth\n",
       ":   0com_type\n",
       ":   2120nwstart_h\n",
       ":   0nwstart_m\n",
       ":   0nwstart\n",
       ":   0nwstart_c\n",
       ":   0nwspacesat\n",
       ":   0age\n",
       ":   0\n",
       "\n"
      ],
      "text/plain": [
       "       pid   wstart_h   wstart_m     wend_d     jobsat    fixedwt      wtime \n",
       "         0          0          0          0          0       2120       6505 \n",
       " wspacesat       wsat      marri childbirth      jobty       gend     wbonus \n",
       "         0          0          0       7174          0          0       2120 \n",
       "     birth   com_type  nwstart_h  nwstart_m    nwstart  nwstart_c nwspacesat \n",
       "         0       2120          0          0          0          0          0 \n",
       "       age \n",
       "         0 "
      ]
     },
     "metadata": {},
     "output_type": "display_data"
    }
   ],
   "source": [
    "nrdt_i <- nrdt_i[complete.cases(nrdt_i[ , \"nwspacesat\"]), ]\n",
    "colSums(is.na(nrdt_i))"
   ]
  },
  {
   "cell_type": "markdown",
   "metadata": {},
   "source": [
    "-1로 코딩된 모름/무응답을 다시 ```NA```로 바꾼 다음 제거했다."
   ]
  },
  {
   "cell_type": "markdown",
   "metadata": {},
   "source": [
    "## 혼동변수 클리닝\n",
    "### age 만들기\n",
    "출생년도 ```birth```를 이용해 연령 ```age``` 혼동변수를 만들어 보자."
   ]
  },
  {
   "cell_type": "code",
   "execution_count": 97,
   "metadata": {},
   "outputs": [],
   "source": [
    "nrdt_i <- nrdt_i %>% \n",
    "  mutate(age = 2014-birth)"
   ]
  },
  {
   "cell_type": "markdown",
   "metadata": {},
   "source": [
    "조사년도인 2014년에서 출생년도를 빼서 계산했다."
   ]
  },
  {
   "cell_type": "code",
   "execution_count": 98,
   "metadata": {},
   "outputs": [
    {
     "data": {
      "text/html": [
       "<table>\n",
       "<thead><tr><th scope=col>pid</th><th scope=col>wstart_h</th><th scope=col>wstart_m</th><th scope=col>wend_d</th><th scope=col>jobsat</th><th scope=col>fixedwt</th><th scope=col>wtime</th><th scope=col>wspacesat</th><th scope=col>wsat</th><th scope=col>marri</th><th scope=col>...</th><th scope=col>gend</th><th scope=col>wbonus</th><th scope=col>birth</th><th scope=col>com_type</th><th scope=col>nwstart_h</th><th scope=col>nwstart_m</th><th scope=col>nwstart</th><th scope=col>nwstart_c</th><th scope=col>nwspacesat</th><th scope=col>age</th></tr></thead>\n",
       "<tbody>\n",
       "\t<tr><td> 101</td><td> 7  </td><td> 0  </td><td>1   </td><td>4   </td><td> 2  </td><td>24  </td><td>3   </td><td>3   </td><td>5   </td><td>... </td><td>2   </td><td> 2  </td><td>1941</td><td> 6  </td><td> 7  </td><td>00  </td><td> 700</td><td>B   </td><td>3   </td><td>73  </td></tr>\n",
       "\t<tr><td> 102</td><td> 8  </td><td>30  </td><td>1   </td><td>3   </td><td> 1  </td><td>NA  </td><td>3   </td><td>3   </td><td>5   </td><td>... </td><td>1   </td><td> 2  </td><td>1968</td><td> 1  </td><td> 8  </td><td>30  </td><td> 830</td><td>E   </td><td>3   </td><td>46  </td></tr>\n",
       "\t<tr><td> 401</td><td> 9  </td><td> 0  </td><td>1   </td><td>4   </td><td> 1  </td><td>NA  </td><td>2   </td><td>2   </td><td>2   </td><td>... </td><td>1   </td><td> 2  </td><td>1970</td><td> 3  </td><td> 9  </td><td>00  </td><td> 900</td><td>F   </td><td>2   </td><td>44  </td></tr>\n",
       "\t<tr><td> 402</td><td>13  </td><td> 0  </td><td>1   </td><td>4   </td><td>NA  </td><td>NA  </td><td>2   </td><td>2   </td><td>2   </td><td>... </td><td>2   </td><td>NA  </td><td>1969</td><td>NA  </td><td>13  </td><td>00  </td><td>1300</td><td>H   </td><td>2   </td><td>45  </td></tr>\n",
       "\t<tr><td> 902</td><td> 9  </td><td> 0  </td><td>1   </td><td>4   </td><td> 1  </td><td>NA  </td><td>2   </td><td>2   </td><td>2   </td><td>... </td><td>2   </td><td> 2  </td><td>1970</td><td> 4  </td><td> 9  </td><td>00  </td><td> 900</td><td>F   </td><td>2   </td><td>44  </td></tr>\n",
       "\t<tr><td>1101</td><td> 4  </td><td> 0  </td><td>1   </td><td>2   </td><td> 1  </td><td>NA  </td><td>3   </td><td>3   </td><td>2   </td><td>... </td><td>1   </td><td> 2  </td><td>1957</td><td> 1  </td><td> 4  </td><td>00  </td><td> 400</td><td>A   </td><td>3   </td><td>57  </td></tr>\n",
       "\t<tr><td>1102</td><td>10  </td><td>30  </td><td>1   </td><td>3   </td><td> 1  </td><td>NA  </td><td>3   </td><td>3   </td><td>2   </td><td>... </td><td>2   </td><td> 2  </td><td>1949</td><td> 1  </td><td>10  </td><td>30  </td><td>1030</td><td>H   </td><td>3   </td><td>65  </td></tr>\n",
       "\t<tr><td>1203</td><td> 9  </td><td> 0  </td><td>1   </td><td>5   </td><td>NA  </td><td>NA  </td><td>2   </td><td>2   </td><td>2   </td><td>... </td><td>1   </td><td>NA  </td><td>1970</td><td>NA  </td><td> 9  </td><td>00  </td><td> 900</td><td>F   </td><td>2   </td><td>44  </td></tr>\n",
       "\t<tr><td>1601</td><td>15  </td><td> 0  </td><td>1   </td><td>2   </td><td>NA  </td><td>NA  </td><td>3   </td><td>3   </td><td>5   </td><td>... </td><td>2   </td><td>NA  </td><td>1948</td><td>NA  </td><td>15  </td><td>00  </td><td>1500</td><td>H   </td><td>3   </td><td>66  </td></tr>\n",
       "\t<tr><td>2002</td><td>10  </td><td> 0  </td><td>1   </td><td>3   </td><td> 2  </td><td>15  </td><td>3   </td><td>3   </td><td>2   </td><td>... </td><td>2   </td><td> 2  </td><td>1958</td><td> 1  </td><td>10  </td><td>00  </td><td>1000</td><td>H   </td><td>3   </td><td>56  </td></tr>\n",
       "\t<tr><td>2201</td><td> 9  </td><td> 0  </td><td>1   </td><td>4   </td><td> 1  </td><td>NA  </td><td>2   </td><td>2   </td><td>2   </td><td>... </td><td>2   </td><td> 2  </td><td>1973</td><td> 1  </td><td> 9  </td><td>00  </td><td> 900</td><td>F   </td><td>2   </td><td>41  </td></tr>\n",
       "\t<tr><td>2202</td><td> 6  </td><td> 0  </td><td>1   </td><td>4   </td><td>NA  </td><td>NA  </td><td>3   </td><td>3   </td><td>2   </td><td>... </td><td>1   </td><td>NA  </td><td>1967</td><td>NA  </td><td> 6  </td><td>00  </td><td> 600</td><td>A   </td><td>3   </td><td>47  </td></tr>\n",
       "\t<tr><td>2703</td><td> 9  </td><td> 0  </td><td>1   </td><td>4   </td><td> 1  </td><td>NA  </td><td>2   </td><td>2   </td><td>1   </td><td>... </td><td>1   </td><td> 2  </td><td>1969</td><td> 1  </td><td> 9  </td><td>00  </td><td> 900</td><td>F   </td><td>2   </td><td>45  </td></tr>\n",
       "\t<tr><td>3103</td><td>12  </td><td> 0  </td><td>1   </td><td>3   </td><td>NA  </td><td>NA  </td><td>3   </td><td>3   </td><td>1   </td><td>... </td><td>1   </td><td>NA  </td><td>1973</td><td>NA  </td><td>12  </td><td>00  </td><td>1200</td><td>H   </td><td>3   </td><td>41  </td></tr>\n",
       "\t<tr><td>3204</td><td> 9  </td><td> 0  </td><td>1   </td><td>2   </td><td> 1  </td><td>NA  </td><td>4   </td><td>3   </td><td>2   </td><td>... </td><td>1   </td><td> 2  </td><td>1972</td><td> 1  </td><td> 9  </td><td>00  </td><td> 900</td><td>F   </td><td>4   </td><td>42  </td></tr>\n",
       "\t<tr><td>3206</td><td> 9  </td><td> 0  </td><td>1   </td><td>2   </td><td> 1  </td><td>NA  </td><td>3   </td><td>3   </td><td>4   </td><td>... </td><td>2   </td><td> 2  </td><td>1972</td><td> 1  </td><td> 9  </td><td>00  </td><td> 900</td><td>F   </td><td>3   </td><td>42  </td></tr>\n",
       "\t<tr><td>3301</td><td> 8  </td><td> 0  </td><td>1   </td><td>4   </td><td> 1  </td><td>NA  </td><td>3   </td><td>2   </td><td>2   </td><td>... </td><td>1   </td><td> 2  </td><td>1956</td><td> 1  </td><td> 8  </td><td>00  </td><td> 800</td><td>D   </td><td>3   </td><td>58  </td></tr>\n",
       "\t<tr><td>3302</td><td> 9  </td><td> 0  </td><td>1   </td><td>4   </td><td> 2  </td><td>50  </td><td>3   </td><td>2   </td><td>2   </td><td>... </td><td>2   </td><td> 2  </td><td>1963</td><td> 1  </td><td> 9  </td><td>00  </td><td> 900</td><td>F   </td><td>3   </td><td>51  </td></tr>\n",
       "\t<tr><td>3303</td><td> 8  </td><td>30  </td><td>1   </td><td>3   </td><td> 1  </td><td>NA  </td><td>3   </td><td>3   </td><td>1   </td><td>... </td><td>2   </td><td> 2  </td><td>1990</td><td> 1  </td><td> 8  </td><td>30  </td><td> 830</td><td>E   </td><td>3   </td><td>24  </td></tr>\n",
       "\t<tr><td>3304</td><td> 8  </td><td> 0  </td><td>1   </td><td>4   </td><td> 1  </td><td>NA  </td><td>4   </td><td>2   </td><td>1   </td><td>... </td><td>1   </td><td> 2  </td><td>1992</td><td> 3  </td><td> 8  </td><td>00  </td><td> 800</td><td>D   </td><td>4   </td><td>22  </td></tr>\n",
       "\t<tr><td>3402</td><td> 9  </td><td> 0  </td><td>1   </td><td>4   </td><td> 2  </td><td>60  </td><td>2   </td><td>2   </td><td>4   </td><td>... </td><td>2   </td><td> 2  </td><td>1959</td><td> 1  </td><td> 9  </td><td>00  </td><td> 900</td><td>F   </td><td>2   </td><td>55  </td></tr>\n",
       "\t<tr><td>3403</td><td> 8  </td><td>30  </td><td>1   </td><td>4   </td><td> 1  </td><td>NA  </td><td>2   </td><td>2   </td><td>2   </td><td>... </td><td>1   </td><td> 2  </td><td>1984</td><td> 1  </td><td> 8  </td><td>30  </td><td> 830</td><td>E   </td><td>2   </td><td>30  </td></tr>\n",
       "\t<tr><td>3803</td><td>20  </td><td> 0  </td><td>1   </td><td>3   </td><td> 1  </td><td>NA  </td><td>4   </td><td>4   </td><td>1   </td><td>... </td><td>1   </td><td> 2  </td><td>1971</td><td> 1  </td><td>20  </td><td>00  </td><td>2000</td><td>H   </td><td>4   </td><td>43  </td></tr>\n",
       "\t<tr><td>3901</td><td> 9  </td><td> 0  </td><td>1   </td><td>3   </td><td>NA  </td><td>NA  </td><td>4   </td><td>3   </td><td>2   </td><td>... </td><td>1   </td><td>NA  </td><td>1964</td><td>NA  </td><td> 9  </td><td>00  </td><td> 900</td><td>F   </td><td>4   </td><td>50  </td></tr>\n",
       "\t<tr><td>3902</td><td> 9  </td><td> 0  </td><td>1   </td><td>1   </td><td>NA  </td><td>NA  </td><td>4   </td><td>4   </td><td>2   </td><td>... </td><td>2   </td><td>NA  </td><td>1964</td><td>NA  </td><td> 9  </td><td>00  </td><td> 900</td><td>F   </td><td>4   </td><td>50  </td></tr>\n",
       "\t<tr><td>3903</td><td> 8  </td><td>30  </td><td>1   </td><td>5   </td><td> 1  </td><td>NA  </td><td>3   </td><td>2   </td><td>1   </td><td>... </td><td>1   </td><td> 2  </td><td>1987</td><td> 1  </td><td> 8  </td><td>30  </td><td> 830</td><td>E   </td><td>3   </td><td>27  </td></tr>\n",
       "\t<tr><td>4001</td><td> 8  </td><td> 0  </td><td>1   </td><td>4   </td><td> 1  </td><td>NA  </td><td>3   </td><td>2   </td><td>2   </td><td>... </td><td>1   </td><td> 2  </td><td>1951</td><td> 7  </td><td> 8  </td><td>00  </td><td> 800</td><td>D   </td><td>3   </td><td>63  </td></tr>\n",
       "\t<tr><td>4002</td><td> 5  </td><td>30  </td><td>1   </td><td>5   </td><td>NA  </td><td>NA  </td><td>2   </td><td>2   </td><td>2   </td><td>... </td><td>2   </td><td>NA  </td><td>1951</td><td>NA  </td><td> 5  </td><td>30  </td><td> 530</td><td>A   </td><td>2   </td><td>63  </td></tr>\n",
       "\t<tr><td>4003</td><td> 8  </td><td> 0  </td><td>1   </td><td>2   </td><td> 1  </td><td>NA  </td><td>3   </td><td>3   </td><td>2   </td><td>... </td><td>2   </td><td> 3  </td><td>1978</td><td> 5  </td><td> 8  </td><td>00  </td><td> 800</td><td>D   </td><td>3   </td><td>36  </td></tr>\n",
       "\t<tr><td>4004</td><td> 6  </td><td> 0  </td><td>1   </td><td>5   </td><td>NA  </td><td>NA  </td><td>2   </td><td>2   </td><td>2   </td><td>... </td><td>1   </td><td>NA  </td><td>1979</td><td>NA  </td><td> 6  </td><td>00  </td><td> 600</td><td>A   </td><td>2   </td><td>35  </td></tr>\n",
       "\t<tr><td>...</td><td>...</td><td>...</td><td>...</td><td>...</td><td>...</td><td>...</td><td>...</td><td>...</td><td>...</td><td>   </td><td>...</td><td>...</td><td>...</td><td>...</td><td>...</td><td>...</td><td>...</td><td>...</td><td>...</td><td>...</td></tr>\n",
       "\t<tr><td>10140602</td><td> 7      </td><td> 0      </td><td>1       </td><td>3       </td><td>NA      </td><td>NA      </td><td>2       </td><td>2       </td><td>2       </td><td>...     </td><td>2       </td><td>NA      </td><td>1958    </td><td>NA      </td><td> 7      </td><td>00      </td><td> 700    </td><td>B       </td><td>2       </td><td>56      </td></tr>\n",
       "\t<tr><td>10140603</td><td> 8      </td><td> 0      </td><td>1       </td><td>3       </td><td> 1      </td><td>NA      </td><td>3       </td><td>3       </td><td>2       </td><td>...     </td><td>1       </td><td> 2      </td><td>1982    </td><td> 1      </td><td> 8      </td><td>00      </td><td> 800    </td><td>D       </td><td>3       </td><td>32      </td></tr>\n",
       "\t<tr><td>10140604</td><td> 9      </td><td>30      </td><td>1       </td><td>4       </td><td> 1      </td><td>NA      </td><td>3       </td><td>2       </td><td>1       </td><td>...     </td><td>1       </td><td> 2      </td><td>1984    </td><td> 1      </td><td> 9      </td><td>30      </td><td> 930    </td><td>G       </td><td>3       </td><td>30      </td></tr>\n",
       "\t<tr><td>10141001</td><td> 8      </td><td> 0      </td><td>1       </td><td>3       </td><td> 2      </td><td>32      </td><td>3       </td><td>3       </td><td>2       </td><td>...     </td><td>1       </td><td> 2      </td><td>1959    </td><td> 1      </td><td> 8      </td><td>00      </td><td> 800    </td><td>D       </td><td>3       </td><td>55      </td></tr>\n",
       "\t<tr><td>10141004</td><td> 8      </td><td>40      </td><td>1       </td><td>4       </td><td> 1      </td><td>NA      </td><td>3       </td><td>3       </td><td>1       </td><td>...     </td><td>2       </td><td> 2      </td><td>1990    </td><td> 4      </td><td> 8      </td><td>40      </td><td> 840    </td><td>E       </td><td>3       </td><td>24      </td></tr>\n",
       "\t<tr><td>10141301</td><td> 9      </td><td> 0      </td><td>1       </td><td>3       </td><td> 1      </td><td>NA      </td><td>3       </td><td>3       </td><td>1       </td><td>...     </td><td>1       </td><td> 2      </td><td>1980    </td><td> 1      </td><td> 9      </td><td>00      </td><td> 900    </td><td>F       </td><td>3       </td><td>34      </td></tr>\n",
       "\t<tr><td>10141401</td><td> 9      </td><td> 0      </td><td>1       </td><td>2       </td><td>NA      </td><td>NA      </td><td>3       </td><td>3       </td><td>1       </td><td>...     </td><td>1       </td><td>NA      </td><td>1951    </td><td>NA      </td><td> 9      </td><td>00      </td><td> 900    </td><td>F       </td><td>3       </td><td>63      </td></tr>\n",
       "\t<tr><td>11000303</td><td> 8      </td><td>30      </td><td>1       </td><td>3       </td><td> 1      </td><td>NA      </td><td>3       </td><td>3       </td><td>2       </td><td>...     </td><td>1       </td><td> 2      </td><td>1977    </td><td> 1      </td><td> 8      </td><td>30      </td><td> 830    </td><td>E       </td><td>3       </td><td>37      </td></tr>\n",
       "\t<tr><td>11000802</td><td>16      </td><td> 0      </td><td>1       </td><td>4       </td><td> 1      </td><td>NA      </td><td>3       </td><td>3       </td><td>2       </td><td>...     </td><td>1       </td><td> 2      </td><td>1978    </td><td> 1      </td><td>16      </td><td>00      </td><td>1600    </td><td>H       </td><td>3       </td><td>36      </td></tr>\n",
       "\t<tr><td>11001503</td><td> 8      </td><td>30      </td><td>1       </td><td>4       </td><td> 2      </td><td>40      </td><td>2       </td><td>2       </td><td>2       </td><td>...     </td><td>2       </td><td> 2      </td><td>1981    </td><td> 1      </td><td> 8      </td><td>30      </td><td> 830    </td><td>E       </td><td>2       </td><td>33      </td></tr>\n",
       "\t<tr><td>11002802</td><td> 9      </td><td> 0      </td><td>1       </td><td>3       </td><td> 1      </td><td>NA      </td><td>2       </td><td>3       </td><td>2       </td><td>...     </td><td>1       </td><td> 2      </td><td>1980    </td><td> 1      </td><td> 9      </td><td>00      </td><td> 900    </td><td>F       </td><td>2       </td><td>34      </td></tr>\n",
       "\t<tr><td>11002902</td><td> 8      </td><td>30      </td><td>1       </td><td>4       </td><td> 1      </td><td>NA      </td><td>2       </td><td>2       </td><td>2       </td><td>...     </td><td>2       </td><td> 1      </td><td>1981    </td><td> 5      </td><td> 8      </td><td>30      </td><td> 830    </td><td>E       </td><td>2       </td><td>33      </td></tr>\n",
       "\t<tr><td>11003202</td><td>10      </td><td>30      </td><td>1       </td><td>4       </td><td> 1      </td><td>NA      </td><td>2       </td><td>3       </td><td>2       </td><td>...     </td><td>2       </td><td> 2      </td><td>1985    </td><td> 1      </td><td>10      </td><td>30      </td><td>1030    </td><td>H       </td><td>2       </td><td>29      </td></tr>\n",
       "\t<tr><td>11004902</td><td> 9      </td><td> 0      </td><td>1       </td><td>3       </td><td> 1      </td><td>NA      </td><td>3       </td><td>3       </td><td>2       </td><td>...     </td><td>2       </td><td> 2      </td><td>1981    </td><td> 4      </td><td> 9      </td><td>00      </td><td> 900    </td><td>F       </td><td>3       </td><td>33      </td></tr>\n",
       "\t<tr><td>11005102</td><td>10      </td><td> 0      </td><td>1       </td><td>4       </td><td>NA      </td><td>NA      </td><td>3       </td><td>3       </td><td>2       </td><td>...     </td><td>1       </td><td>NA      </td><td>1981    </td><td>NA      </td><td>10      </td><td>00      </td><td>1000    </td><td>H       </td><td>3       </td><td>33      </td></tr>\n",
       "\t<tr><td>11005502</td><td> 8      </td><td> 0      </td><td>1       </td><td>3       </td><td> 1      </td><td>NA      </td><td>3       </td><td>3       </td><td>2       </td><td>...     </td><td>1       </td><td> 2      </td><td>1973    </td><td> 5      </td><td> 8      </td><td>00      </td><td> 800    </td><td>D       </td><td>3       </td><td>41      </td></tr>\n",
       "\t<tr><td>11005702</td><td> 9      </td><td>50      </td><td>1       </td><td>4       </td><td> 1      </td><td>NA      </td><td>2       </td><td>2       </td><td>2       </td><td>...     </td><td>1       </td><td> 2      </td><td>1981    </td><td> 1      </td><td> 9      </td><td>50      </td><td> 950    </td><td>G       </td><td>2       </td><td>33      </td></tr>\n",
       "\t<tr><td>11006102</td><td> 9      </td><td>30      </td><td>1       </td><td>3       </td><td> 2      </td><td>60      </td><td>3       </td><td>3       </td><td>2       </td><td>...     </td><td>1       </td><td> 2      </td><td>1982    </td><td> 1      </td><td> 9      </td><td>30      </td><td> 930    </td><td>G       </td><td>3       </td><td>32      </td></tr>\n",
       "\t<tr><td>11006402</td><td> 8      </td><td>30      </td><td>1       </td><td>3       </td><td> 1      </td><td>NA      </td><td>3       </td><td>3       </td><td>2       </td><td>...     </td><td>1       </td><td> 2      </td><td>1975    </td><td> 1      </td><td> 8      </td><td>30      </td><td> 830    </td><td>E       </td><td>3       </td><td>39      </td></tr>\n",
       "\t<tr><td>11006602</td><td> 9      </td><td> 0      </td><td>1       </td><td>3       </td><td> 1      </td><td>NA      </td><td>2       </td><td>2       </td><td>2       </td><td>...     </td><td>1       </td><td> 2      </td><td>1980    </td><td> 3      </td><td> 9      </td><td>00      </td><td> 900    </td><td>F       </td><td>2       </td><td>34      </td></tr>\n",
       "\t<tr><td>11007102</td><td> 9      </td><td> 0      </td><td>1       </td><td>4       </td><td> 1      </td><td>NA      </td><td>3       </td><td>2       </td><td>2       </td><td>...     </td><td>1       </td><td> 2      </td><td>1985    </td><td> 1      </td><td> 9      </td><td>00      </td><td> 900    </td><td>F       </td><td>3       </td><td>29      </td></tr>\n",
       "\t<tr><td>11009202</td><td> 8      </td><td>30      </td><td>1       </td><td>4       </td><td> 2      </td><td>40      </td><td>2       </td><td>2       </td><td>2       </td><td>...     </td><td>1       </td><td> 2      </td><td>1982    </td><td> 3      </td><td> 8      </td><td>30      </td><td> 830    </td><td>E       </td><td>2       </td><td>32      </td></tr>\n",
       "\t<tr><td>11009502</td><td> 9      </td><td> 0      </td><td>1       </td><td>3       </td><td> 1      </td><td>NA      </td><td>3       </td><td>2       </td><td>2       </td><td>...     </td><td>1       </td><td> 2      </td><td>1981    </td><td> 1      </td><td> 9      </td><td>00      </td><td> 900    </td><td>F       </td><td>3       </td><td>33      </td></tr>\n",
       "\t<tr><td>11010802</td><td> 7      </td><td> 0      </td><td>1       </td><td>2       </td><td> 1      </td><td>NA      </td><td>2       </td><td>2       </td><td>2       </td><td>...     </td><td>1       </td><td> 1      </td><td>1985    </td><td> 1      </td><td> 7      </td><td>00      </td><td> 700    </td><td>B       </td><td>2       </td><td>29      </td></tr>\n",
       "\t<tr><td>11011002</td><td> 8      </td><td> 0      </td><td>1       </td><td>3       </td><td> 1      </td><td>NA      </td><td>3       </td><td>3       </td><td>2       </td><td>...     </td><td>1       </td><td> 2      </td><td>1978    </td><td> 1      </td><td> 8      </td><td>00      </td><td> 800    </td><td>D       </td><td>3       </td><td>36      </td></tr>\n",
       "\t<tr><td>11012202</td><td> 9      </td><td> 0      </td><td>1       </td><td>4       </td><td> 1      </td><td>NA      </td><td>2       </td><td>2       </td><td>2       </td><td>...     </td><td>1       </td><td> 2      </td><td>1981    </td><td> 1      </td><td> 9      </td><td>00      </td><td> 900    </td><td>F       </td><td>2       </td><td>33      </td></tr>\n",
       "\t<tr><td>11012204</td><td> 9      </td><td>30      </td><td>1       </td><td>4       </td><td>NA      </td><td>NA      </td><td>3       </td><td>2       </td><td>2       </td><td>...     </td><td>1       </td><td>NA      </td><td>1961    </td><td>NA      </td><td> 9      </td><td>30      </td><td> 930    </td><td>G       </td><td>3       </td><td>53      </td></tr>\n",
       "\t<tr><td>11012702</td><td> 7      </td><td> 0      </td><td>1       </td><td>4       </td><td> 1      </td><td>NA      </td><td>2       </td><td>2       </td><td>2       </td><td>...     </td><td>2       </td><td> 2      </td><td>1984    </td><td> 1      </td><td> 7      </td><td>00      </td><td> 700    </td><td>B       </td><td>2       </td><td>30      </td></tr>\n",
       "\t<tr><td>11013602</td><td> 8      </td><td>30      </td><td>1       </td><td>3       </td><td> 1      </td><td>NA      </td><td>3       </td><td>3       </td><td>2       </td><td>...     </td><td>1       </td><td> 2      </td><td>1981    </td><td> 1      </td><td> 8      </td><td>30      </td><td> 830    </td><td>E       </td><td>3       </td><td>33      </td></tr>\n",
       "\t<tr><td>11014502</td><td> 8      </td><td>30      </td><td>1       </td><td>3       </td><td> 1      </td><td>NA      </td><td>3       </td><td>3       </td><td>2       </td><td>...     </td><td>2       </td><td> 1      </td><td>1983    </td><td> 1      </td><td> 8      </td><td>30      </td><td> 830    </td><td>E       </td><td>3       </td><td>31      </td></tr>\n",
       "</tbody>\n",
       "</table>\n"
      ],
      "text/latex": [
       "\\begin{tabular}{r|llllllllllllllllllllll}\n",
       " pid & wstart\\_h & wstart\\_m & wend\\_d & jobsat & fixedwt & wtime & wspacesat & wsat & marri & ... & gend & wbonus & birth & com\\_type & nwstart\\_h & nwstart\\_m & nwstart & nwstart\\_c & nwspacesat & age\\\\\n",
       "\\hline\n",
       "\t  101 &  7   &  0   & 1    & 4    &  2   & 24   & 3    & 3    & 5    & ...  & 2    &  2   & 1941 &  6   &  7   & 00   &  700 & B    & 3    & 73  \\\\\n",
       "\t  102 &  8   & 30   & 1    & 3    &  1   & NA   & 3    & 3    & 5    & ...  & 1    &  2   & 1968 &  1   &  8   & 30   &  830 & E    & 3    & 46  \\\\\n",
       "\t  401 &  9   &  0   & 1    & 4    &  1   & NA   & 2    & 2    & 2    & ...  & 1    &  2   & 1970 &  3   &  9   & 00   &  900 & F    & 2    & 44  \\\\\n",
       "\t  402 & 13   &  0   & 1    & 4    & NA   & NA   & 2    & 2    & 2    & ...  & 2    & NA   & 1969 & NA   & 13   & 00   & 1300 & H    & 2    & 45  \\\\\n",
       "\t  902 &  9   &  0   & 1    & 4    &  1   & NA   & 2    & 2    & 2    & ...  & 2    &  2   & 1970 &  4   &  9   & 00   &  900 & F    & 2    & 44  \\\\\n",
       "\t 1101 &  4   &  0   & 1    & 2    &  1   & NA   & 3    & 3    & 2    & ...  & 1    &  2   & 1957 &  1   &  4   & 00   &  400 & A    & 3    & 57  \\\\\n",
       "\t 1102 & 10   & 30   & 1    & 3    &  1   & NA   & 3    & 3    & 2    & ...  & 2    &  2   & 1949 &  1   & 10   & 30   & 1030 & H    & 3    & 65  \\\\\n",
       "\t 1203 &  9   &  0   & 1    & 5    & NA   & NA   & 2    & 2    & 2    & ...  & 1    & NA   & 1970 & NA   &  9   & 00   &  900 & F    & 2    & 44  \\\\\n",
       "\t 1601 & 15   &  0   & 1    & 2    & NA   & NA   & 3    & 3    & 5    & ...  & 2    & NA   & 1948 & NA   & 15   & 00   & 1500 & H    & 3    & 66  \\\\\n",
       "\t 2002 & 10   &  0   & 1    & 3    &  2   & 15   & 3    & 3    & 2    & ...  & 2    &  2   & 1958 &  1   & 10   & 00   & 1000 & H    & 3    & 56  \\\\\n",
       "\t 2201 &  9   &  0   & 1    & 4    &  1   & NA   & 2    & 2    & 2    & ...  & 2    &  2   & 1973 &  1   &  9   & 00   &  900 & F    & 2    & 41  \\\\\n",
       "\t 2202 &  6   &  0   & 1    & 4    & NA   & NA   & 3    & 3    & 2    & ...  & 1    & NA   & 1967 & NA   &  6   & 00   &  600 & A    & 3    & 47  \\\\\n",
       "\t 2703 &  9   &  0   & 1    & 4    &  1   & NA   & 2    & 2    & 1    & ...  & 1    &  2   & 1969 &  1   &  9   & 00   &  900 & F    & 2    & 45  \\\\\n",
       "\t 3103 & 12   &  0   & 1    & 3    & NA   & NA   & 3    & 3    & 1    & ...  & 1    & NA   & 1973 & NA   & 12   & 00   & 1200 & H    & 3    & 41  \\\\\n",
       "\t 3204 &  9   &  0   & 1    & 2    &  1   & NA   & 4    & 3    & 2    & ...  & 1    &  2   & 1972 &  1   &  9   & 00   &  900 & F    & 4    & 42  \\\\\n",
       "\t 3206 &  9   &  0   & 1    & 2    &  1   & NA   & 3    & 3    & 4    & ...  & 2    &  2   & 1972 &  1   &  9   & 00   &  900 & F    & 3    & 42  \\\\\n",
       "\t 3301 &  8   &  0   & 1    & 4    &  1   & NA   & 3    & 2    & 2    & ...  & 1    &  2   & 1956 &  1   &  8   & 00   &  800 & D    & 3    & 58  \\\\\n",
       "\t 3302 &  9   &  0   & 1    & 4    &  2   & 50   & 3    & 2    & 2    & ...  & 2    &  2   & 1963 &  1   &  9   & 00   &  900 & F    & 3    & 51  \\\\\n",
       "\t 3303 &  8   & 30   & 1    & 3    &  1   & NA   & 3    & 3    & 1    & ...  & 2    &  2   & 1990 &  1   &  8   & 30   &  830 & E    & 3    & 24  \\\\\n",
       "\t 3304 &  8   &  0   & 1    & 4    &  1   & NA   & 4    & 2    & 1    & ...  & 1    &  2   & 1992 &  3   &  8   & 00   &  800 & D    & 4    & 22  \\\\\n",
       "\t 3402 &  9   &  0   & 1    & 4    &  2   & 60   & 2    & 2    & 4    & ...  & 2    &  2   & 1959 &  1   &  9   & 00   &  900 & F    & 2    & 55  \\\\\n",
       "\t 3403 &  8   & 30   & 1    & 4    &  1   & NA   & 2    & 2    & 2    & ...  & 1    &  2   & 1984 &  1   &  8   & 30   &  830 & E    & 2    & 30  \\\\\n",
       "\t 3803 & 20   &  0   & 1    & 3    &  1   & NA   & 4    & 4    & 1    & ...  & 1    &  2   & 1971 &  1   & 20   & 00   & 2000 & H    & 4    & 43  \\\\\n",
       "\t 3901 &  9   &  0   & 1    & 3    & NA   & NA   & 4    & 3    & 2    & ...  & 1    & NA   & 1964 & NA   &  9   & 00   &  900 & F    & 4    & 50  \\\\\n",
       "\t 3902 &  9   &  0   & 1    & 1    & NA   & NA   & 4    & 4    & 2    & ...  & 2    & NA   & 1964 & NA   &  9   & 00   &  900 & F    & 4    & 50  \\\\\n",
       "\t 3903 &  8   & 30   & 1    & 5    &  1   & NA   & 3    & 2    & 1    & ...  & 1    &  2   & 1987 &  1   &  8   & 30   &  830 & E    & 3    & 27  \\\\\n",
       "\t 4001 &  8   &  0   & 1    & 4    &  1   & NA   & 3    & 2    & 2    & ...  & 1    &  2   & 1951 &  7   &  8   & 00   &  800 & D    & 3    & 63  \\\\\n",
       "\t 4002 &  5   & 30   & 1    & 5    & NA   & NA   & 2    & 2    & 2    & ...  & 2    & NA   & 1951 & NA   &  5   & 30   &  530 & A    & 2    & 63  \\\\\n",
       "\t 4003 &  8   &  0   & 1    & 2    &  1   & NA   & 3    & 3    & 2    & ...  & 2    &  3   & 1978 &  5   &  8   & 00   &  800 & D    & 3    & 36  \\\\\n",
       "\t 4004 &  6   &  0   & 1    & 5    & NA   & NA   & 2    & 2    & 2    & ...  & 1    & NA   & 1979 & NA   &  6   & 00   &  600 & A    & 2    & 35  \\\\\n",
       "\t ... & ... & ... & ... & ... & ... & ... & ... & ... & ... &     & ... & ... & ... & ... & ... & ... & ... & ... & ... & ...\\\\\n",
       "\t 10140602 &  7       &  0       & 1        & 3        & NA       & NA       & 2        & 2        & 2        & ...      & 2        & NA       & 1958     & NA       &  7       & 00       &  700     & B        & 2        & 56      \\\\\n",
       "\t 10140603 &  8       &  0       & 1        & 3        &  1       & NA       & 3        & 3        & 2        & ...      & 1        &  2       & 1982     &  1       &  8       & 00       &  800     & D        & 3        & 32      \\\\\n",
       "\t 10140604 &  9       & 30       & 1        & 4        &  1       & NA       & 3        & 2        & 1        & ...      & 1        &  2       & 1984     &  1       &  9       & 30       &  930     & G        & 3        & 30      \\\\\n",
       "\t 10141001 &  8       &  0       & 1        & 3        &  2       & 32       & 3        & 3        & 2        & ...      & 1        &  2       & 1959     &  1       &  8       & 00       &  800     & D        & 3        & 55      \\\\\n",
       "\t 10141004 &  8       & 40       & 1        & 4        &  1       & NA       & 3        & 3        & 1        & ...      & 2        &  2       & 1990     &  4       &  8       & 40       &  840     & E        & 3        & 24      \\\\\n",
       "\t 10141301 &  9       &  0       & 1        & 3        &  1       & NA       & 3        & 3        & 1        & ...      & 1        &  2       & 1980     &  1       &  9       & 00       &  900     & F        & 3        & 34      \\\\\n",
       "\t 10141401 &  9       &  0       & 1        & 2        & NA       & NA       & 3        & 3        & 1        & ...      & 1        & NA       & 1951     & NA       &  9       & 00       &  900     & F        & 3        & 63      \\\\\n",
       "\t 11000303 &  8       & 30       & 1        & 3        &  1       & NA       & 3        & 3        & 2        & ...      & 1        &  2       & 1977     &  1       &  8       & 30       &  830     & E        & 3        & 37      \\\\\n",
       "\t 11000802 & 16       &  0       & 1        & 4        &  1       & NA       & 3        & 3        & 2        & ...      & 1        &  2       & 1978     &  1       & 16       & 00       & 1600     & H        & 3        & 36      \\\\\n",
       "\t 11001503 &  8       & 30       & 1        & 4        &  2       & 40       & 2        & 2        & 2        & ...      & 2        &  2       & 1981     &  1       &  8       & 30       &  830     & E        & 2        & 33      \\\\\n",
       "\t 11002802 &  9       &  0       & 1        & 3        &  1       & NA       & 2        & 3        & 2        & ...      & 1        &  2       & 1980     &  1       &  9       & 00       &  900     & F        & 2        & 34      \\\\\n",
       "\t 11002902 &  8       & 30       & 1        & 4        &  1       & NA       & 2        & 2        & 2        & ...      & 2        &  1       & 1981     &  5       &  8       & 30       &  830     & E        & 2        & 33      \\\\\n",
       "\t 11003202 & 10       & 30       & 1        & 4        &  1       & NA       & 2        & 3        & 2        & ...      & 2        &  2       & 1985     &  1       & 10       & 30       & 1030     & H        & 2        & 29      \\\\\n",
       "\t 11004902 &  9       &  0       & 1        & 3        &  1       & NA       & 3        & 3        & 2        & ...      & 2        &  2       & 1981     &  4       &  9       & 00       &  900     & F        & 3        & 33      \\\\\n",
       "\t 11005102 & 10       &  0       & 1        & 4        & NA       & NA       & 3        & 3        & 2        & ...      & 1        & NA       & 1981     & NA       & 10       & 00       & 1000     & H        & 3        & 33      \\\\\n",
       "\t 11005502 &  8       &  0       & 1        & 3        &  1       & NA       & 3        & 3        & 2        & ...      & 1        &  2       & 1973     &  5       &  8       & 00       &  800     & D        & 3        & 41      \\\\\n",
       "\t 11005702 &  9       & 50       & 1        & 4        &  1       & NA       & 2        & 2        & 2        & ...      & 1        &  2       & 1981     &  1       &  9       & 50       &  950     & G        & 2        & 33      \\\\\n",
       "\t 11006102 &  9       & 30       & 1        & 3        &  2       & 60       & 3        & 3        & 2        & ...      & 1        &  2       & 1982     &  1       &  9       & 30       &  930     & G        & 3        & 32      \\\\\n",
       "\t 11006402 &  8       & 30       & 1        & 3        &  1       & NA       & 3        & 3        & 2        & ...      & 1        &  2       & 1975     &  1       &  8       & 30       &  830     & E        & 3        & 39      \\\\\n",
       "\t 11006602 &  9       &  0       & 1        & 3        &  1       & NA       & 2        & 2        & 2        & ...      & 1        &  2       & 1980     &  3       &  9       & 00       &  900     & F        & 2        & 34      \\\\\n",
       "\t 11007102 &  9       &  0       & 1        & 4        &  1       & NA       & 3        & 2        & 2        & ...      & 1        &  2       & 1985     &  1       &  9       & 00       &  900     & F        & 3        & 29      \\\\\n",
       "\t 11009202 &  8       & 30       & 1        & 4        &  2       & 40       & 2        & 2        & 2        & ...      & 1        &  2       & 1982     &  3       &  8       & 30       &  830     & E        & 2        & 32      \\\\\n",
       "\t 11009502 &  9       &  0       & 1        & 3        &  1       & NA       & 3        & 2        & 2        & ...      & 1        &  2       & 1981     &  1       &  9       & 00       &  900     & F        & 3        & 33      \\\\\n",
       "\t 11010802 &  7       &  0       & 1        & 2        &  1       & NA       & 2        & 2        & 2        & ...      & 1        &  1       & 1985     &  1       &  7       & 00       &  700     & B        & 2        & 29      \\\\\n",
       "\t 11011002 &  8       &  0       & 1        & 3        &  1       & NA       & 3        & 3        & 2        & ...      & 1        &  2       & 1978     &  1       &  8       & 00       &  800     & D        & 3        & 36      \\\\\n",
       "\t 11012202 &  9       &  0       & 1        & 4        &  1       & NA       & 2        & 2        & 2        & ...      & 1        &  2       & 1981     &  1       &  9       & 00       &  900     & F        & 2        & 33      \\\\\n",
       "\t 11012204 &  9       & 30       & 1        & 4        & NA       & NA       & 3        & 2        & 2        & ...      & 1        & NA       & 1961     & NA       &  9       & 30       &  930     & G        & 3        & 53      \\\\\n",
       "\t 11012702 &  7       &  0       & 1        & 4        &  1       & NA       & 2        & 2        & 2        & ...      & 2        &  2       & 1984     &  1       &  7       & 00       &  700     & B        & 2        & 30      \\\\\n",
       "\t 11013602 &  8       & 30       & 1        & 3        &  1       & NA       & 3        & 3        & 2        & ...      & 1        &  2       & 1981     &  1       &  8       & 30       &  830     & E        & 3        & 33      \\\\\n",
       "\t 11014502 &  8       & 30       & 1        & 3        &  1       & NA       & 3        & 3        & 2        & ...      & 2        &  1       & 1983     &  1       &  8       & 30       &  830     & E        & 3        & 31      \\\\\n",
       "\\end{tabular}\n"
      ],
      "text/markdown": [
       "\n",
       "pid | wstart_h | wstart_m | wend_d | jobsat | fixedwt | wtime | wspacesat | wsat | marri | ... | gend | wbonus | birth | com_type | nwstart_h | nwstart_m | nwstart | nwstart_c | nwspacesat | age | \n",
       "|---|---|---|---|---|---|---|---|---|---|---|---|---|---|---|---|---|---|---|---|---|---|---|---|---|---|---|---|---|---|---|---|---|---|---|---|---|---|---|---|---|---|---|---|---|---|---|---|---|---|---|---|---|---|---|---|---|---|---|---|---|\n",
       "|  101 |  7   |  0   | 1    | 4    |  2   | 24   | 3    | 3    | 5    | ...  | 2    |  2   | 1941 |  6   |  7   | 00   |  700 | B    | 3    | 73   | \n",
       "|  102 |  8   | 30   | 1    | 3    |  1   | NA   | 3    | 3    | 5    | ...  | 1    |  2   | 1968 |  1   |  8   | 30   |  830 | E    | 3    | 46   | \n",
       "|  401 |  9   |  0   | 1    | 4    |  1   | NA   | 2    | 2    | 2    | ...  | 1    |  2   | 1970 |  3   |  9   | 00   |  900 | F    | 2    | 44   | \n",
       "|  402 | 13   |  0   | 1    | 4    | NA   | NA   | 2    | 2    | 2    | ...  | 2    | NA   | 1969 | NA   | 13   | 00   | 1300 | H    | 2    | 45   | \n",
       "|  902 |  9   |  0   | 1    | 4    |  1   | NA   | 2    | 2    | 2    | ...  | 2    |  2   | 1970 |  4   |  9   | 00   |  900 | F    | 2    | 44   | \n",
       "| 1101 |  4   |  0   | 1    | 2    |  1   | NA   | 3    | 3    | 2    | ...  | 1    |  2   | 1957 |  1   |  4   | 00   |  400 | A    | 3    | 57   | \n",
       "| 1102 | 10   | 30   | 1    | 3    |  1   | NA   | 3    | 3    | 2    | ...  | 2    |  2   | 1949 |  1   | 10   | 30   | 1030 | H    | 3    | 65   | \n",
       "| 1203 |  9   |  0   | 1    | 5    | NA   | NA   | 2    | 2    | 2    | ...  | 1    | NA   | 1970 | NA   |  9   | 00   |  900 | F    | 2    | 44   | \n",
       "| 1601 | 15   |  0   | 1    | 2    | NA   | NA   | 3    | 3    | 5    | ...  | 2    | NA   | 1948 | NA   | 15   | 00   | 1500 | H    | 3    | 66   | \n",
       "| 2002 | 10   |  0   | 1    | 3    |  2   | 15   | 3    | 3    | 2    | ...  | 2    |  2   | 1958 |  1   | 10   | 00   | 1000 | H    | 3    | 56   | \n",
       "| 2201 |  9   |  0   | 1    | 4    |  1   | NA   | 2    | 2    | 2    | ...  | 2    |  2   | 1973 |  1   |  9   | 00   |  900 | F    | 2    | 41   | \n",
       "| 2202 |  6   |  0   | 1    | 4    | NA   | NA   | 3    | 3    | 2    | ...  | 1    | NA   | 1967 | NA   |  6   | 00   |  600 | A    | 3    | 47   | \n",
       "| 2703 |  9   |  0   | 1    | 4    |  1   | NA   | 2    | 2    | 1    | ...  | 1    |  2   | 1969 |  1   |  9   | 00   |  900 | F    | 2    | 45   | \n",
       "| 3103 | 12   |  0   | 1    | 3    | NA   | NA   | 3    | 3    | 1    | ...  | 1    | NA   | 1973 | NA   | 12   | 00   | 1200 | H    | 3    | 41   | \n",
       "| 3204 |  9   |  0   | 1    | 2    |  1   | NA   | 4    | 3    | 2    | ...  | 1    |  2   | 1972 |  1   |  9   | 00   |  900 | F    | 4    | 42   | \n",
       "| 3206 |  9   |  0   | 1    | 2    |  1   | NA   | 3    | 3    | 4    | ...  | 2    |  2   | 1972 |  1   |  9   | 00   |  900 | F    | 3    | 42   | \n",
       "| 3301 |  8   |  0   | 1    | 4    |  1   | NA   | 3    | 2    | 2    | ...  | 1    |  2   | 1956 |  1   |  8   | 00   |  800 | D    | 3    | 58   | \n",
       "| 3302 |  9   |  0   | 1    | 4    |  2   | 50   | 3    | 2    | 2    | ...  | 2    |  2   | 1963 |  1   |  9   | 00   |  900 | F    | 3    | 51   | \n",
       "| 3303 |  8   | 30   | 1    | 3    |  1   | NA   | 3    | 3    | 1    | ...  | 2    |  2   | 1990 |  1   |  8   | 30   |  830 | E    | 3    | 24   | \n",
       "| 3304 |  8   |  0   | 1    | 4    |  1   | NA   | 4    | 2    | 1    | ...  | 1    |  2   | 1992 |  3   |  8   | 00   |  800 | D    | 4    | 22   | \n",
       "| 3402 |  9   |  0   | 1    | 4    |  2   | 60   | 2    | 2    | 4    | ...  | 2    |  2   | 1959 |  1   |  9   | 00   |  900 | F    | 2    | 55   | \n",
       "| 3403 |  8   | 30   | 1    | 4    |  1   | NA   | 2    | 2    | 2    | ...  | 1    |  2   | 1984 |  1   |  8   | 30   |  830 | E    | 2    | 30   | \n",
       "| 3803 | 20   |  0   | 1    | 3    |  1   | NA   | 4    | 4    | 1    | ...  | 1    |  2   | 1971 |  1   | 20   | 00   | 2000 | H    | 4    | 43   | \n",
       "| 3901 |  9   |  0   | 1    | 3    | NA   | NA   | 4    | 3    | 2    | ...  | 1    | NA   | 1964 | NA   |  9   | 00   |  900 | F    | 4    | 50   | \n",
       "| 3902 |  9   |  0   | 1    | 1    | NA   | NA   | 4    | 4    | 2    | ...  | 2    | NA   | 1964 | NA   |  9   | 00   |  900 | F    | 4    | 50   | \n",
       "| 3903 |  8   | 30   | 1    | 5    |  1   | NA   | 3    | 2    | 1    | ...  | 1    |  2   | 1987 |  1   |  8   | 30   |  830 | E    | 3    | 27   | \n",
       "| 4001 |  8   |  0   | 1    | 4    |  1   | NA   | 3    | 2    | 2    | ...  | 1    |  2   | 1951 |  7   |  8   | 00   |  800 | D    | 3    | 63   | \n",
       "| 4002 |  5   | 30   | 1    | 5    | NA   | NA   | 2    | 2    | 2    | ...  | 2    | NA   | 1951 | NA   |  5   | 30   |  530 | A    | 2    | 63   | \n",
       "| 4003 |  8   |  0   | 1    | 2    |  1   | NA   | 3    | 3    | 2    | ...  | 2    |  3   | 1978 |  5   |  8   | 00   |  800 | D    | 3    | 36   | \n",
       "| 4004 |  6   |  0   | 1    | 5    | NA   | NA   | 2    | 2    | 2    | ...  | 1    | NA   | 1979 | NA   |  6   | 00   |  600 | A    | 2    | 35   | \n",
       "| ... | ... | ... | ... | ... | ... | ... | ... | ... | ... |     | ... | ... | ... | ... | ... | ... | ... | ... | ... | ... | \n",
       "| 10140602 |  7       |  0       | 1        | 3        | NA       | NA       | 2        | 2        | 2        | ...      | 2        | NA       | 1958     | NA       |  7       | 00       |  700     | B        | 2        | 56       | \n",
       "| 10140603 |  8       |  0       | 1        | 3        |  1       | NA       | 3        | 3        | 2        | ...      | 1        |  2       | 1982     |  1       |  8       | 00       |  800     | D        | 3        | 32       | \n",
       "| 10140604 |  9       | 30       | 1        | 4        |  1       | NA       | 3        | 2        | 1        | ...      | 1        |  2       | 1984     |  1       |  9       | 30       |  930     | G        | 3        | 30       | \n",
       "| 10141001 |  8       |  0       | 1        | 3        |  2       | 32       | 3        | 3        | 2        | ...      | 1        |  2       | 1959     |  1       |  8       | 00       |  800     | D        | 3        | 55       | \n",
       "| 10141004 |  8       | 40       | 1        | 4        |  1       | NA       | 3        | 3        | 1        | ...      | 2        |  2       | 1990     |  4       |  8       | 40       |  840     | E        | 3        | 24       | \n",
       "| 10141301 |  9       |  0       | 1        | 3        |  1       | NA       | 3        | 3        | 1        | ...      | 1        |  2       | 1980     |  1       |  9       | 00       |  900     | F        | 3        | 34       | \n",
       "| 10141401 |  9       |  0       | 1        | 2        | NA       | NA       | 3        | 3        | 1        | ...      | 1        | NA       | 1951     | NA       |  9       | 00       |  900     | F        | 3        | 63       | \n",
       "| 11000303 |  8       | 30       | 1        | 3        |  1       | NA       | 3        | 3        | 2        | ...      | 1        |  2       | 1977     |  1       |  8       | 30       |  830     | E        | 3        | 37       | \n",
       "| 11000802 | 16       |  0       | 1        | 4        |  1       | NA       | 3        | 3        | 2        | ...      | 1        |  2       | 1978     |  1       | 16       | 00       | 1600     | H        | 3        | 36       | \n",
       "| 11001503 |  8       | 30       | 1        | 4        |  2       | 40       | 2        | 2        | 2        | ...      | 2        |  2       | 1981     |  1       |  8       | 30       |  830     | E        | 2        | 33       | \n",
       "| 11002802 |  9       |  0       | 1        | 3        |  1       | NA       | 2        | 3        | 2        | ...      | 1        |  2       | 1980     |  1       |  9       | 00       |  900     | F        | 2        | 34       | \n",
       "| 11002902 |  8       | 30       | 1        | 4        |  1       | NA       | 2        | 2        | 2        | ...      | 2        |  1       | 1981     |  5       |  8       | 30       |  830     | E        | 2        | 33       | \n",
       "| 11003202 | 10       | 30       | 1        | 4        |  1       | NA       | 2        | 3        | 2        | ...      | 2        |  2       | 1985     |  1       | 10       | 30       | 1030     | H        | 2        | 29       | \n",
       "| 11004902 |  9       |  0       | 1        | 3        |  1       | NA       | 3        | 3        | 2        | ...      | 2        |  2       | 1981     |  4       |  9       | 00       |  900     | F        | 3        | 33       | \n",
       "| 11005102 | 10       |  0       | 1        | 4        | NA       | NA       | 3        | 3        | 2        | ...      | 1        | NA       | 1981     | NA       | 10       | 00       | 1000     | H        | 3        | 33       | \n",
       "| 11005502 |  8       |  0       | 1        | 3        |  1       | NA       | 3        | 3        | 2        | ...      | 1        |  2       | 1973     |  5       |  8       | 00       |  800     | D        | 3        | 41       | \n",
       "| 11005702 |  9       | 50       | 1        | 4        |  1       | NA       | 2        | 2        | 2        | ...      | 1        |  2       | 1981     |  1       |  9       | 50       |  950     | G        | 2        | 33       | \n",
       "| 11006102 |  9       | 30       | 1        | 3        |  2       | 60       | 3        | 3        | 2        | ...      | 1        |  2       | 1982     |  1       |  9       | 30       |  930     | G        | 3        | 32       | \n",
       "| 11006402 |  8       | 30       | 1        | 3        |  1       | NA       | 3        | 3        | 2        | ...      | 1        |  2       | 1975     |  1       |  8       | 30       |  830     | E        | 3        | 39       | \n",
       "| 11006602 |  9       |  0       | 1        | 3        |  1       | NA       | 2        | 2        | 2        | ...      | 1        |  2       | 1980     |  3       |  9       | 00       |  900     | F        | 2        | 34       | \n",
       "| 11007102 |  9       |  0       | 1        | 4        |  1       | NA       | 3        | 2        | 2        | ...      | 1        |  2       | 1985     |  1       |  9       | 00       |  900     | F        | 3        | 29       | \n",
       "| 11009202 |  8       | 30       | 1        | 4        |  2       | 40       | 2        | 2        | 2        | ...      | 1        |  2       | 1982     |  3       |  8       | 30       |  830     | E        | 2        | 32       | \n",
       "| 11009502 |  9       |  0       | 1        | 3        |  1       | NA       | 3        | 2        | 2        | ...      | 1        |  2       | 1981     |  1       |  9       | 00       |  900     | F        | 3        | 33       | \n",
       "| 11010802 |  7       |  0       | 1        | 2        |  1       | NA       | 2        | 2        | 2        | ...      | 1        |  1       | 1985     |  1       |  7       | 00       |  700     | B        | 2        | 29       | \n",
       "| 11011002 |  8       |  0       | 1        | 3        |  1       | NA       | 3        | 3        | 2        | ...      | 1        |  2       | 1978     |  1       |  8       | 00       |  800     | D        | 3        | 36       | \n",
       "| 11012202 |  9       |  0       | 1        | 4        |  1       | NA       | 2        | 2        | 2        | ...      | 1        |  2       | 1981     |  1       |  9       | 00       |  900     | F        | 2        | 33       | \n",
       "| 11012204 |  9       | 30       | 1        | 4        | NA       | NA       | 3        | 2        | 2        | ...      | 1        | NA       | 1961     | NA       |  9       | 30       |  930     | G        | 3        | 53       | \n",
       "| 11012702 |  7       |  0       | 1        | 4        |  1       | NA       | 2        | 2        | 2        | ...      | 2        |  2       | 1984     |  1       |  7       | 00       |  700     | B        | 2        | 30       | \n",
       "| 11013602 |  8       | 30       | 1        | 3        |  1       | NA       | 3        | 3        | 2        | ...      | 1        |  2       | 1981     |  1       |  8       | 30       |  830     | E        | 3        | 33       | \n",
       "| 11014502 |  8       | 30       | 1        | 3        |  1       | NA       | 3        | 3        | 2        | ...      | 2        |  1       | 1983     |  1       |  8       | 30       |  830     | E        | 3        | 31       | \n",
       "\n",
       "\n"
      ],
      "text/plain": [
       "     pid      wstart_h wstart_m wend_d jobsat fixedwt wtime wspacesat wsat\n",
       "1     101      7        0       1      4       2      24    3         3   \n",
       "2     102      8       30       1      3       1      NA    3         3   \n",
       "3     401      9        0       1      4       1      NA    2         2   \n",
       "4     402     13        0       1      4      NA      NA    2         2   \n",
       "5     902      9        0       1      4       1      NA    2         2   \n",
       "6    1101      4        0       1      2       1      NA    3         3   \n",
       "7    1102     10       30       1      3       1      NA    3         3   \n",
       "8    1203      9        0       1      5      NA      NA    2         2   \n",
       "9    1601     15        0       1      2      NA      NA    3         3   \n",
       "10   2002     10        0       1      3       2      15    3         3   \n",
       "11   2201      9        0       1      4       1      NA    2         2   \n",
       "12   2202      6        0       1      4      NA      NA    3         3   \n",
       "13   2703      9        0       1      4       1      NA    2         2   \n",
       "14   3103     12        0       1      3      NA      NA    3         3   \n",
       "15   3204      9        0       1      2       1      NA    4         3   \n",
       "16   3206      9        0       1      2       1      NA    3         3   \n",
       "17   3301      8        0       1      4       1      NA    3         2   \n",
       "18   3302      9        0       1      4       2      50    3         2   \n",
       "19   3303      8       30       1      3       1      NA    3         3   \n",
       "20   3304      8        0       1      4       1      NA    4         2   \n",
       "21   3402      9        0       1      4       2      60    2         2   \n",
       "22   3403      8       30       1      4       1      NA    2         2   \n",
       "23   3803     20        0       1      3       1      NA    4         4   \n",
       "24   3901      9        0       1      3      NA      NA    4         3   \n",
       "25   3902      9        0       1      1      NA      NA    4         4   \n",
       "26   3903      8       30       1      5       1      NA    3         2   \n",
       "27   4001      8        0       1      4       1      NA    3         2   \n",
       "28   4002      5       30       1      5      NA      NA    2         2   \n",
       "29   4003      8        0       1      2       1      NA    3         3   \n",
       "30   4004      6        0       1      5      NA      NA    2         2   \n",
       "...  ...      ...      ...      ...    ...    ...     ...   ...       ... \n",
       "7168 10140602  7        0       1      3      NA      NA    2         2   \n",
       "7169 10140603  8        0       1      3       1      NA    3         3   \n",
       "7170 10140604  9       30       1      4       1      NA    3         2   \n",
       "7171 10141001  8        0       1      3       2      32    3         3   \n",
       "7172 10141004  8       40       1      4       1      NA    3         3   \n",
       "7173 10141301  9        0       1      3       1      NA    3         3   \n",
       "7174 10141401  9        0       1      2      NA      NA    3         3   \n",
       "7175 11000303  8       30       1      3       1      NA    3         3   \n",
       "7176 11000802 16        0       1      4       1      NA    3         3   \n",
       "7177 11001503  8       30       1      4       2      40    2         2   \n",
       "7178 11002802  9        0       1      3       1      NA    2         3   \n",
       "7179 11002902  8       30       1      4       1      NA    2         2   \n",
       "7180 11003202 10       30       1      4       1      NA    2         3   \n",
       "7181 11004902  9        0       1      3       1      NA    3         3   \n",
       "7182 11005102 10        0       1      4      NA      NA    3         3   \n",
       "7183 11005502  8        0       1      3       1      NA    3         3   \n",
       "7184 11005702  9       50       1      4       1      NA    2         2   \n",
       "7185 11006102  9       30       1      3       2      60    3         3   \n",
       "7186 11006402  8       30       1      3       1      NA    3         3   \n",
       "7187 11006602  9        0       1      3       1      NA    2         2   \n",
       "7188 11007102  9        0       1      4       1      NA    3         2   \n",
       "7189 11009202  8       30       1      4       2      40    2         2   \n",
       "7190 11009502  9        0       1      3       1      NA    3         2   \n",
       "7191 11010802  7        0       1      2       1      NA    2         2   \n",
       "7192 11011002  8        0       1      3       1      NA    3         3   \n",
       "7193 11012202  9        0       1      4       1      NA    2         2   \n",
       "7194 11012204  9       30       1      4      NA      NA    3         2   \n",
       "7195 11012702  7        0       1      4       1      NA    2         2   \n",
       "7196 11013602  8       30       1      3       1      NA    3         3   \n",
       "7197 11014502  8       30       1      3       1      NA    3         3   \n",
       "     marri ... gend wbonus birth com_type nwstart_h nwstart_m nwstart nwstart_c\n",
       "1    5     ... 2     2     1941   6        7        00         700    B        \n",
       "2    5     ... 1     2     1968   1        8        30         830    E        \n",
       "3    2     ... 1     2     1970   3        9        00         900    F        \n",
       "4    2     ... 2    NA     1969  NA       13        00        1300    H        \n",
       "5    2     ... 2     2     1970   4        9        00         900    F        \n",
       "6    2     ... 1     2     1957   1        4        00         400    A        \n",
       "7    2     ... 2     2     1949   1       10        30        1030    H        \n",
       "8    2     ... 1    NA     1970  NA        9        00         900    F        \n",
       "9    5     ... 2    NA     1948  NA       15        00        1500    H        \n",
       "10   2     ... 2     2     1958   1       10        00        1000    H        \n",
       "11   2     ... 2     2     1973   1        9        00         900    F        \n",
       "12   2     ... 1    NA     1967  NA        6        00         600    A        \n",
       "13   1     ... 1     2     1969   1        9        00         900    F        \n",
       "14   1     ... 1    NA     1973  NA       12        00        1200    H        \n",
       "15   2     ... 1     2     1972   1        9        00         900    F        \n",
       "16   4     ... 2     2     1972   1        9        00         900    F        \n",
       "17   2     ... 1     2     1956   1        8        00         800    D        \n",
       "18   2     ... 2     2     1963   1        9        00         900    F        \n",
       "19   1     ... 2     2     1990   1        8        30         830    E        \n",
       "20   1     ... 1     2     1992   3        8        00         800    D        \n",
       "21   4     ... 2     2     1959   1        9        00         900    F        \n",
       "22   2     ... 1     2     1984   1        8        30         830    E        \n",
       "23   1     ... 1     2     1971   1       20        00        2000    H        \n",
       "24   2     ... 1    NA     1964  NA        9        00         900    F        \n",
       "25   2     ... 2    NA     1964  NA        9        00         900    F        \n",
       "26   1     ... 1     2     1987   1        8        30         830    E        \n",
       "27   2     ... 1     2     1951   7        8        00         800    D        \n",
       "28   2     ... 2    NA     1951  NA        5        30         530    A        \n",
       "29   2     ... 2     3     1978   5        8        00         800    D        \n",
       "30   2     ... 1    NA     1979  NA        6        00         600    A        \n",
       "...  ...       ...  ...    ...   ...      ...       ...       ...     ...      \n",
       "7168 2     ... 2    NA     1958  NA        7        00         700    B        \n",
       "7169 2     ... 1     2     1982   1        8        00         800    D        \n",
       "7170 1     ... 1     2     1984   1        9        30         930    G        \n",
       "7171 2     ... 1     2     1959   1        8        00         800    D        \n",
       "7172 1     ... 2     2     1990   4        8        40         840    E        \n",
       "7173 1     ... 1     2     1980   1        9        00         900    F        \n",
       "7174 1     ... 1    NA     1951  NA        9        00         900    F        \n",
       "7175 2     ... 1     2     1977   1        8        30         830    E        \n",
       "7176 2     ... 1     2     1978   1       16        00        1600    H        \n",
       "7177 2     ... 2     2     1981   1        8        30         830    E        \n",
       "7178 2     ... 1     2     1980   1        9        00         900    F        \n",
       "7179 2     ... 2     1     1981   5        8        30         830    E        \n",
       "7180 2     ... 2     2     1985   1       10        30        1030    H        \n",
       "7181 2     ... 2     2     1981   4        9        00         900    F        \n",
       "7182 2     ... 1    NA     1981  NA       10        00        1000    H        \n",
       "7183 2     ... 1     2     1973   5        8        00         800    D        \n",
       "7184 2     ... 1     2     1981   1        9        50         950    G        \n",
       "7185 2     ... 1     2     1982   1        9        30         930    G        \n",
       "7186 2     ... 1     2     1975   1        8        30         830    E        \n",
       "7187 2     ... 1     2     1980   3        9        00         900    F        \n",
       "7188 2     ... 1     2     1985   1        9        00         900    F        \n",
       "7189 2     ... 1     2     1982   3        8        30         830    E        \n",
       "7190 2     ... 1     2     1981   1        9        00         900    F        \n",
       "7191 2     ... 1     1     1985   1        7        00         700    B        \n",
       "7192 2     ... 1     2     1978   1        8        00         800    D        \n",
       "7193 2     ... 1     2     1981   1        9        00         900    F        \n",
       "7194 2     ... 1    NA     1961  NA        9        30         930    G        \n",
       "7195 2     ... 2     2     1984   1        7        00         700    B        \n",
       "7196 2     ... 1     2     1981   1        8        30         830    E        \n",
       "7197 2     ... 2     1     1983   1        8        30         830    E        \n",
       "     nwspacesat age\n",
       "1    3          73 \n",
       "2    3          46 \n",
       "3    2          44 \n",
       "4    2          45 \n",
       "5    2          44 \n",
       "6    3          57 \n",
       "7    3          65 \n",
       "8    2          44 \n",
       "9    3          66 \n",
       "10   3          56 \n",
       "11   2          41 \n",
       "12   3          47 \n",
       "13   2          45 \n",
       "14   3          41 \n",
       "15   4          42 \n",
       "16   3          42 \n",
       "17   3          58 \n",
       "18   3          51 \n",
       "19   3          24 \n",
       "20   4          22 \n",
       "21   2          55 \n",
       "22   2          30 \n",
       "23   4          43 \n",
       "24   4          50 \n",
       "25   4          50 \n",
       "26   3          27 \n",
       "27   3          63 \n",
       "28   2          63 \n",
       "29   3          36 \n",
       "30   2          35 \n",
       "...  ...        ...\n",
       "7168 2          56 \n",
       "7169 3          32 \n",
       "7170 3          30 \n",
       "7171 3          55 \n",
       "7172 3          24 \n",
       "7173 3          34 \n",
       "7174 3          63 \n",
       "7175 3          37 \n",
       "7176 3          36 \n",
       "7177 2          33 \n",
       "7178 2          34 \n",
       "7179 2          33 \n",
       "7180 2          29 \n",
       "7181 3          33 \n",
       "7182 3          33 \n",
       "7183 3          41 \n",
       "7184 2          33 \n",
       "7185 3          32 \n",
       "7186 3          39 \n",
       "7187 2          34 \n",
       "7188 3          29 \n",
       "7189 2          32 \n",
       "7190 3          33 \n",
       "7191 2          29 \n",
       "7192 3          36 \n",
       "7193 2          33 \n",
       "7194 3          53 \n",
       "7195 2          30 \n",
       "7196 3          33 \n",
       "7197 3          31 "
      ]
     },
     "metadata": {},
     "output_type": "display_data"
    }
   ],
   "source": [
    "nrdt_i"
   ]
  }
 ],
 "metadata": {
  "kernelspec": {
   "display_name": "R",
   "language": "R",
   "name": "ir"
  },
  "language_info": {
   "codemirror_mode": "r",
   "file_extension": ".r",
   "mimetype": "text/x-r-source",
   "name": "R",
   "pygments_lexer": "r",
   "version": "3.5.1"
  }
 },
 "nbformat": 4,
 "nbformat_minor": 2
}
